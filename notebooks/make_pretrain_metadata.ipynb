{
 "cells": [
  {
   "cell_type": "code",
   "execution_count": 1,
   "metadata": {},
   "outputs": [],
   "source": [
    "import pandas as pd\n",
    "import os\n",
    "import joblib\n",
    "import librosa\n",
    "import numpy as np"
   ]
  },
  {
   "cell_type": "code",
   "execution_count": null,
   "metadata": {},
   "outputs": [],
   "source": [
    "df_2021 = pd.read_csv(\"../inputs/pretrain/birdclef-2021/train_metadata.csv\")\n",
    "df_2021[\"path\"] = \"../inputs/pretrain/birdclef-2021/train_short_audio/\" + df_2021[\"primary_label\"] + \"/\" + df_2021[\"filename\"]"
   ]
  },
  {
   "cell_type": "code",
   "execution_count": null,
   "metadata": {},
   "outputs": [],
   "source": [
    "df_2022 = pd.read_csv(\"../inputs/pretrain/birdclef-2022/train_metadata.csv\")\n",
    "df_2022[\"path\"] = \"../inputs/pretrain/birdclef-2022/train_audio/\" + df_2022[\"filename\"]"
   ]
  },
  {
   "cell_type": "code",
   "execution_count": null,
   "metadata": {},
   "outputs": [],
   "source": [
    "df_2023 = pd.read_csv(\"../inputs/pretrain/birdclef-2023/train_metadata.csv\")\n",
    "df_2023[\"path\"] = \"../inputs/pretrain/birdclef-2023/train_audio/\" + df_2023[\"filename\"]"
   ]
  },
  {
   "cell_type": "code",
   "execution_count": 2,
   "metadata": {},
   "outputs": [],
   "source": [
    "data_dir = '/data1/Mamba/Kaggle/BirdCLEF-2025/Data_Raw'\n",
    "df_2025 = pd.read_csv(f\"{data_dir}/train.csv\")\n",
    "df_2025[\"path\"] = f\"{data_dir}/train_audio/\" + df_2025[\"filename\"]"
   ]
  },
  {
   "cell_type": "code",
   "execution_count": 3,
   "metadata": {},
   "outputs": [],
   "source": [
    "def get_audio_meta(path):\n",
    "    x, sr = librosa.load(path, mono=True)\n",
    "    return len(x), sr, np.abs(x.max())"
   ]
  },
  {
   "cell_type": "code",
   "execution_count": null,
   "metadata": {},
   "outputs": [],
   "source": [
    "meta_2021 = joblib.Parallel(n_jobs=10, verbose=5)(joblib.delayed(get_audio_meta)(p) for p in df_2021[\"path\"])"
   ]
  },
  {
   "cell_type": "code",
   "execution_count": null,
   "metadata": {},
   "outputs": [],
   "source": [
    "meta_2022 = joblib.Parallel(n_jobs=10, verbose=5)(joblib.delayed(get_audio_meta)(p) for p in df_2022[\"path\"])"
   ]
  },
  {
   "cell_type": "code",
   "execution_count": null,
   "metadata": {},
   "outputs": [],
   "source": [
    "meta_2023 = joblib.Parallel(n_jobs=10, verbose=5)(joblib.delayed(get_audio_meta)(p) for p in df_2023[\"path\"])"
   ]
  },
  {
   "cell_type": "code",
   "execution_count": 4,
   "metadata": {},
   "outputs": [
    {
     "name": "stderr",
     "output_type": "stream",
     "text": [
      "[Parallel(n_jobs=10)]: Using backend LokyBackend with 10 concurrent workers.\n",
      "[Parallel(n_jobs=10)]: Done  52 tasks      | elapsed:    2.8s\n",
      "[Parallel(n_jobs=10)]: Done 376 tasks      | elapsed:    4.7s\n",
      "[Parallel(n_jobs=10)]: Done 942 tasks      | elapsed:    9.7s\n",
      "[Parallel(n_jobs=10)]: Done 1590 tasks      | elapsed:   13.1s\n",
      "[Parallel(n_jobs=10)]: Done 2382 tasks      | elapsed:   17.6s\n",
      "[Parallel(n_jobs=10)]: Done 3318 tasks      | elapsed:   23.7s\n",
      "[Parallel(n_jobs=10)]: Done 4398 tasks      | elapsed:   30.8s\n",
      "[Parallel(n_jobs=10)]: Done 5622 tasks      | elapsed:   38.5s\n",
      "[Parallel(n_jobs=10)]: Done 6990 tasks      | elapsed:   47.6s\n",
      "[Parallel(n_jobs=10)]: Done 8502 tasks      | elapsed:   58.4s\n",
      "[Parallel(n_jobs=10)]: Done 10158 tasks      | elapsed:  1.1min\n",
      "[Parallel(n_jobs=10)]: Done 13646 tasks      | elapsed:  1.5min\n",
      "[Parallel(n_jobs=10)]: Done 17534 tasks      | elapsed:  1.9min\n",
      "[Parallel(n_jobs=10)]: Done 21710 tasks      | elapsed:  2.3min\n",
      "[Parallel(n_jobs=10)]: Done 26174 tasks      | elapsed:  2.8min\n",
      "[Parallel(n_jobs=10)]: Done 28564 out of 28564 | elapsed:  3.1min finished\n"
     ]
    }
   ],
   "source": [
    "meta_2025 = joblib.Parallel(n_jobs=10, verbose=5)(joblib.delayed(get_audio_meta)(p) for p in df_2025[\"path\"])"
   ]
  },
  {
   "cell_type": "code",
   "execution_count": 7,
   "metadata": {},
   "outputs": [],
   "source": [
    "def merge_metadata(meta_pairs, base_df):\n",
    "    df_meta = pd.DataFrame(meta_pairs, columns=[\"duration\", \"sr\", \"max_amplitude\"])\n",
    "    df_meta[\"duration_sec\"] = df_meta[\"duration\"] / df_meta[\"sr\"]\n",
    "\n",
    "    new_df = pd.concat([base_df, df_meta], axis=1)\n",
    "    return new_df"
   ]
  },
  {
   "cell_type": "code",
   "execution_count": null,
   "metadata": {},
   "outputs": [],
   "source": [
    "df_2021_rich = merge_metadata(meta_2021, df_2021)\n",
    "df_2021_rich.to_parquet(\"train_metadata_rich_2022.parquet\")"
   ]
  },
  {
   "cell_type": "code",
   "execution_count": null,
   "metadata": {},
   "outputs": [],
   "source": [
    "df_2022_rich = merge_metadata(meta_2022, df_2022)\n",
    "df_2022_rich.to_parquet(\"train_metadata_rich_2022.parquet\")"
   ]
  },
  {
   "cell_type": "code",
   "execution_count": null,
   "metadata": {},
   "outputs": [],
   "source": [
    "df_2023_rich = merge_metadata(meta_2023, df_2023)\n",
    "df_2023_rich.to_parquet(\"train_metadata_rich_2023.parquet\")"
   ]
  },
  {
   "cell_type": "code",
   "execution_count": 9,
   "metadata": {},
   "outputs": [],
   "source": [
    "df_2025_rich = merge_metadata(meta_2025, df_2025)\n",
    "df_2025_rich.to_parquet(\"train_metadata_rich_2025.parquet\")"
   ]
  },
  {
   "cell_type": "markdown",
   "metadata": {},
   "source": [
    "## Merge 2021-2023 data"
   ]
  },
  {
   "cell_type": "code",
   "execution_count": null,
   "metadata": {},
   "outputs": [],
   "source": [
    "def load_df():\n",
    "    df_2021 = pd.read_parquet(\"train_metadata_rich_2021.parquet\")\n",
    "    df_2022 = pd.read_parquet(\"train_metadata_rich_2022.parquet\")\n",
    "    df_2023 = pd.read_parquet(\"train_metadata_rich_2023.parquet\")\n",
    "    return pd.concat([df_2021, df_2022, df_2023]).reset_index(drop=True)\n",
    "\n",
    "df = load_df()\n",
    "\n",
    "primary_label_count = df.primary_label.value_counts()\n",
    "sample_weights = (\n",
    "    primary_label_count / \n",
    "    primary_label_count.sum()\n",
    ")  ** (-0.5)\n",
    "df[\"weight\"] = sample_weights[df[\"primary_label\"].values].values\n",
    "df[\"weight\"] = (df[\"weight\"] / df[\"weight\"].mean())"
   ]
  },
  {
   "cell_type": "code",
   "execution_count": 10,
   "metadata": {},
   "outputs": [],
   "source": [
    "def load_df():\n",
    "    df_2025 = pd.read_parquet(\"train_metadata_rich_2025.parquet\")\n",
    "    return df_2025\n",
    "\n",
    "df = load_df()\n",
    "\n",
    "primary_label_count = df.primary_label.value_counts()\n",
    "sample_weights = (\n",
    "    primary_label_count / \n",
    "    primary_label_count.sum()\n",
    ")  ** (-0.5)\n",
    "df[\"weight\"] = sample_weights[df[\"primary_label\"].values].values\n",
    "df[\"weight\"] = (df[\"weight\"] / df[\"weight\"].mean())"
   ]
  },
  {
   "cell_type": "code",
   "execution_count": 11,
   "metadata": {},
   "outputs": [],
   "source": [
    "# check exist files\n",
    "assert df[\"path\"].apply(os.path.exists).all()\n",
    "df[\"path\"] = df[\"path\"].apply(os.path.abspath)\n",
    "\n",
    "# save merged df\n",
    "pretrain_filename = \"train_metadata_rich_2025_weight.pkl\"\n",
    "df.to_pickle(pretrain_filename)"
   ]
  },
  {
   "cell_type": "code",
   "execution_count": null,
   "metadata": {},
   "outputs": [],
   "source": []
  }
 ],
 "metadata": {
  "kernelspec": {
   "display_name": "CZII",
   "language": "python",
   "name": "python3"
  },
  "language_info": {
   "codemirror_mode": {
    "name": "ipython",
    "version": 3
   },
   "file_extension": ".py",
   "mimetype": "text/x-python",
   "name": "python",
   "nbconvert_exporter": "python",
   "pygments_lexer": "ipython3",
   "version": "3.11.12"
  }
 },
 "nbformat": 4,
 "nbformat_minor": 2
}
