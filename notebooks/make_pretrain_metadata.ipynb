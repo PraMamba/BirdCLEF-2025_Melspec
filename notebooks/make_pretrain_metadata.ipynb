{
 "cells": [
  {
   "cell_type": "code",
   "execution_count": null,
   "metadata": {},
   "outputs": [],
   "source": [
    "import pandas as pd\n",
    "import os\n",
    "import joblib\n",
    "import librosa\n",
    "import numpy as np"
   ]
  },
  {
   "cell_type": "code",
   "execution_count": null,
   "metadata": {},
   "outputs": [],
   "source": [
    "df_2021 = pd.read_csv(\"../inputs/pretrain/birdclef-2021/train_metadata.csv\")\n",
    "df_2021[\"path\"] = \"../inputs/pretrain/birdclef-2021/train_short_audio/\" + df_2021[\"primary_label\"] + \"/\" + df_2021[\"filename\"]"
   ]
  },
  {
   "cell_type": "code",
   "execution_count": null,
   "metadata": {},
   "outputs": [],
   "source": [
    "df_2022 = pd.read_csv(\"../inputs/pretrain/birdclef-2022/train_metadata.csv\")\n",
    "df_2022[\"path\"] = \"../inputs/pretrain/birdclef-2022/train_audio/\" + df_2022[\"filename\"]"
   ]
  },
  {
   "cell_type": "code",
   "execution_count": null,
   "metadata": {},
   "outputs": [],
   "source": [
    "df_2023 = pd.read_csv(\"../inputs/pretrain/birdclef-2023/train_metadata.csv\")\n",
    "df_2023[\"path\"] = \"../inputs/pretrain/birdclef-2023/train_audio/\" + df_2023[\"filename\"]"
   ]
  },
  {
   "cell_type": "code",
   "execution_count": null,
   "metadata": {},
   "outputs": [],
   "source": [
    "# joblib.Parallel(n_jobs=10, verbose=5)\n",
    "def get_audio_meta(path):\n",
    "    x, sr = librosa.load(path, mono=True)\n",
    "    return len(x), sr, np.abs(x.max())\n",
    "\n",
    "meta_2021 = joblib.Parallel(n_jobs=10, verbose=5)(joblib.delayed(get_audio_meta)(p) for p in df_2021[\"path\"])"
   ]
  },
  {
   "cell_type": "code",
   "execution_count": null,
   "metadata": {},
   "outputs": [],
   "source": [
    "meta_2022 = joblib.Parallel(n_jobs=10, verbose=5)(joblib.delayed(get_audio_meta)(p) for p in df_2022[\"path\"])"
   ]
  },
  {
   "cell_type": "code",
   "execution_count": null,
   "metadata": {},
   "outputs": [],
   "source": [
    "meta_2023 = joblib.Parallel(n_jobs=10, verbose=5)(joblib.delayed(get_audio_meta)(p) for p in df_2023[\"path\"])\n"
   ]
  },
  {
   "cell_type": "code",
   "execution_count": null,
   "metadata": {},
   "outputs": [],
   "source": [
    "def merge_metadata(meta_pairs, base_df):\n",
    "    df_meta = pd.DataFrame(meta_pairs, columns=[\"duration\", \"sr\"])\n",
    "    df_meta[\"duration_sec\"] = df_meta[\"duration\"] / df_meta[\"sr\"]\n",
    "\n",
    "    new_df = pd.concat([base_df, df_meta], axis=1)\n",
    "    return new_df"
   ]
  },
  {
   "cell_type": "code",
   "execution_count": null,
   "metadata": {},
   "outputs": [],
   "source": [
    "df_2021_rich = merge_metadata(meta_2021, df_2021)\n",
    "df_2021_rich.to_parquet(\"train_metadata_rich_2022.parquet\")"
   ]
  },
  {
   "cell_type": "code",
   "execution_count": null,
   "metadata": {},
   "outputs": [],
   "source": [
    "df_2022_rich = merge_metadata(meta_2022, df_2022)\n",
    "df_2022_rich.to_parquet(\"train_metadata_rich_2022.parquet\")"
   ]
  },
  {
   "cell_type": "code",
   "execution_count": null,
   "metadata": {},
   "outputs": [],
   "source": [
    "df_2023_rich = merge_metadata(meta_2023, df_2023)\n",
    "df_2023_rich.to_parquet(\"train_metadata_rich_2023.parquet\")"
   ]
  },
  {
   "cell_type": "markdown",
   "metadata": {},
   "source": [
    "## Merge 2021-2023 data"
   ]
  },
  {
   "cell_type": "code",
   "execution_count": null,
   "metadata": {},
   "outputs": [],
   "source": [
    "# prepare dataframe\n",
    "def load_df():\n",
    "    df_2021 = pd.read_parquet(\"train_metadata_rich_2021.parquet\")\n",
    "    df_2022 = pd.read_parquet(\"train_metadata_rich_2022.parquet\")\n",
    "    df_2023 = pd.read_parquet(\"train_metadata_rich_2023.parquet\")\n",
    "    return pd.concat([df_2021, df_2022, df_2023]).reset_index(drop=True)\n",
    "\n",
    "df = load_df()\n",
    "\n",
    "primary_label_count = df.primary_label.value_counts()\n",
    "sample_weights = (\n",
    "    primary_label_count / \n",
    "    primary_label_count.sum()\n",
    ")  ** (-0.5)\n",
    "df[\"weight\"] = sample_weights[df[\"primary_label\"].values].values\n",
    "df[\"weight\"] = (df[\"weight\"] / df[\"weight\"].mean())"
   ]
  },
  {
   "cell_type": "code",
   "execution_count": null,
   "metadata": {},
   "outputs": [],
   "source": [
    "# check exist files\n",
    "assert df[\"path\"].apply(os.path.exists).all()\n",
    "df[\"path\"] = df[\"path\"].apply(os.path.abspath)\n",
    "\n",
    "# save merged df\n",
    "pretrain_filename = \"train_metadata_rich_pretrain_merge.pkl\"\n",
    "df.to_pickle(pretrain_filename)"
   ]
  },
  {
   "cell_type": "code",
   "execution_count": null,
   "metadata": {},
   "outputs": [],
   "source": []
  }
 ],
 "metadata": {
  "kernelspec": {
   "display_name": ".venv",
   "language": "python",
   "name": "python3"
  },
  "language_info": {
   "codemirror_mode": {
    "name": "ipython",
    "version": 3
   },
   "file_extension": ".py",
   "mimetype": "text/x-python",
   "name": "python",
   "nbconvert_exporter": "python",
   "pygments_lexer": "ipython3",
   "version": "3.10.11"
  }
 },
 "nbformat": 4,
 "nbformat_minor": 2
}
