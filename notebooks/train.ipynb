{
 "cells": [
  {
   "cell_type": "code",
   "execution_count": 1,
   "metadata": {},
   "outputs": [],
   "source": [
    "import os\n",
    "import sys\n",
    "sys.path.append('/home/guangp/BirdCLEF-2025_Melspec')\n",
    "\n",
    "import warnings\n",
    "warnings.filterwarnings('ignore')\n",
    "\n",
    "os.environ[\"CUDA_VISIBLE_DEVICES\"] = \"1,3\""
   ]
  },
  {
   "cell_type": "code",
   "execution_count": 2,
   "metadata": {
    "metadata": {}
   },
   "outputs": [],
   "source": [
    "import pytorch_lightning as pl\n",
    "from pytorch_lightning.loggers import WandbLogger\n",
    "from pytorch_lightning.callbacks import ModelCheckpoint, BackboneFinetuning, EarlyStopping\n",
    "\n",
    "import torch\n",
    "import torch.nn as nn\n",
    "import torch.nn.functional as F\n",
    "from torch.utils.data import Dataset\n",
    "\n",
    "import importlib\n",
    "from pathlib import Path\n",
    "import numpy as np\n",
    "import glob\n",
    "import timm\n",
    "import pandas as pd\n",
    "import torchaudio as ta\n",
    "\n",
    "from modules.preprocess import preprocess, prepare_cfg\n",
    "from modules.dataset import get_train_dataloader\n",
    "from modules.model import load_model\n",
    "import modules.inception_next_nano"
   ]
  },
  {
   "cell_type": "code",
   "execution_count": 3,
   "metadata": {},
   "outputs": [
    {
     "name": "stdout",
     "output_type": "stream",
     "text": [
      "/home/guangp/BirdCLEF-2025_Melspec\n"
     ]
    }
   ],
   "source": [
    "# move to repo root\n",
    "cur_dir = Path().resolve()\n",
    "\n",
    "if not (cur_dir / \"notebooks\").exists():\n",
    "    os.chdir(os.path.abspath(\"../\"))\n",
    "print(f\"{Path().resolve()}\")"
   ]
  },
  {
   "cell_type": "code",
   "execution_count": 4,
   "metadata": {},
   "outputs": [
    {
     "name": "stderr",
     "output_type": "stream",
     "text": [
      "Seed set to 0\n"
     ]
    },
    {
     "data": {
      "text/plain": [
       "0"
      ]
     },
     "execution_count": 4,
     "metadata": {},
     "output_type": "execute_result"
    }
   ],
   "source": [
    "model_name = \"cnn_v1\"\n",
    "stage = \"train_ce\"\n",
    "\n",
    "cfg = importlib.import_module(f'configs.{model_name}').basic_cfg\n",
    "cfg = prepare_cfg(cfg, stage)\n",
    "\n",
    "pl.seed_everything(cfg.seed[stage], workers=True)"
   ]
  },
  {
   "cell_type": "code",
   "execution_count": 5,
   "metadata": {
    "metadata": {}
   },
   "outputs": [
    {
     "data": {
      "text/plain": [
       "(22851, 5713)"
      ]
     },
     "execution_count": 5,
     "metadata": {},
     "output_type": "execute_result"
    }
   ],
   "source": [
    "df_train, df_valid, df_label_train, df_label_valid, transforms = preprocess(cfg, stage)\n",
    "df_train[\"version\"] = \"2023\"\n",
    "df_valid[\"version\"] = \"2023\"\n",
    "len(df_train), len(df_valid)"
   ]
  },
  {
   "cell_type": "code",
   "execution_count": 6,
   "metadata": {},
   "outputs": [
    {
     "data": {
      "text/html": [
       "<div>\n",
       "<style scoped>\n",
       "    .dataframe tbody tr th:only-of-type {\n",
       "        vertical-align: middle;\n",
       "    }\n",
       "\n",
       "    .dataframe tbody tr th {\n",
       "        vertical-align: top;\n",
       "    }\n",
       "\n",
       "    .dataframe thead th {\n",
       "        text-align: right;\n",
       "    }\n",
       "</style>\n",
       "<table border=\"1\" class=\"dataframe\">\n",
       "  <thead>\n",
       "    <tr style=\"text-align: right;\">\n",
       "      <th></th>\n",
       "      <th>primary_label</th>\n",
       "      <th>secondary_labels</th>\n",
       "      <th>type</th>\n",
       "      <th>filename</th>\n",
       "      <th>collection</th>\n",
       "      <th>rating</th>\n",
       "      <th>url</th>\n",
       "      <th>latitude</th>\n",
       "      <th>longitude</th>\n",
       "      <th>scientific_name</th>\n",
       "      <th>...</th>\n",
       "      <th>author</th>\n",
       "      <th>license</th>\n",
       "      <th>path</th>\n",
       "      <th>duration</th>\n",
       "      <th>sr</th>\n",
       "      <th>max_amplitude</th>\n",
       "      <th>duration_sec</th>\n",
       "      <th>weight</th>\n",
       "      <th>presence_type</th>\n",
       "      <th>version</th>\n",
       "    </tr>\n",
       "  </thead>\n",
       "  <tbody>\n",
       "    <tr>\n",
       "      <th>0</th>\n",
       "      <td>yehcar1</td>\n",
       "      <td>[]</td>\n",
       "      <td>['call']</td>\n",
       "      <td>yehcar1/XC674420.ogg</td>\n",
       "      <td>XC</td>\n",
       "      <td>5.0</td>\n",
       "      <td>https://xeno-canto.org/674420</td>\n",
       "      <td>-21.7357</td>\n",
       "      <td>-43.3693</td>\n",
       "      <td>Milvago chimachima</td>\n",
       "      <td>...</td>\n",
       "      <td>Marco Manhães</td>\n",
       "      <td>cc-by-nc-sa 4.0</td>\n",
       "      <td>/data1/Mamba/Kaggle/BirdCLEF-2025/Data_Raw/tra...</td>\n",
       "      <td>1453248</td>\n",
       "      <td>22050</td>\n",
       "      <td>1.005431</td>\n",
       "      <td>65.906939</td>\n",
       "      <td>0.330124</td>\n",
       "      <td>foreground</td>\n",
       "      <td>2023</td>\n",
       "    </tr>\n",
       "    <tr>\n",
       "      <th>1</th>\n",
       "      <td>rutjac1</td>\n",
       "      <td>[rumfly1]</td>\n",
       "      <td>['song']</td>\n",
       "      <td>rutjac1/XC261831.ogg</td>\n",
       "      <td>XC</td>\n",
       "      <td>4.5</td>\n",
       "      <td>https://xeno-canto.org/261831</td>\n",
       "      <td>0.8830</td>\n",
       "      <td>-78.8000</td>\n",
       "      <td>Galbula ruficauda</td>\n",
       "      <td>...</td>\n",
       "      <td>Olaf Jahn</td>\n",
       "      <td>cc-by-nc-sa 4.0</td>\n",
       "      <td>/data1/Mamba/Kaggle/BirdCLEF-2025/Data_Raw/tra...</td>\n",
       "      <td>563904</td>\n",
       "      <td>22050</td>\n",
       "      <td>0.440904</td>\n",
       "      <td>25.573878</td>\n",
       "      <td>0.315243</td>\n",
       "      <td>foreground</td>\n",
       "      <td>2023</td>\n",
       "    </tr>\n",
       "    <tr>\n",
       "      <th>2</th>\n",
       "      <td>grekis</td>\n",
       "      <td>[]</td>\n",
       "      <td>['song']</td>\n",
       "      <td>grekis/XC576073.ogg</td>\n",
       "      <td>XC</td>\n",
       "      <td>4.0</td>\n",
       "      <td>https://xeno-canto.org/576073</td>\n",
       "      <td>14.3572</td>\n",
       "      <td>-87.6545</td>\n",
       "      <td>Pitangus sulphuratus</td>\n",
       "      <td>...</td>\n",
       "      <td>Mario Reyes Jr</td>\n",
       "      <td>cc-by-nc-sa 4.0</td>\n",
       "      <td>/data1/Mamba/Kaggle/BirdCLEF-2025/Data_Raw/tra...</td>\n",
       "      <td>973440</td>\n",
       "      <td>22050</td>\n",
       "      <td>0.666072</td>\n",
       "      <td>44.146939</td>\n",
       "      <td>0.161863</td>\n",
       "      <td>foreground</td>\n",
       "      <td>2023</td>\n",
       "    </tr>\n",
       "    <tr>\n",
       "      <th>3</th>\n",
       "      <td>rutjac1</td>\n",
       "      <td>[]</td>\n",
       "      <td>['song']</td>\n",
       "      <td>rutjac1/XC298078.ogg</td>\n",
       "      <td>XC</td>\n",
       "      <td>4.0</td>\n",
       "      <td>https://xeno-canto.org/298078</td>\n",
       "      <td>7.8273</td>\n",
       "      <td>-72.6175</td>\n",
       "      <td>Galbula ruficauda</td>\n",
       "      <td>...</td>\n",
       "      <td>Oscar Laverde</td>\n",
       "      <td>cc-by-nc-sa 4.0</td>\n",
       "      <td>/data1/Mamba/Kaggle/BirdCLEF-2025/Data_Raw/tra...</td>\n",
       "      <td>444673</td>\n",
       "      <td>22050</td>\n",
       "      <td>0.101076</td>\n",
       "      <td>20.166576</td>\n",
       "      <td>0.315243</td>\n",
       "      <td>foreground</td>\n",
       "      <td>2023</td>\n",
       "    </tr>\n",
       "    <tr>\n",
       "      <th>4</th>\n",
       "      <td>rumfly1</td>\n",
       "      <td>[]</td>\n",
       "      <td>['duet', 'song']</td>\n",
       "      <td>rumfly1/XC54522.ogg</td>\n",
       "      <td>XC</td>\n",
       "      <td>4.0</td>\n",
       "      <td>https://xeno-canto.org/54522</td>\n",
       "      <td>NaN</td>\n",
       "      <td>NaN</td>\n",
       "      <td>Myiozetetes cayanensis</td>\n",
       "      <td>...</td>\n",
       "      <td>Bernabe Lopez-Lanus</td>\n",
       "      <td>cc-by-nc-sa 3.0</td>\n",
       "      <td>/data1/Mamba/Kaggle/BirdCLEF-2025/Data_Raw/tra...</td>\n",
       "      <td>474625</td>\n",
       "      <td>22050</td>\n",
       "      <td>0.555774</td>\n",
       "      <td>21.524943</td>\n",
       "      <td>0.331520</td>\n",
       "      <td>foreground</td>\n",
       "      <td>2023</td>\n",
       "    </tr>\n",
       "    <tr>\n",
       "      <th>...</th>\n",
       "      <td>...</td>\n",
       "      <td>...</td>\n",
       "      <td>...</td>\n",
       "      <td>...</td>\n",
       "      <td>...</td>\n",
       "      <td>...</td>\n",
       "      <td>...</td>\n",
       "      <td>...</td>\n",
       "      <td>...</td>\n",
       "      <td>...</td>\n",
       "      <td>...</td>\n",
       "      <td>...</td>\n",
       "      <td>...</td>\n",
       "      <td>...</td>\n",
       "      <td>...</td>\n",
       "      <td>...</td>\n",
       "      <td>...</td>\n",
       "      <td>...</td>\n",
       "      <td>...</td>\n",
       "      <td>...</td>\n",
       "      <td>...</td>\n",
       "    </tr>\n",
       "    <tr>\n",
       "      <th>22846</th>\n",
       "      <td>linwoo1</td>\n",
       "      <td>[]</td>\n",
       "      <td>['drumming']</td>\n",
       "      <td>linwoo1/XC78185.ogg</td>\n",
       "      <td>XC</td>\n",
       "      <td>3.0</td>\n",
       "      <td>https://xeno-canto.org/78185</td>\n",
       "      <td>-19.1824</td>\n",
       "      <td>-48.3936</td>\n",
       "      <td>Dryocopus lineatus</td>\n",
       "      <td>...</td>\n",
       "      <td>Bob Planque</td>\n",
       "      <td>cc-by-nc-sa 3.0</td>\n",
       "      <td>/data1/Mamba/Kaggle/BirdCLEF-2025/Data_Raw/tra...</td>\n",
       "      <td>221761</td>\n",
       "      <td>22050</td>\n",
       "      <td>0.652465</td>\n",
       "      <td>10.057188</td>\n",
       "      <td>0.280355</td>\n",
       "      <td>foreground</td>\n",
       "      <td>2023</td>\n",
       "    </tr>\n",
       "    <tr>\n",
       "      <th>22847</th>\n",
       "      <td>socfly1</td>\n",
       "      <td>[]</td>\n",
       "      <td>['']</td>\n",
       "      <td>socfly1/iNat880781.ogg</td>\n",
       "      <td>iNat</td>\n",
       "      <td>0.0</td>\n",
       "      <td>https://static.inaturalist.org/sounds/880781.mp3</td>\n",
       "      <td>-18.8302</td>\n",
       "      <td>-40.6809</td>\n",
       "      <td>Myiozetetes similis</td>\n",
       "      <td>...</td>\n",
       "      <td>Vitor Corrêa Dias</td>\n",
       "      <td>cc-by-nc 4.0</td>\n",
       "      <td>/data1/Mamba/Kaggle/BirdCLEF-2025/Data_Raw/tra...</td>\n",
       "      <td>110603</td>\n",
       "      <td>22050</td>\n",
       "      <td>0.051320</td>\n",
       "      <td>5.016009</td>\n",
       "      <td>0.218558</td>\n",
       "      <td>foreground</td>\n",
       "      <td>2023</td>\n",
       "    </tr>\n",
       "    <tr>\n",
       "      <th>22848</th>\n",
       "      <td>greani1</td>\n",
       "      <td>[]</td>\n",
       "      <td>['call']</td>\n",
       "      <td>greani1/XC14741.ogg</td>\n",
       "      <td>XC</td>\n",
       "      <td>3.0</td>\n",
       "      <td>https://xeno-canto.org/14741</td>\n",
       "      <td>-3.2231</td>\n",
       "      <td>-59.8664</td>\n",
       "      <td>Crotophaga major</td>\n",
       "      <td>...</td>\n",
       "      <td>Nick Athanas</td>\n",
       "      <td>cc-by-nc-sa 3.0</td>\n",
       "      <td>/data1/Mamba/Kaggle/BirdCLEF-2025/Data_Raw/tra...</td>\n",
       "      <td>793729</td>\n",
       "      <td>22050</td>\n",
       "      <td>0.865305</td>\n",
       "      <td>35.996780</td>\n",
       "      <td>0.451922</td>\n",
       "      <td>foreground</td>\n",
       "      <td>2023</td>\n",
       "    </tr>\n",
       "    <tr>\n",
       "      <th>22849</th>\n",
       "      <td>grekis</td>\n",
       "      <td>[]</td>\n",
       "      <td>['song']</td>\n",
       "      <td>grekis/XC714034.ogg</td>\n",
       "      <td>XC</td>\n",
       "      <td>4.0</td>\n",
       "      <td>https://xeno-canto.org/714034</td>\n",
       "      <td>-23.7995</td>\n",
       "      <td>-46.0230</td>\n",
       "      <td>Pitangus sulphuratus</td>\n",
       "      <td>...</td>\n",
       "      <td>Fernando Igor de Godoy</td>\n",
       "      <td>cc-by-nc-sa 4.0</td>\n",
       "      <td>/data1/Mamba/Kaggle/BirdCLEF-2025/Data_Raw/tra...</td>\n",
       "      <td>1323648</td>\n",
       "      <td>22050</td>\n",
       "      <td>0.191671</td>\n",
       "      <td>60.029388</td>\n",
       "      <td>0.161863</td>\n",
       "      <td>foreground</td>\n",
       "      <td>2023</td>\n",
       "    </tr>\n",
       "    <tr>\n",
       "      <th>22850</th>\n",
       "      <td>bbwduc</td>\n",
       "      <td>[]</td>\n",
       "      <td>['']</td>\n",
       "      <td>bbwduc/iNat1235273.ogg</td>\n",
       "      <td>iNat</td>\n",
       "      <td>0.0</td>\n",
       "      <td>https://static.inaturalist.org/sounds/1235273.m4a</td>\n",
       "      <td>29.9313</td>\n",
       "      <td>-90.1238</td>\n",
       "      <td>Dendrocygna autumnalis</td>\n",
       "      <td>...</td>\n",
       "      <td>Unknown</td>\n",
       "      <td>cc-by-nc 4.0</td>\n",
       "      <td>/data1/Mamba/Kaggle/BirdCLEF-2025/Data_Raw/tra...</td>\n",
       "      <td>251905</td>\n",
       "      <td>22050</td>\n",
       "      <td>0.151951</td>\n",
       "      <td>11.424263</td>\n",
       "      <td>0.247333</td>\n",
       "      <td>foreground</td>\n",
       "      <td>2023</td>\n",
       "    </tr>\n",
       "  </tbody>\n",
       "</table>\n",
       "<p>22851 rows × 21 columns</p>\n",
       "</div>"
      ],
      "text/plain": [
       "      primary_label secondary_labels              type  \\\n",
       "0           yehcar1               []          ['call']   \n",
       "1           rutjac1        [rumfly1]          ['song']   \n",
       "2            grekis               []          ['song']   \n",
       "3           rutjac1               []          ['song']   \n",
       "4           rumfly1               []  ['duet', 'song']   \n",
       "...             ...              ...               ...   \n",
       "22846       linwoo1               []      ['drumming']   \n",
       "22847       socfly1               []              ['']   \n",
       "22848       greani1               []          ['call']   \n",
       "22849        grekis               []          ['song']   \n",
       "22850        bbwduc               []              ['']   \n",
       "\n",
       "                     filename collection  rating  \\\n",
       "0        yehcar1/XC674420.ogg         XC     5.0   \n",
       "1        rutjac1/XC261831.ogg         XC     4.5   \n",
       "2         grekis/XC576073.ogg         XC     4.0   \n",
       "3        rutjac1/XC298078.ogg         XC     4.0   \n",
       "4         rumfly1/XC54522.ogg         XC     4.0   \n",
       "...                       ...        ...     ...   \n",
       "22846     linwoo1/XC78185.ogg         XC     3.0   \n",
       "22847  socfly1/iNat880781.ogg       iNat     0.0   \n",
       "22848     greani1/XC14741.ogg         XC     3.0   \n",
       "22849     grekis/XC714034.ogg         XC     4.0   \n",
       "22850  bbwduc/iNat1235273.ogg       iNat     0.0   \n",
       "\n",
       "                                                     url  latitude  longitude  \\\n",
       "0                          https://xeno-canto.org/674420  -21.7357   -43.3693   \n",
       "1                          https://xeno-canto.org/261831    0.8830   -78.8000   \n",
       "2                          https://xeno-canto.org/576073   14.3572   -87.6545   \n",
       "3                          https://xeno-canto.org/298078    7.8273   -72.6175   \n",
       "4                           https://xeno-canto.org/54522       NaN        NaN   \n",
       "...                                                  ...       ...        ...   \n",
       "22846                       https://xeno-canto.org/78185  -19.1824   -48.3936   \n",
       "22847   https://static.inaturalist.org/sounds/880781.mp3  -18.8302   -40.6809   \n",
       "22848                       https://xeno-canto.org/14741   -3.2231   -59.8664   \n",
       "22849                      https://xeno-canto.org/714034  -23.7995   -46.0230   \n",
       "22850  https://static.inaturalist.org/sounds/1235273.m4a   29.9313   -90.1238   \n",
       "\n",
       "              scientific_name  ...                  author          license  \\\n",
       "0          Milvago chimachima  ...           Marco Manhães  cc-by-nc-sa 4.0   \n",
       "1           Galbula ruficauda  ...               Olaf Jahn  cc-by-nc-sa 4.0   \n",
       "2        Pitangus sulphuratus  ...          Mario Reyes Jr  cc-by-nc-sa 4.0   \n",
       "3           Galbula ruficauda  ...           Oscar Laverde  cc-by-nc-sa 4.0   \n",
       "4      Myiozetetes cayanensis  ...     Bernabe Lopez-Lanus  cc-by-nc-sa 3.0   \n",
       "...                       ...  ...                     ...              ...   \n",
       "22846      Dryocopus lineatus  ...             Bob Planque  cc-by-nc-sa 3.0   \n",
       "22847     Myiozetetes similis  ...       Vitor Corrêa Dias     cc-by-nc 4.0   \n",
       "22848        Crotophaga major  ...            Nick Athanas  cc-by-nc-sa 3.0   \n",
       "22849    Pitangus sulphuratus  ...  Fernando Igor de Godoy  cc-by-nc-sa 4.0   \n",
       "22850  Dendrocygna autumnalis  ...                 Unknown     cc-by-nc 4.0   \n",
       "\n",
       "                                                    path duration     sr  \\\n",
       "0      /data1/Mamba/Kaggle/BirdCLEF-2025/Data_Raw/tra...  1453248  22050   \n",
       "1      /data1/Mamba/Kaggle/BirdCLEF-2025/Data_Raw/tra...   563904  22050   \n",
       "2      /data1/Mamba/Kaggle/BirdCLEF-2025/Data_Raw/tra...   973440  22050   \n",
       "3      /data1/Mamba/Kaggle/BirdCLEF-2025/Data_Raw/tra...   444673  22050   \n",
       "4      /data1/Mamba/Kaggle/BirdCLEF-2025/Data_Raw/tra...   474625  22050   \n",
       "...                                                  ...      ...    ...   \n",
       "22846  /data1/Mamba/Kaggle/BirdCLEF-2025/Data_Raw/tra...   221761  22050   \n",
       "22847  /data1/Mamba/Kaggle/BirdCLEF-2025/Data_Raw/tra...   110603  22050   \n",
       "22848  /data1/Mamba/Kaggle/BirdCLEF-2025/Data_Raw/tra...   793729  22050   \n",
       "22849  /data1/Mamba/Kaggle/BirdCLEF-2025/Data_Raw/tra...  1323648  22050   \n",
       "22850  /data1/Mamba/Kaggle/BirdCLEF-2025/Data_Raw/tra...   251905  22050   \n",
       "\n",
       "       max_amplitude  duration_sec    weight  presence_type version  \n",
       "0           1.005431     65.906939  0.330124     foreground    2023  \n",
       "1           0.440904     25.573878  0.315243     foreground    2023  \n",
       "2           0.666072     44.146939  0.161863     foreground    2023  \n",
       "3           0.101076     20.166576  0.315243     foreground    2023  \n",
       "4           0.555774     21.524943  0.331520     foreground    2023  \n",
       "...              ...           ...       ...            ...     ...  \n",
       "22846       0.652465     10.057188  0.280355     foreground    2023  \n",
       "22847       0.051320      5.016009  0.218558     foreground    2023  \n",
       "22848       0.865305     35.996780  0.451922     foreground    2023  \n",
       "22849       0.191671     60.029388  0.161863     foreground    2023  \n",
       "22850       0.151951     11.424263  0.247333     foreground    2023  \n",
       "\n",
       "[22851 rows x 21 columns]"
      ]
     },
     "execution_count": 6,
     "metadata": {},
     "output_type": "execute_result"
    }
   ],
   "source": [
    "df_train"
   ]
  },
  {
   "cell_type": "code",
   "execution_count": 7,
   "metadata": {},
   "outputs": [
    {
     "data": {
      "text/plain": [
       "22851"
      ]
     },
     "execution_count": 7,
     "metadata": {},
     "output_type": "execute_result"
    }
   ],
   "source": [
    "if cfg.use_2024_additional_cleaned:\n",
    "    # append handlabeled data\n",
    "    df_additional = pd.read_pickle(cfg.train_2024_additional_cleaned)\n",
    "    df_additional[\"version\"] = \"2023\"\n",
    "    df_additional[\"presence_type\"]  = \"foreground\"\n",
    "\n",
    "    # repeating records\n",
    "    df_additional = pd.concat([df_additional] * cfg.num_cleaned_repeat).reset_index(drop=True)\n",
    "\n",
    "    # make one-hot label\n",
    "    add_primary_label = pd.Categorical(df_additional[\"primary_label\"], categories=cfg.bird_cols)\n",
    "    add_primary_label = pd.get_dummies(add_primary_label,  dtype=np.float64)\n",
    "    assert (add_primary_label.columns == df_label_train.columns).all()\n",
    "\n",
    "\n",
    "    df_train = pd.concat([df_train, df_additional]).reset_index(drop=True)\n",
    "    df_label_train = pd.concat([df_label_train, add_primary_label]).reset_index(drop=True)\n",
    "    # df_train.shape\n",
    "\n",
    "    # shuffle\n",
    "    perm_idx = df_train.index.to_series().sample(frac=1, random_state=0)\n",
    "    df_train = df_train.iloc[perm_idx].reset_index(drop=True)\n",
    "    df_label_train = df_label_train.iloc[perm_idx].reset_index(drop=True)\n",
    "\n",
    "    all_primary_labels = df_train[\"primary_label\"]\n",
    "    sample_weights = (\n",
    "        all_primary_labels.value_counts() / \n",
    "        all_primary_labels.value_counts().sum()\n",
    "    )  ** (cfg.class_exponent_weight)\n",
    "    sample_weights = sample_weights / sample_weights.mean()\n",
    "    df_train[\"weight\"] = sample_weights[df_train[\"primary_label\"].values].values\n",
    "\n",
    "len(df_train)"
   ]
  },
  {
   "cell_type": "code",
   "execution_count": 8,
   "metadata": {},
   "outputs": [],
   "source": [
    "pseudo = None\n",
    "dl_train, dl_val, ds_train, ds_val = get_train_dataloader\\\n",
    "    (\n",
    "\t\tdf_train,\n",
    "\t\tdf_valid,\n",
    "\t\tdf_label_train,\n",
    "\t\tdf_label_valid,\n",
    "\t\tcfg,\n",
    "\t\tpseudo,\n",
    "\t\ttransforms\n",
    "    )"
   ]
  },
  {
   "cell_type": "code",
   "execution_count": 9,
   "metadata": {},
   "outputs": [],
   "source": [
    "# batch = next(iter(dl_train))\n",
    "# audio, target, weight = batch\n",
    "# audio.shape, target.shape"
   ]
  },
  {
   "cell_type": "code",
   "execution_count": 10,
   "metadata": {},
   "outputs": [],
   "source": [
    "logger = WandbLogger(project='BirdClef-2025', name=f'{model_name}_{stage}')\n",
    "checkpoint_callback = ModelCheckpoint\\\n",
    "    (\n",
    "\t\tmonitor='val_loss',\n",
    "\t\tdirpath= cfg.output_path[stage],\n",
    "\t\tsave_top_k=5,\n",
    "\t\tsave_last=True,\n",
    "\t\tsave_weights_only=True,\n",
    "\t\tfilename='{epoch}_{step}_{val_roc_auc:.3f}_{val_cmap_pad:.3f}_{val_ap:.3f}',\n",
    "\t\tverbose=True,\n",
    "\t\tevery_n_epochs=1,\n",
    "\t\tmode='min'\n",
    "\t)"
   ]
  },
  {
   "cell_type": "markdown",
   "metadata": {},
   "source": [
    "## Trainer"
   ]
  },
  {
   "cell_type": "code",
   "execution_count": 11,
   "metadata": {},
   "outputs": [],
   "source": [
    "logger = WandbLogger(project='BirdClef-2025', name=f'{model_name}_{stage}')\n",
    "checkpoint_callback = ModelCheckpoint\\\n",
    "    (\n",
    "\t\tmonitor='val_loss',\n",
    "\t\tdirpath= cfg.output_path[stage],\n",
    "\t\tsave_top_k=5,\n",
    "\t\tsave_last=True,\n",
    "\t\tsave_weights_only=True,\n",
    "\t\tfilename='{epoch}_{step}_{val_roc_auc:.3f}_{val_cmap_pad:.3f}_{val_ap:.3f}',\n",
    "\t\tverbose=True,\n",
    "\t\tevery_n_epochs=1,\n",
    "\t\tmode='min'\n",
    "\t)"
   ]
  },
  {
   "cell_type": "code",
   "execution_count": 12,
   "metadata": {},
   "outputs": [
    {
     "name": "stderr",
     "output_type": "stream",
     "text": [
      "Using bfloat16 Automatic Mixed Precision (AMP)\n",
      "GPU available: True (cuda), used: True\n",
      "TPU available: False, using: 0 TPU cores\n",
      "HPU available: False, using: 0 HPUs\n",
      "`Trainer(val_check_interval=1.0)` was configured so validation will run at the end of the training epoch..\n"
     ]
    }
   ],
   "source": [
    "callbacks_to_use = [checkpoint_callback]\n",
    "model = load_model(cfg,stage)\n",
    "trainer = pl.Trainer\\\n",
    "    (\n",
    "\t\tdevices=1,\n",
    "\t\tval_check_interval=1.0,\n",
    "\t\tdeterministic=None,\n",
    "\t\tmax_epochs=cfg.epochs[stage],\n",
    "\t\tlogger=logger,\n",
    "\t\tcallbacks=callbacks_to_use,\n",
    "\t\tprecision=cfg.PRECISION, \n",
    "\t\taccelerator=\"auto\",\n",
    "\t)"
   ]
  },
  {
   "cell_type": "code",
   "execution_count": 13,
   "metadata": {},
   "outputs": [
    {
     "name": "stderr",
     "output_type": "stream",
     "text": [
      "You are using a CUDA device ('NVIDIA A800 80GB PCIe') that has Tensor Cores. To properly utilize them, you should set `torch.set_float32_matmul_precision('medium' | 'high')` which will trade-off precision for performance. For more details, read https://pytorch.org/docs/stable/generated/torch.set_float32_matmul_precision.html#torch.set_float32_matmul_precision\n",
      "\u001b[34m\u001b[1mwandb\u001b[0m: Currently logged in as: \u001b[33mliguangpeng9495\u001b[0m to \u001b[32mhttps://api.wandb.ai\u001b[0m. Use \u001b[1m`wandb login --relogin`\u001b[0m to force relogin\n"
     ]
    },
    {
     "data": {
      "text/html": [
       "Tracking run with wandb version 0.19.10"
      ],
      "text/plain": [
       "<IPython.core.display.HTML object>"
      ]
     },
     "metadata": {},
     "output_type": "display_data"
    },
    {
     "data": {
      "text/html": [
       "Run data is saved locally in <code>./wandb/run-20250518_034431-h7ml5s2f</code>"
      ],
      "text/plain": [
       "<IPython.core.display.HTML object>"
      ]
     },
     "metadata": {},
     "output_type": "display_data"
    },
    {
     "data": {
      "text/html": [
       "Syncing run <strong><a href='https://wandb.ai/liguangpeng9495/BirdClef-2025/runs/h7ml5s2f' target=\"_blank\">cnn_v1_train_ce</a></strong> to <a href='https://wandb.ai/liguangpeng9495/BirdClef-2025' target=\"_blank\">Weights & Biases</a> (<a href='https://wandb.me/developer-guide' target=\"_blank\">docs</a>)<br>"
      ],
      "text/plain": [
       "<IPython.core.display.HTML object>"
      ]
     },
     "metadata": {},
     "output_type": "display_data"
    },
    {
     "data": {
      "text/html": [
       " View project at <a href='https://wandb.ai/liguangpeng9495/BirdClef-2025' target=\"_blank\">https://wandb.ai/liguangpeng9495/BirdClef-2025</a>"
      ],
      "text/plain": [
       "<IPython.core.display.HTML object>"
      ]
     },
     "metadata": {},
     "output_type": "display_data"
    },
    {
     "data": {
      "text/html": [
       " View run at <a href='https://wandb.ai/liguangpeng9495/BirdClef-2025/runs/h7ml5s2f' target=\"_blank\">https://wandb.ai/liguangpeng9495/BirdClef-2025/runs/h7ml5s2f</a>"
      ],
      "text/plain": [
       "<IPython.core.display.HTML object>"
      ]
     },
     "metadata": {},
     "output_type": "display_data"
    },
    {
     "name": "stderr",
     "output_type": "stream",
     "text": [
      "LOCAL_RANK: 0 - CUDA_VISIBLE_DEVICES: [1,3]\n",
      "\n",
      "   | Name                | Type             | Params | Mode \n",
      "------------------------------------------------------------------\n",
      "0  | loss_function       | CrossEntropyLoss | 0      | train\n",
      "1  | mixup               | Mixup            | 0      | train\n",
      "2  | mixup2              | Mixup2           | 0      | train\n",
      "3  | audio_transforms    | Compose          | 0      | train\n",
      "4  | time_mask_transform | TimeMasking      | 0      | train\n",
      "5  | freq_mask_transform | FrequencyMasking | 0      | train\n",
      "6  | melspec_transform   | MelSpectrogram   | 0      | train\n",
      "7  | db_transform        | AmplitudeToDB    | 0      | train\n",
      "8  | backbone            | EfficientNet     | 4.0 M  | train\n",
      "9  | global_pool         | GeM              | 1      | train\n",
      "10 | head                | Linear           | 263 K  | train\n",
      "11 | big_dropout         | Dropout          | 0      | train\n",
      "------------------------------------------------------------------\n",
      "4.3 M     Trainable params\n",
      "0         Non-trainable params\n",
      "4.3 M     Total params\n",
      "17.083    Total estimated model params size (MB)\n",
      "353       Modules in train mode\n",
      "0         Modules in eval mode\n"
     ]
    },
    {
     "data": {
      "application/vnd.jupyter.widget-view+json": {
       "model_id": "4fd41cb9c4544196896f6c4279d07f04",
       "version_major": 2,
       "version_minor": 0
      },
      "text/plain": [
       "Sanity Checking: |          | 0/? [00:00<?, ?it/s]"
      ]
     },
     "metadata": {},
     "output_type": "display_data"
    },
    {
     "name": "stdout",
     "output_type": "stream",
     "text": [
      "epoch 0 validation loss 6.755795323997221\n",
      "epoch 0 validation ROCAUC score 0.543569548676256\n",
      "epoch 0 validation C-MAP score pad 3 0.9567495080424161\n",
      "epoch 0 validation AP score 0.020512202506762053\n"
     ]
    },
    {
     "data": {
      "application/vnd.jupyter.widget-view+json": {
       "model_id": "ef1ce415548c44daa0745be1ebc16dea",
       "version_major": 2,
       "version_minor": 0
      },
      "text/plain": [
       "Training: |          | 0/? [00:00<?, ?it/s]"
      ]
     },
     "metadata": {},
     "output_type": "display_data"
    },
    {
     "data": {
      "application/vnd.jupyter.widget-view+json": {
       "model_id": "3918b8a0e55c4ecf8fe90f575aca8023",
       "version_major": 2,
       "version_minor": 0
      },
      "text/plain": [
       "Validation: |          | 0/? [00:00<?, ?it/s]"
      ]
     },
     "metadata": {},
     "output_type": "display_data"
    },
    {
     "name": "stderr",
     "output_type": "stream",
     "text": [
      "Epoch 0, global step 358: 'val_loss' reached 5.20501 (best 5.20501), saving model to '/data2/Mamba/Project/Kaggle/BirdCLEF-2025/cnn_v7/pytorch/train_ce/epoch=0_step=358_val_roc_auc=0.789_val_cmap_pad=0.371_val_ap=0.297.ckpt' as top 5\n"
     ]
    },
    {
     "name": "stdout",
     "output_type": "stream",
     "text": [
      "epoch 0 validation loss 5.205011877520754\n",
      "epoch 0 validation ROCAUC score 0.7890936854512063\n",
      "epoch 0 validation C-MAP score pad 3 0.3706399670970955\n",
      "epoch 0 validation AP score 0.2971138648382413\n"
     ]
    },
    {
     "data": {
      "application/vnd.jupyter.widget-view+json": {
       "model_id": "b588510c9c41425086034af7e2224138",
       "version_major": 2,
       "version_minor": 0
      },
      "text/plain": [
       "Validation: |          | 0/? [00:00<?, ?it/s]"
      ]
     },
     "metadata": {},
     "output_type": "display_data"
    },
    {
     "name": "stderr",
     "output_type": "stream",
     "text": [
      "Epoch 1, global step 716: 'val_loss' reached 4.48602 (best 4.48602), saving model to '/data2/Mamba/Project/Kaggle/BirdCLEF-2025/cnn_v7/pytorch/train_ce/epoch=1_step=716_val_roc_auc=0.864_val_cmap_pad=0.489_val_ap=0.495.ckpt' as top 5\n"
     ]
    },
    {
     "name": "stdout",
     "output_type": "stream",
     "text": [
      "epoch 1 validation loss 4.48601634331172\n",
      "epoch 1 validation ROCAUC score 0.8635002137616916\n",
      "epoch 1 validation C-MAP score pad 3 0.48888673114106584\n",
      "epoch 1 validation AP score 0.4951483850507271\n"
     ]
    },
    {
     "data": {
      "application/vnd.jupyter.widget-view+json": {
       "model_id": "305db2119853468a8f44841a3cf32bfb",
       "version_major": 2,
       "version_minor": 0
      },
      "text/plain": [
       "Validation: |          | 0/? [00:00<?, ?it/s]"
      ]
     },
     "metadata": {},
     "output_type": "display_data"
    },
    {
     "name": "stderr",
     "output_type": "stream",
     "text": [
      "Epoch 2, global step 1074: 'val_loss' reached 4.12220 (best 4.12220), saving model to '/data2/Mamba/Project/Kaggle/BirdCLEF-2025/cnn_v7/pytorch/train_ce/epoch=2_step=1074_val_roc_auc=0.892_val_cmap_pad=0.556_val_ap=0.592.ckpt' as top 5\n"
     ]
    },
    {
     "name": "stdout",
     "output_type": "stream",
     "text": [
      "epoch 2 validation loss 4.122200037351485\n",
      "epoch 2 validation ROCAUC score 0.8920590134232477\n",
      "epoch 2 validation C-MAP score pad 3 0.5562343914582915\n",
      "epoch 2 validation AP score 0.5922542631935086\n"
     ]
    },
    {
     "data": {
      "application/vnd.jupyter.widget-view+json": {
       "model_id": "6d53ab388875452b9553557561b0b1fe",
       "version_major": 2,
       "version_minor": 0
      },
      "text/plain": [
       "Validation: |          | 0/? [00:00<?, ?it/s]"
      ]
     },
     "metadata": {},
     "output_type": "display_data"
    },
    {
     "name": "stderr",
     "output_type": "stream",
     "text": [
      "Epoch 3, global step 1432: 'val_loss' reached 3.87555 (best 3.87555), saving model to '/data2/Mamba/Project/Kaggle/BirdCLEF-2025/cnn_v7/pytorch/train_ce/epoch=3_step=1432_val_roc_auc=0.913_val_cmap_pad=0.603_val_ap=0.622.ckpt' as top 5\n"
     ]
    },
    {
     "name": "stdout",
     "output_type": "stream",
     "text": [
      "epoch 3 validation loss 3.875550671648568\n",
      "epoch 3 validation ROCAUC score 0.912901445914932\n",
      "epoch 3 validation C-MAP score pad 3 0.6030459600552043\n",
      "epoch 3 validation AP score 0.6220551176430933\n"
     ]
    },
    {
     "data": {
      "application/vnd.jupyter.widget-view+json": {
       "model_id": "62a2cdcbfe434a279164c9aaa8740878",
       "version_major": 2,
       "version_minor": 0
      },
      "text/plain": [
       "Validation: |          | 0/? [00:00<?, ?it/s]"
      ]
     },
     "metadata": {},
     "output_type": "display_data"
    },
    {
     "name": "stderr",
     "output_type": "stream",
     "text": [
      "Epoch 4, global step 1790: 'val_loss' reached 3.64139 (best 3.64139), saving model to '/data2/Mamba/Project/Kaggle/BirdCLEF-2025/cnn_v7/pytorch/train_ce/epoch=4_step=1790_val_roc_auc=0.913_val_cmap_pad=0.632_val_ap=0.665.ckpt' as top 5\n"
     ]
    },
    {
     "name": "stdout",
     "output_type": "stream",
     "text": [
      "epoch 4 validation loss 3.6413881212349346\n",
      "epoch 4 validation ROCAUC score 0.9125952058226859\n",
      "epoch 4 validation C-MAP score pad 3 0.6324319412515166\n",
      "epoch 4 validation AP score 0.6647706240399697\n"
     ]
    },
    {
     "data": {
      "application/vnd.jupyter.widget-view+json": {
       "model_id": "0d4537d9e72f434fadfd837fe87d1744",
       "version_major": 2,
       "version_minor": 0
      },
      "text/plain": [
       "Validation: |          | 0/? [00:00<?, ?it/s]"
      ]
     },
     "metadata": {},
     "output_type": "display_data"
    },
    {
     "name": "stderr",
     "output_type": "stream",
     "text": [
      "Epoch 5, global step 2148: 'val_loss' reached 3.63868 (best 3.63868), saving model to '/data2/Mamba/Project/Kaggle/BirdCLEF-2025/cnn_v7/pytorch/train_ce/epoch=5_step=2148_val_roc_auc=0.917_val_cmap_pad=0.646_val_ap=0.679.ckpt' as top 5\n"
     ]
    },
    {
     "name": "stdout",
     "output_type": "stream",
     "text": [
      "epoch 5 validation loss 3.6386831355081766\n",
      "epoch 5 validation ROCAUC score 0.9167073841635855\n",
      "epoch 5 validation C-MAP score pad 3 0.6464274402289245\n",
      "epoch 5 validation AP score 0.6787594614317707\n"
     ]
    },
    {
     "data": {
      "application/vnd.jupyter.widget-view+json": {
       "model_id": "9783f296c35d4772ad9b2c7fd3a6a60d",
       "version_major": 2,
       "version_minor": 0
      },
      "text/plain": [
       "Validation: |          | 0/? [00:00<?, ?it/s]"
      ]
     },
     "metadata": {},
     "output_type": "display_data"
    },
    {
     "name": "stderr",
     "output_type": "stream",
     "text": [
      "Epoch 6, global step 2506: 'val_loss' reached 3.47685 (best 3.47685), saving model to '/data2/Mamba/Project/Kaggle/BirdCLEF-2025/cnn_v7/pytorch/train_ce/epoch=6_step=2506_val_roc_auc=0.910_val_cmap_pad=0.662_val_ap=0.702.ckpt' as top 5\n"
     ]
    },
    {
     "name": "stdout",
     "output_type": "stream",
     "text": [
      "epoch 6 validation loss 3.4768525811232434\n",
      "epoch 6 validation ROCAUC score 0.9099114405962775\n",
      "epoch 6 validation C-MAP score pad 3 0.6616135650610341\n",
      "epoch 6 validation AP score 0.7019855816765889\n"
     ]
    },
    {
     "data": {
      "application/vnd.jupyter.widget-view+json": {
       "model_id": "935c6da573db4ab0805b5cd303c1268c",
       "version_major": 2,
       "version_minor": 0
      },
      "text/plain": [
       "Validation: |          | 0/? [00:00<?, ?it/s]"
      ]
     },
     "metadata": {},
     "output_type": "display_data"
    },
    {
     "name": "stderr",
     "output_type": "stream",
     "text": [
      "Epoch 7, global step 2864: 'val_loss' reached 3.52339 (best 3.47685), saving model to '/data2/Mamba/Project/Kaggle/BirdCLEF-2025/cnn_v7/pytorch/train_ce/epoch=7_step=2864_val_roc_auc=0.909_val_cmap_pad=0.671_val_ap=0.706.ckpt' as top 5\n"
     ]
    },
    {
     "name": "stdout",
     "output_type": "stream",
     "text": [
      "epoch 7 validation loss 3.523392627211596\n",
      "epoch 7 validation ROCAUC score 0.9085803291091694\n",
      "epoch 7 validation C-MAP score pad 3 0.670853673116244\n",
      "epoch 7 validation AP score 0.7058176116246752\n"
     ]
    },
    {
     "data": {
      "application/vnd.jupyter.widget-view+json": {
       "model_id": "622c95c77cd044c9951d81c052c84453",
       "version_major": 2,
       "version_minor": 0
      },
      "text/plain": [
       "Validation: |          | 0/? [00:00<?, ?it/s]"
      ]
     },
     "metadata": {},
     "output_type": "display_data"
    },
    {
     "name": "stderr",
     "output_type": "stream",
     "text": [
      "Epoch 8, global step 3222: 'val_loss' reached 3.44532 (best 3.44532), saving model to '/data2/Mamba/Project/Kaggle/BirdCLEF-2025/cnn_v7/pytorch/train_ce/epoch=8_step=3222_val_roc_auc=0.919_val_cmap_pad=0.684_val_ap=0.719.ckpt' as top 5\n"
     ]
    },
    {
     "name": "stdout",
     "output_type": "stream",
     "text": [
      "epoch 8 validation loss 3.445319359987233\n",
      "epoch 8 validation ROCAUC score 0.9192475775351135\n",
      "epoch 8 validation C-MAP score pad 3 0.6842312343776256\n",
      "epoch 8 validation AP score 0.7187874701819975\n"
     ]
    },
    {
     "data": {
      "application/vnd.jupyter.widget-view+json": {
       "model_id": "28fedab7fe4349f99485e107e8cb03b1",
       "version_major": 2,
       "version_minor": 0
      },
      "text/plain": [
       "Validation: |          | 0/? [00:00<?, ?it/s]"
      ]
     },
     "metadata": {},
     "output_type": "display_data"
    },
    {
     "name": "stderr",
     "output_type": "stream",
     "text": [
      "Epoch 9, global step 3580: 'val_loss' reached 3.36283 (best 3.36283), saving model to '/data2/Mamba/Project/Kaggle/BirdCLEF-2025/cnn_v7/pytorch/train_ce/epoch=9_step=3580_val_roc_auc=0.917_val_cmap_pad=0.688_val_ap=0.722.ckpt' as top 5\n"
     ]
    },
    {
     "name": "stdout",
     "output_type": "stream",
     "text": [
      "epoch 9 validation loss 3.3628301409589807\n",
      "epoch 9 validation ROCAUC score 0.9171521027376627\n",
      "epoch 9 validation C-MAP score pad 3 0.6883548766601848\n",
      "epoch 9 validation AP score 0.72239737782984\n"
     ]
    },
    {
     "data": {
      "application/vnd.jupyter.widget-view+json": {
       "model_id": "5976752fe144486f9f9848c9c4d4b60c",
       "version_major": 2,
       "version_minor": 0
      },
      "text/plain": [
       "Validation: |          | 0/? [00:00<?, ?it/s]"
      ]
     },
     "metadata": {},
     "output_type": "display_data"
    },
    {
     "name": "stderr",
     "output_type": "stream",
     "text": [
      "Epoch 10, global step 3938: 'val_loss' reached 3.34062 (best 3.34062), saving model to '/data2/Mamba/Project/Kaggle/BirdCLEF-2025/cnn_v7/pytorch/train_ce/epoch=10_step=3938_val_roc_auc=0.916_val_cmap_pad=0.686_val_ap=0.712.ckpt' as top 5\n"
     ]
    },
    {
     "name": "stdout",
     "output_type": "stream",
     "text": [
      "epoch 10 validation loss 3.3406163989424353\n",
      "epoch 10 validation ROCAUC score 0.9162926878057136\n",
      "epoch 10 validation C-MAP score pad 3 0.6862737041472546\n",
      "epoch 10 validation AP score 0.7124785126637379\n"
     ]
    },
    {
     "data": {
      "application/vnd.jupyter.widget-view+json": {
       "model_id": "fbbf22736a9041e99ad979e8b7afb48e",
       "version_major": 2,
       "version_minor": 0
      },
      "text/plain": [
       "Validation: |          | 0/? [00:00<?, ?it/s]"
      ]
     },
     "metadata": {},
     "output_type": "display_data"
    },
    {
     "name": "stderr",
     "output_type": "stream",
     "text": [
      "Epoch 11, global step 4296: 'val_loss' reached 3.24563 (best 3.24563), saving model to '/data2/Mamba/Project/Kaggle/BirdCLEF-2025/cnn_v7/pytorch/train_ce/epoch=11_step=4296_val_roc_auc=0.915_val_cmap_pad=0.701_val_ap=0.737.ckpt' as top 5\n"
     ]
    },
    {
     "name": "stdout",
     "output_type": "stream",
     "text": [
      "epoch 11 validation loss 3.2456298629263216\n",
      "epoch 11 validation ROCAUC score 0.9150295758929097\n",
      "epoch 11 validation C-MAP score pad 3 0.7010969504374884\n",
      "epoch 11 validation AP score 0.7372789580302987\n"
     ]
    },
    {
     "data": {
      "application/vnd.jupyter.widget-view+json": {
       "model_id": "4d15a97adef943728364e474867302da",
       "version_major": 2,
       "version_minor": 0
      },
      "text/plain": [
       "Validation: |          | 0/? [00:00<?, ?it/s]"
      ]
     },
     "metadata": {},
     "output_type": "display_data"
    },
    {
     "name": "stderr",
     "output_type": "stream",
     "text": [
      "Epoch 12, global step 4654: 'val_loss' reached 3.23654 (best 3.23654), saving model to '/data2/Mamba/Project/Kaggle/BirdCLEF-2025/cnn_v7/pytorch/train_ce/epoch=12_step=4654_val_roc_auc=0.923_val_cmap_pad=0.708_val_ap=0.736.ckpt' as top 5\n"
     ]
    },
    {
     "name": "stdout",
     "output_type": "stream",
     "text": [
      "epoch 12 validation loss 3.2365353860940096\n",
      "epoch 12 validation ROCAUC score 0.9229651432976038\n",
      "epoch 12 validation C-MAP score pad 3 0.7079354611957707\n",
      "epoch 12 validation AP score 0.7361310612266903\n"
     ]
    },
    {
     "data": {
      "application/vnd.jupyter.widget-view+json": {
       "model_id": "aae18eed051040b192989c964638b740",
       "version_major": 2,
       "version_minor": 0
      },
      "text/plain": [
       "Validation: |          | 0/? [00:00<?, ?it/s]"
      ]
     },
     "metadata": {},
     "output_type": "display_data"
    },
    {
     "name": "stderr",
     "output_type": "stream",
     "text": [
      "Epoch 13, global step 5012: 'val_loss' reached 3.13788 (best 3.13788), saving model to '/data2/Mamba/Project/Kaggle/BirdCLEF-2025/cnn_v7/pytorch/train_ce/epoch=13_step=5012_val_roc_auc=0.923_val_cmap_pad=0.714_val_ap=0.754.ckpt' as top 5\n"
     ]
    },
    {
     "name": "stdout",
     "output_type": "stream",
     "text": [
      "epoch 13 validation loss 3.137875894089924\n",
      "epoch 13 validation ROCAUC score 0.9231360688736578\n",
      "epoch 13 validation C-MAP score pad 3 0.7139748673342741\n",
      "epoch 13 validation AP score 0.7543559499553919\n"
     ]
    },
    {
     "data": {
      "application/vnd.jupyter.widget-view+json": {
       "model_id": "66fce2e75d4d49bd8590cb77c2aea90d",
       "version_major": 2,
       "version_minor": 0
      },
      "text/plain": [
       "Validation: |          | 0/? [00:00<?, ?it/s]"
      ]
     },
     "metadata": {},
     "output_type": "display_data"
    },
    {
     "name": "stderr",
     "output_type": "stream",
     "text": [
      "Epoch 14, global step 5370: 'val_loss' reached 3.20237 (best 3.13788), saving model to '/data2/Mamba/Project/Kaggle/BirdCLEF-2025/cnn_v7/pytorch/train_ce/epoch=14_step=5370_val_roc_auc=0.910_val_cmap_pad=0.713_val_ap=0.751.ckpt' as top 5\n"
     ]
    },
    {
     "name": "stdout",
     "output_type": "stream",
     "text": [
      "epoch 14 validation loss 3.202374474235685\n",
      "epoch 14 validation ROCAUC score 0.910247888333297\n",
      "epoch 14 validation C-MAP score pad 3 0.7134806089143085\n",
      "epoch 14 validation AP score 0.7510056499178792\n"
     ]
    },
    {
     "data": {
      "application/vnd.jupyter.widget-view+json": {
       "model_id": "aae933a2e69d427fb4d86db6e1063490",
       "version_major": 2,
       "version_minor": 0
      },
      "text/plain": [
       "Validation: |          | 0/? [00:00<?, ?it/s]"
      ]
     },
     "metadata": {},
     "output_type": "display_data"
    },
    {
     "name": "stderr",
     "output_type": "stream",
     "text": [
      "Epoch 15, global step 5728: 'val_loss' reached 3.18488 (best 3.13788), saving model to '/data2/Mamba/Project/Kaggle/BirdCLEF-2025/cnn_v7/pytorch/train_ce/epoch=15_step=5728_val_roc_auc=0.926_val_cmap_pad=0.723_val_ap=0.760.ckpt' as top 5\n"
     ]
    },
    {
     "name": "stdout",
     "output_type": "stream",
     "text": [
      "epoch 15 validation loss 3.1848763355951983\n",
      "epoch 15 validation ROCAUC score 0.9255474732563028\n",
      "epoch 15 validation C-MAP score pad 3 0.7230972765205657\n",
      "epoch 15 validation AP score 0.7599637969968984\n"
     ]
    },
    {
     "data": {
      "application/vnd.jupyter.widget-view+json": {
       "model_id": "746cd792fd0b4affbc9213f9c69dbf6f",
       "version_major": 2,
       "version_minor": 0
      },
      "text/plain": [
       "Validation: |          | 0/? [00:00<?, ?it/s]"
      ]
     },
     "metadata": {},
     "output_type": "display_data"
    },
    {
     "name": "stderr",
     "output_type": "stream",
     "text": [
      "Epoch 16, global step 6086: 'val_loss' reached 3.08277 (best 3.08277), saving model to '/data2/Mamba/Project/Kaggle/BirdCLEF-2025/cnn_v7/pytorch/train_ce/epoch=16_step=6086_val_roc_auc=0.911_val_cmap_pad=0.726_val_ap=0.766.ckpt' as top 5\n"
     ]
    },
    {
     "name": "stdout",
     "output_type": "stream",
     "text": [
      "epoch 16 validation loss 3.0827687512815056\n",
      "epoch 16 validation ROCAUC score 0.9110235098754097\n",
      "epoch 16 validation C-MAP score pad 3 0.7262507752915126\n",
      "epoch 16 validation AP score 0.7662840279135916\n"
     ]
    },
    {
     "data": {
      "application/vnd.jupyter.widget-view+json": {
       "model_id": "f286c4a04f4745838818886f1c076174",
       "version_major": 2,
       "version_minor": 0
      },
      "text/plain": [
       "Validation: |          | 0/? [00:00<?, ?it/s]"
      ]
     },
     "metadata": {},
     "output_type": "display_data"
    },
    {
     "name": "stderr",
     "output_type": "stream",
     "text": [
      "Epoch 17, global step 6444: 'val_loss' reached 3.07967 (best 3.07967), saving model to '/data2/Mamba/Project/Kaggle/BirdCLEF-2025/cnn_v7/pytorch/train_ce/epoch=17_step=6444_val_roc_auc=0.920_val_cmap_pad=0.727_val_ap=0.765.ckpt' as top 5\n"
     ]
    },
    {
     "name": "stdout",
     "output_type": "stream",
     "text": [
      "epoch 17 validation loss 3.0796660867792167\n",
      "epoch 17 validation ROCAUC score 0.9200671384166047\n",
      "epoch 17 validation C-MAP score pad 3 0.7270251591647622\n",
      "epoch 17 validation AP score 0.7645464773946433\n"
     ]
    },
    {
     "data": {
      "application/vnd.jupyter.widget-view+json": {
       "model_id": "c7b690b8dfe644fb930bf982a99673b0",
       "version_major": 2,
       "version_minor": 0
      },
      "text/plain": [
       "Validation: |          | 0/? [00:00<?, ?it/s]"
      ]
     },
     "metadata": {},
     "output_type": "display_data"
    },
    {
     "name": "stderr",
     "output_type": "stream",
     "text": [
      "Epoch 18, global step 6802: 'val_loss' reached 3.11741 (best 3.07967), saving model to '/data2/Mamba/Project/Kaggle/BirdCLEF-2025/cnn_v7/pytorch/train_ce/epoch=18_step=6802_val_roc_auc=0.902_val_cmap_pad=0.724_val_ap=0.771.ckpt' as top 5\n"
     ]
    },
    {
     "name": "stdout",
     "output_type": "stream",
     "text": [
      "epoch 18 validation loss 3.117408310362874\n",
      "epoch 18 validation ROCAUC score 0.9019982411586965\n",
      "epoch 18 validation C-MAP score pad 3 0.7237828614574561\n",
      "epoch 18 validation AP score 0.7714260751496892\n"
     ]
    },
    {
     "data": {
      "application/vnd.jupyter.widget-view+json": {
       "model_id": "1528c51c49674f56929aaf9a7c296289",
       "version_major": 2,
       "version_minor": 0
      },
      "text/plain": [
       "Validation: |          | 0/? [00:00<?, ?it/s]"
      ]
     },
     "metadata": {},
     "output_type": "display_data"
    },
    {
     "name": "stderr",
     "output_type": "stream",
     "text": [
      "Epoch 19, global step 7160: 'val_loss' reached 3.08729 (best 3.07967), saving model to '/data2/Mamba/Project/Kaggle/BirdCLEF-2025/cnn_v7/pytorch/train_ce/epoch=19_step=7160_val_roc_auc=0.903_val_cmap_pad=0.729_val_ap=0.773.ckpt' as top 5\n"
     ]
    },
    {
     "name": "stdout",
     "output_type": "stream",
     "text": [
      "epoch 19 validation loss 3.0872863161465767\n",
      "epoch 19 validation ROCAUC score 0.903146703494167\n",
      "epoch 19 validation C-MAP score pad 3 0.729237830446272\n",
      "epoch 19 validation AP score 0.7726430007851572\n"
     ]
    },
    {
     "data": {
      "application/vnd.jupyter.widget-view+json": {
       "model_id": "897f1fb6976d464b95b608910481eba7",
       "version_major": 2,
       "version_minor": 0
      },
      "text/plain": [
       "Validation: |          | 0/? [00:00<?, ?it/s]"
      ]
     },
     "metadata": {},
     "output_type": "display_data"
    },
    {
     "name": "stderr",
     "output_type": "stream",
     "text": [
      "Epoch 20, global step 7518: 'val_loss' reached 3.04065 (best 3.04065), saving model to '/data2/Mamba/Project/Kaggle/BirdCLEF-2025/cnn_v7/pytorch/train_ce/epoch=20_step=7518_val_roc_auc=0.908_val_cmap_pad=0.734_val_ap=0.776.ckpt' as top 5\n"
     ]
    },
    {
     "name": "stdout",
     "output_type": "stream",
     "text": [
      "epoch 20 validation loss 3.040647742265211\n",
      "epoch 20 validation ROCAUC score 0.9081138874655307\n",
      "epoch 20 validation C-MAP score pad 3 0.7336788055977598\n",
      "epoch 20 validation AP score 0.7761021674356839\n"
     ]
    },
    {
     "data": {
      "application/vnd.jupyter.widget-view+json": {
       "model_id": "fddbf76ab3cf4e71bdb55b92ce54b242",
       "version_major": 2,
       "version_minor": 0
      },
      "text/plain": [
       "Validation: |          | 0/? [00:00<?, ?it/s]"
      ]
     },
     "metadata": {},
     "output_type": "display_data"
    },
    {
     "name": "stderr",
     "output_type": "stream",
     "text": [
      "Epoch 21, global step 7876: 'val_loss' reached 3.02037 (best 3.02037), saving model to '/data2/Mamba/Project/Kaggle/BirdCLEF-2025/cnn_v7/pytorch/train_ce/epoch=21_step=7876_val_roc_auc=0.898_val_cmap_pad=0.730_val_ap=0.779.ckpt' as top 5\n"
     ]
    },
    {
     "name": "stdout",
     "output_type": "stream",
     "text": [
      "epoch 21 validation loss 3.02036898874843\n",
      "epoch 21 validation ROCAUC score 0.8984293893141567\n",
      "epoch 21 validation C-MAP score pad 3 0.7298671578167879\n",
      "epoch 21 validation AP score 0.7789955437518323\n"
     ]
    },
    {
     "data": {
      "application/vnd.jupyter.widget-view+json": {
       "model_id": "9ba6249c524048e6a2ea7034b80ed340",
       "version_major": 2,
       "version_minor": 0
      },
      "text/plain": [
       "Validation: |          | 0/? [00:00<?, ?it/s]"
      ]
     },
     "metadata": {},
     "output_type": "display_data"
    },
    {
     "name": "stderr",
     "output_type": "stream",
     "text": [
      "Epoch 22, global step 8234: 'val_loss' reached 3.03141 (best 3.02037), saving model to '/data2/Mamba/Project/Kaggle/BirdCLEF-2025/cnn_v7/pytorch/train_ce/epoch=22_step=8234_val_roc_auc=0.893_val_cmap_pad=0.733_val_ap=0.779.ckpt' as top 5\n"
     ]
    },
    {
     "name": "stdout",
     "output_type": "stream",
     "text": [
      "epoch 22 validation loss 3.031409562237362\n",
      "epoch 22 validation ROCAUC score 0.8934330264897847\n",
      "epoch 22 validation C-MAP score pad 3 0.732706669299614\n",
      "epoch 22 validation AP score 0.7792183969588469\n"
     ]
    },
    {
     "data": {
      "application/vnd.jupyter.widget-view+json": {
       "model_id": "67dd2cba181c4646980a2d3516575b20",
       "version_major": 2,
       "version_minor": 0
      },
      "text/plain": [
       "Validation: |          | 0/? [00:00<?, ?it/s]"
      ]
     },
     "metadata": {},
     "output_type": "display_data"
    },
    {
     "name": "stderr",
     "output_type": "stream",
     "text": [
      "Epoch 23, global step 8592: 'val_loss' reached 3.00731 (best 3.00731), saving model to '/data2/Mamba/Project/Kaggle/BirdCLEF-2025/cnn_v7/pytorch/train_ce/epoch=23_step=8592_val_roc_auc=0.899_val_cmap_pad=0.735_val_ap=0.784.ckpt' as top 5\n"
     ]
    },
    {
     "name": "stdout",
     "output_type": "stream",
     "text": [
      "epoch 23 validation loss 3.007306821015315\n",
      "epoch 23 validation ROCAUC score 0.8991257220311922\n",
      "epoch 23 validation C-MAP score pad 3 0.7352406003709364\n",
      "epoch 23 validation AP score 0.7840000905899083\n"
     ]
    },
    {
     "data": {
      "application/vnd.jupyter.widget-view+json": {
       "model_id": "8d935501d295496c952e3d504dab51cf",
       "version_major": 2,
       "version_minor": 0
      },
      "text/plain": [
       "Validation: |          | 0/? [00:00<?, ?it/s]"
      ]
     },
     "metadata": {},
     "output_type": "display_data"
    },
    {
     "name": "stderr",
     "output_type": "stream",
     "text": [
      "Epoch 24, global step 8950: 'val_loss' reached 2.95808 (best 2.95808), saving model to '/data2/Mamba/Project/Kaggle/BirdCLEF-2025/cnn_v7/pytorch/train_ce/epoch=24_step=8950_val_roc_auc=0.896_val_cmap_pad=0.737_val_ap=0.789.ckpt' as top 5\n"
     ]
    },
    {
     "name": "stdout",
     "output_type": "stream",
     "text": [
      "epoch 24 validation loss 2.9580845237489113\n",
      "epoch 24 validation ROCAUC score 0.8964873938957197\n",
      "epoch 24 validation C-MAP score pad 3 0.737076880767777\n",
      "epoch 24 validation AP score 0.7894837550889489\n"
     ]
    },
    {
     "data": {
      "application/vnd.jupyter.widget-view+json": {
       "model_id": "b588d419e0024956a7c27f453847fc6e",
       "version_major": 2,
       "version_minor": 0
      },
      "text/plain": [
       "Validation: |          | 0/? [00:00<?, ?it/s]"
      ]
     },
     "metadata": {},
     "output_type": "display_data"
    },
    {
     "name": "stderr",
     "output_type": "stream",
     "text": [
      "Epoch 25, global step 9308: 'val_loss' reached 2.93199 (best 2.93199), saving model to '/data2/Mamba/Project/Kaggle/BirdCLEF-2025/cnn_v7/pytorch/train_ce/epoch=25_step=9308_val_roc_auc=0.904_val_cmap_pad=0.742_val_ap=0.790.ckpt' as top 5\n"
     ]
    },
    {
     "name": "stdout",
     "output_type": "stream",
     "text": [
      "epoch 25 validation loss 2.9319887242231184\n",
      "epoch 25 validation ROCAUC score 0.9042794696549271\n",
      "epoch 25 validation C-MAP score pad 3 0.7417010897949294\n",
      "epoch 25 validation AP score 0.7904093222698888\n"
     ]
    },
    {
     "data": {
      "application/vnd.jupyter.widget-view+json": {
       "model_id": "11cf8f82ecef48f3a4ee17f6442f524a",
       "version_major": 2,
       "version_minor": 0
      },
      "text/plain": [
       "Validation: |          | 0/? [00:00<?, ?it/s]"
      ]
     },
     "metadata": {},
     "output_type": "display_data"
    },
    {
     "name": "stderr",
     "output_type": "stream",
     "text": [
      "Epoch 26, global step 9666: 'val_loss' reached 2.94505 (best 2.93199), saving model to '/data2/Mamba/Project/Kaggle/BirdCLEF-2025/cnn_v7/pytorch/train_ce/epoch=26_step=9666_val_roc_auc=0.897_val_cmap_pad=0.737_val_ap=0.790.ckpt' as top 5\n"
     ]
    },
    {
     "name": "stdout",
     "output_type": "stream",
     "text": [
      "epoch 26 validation loss 2.945048685011401\n",
      "epoch 26 validation ROCAUC score 0.8965860177778693\n",
      "epoch 26 validation C-MAP score pad 3 0.7368954282031023\n",
      "epoch 26 validation AP score 0.7898789691564647\n"
     ]
    },
    {
     "data": {
      "application/vnd.jupyter.widget-view+json": {
       "model_id": "d99e027414ca497b87498d5a742c3309",
       "version_major": 2,
       "version_minor": 0
      },
      "text/plain": [
       "Validation: |          | 0/? [00:00<?, ?it/s]"
      ]
     },
     "metadata": {},
     "output_type": "display_data"
    },
    {
     "name": "stderr",
     "output_type": "stream",
     "text": [
      "Epoch 27, global step 10024: 'val_loss' reached 2.94518 (best 2.93199), saving model to '/data2/Mamba/Project/Kaggle/BirdCLEF-2025/cnn_v7/pytorch/train_ce/epoch=27_step=10024_val_roc_auc=0.885_val_cmap_pad=0.734_val_ap=0.791.ckpt' as top 5\n"
     ]
    },
    {
     "name": "stdout",
     "output_type": "stream",
     "text": [
      "epoch 27 validation loss 2.945178668212999\n",
      "epoch 27 validation ROCAUC score 0.885057934094998\n",
      "epoch 27 validation C-MAP score pad 3 0.7338681430184322\n",
      "epoch 27 validation AP score 0.7911359039951904\n"
     ]
    },
    {
     "data": {
      "application/vnd.jupyter.widget-view+json": {
       "model_id": "5f17d8165d7842979e8d80185eed99a9",
       "version_major": 2,
       "version_minor": 0
      },
      "text/plain": [
       "Validation: |          | 0/? [00:00<?, ?it/s]"
      ]
     },
     "metadata": {},
     "output_type": "display_data"
    },
    {
     "name": "stderr",
     "output_type": "stream",
     "text": [
      "Epoch 28, global step 10382: 'val_loss' reached 2.92458 (best 2.92458), saving model to '/data2/Mamba/Project/Kaggle/BirdCLEF-2025/cnn_v7/pytorch/train_ce/epoch=28_step=10382_val_roc_auc=0.885_val_cmap_pad=0.734_val_ap=0.790.ckpt' as top 5\n"
     ]
    },
    {
     "name": "stdout",
     "output_type": "stream",
     "text": [
      "epoch 28 validation loss 2.9245798321601986\n",
      "epoch 28 validation ROCAUC score 0.8854607629777816\n",
      "epoch 28 validation C-MAP score pad 3 0.7335730056876653\n",
      "epoch 28 validation AP score 0.789902601492155\n"
     ]
    },
    {
     "data": {
      "application/vnd.jupyter.widget-view+json": {
       "model_id": "da77bc7018564094a5fcee672ecde752",
       "version_major": 2,
       "version_minor": 0
      },
      "text/plain": [
       "Validation: |          | 0/? [00:00<?, ?it/s]"
      ]
     },
     "metadata": {},
     "output_type": "display_data"
    },
    {
     "name": "stderr",
     "output_type": "stream",
     "text": [
      "Epoch 29, global step 10740: 'val_loss' reached 2.92449 (best 2.92449), saving model to '/data2/Mamba/Project/Kaggle/BirdCLEF-2025/cnn_v7/pytorch/train_ce/epoch=29_step=10740_val_roc_auc=0.892_val_cmap_pad=0.738_val_ap=0.792.ckpt' as top 5\n"
     ]
    },
    {
     "name": "stdout",
     "output_type": "stream",
     "text": [
      "epoch 29 validation loss 2.9244912970165338\n",
      "epoch 29 validation ROCAUC score 0.891844978521456\n",
      "epoch 29 validation C-MAP score pad 3 0.738141068547652\n",
      "epoch 29 validation AP score 0.7923091431707864\n"
     ]
    },
    {
     "data": {
      "application/vnd.jupyter.widget-view+json": {
       "model_id": "1bb8c68d07034288bfc087edce7e5e74",
       "version_major": 2,
       "version_minor": 0
      },
      "text/plain": [
       "Validation: |          | 0/? [00:00<?, ?it/s]"
      ]
     },
     "metadata": {},
     "output_type": "display_data"
    },
    {
     "name": "stderr",
     "output_type": "stream",
     "text": [
      "Epoch 30, global step 11098: 'val_loss' reached 2.92291 (best 2.92291), saving model to '/data2/Mamba/Project/Kaggle/BirdCLEF-2025/cnn_v7/pytorch/train_ce/epoch=30_step=11098_val_roc_auc=0.905_val_cmap_pad=0.745_val_ap=0.798.ckpt' as top 5\n"
     ]
    },
    {
     "name": "stdout",
     "output_type": "stream",
     "text": [
      "epoch 30 validation loss 2.9229065181201275\n",
      "epoch 30 validation ROCAUC score 0.9053309637328938\n",
      "epoch 30 validation C-MAP score pad 3 0.7446238294829863\n",
      "epoch 30 validation AP score 0.7975674613245577\n"
     ]
    },
    {
     "data": {
      "application/vnd.jupyter.widget-view+json": {
       "model_id": "66ec4c963b4d4c1ba3c9022fce1e77be",
       "version_major": 2,
       "version_minor": 0
      },
      "text/plain": [
       "Validation: |          | 0/? [00:00<?, ?it/s]"
      ]
     },
     "metadata": {},
     "output_type": "display_data"
    },
    {
     "name": "stderr",
     "output_type": "stream",
     "text": [
      "Epoch 31, global step 11456: 'val_loss' reached 2.91265 (best 2.91265), saving model to '/data2/Mamba/Project/Kaggle/BirdCLEF-2025/cnn_v7/pytorch/train_ce/epoch=31_step=11456_val_roc_auc=0.890_val_cmap_pad=0.738_val_ap=0.793.ckpt' as top 5\n"
     ]
    },
    {
     "name": "stdout",
     "output_type": "stream",
     "text": [
      "epoch 31 validation loss 2.9126519605554515\n",
      "epoch 31 validation ROCAUC score 0.8899284438874927\n",
      "epoch 31 validation C-MAP score pad 3 0.7381679596462379\n",
      "epoch 31 validation AP score 0.7931541650743245\n"
     ]
    },
    {
     "name": "stderr",
     "output_type": "stream",
     "text": [
      "`Trainer.fit` stopped: `max_epochs=32` reached.\n"
     ]
    }
   ],
   "source": [
    "trainer.fit(model, train_dataloaders=dl_train, val_dataloaders=dl_val)"
   ]
  }
 ],
 "metadata": {
  "kernelspec": {
   "display_name": "CZII",
   "language": "python",
   "name": "python3"
  },
  "language_info": {
   "codemirror_mode": {
    "name": "ipython",
    "version": 3
   },
   "file_extension": ".py",
   "mimetype": "text/x-python",
   "name": "python",
   "nbconvert_exporter": "python",
   "pygments_lexer": "ipython3",
   "version": "3.11.12"
  }
 },
 "nbformat": 4,
 "nbformat_minor": 2
}
