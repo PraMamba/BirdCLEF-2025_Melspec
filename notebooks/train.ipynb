{
 "cells": [
  {
   "cell_type": "code",
   "execution_count": 8,
   "metadata": {},
   "outputs": [],
   "source": [
    "import os\n",
    "import sys\n",
    "sys.path.append('/home/guangp/BirdCLEF-2025_Melspec')\n",
    "\n",
    "import warnings\n",
    "warnings.filterwarnings('ignore')\n",
    "\n",
    "os.environ[\"CUDA_VISIBLE_DEVICES\"] = \"1,3\""
   ]
  },
  {
   "cell_type": "code",
   "execution_count": 9,
   "metadata": {
    "metadata": {}
   },
   "outputs": [],
   "source": [
    "import pytorch_lightning as pl\n",
    "from pytorch_lightning.loggers import WandbLogger\n",
    "from pytorch_lightning.callbacks import ModelCheckpoint, BackboneFinetuning, EarlyStopping\n",
    "\n",
    "import torch\n",
    "import torch.nn as nn\n",
    "import torch.nn.functional as F\n",
    "from torch.utils.data import Dataset\n",
    "\n",
    "import importlib\n",
    "from pathlib import Path\n",
    "import numpy as np\n",
    "import glob\n",
    "import timm\n",
    "import pandas as pd\n",
    "import torchaudio as ta\n",
    "\n",
    "from modules.preprocess import preprocess,prepare_cfg\n",
    "from modules.dataset import get_train_dataloader\n",
    "from modules.model import load_model\n",
    "import modules.inception_next_nano"
   ]
  },
  {
   "cell_type": "code",
   "execution_count": 10,
   "metadata": {},
   "outputs": [
    {
     "name": "stdout",
     "output_type": "stream",
     "text": [
      "/home/guangp/BirdCLEF-2025_Melspec\n"
     ]
    }
   ],
   "source": [
    "# move to repo root\n",
    "cur_dir = Path().resolve()\n",
    "\n",
    "if not (cur_dir / \"notebooks\").exists():\n",
    "    os.chdir(os.path.abspath(\"../\"))\n",
    "print(f\"{Path().resolve()}\")"
   ]
  },
  {
   "cell_type": "code",
   "execution_count": 11,
   "metadata": {},
   "outputs": [
    {
     "name": "stderr",
     "output_type": "stream",
     "text": [
      "Seed set to 20231911\n"
     ]
    },
    {
     "data": {
      "text/plain": [
       "20231911"
      ]
     },
     "execution_count": 11,
     "metadata": {},
     "output_type": "execute_result"
    }
   ],
   "source": [
    "model_name = \"cnn_v1\"\n",
    "stage = \"train_bce\"\n",
    "\n",
    "cfg = importlib.import_module(f'configs.{model_name}').basic_cfg\n",
    "cfg = prepare_cfg(cfg,stage)\n",
    "\n",
    "pl.seed_everything(cfg.seed[stage], workers=True)"
   ]
  },
  {
   "cell_type": "code",
   "execution_count": 12,
   "metadata": {
    "metadata": {}
   },
   "outputs": [
    {
     "data": {
      "text/plain": [
       "(22851, 5713)"
      ]
     },
     "execution_count": 12,
     "metadata": {},
     "output_type": "execute_result"
    }
   ],
   "source": [
    "df_train, df_valid, df_label_train, df_label_valid, transforms = preprocess(cfg, stage)\n",
    "df_train[\"version\"] = \"2023\"\n",
    "df_valid[\"version\"] = \"2023\"\n",
    "len(df_train), len(df_valid)"
   ]
  },
  {
   "cell_type": "code",
   "execution_count": 13,
   "metadata": {},
   "outputs": [
    {
     "data": {
      "text/html": [
       "<div>\n",
       "<style scoped>\n",
       "    .dataframe tbody tr th:only-of-type {\n",
       "        vertical-align: middle;\n",
       "    }\n",
       "\n",
       "    .dataframe tbody tr th {\n",
       "        vertical-align: top;\n",
       "    }\n",
       "\n",
       "    .dataframe thead th {\n",
       "        text-align: right;\n",
       "    }\n",
       "</style>\n",
       "<table border=\"1\" class=\"dataframe\">\n",
       "  <thead>\n",
       "    <tr style=\"text-align: right;\">\n",
       "      <th></th>\n",
       "      <th>primary_label</th>\n",
       "      <th>secondary_labels</th>\n",
       "      <th>type</th>\n",
       "      <th>filename</th>\n",
       "      <th>collection</th>\n",
       "      <th>rating</th>\n",
       "      <th>url</th>\n",
       "      <th>latitude</th>\n",
       "      <th>longitude</th>\n",
       "      <th>scientific_name</th>\n",
       "      <th>...</th>\n",
       "      <th>author</th>\n",
       "      <th>license</th>\n",
       "      <th>path</th>\n",
       "      <th>duration</th>\n",
       "      <th>sr</th>\n",
       "      <th>max_amplitude</th>\n",
       "      <th>duration_sec</th>\n",
       "      <th>weight</th>\n",
       "      <th>presence_type</th>\n",
       "      <th>version</th>\n",
       "    </tr>\n",
       "  </thead>\n",
       "  <tbody>\n",
       "    <tr>\n",
       "      <th>0</th>\n",
       "      <td>yehcar1</td>\n",
       "      <td>[]</td>\n",
       "      <td>['call']</td>\n",
       "      <td>yehcar1/XC674420.ogg</td>\n",
       "      <td>XC</td>\n",
       "      <td>5.0</td>\n",
       "      <td>https://xeno-canto.org/674420</td>\n",
       "      <td>-21.7357</td>\n",
       "      <td>-43.3693</td>\n",
       "      <td>Milvago chimachima</td>\n",
       "      <td>...</td>\n",
       "      <td>Marco Manhães</td>\n",
       "      <td>cc-by-nc-sa 4.0</td>\n",
       "      <td>/data1/Mamba/Kaggle/BirdCLEF-2025/Data_Raw/tra...</td>\n",
       "      <td>1453248</td>\n",
       "      <td>22050</td>\n",
       "      <td>1.005431</td>\n",
       "      <td>65.906939</td>\n",
       "      <td>0.330124</td>\n",
       "      <td>foreground</td>\n",
       "      <td>2023</td>\n",
       "    </tr>\n",
       "    <tr>\n",
       "      <th>1</th>\n",
       "      <td>rutjac1</td>\n",
       "      <td>[rumfly1]</td>\n",
       "      <td>['song']</td>\n",
       "      <td>rutjac1/XC261831.ogg</td>\n",
       "      <td>XC</td>\n",
       "      <td>4.5</td>\n",
       "      <td>https://xeno-canto.org/261831</td>\n",
       "      <td>0.8830</td>\n",
       "      <td>-78.8000</td>\n",
       "      <td>Galbula ruficauda</td>\n",
       "      <td>...</td>\n",
       "      <td>Olaf Jahn</td>\n",
       "      <td>cc-by-nc-sa 4.0</td>\n",
       "      <td>/data1/Mamba/Kaggle/BirdCLEF-2025/Data_Raw/tra...</td>\n",
       "      <td>563904</td>\n",
       "      <td>22050</td>\n",
       "      <td>0.440904</td>\n",
       "      <td>25.573878</td>\n",
       "      <td>0.315243</td>\n",
       "      <td>foreground</td>\n",
       "      <td>2023</td>\n",
       "    </tr>\n",
       "    <tr>\n",
       "      <th>2</th>\n",
       "      <td>grekis</td>\n",
       "      <td>[]</td>\n",
       "      <td>['song']</td>\n",
       "      <td>grekis/XC576073.ogg</td>\n",
       "      <td>XC</td>\n",
       "      <td>4.0</td>\n",
       "      <td>https://xeno-canto.org/576073</td>\n",
       "      <td>14.3572</td>\n",
       "      <td>-87.6545</td>\n",
       "      <td>Pitangus sulphuratus</td>\n",
       "      <td>...</td>\n",
       "      <td>Mario Reyes Jr</td>\n",
       "      <td>cc-by-nc-sa 4.0</td>\n",
       "      <td>/data1/Mamba/Kaggle/BirdCLEF-2025/Data_Raw/tra...</td>\n",
       "      <td>973440</td>\n",
       "      <td>22050</td>\n",
       "      <td>0.666072</td>\n",
       "      <td>44.146939</td>\n",
       "      <td>0.161863</td>\n",
       "      <td>foreground</td>\n",
       "      <td>2023</td>\n",
       "    </tr>\n",
       "    <tr>\n",
       "      <th>3</th>\n",
       "      <td>rutjac1</td>\n",
       "      <td>[]</td>\n",
       "      <td>['song']</td>\n",
       "      <td>rutjac1/XC298078.ogg</td>\n",
       "      <td>XC</td>\n",
       "      <td>4.0</td>\n",
       "      <td>https://xeno-canto.org/298078</td>\n",
       "      <td>7.8273</td>\n",
       "      <td>-72.6175</td>\n",
       "      <td>Galbula ruficauda</td>\n",
       "      <td>...</td>\n",
       "      <td>Oscar Laverde</td>\n",
       "      <td>cc-by-nc-sa 4.0</td>\n",
       "      <td>/data1/Mamba/Kaggle/BirdCLEF-2025/Data_Raw/tra...</td>\n",
       "      <td>444673</td>\n",
       "      <td>22050</td>\n",
       "      <td>0.101076</td>\n",
       "      <td>20.166576</td>\n",
       "      <td>0.315243</td>\n",
       "      <td>foreground</td>\n",
       "      <td>2023</td>\n",
       "    </tr>\n",
       "    <tr>\n",
       "      <th>4</th>\n",
       "      <td>rumfly1</td>\n",
       "      <td>[]</td>\n",
       "      <td>['duet', 'song']</td>\n",
       "      <td>rumfly1/XC54522.ogg</td>\n",
       "      <td>XC</td>\n",
       "      <td>4.0</td>\n",
       "      <td>https://xeno-canto.org/54522</td>\n",
       "      <td>NaN</td>\n",
       "      <td>NaN</td>\n",
       "      <td>Myiozetetes cayanensis</td>\n",
       "      <td>...</td>\n",
       "      <td>Bernabe Lopez-Lanus</td>\n",
       "      <td>cc-by-nc-sa 3.0</td>\n",
       "      <td>/data1/Mamba/Kaggle/BirdCLEF-2025/Data_Raw/tra...</td>\n",
       "      <td>474625</td>\n",
       "      <td>22050</td>\n",
       "      <td>0.555774</td>\n",
       "      <td>21.524943</td>\n",
       "      <td>0.331520</td>\n",
       "      <td>foreground</td>\n",
       "      <td>2023</td>\n",
       "    </tr>\n",
       "    <tr>\n",
       "      <th>...</th>\n",
       "      <td>...</td>\n",
       "      <td>...</td>\n",
       "      <td>...</td>\n",
       "      <td>...</td>\n",
       "      <td>...</td>\n",
       "      <td>...</td>\n",
       "      <td>...</td>\n",
       "      <td>...</td>\n",
       "      <td>...</td>\n",
       "      <td>...</td>\n",
       "      <td>...</td>\n",
       "      <td>...</td>\n",
       "      <td>...</td>\n",
       "      <td>...</td>\n",
       "      <td>...</td>\n",
       "      <td>...</td>\n",
       "      <td>...</td>\n",
       "      <td>...</td>\n",
       "      <td>...</td>\n",
       "      <td>...</td>\n",
       "      <td>...</td>\n",
       "    </tr>\n",
       "    <tr>\n",
       "      <th>22846</th>\n",
       "      <td>linwoo1</td>\n",
       "      <td>[]</td>\n",
       "      <td>['drumming']</td>\n",
       "      <td>linwoo1/XC78185.ogg</td>\n",
       "      <td>XC</td>\n",
       "      <td>3.0</td>\n",
       "      <td>https://xeno-canto.org/78185</td>\n",
       "      <td>-19.1824</td>\n",
       "      <td>-48.3936</td>\n",
       "      <td>Dryocopus lineatus</td>\n",
       "      <td>...</td>\n",
       "      <td>Bob Planque</td>\n",
       "      <td>cc-by-nc-sa 3.0</td>\n",
       "      <td>/data1/Mamba/Kaggle/BirdCLEF-2025/Data_Raw/tra...</td>\n",
       "      <td>221761</td>\n",
       "      <td>22050</td>\n",
       "      <td>0.652465</td>\n",
       "      <td>10.057188</td>\n",
       "      <td>0.280355</td>\n",
       "      <td>foreground</td>\n",
       "      <td>2023</td>\n",
       "    </tr>\n",
       "    <tr>\n",
       "      <th>22847</th>\n",
       "      <td>socfly1</td>\n",
       "      <td>[]</td>\n",
       "      <td>['']</td>\n",
       "      <td>socfly1/iNat880781.ogg</td>\n",
       "      <td>iNat</td>\n",
       "      <td>0.0</td>\n",
       "      <td>https://static.inaturalist.org/sounds/880781.mp3</td>\n",
       "      <td>-18.8302</td>\n",
       "      <td>-40.6809</td>\n",
       "      <td>Myiozetetes similis</td>\n",
       "      <td>...</td>\n",
       "      <td>Vitor Corrêa Dias</td>\n",
       "      <td>cc-by-nc 4.0</td>\n",
       "      <td>/data1/Mamba/Kaggle/BirdCLEF-2025/Data_Raw/tra...</td>\n",
       "      <td>110603</td>\n",
       "      <td>22050</td>\n",
       "      <td>0.051320</td>\n",
       "      <td>5.016009</td>\n",
       "      <td>0.218558</td>\n",
       "      <td>foreground</td>\n",
       "      <td>2023</td>\n",
       "    </tr>\n",
       "    <tr>\n",
       "      <th>22848</th>\n",
       "      <td>greani1</td>\n",
       "      <td>[]</td>\n",
       "      <td>['call']</td>\n",
       "      <td>greani1/XC14741.ogg</td>\n",
       "      <td>XC</td>\n",
       "      <td>3.0</td>\n",
       "      <td>https://xeno-canto.org/14741</td>\n",
       "      <td>-3.2231</td>\n",
       "      <td>-59.8664</td>\n",
       "      <td>Crotophaga major</td>\n",
       "      <td>...</td>\n",
       "      <td>Nick Athanas</td>\n",
       "      <td>cc-by-nc-sa 3.0</td>\n",
       "      <td>/data1/Mamba/Kaggle/BirdCLEF-2025/Data_Raw/tra...</td>\n",
       "      <td>793729</td>\n",
       "      <td>22050</td>\n",
       "      <td>0.865305</td>\n",
       "      <td>35.996780</td>\n",
       "      <td>0.451922</td>\n",
       "      <td>foreground</td>\n",
       "      <td>2023</td>\n",
       "    </tr>\n",
       "    <tr>\n",
       "      <th>22849</th>\n",
       "      <td>grekis</td>\n",
       "      <td>[]</td>\n",
       "      <td>['song']</td>\n",
       "      <td>grekis/XC714034.ogg</td>\n",
       "      <td>XC</td>\n",
       "      <td>4.0</td>\n",
       "      <td>https://xeno-canto.org/714034</td>\n",
       "      <td>-23.7995</td>\n",
       "      <td>-46.0230</td>\n",
       "      <td>Pitangus sulphuratus</td>\n",
       "      <td>...</td>\n",
       "      <td>Fernando Igor de Godoy</td>\n",
       "      <td>cc-by-nc-sa 4.0</td>\n",
       "      <td>/data1/Mamba/Kaggle/BirdCLEF-2025/Data_Raw/tra...</td>\n",
       "      <td>1323648</td>\n",
       "      <td>22050</td>\n",
       "      <td>0.191671</td>\n",
       "      <td>60.029388</td>\n",
       "      <td>0.161863</td>\n",
       "      <td>foreground</td>\n",
       "      <td>2023</td>\n",
       "    </tr>\n",
       "    <tr>\n",
       "      <th>22850</th>\n",
       "      <td>bbwduc</td>\n",
       "      <td>[]</td>\n",
       "      <td>['']</td>\n",
       "      <td>bbwduc/iNat1235273.ogg</td>\n",
       "      <td>iNat</td>\n",
       "      <td>0.0</td>\n",
       "      <td>https://static.inaturalist.org/sounds/1235273.m4a</td>\n",
       "      <td>29.9313</td>\n",
       "      <td>-90.1238</td>\n",
       "      <td>Dendrocygna autumnalis</td>\n",
       "      <td>...</td>\n",
       "      <td>Unknown</td>\n",
       "      <td>cc-by-nc 4.0</td>\n",
       "      <td>/data1/Mamba/Kaggle/BirdCLEF-2025/Data_Raw/tra...</td>\n",
       "      <td>251905</td>\n",
       "      <td>22050</td>\n",
       "      <td>0.151951</td>\n",
       "      <td>11.424263</td>\n",
       "      <td>0.247333</td>\n",
       "      <td>foreground</td>\n",
       "      <td>2023</td>\n",
       "    </tr>\n",
       "  </tbody>\n",
       "</table>\n",
       "<p>22851 rows × 21 columns</p>\n",
       "</div>"
      ],
      "text/plain": [
       "      primary_label secondary_labels              type  \\\n",
       "0           yehcar1               []          ['call']   \n",
       "1           rutjac1        [rumfly1]          ['song']   \n",
       "2            grekis               []          ['song']   \n",
       "3           rutjac1               []          ['song']   \n",
       "4           rumfly1               []  ['duet', 'song']   \n",
       "...             ...              ...               ...   \n",
       "22846       linwoo1               []      ['drumming']   \n",
       "22847       socfly1               []              ['']   \n",
       "22848       greani1               []          ['call']   \n",
       "22849        grekis               []          ['song']   \n",
       "22850        bbwduc               []              ['']   \n",
       "\n",
       "                     filename collection  rating  \\\n",
       "0        yehcar1/XC674420.ogg         XC     5.0   \n",
       "1        rutjac1/XC261831.ogg         XC     4.5   \n",
       "2         grekis/XC576073.ogg         XC     4.0   \n",
       "3        rutjac1/XC298078.ogg         XC     4.0   \n",
       "4         rumfly1/XC54522.ogg         XC     4.0   \n",
       "...                       ...        ...     ...   \n",
       "22846     linwoo1/XC78185.ogg         XC     3.0   \n",
       "22847  socfly1/iNat880781.ogg       iNat     0.0   \n",
       "22848     greani1/XC14741.ogg         XC     3.0   \n",
       "22849     grekis/XC714034.ogg         XC     4.0   \n",
       "22850  bbwduc/iNat1235273.ogg       iNat     0.0   \n",
       "\n",
       "                                                     url  latitude  longitude  \\\n",
       "0                          https://xeno-canto.org/674420  -21.7357   -43.3693   \n",
       "1                          https://xeno-canto.org/261831    0.8830   -78.8000   \n",
       "2                          https://xeno-canto.org/576073   14.3572   -87.6545   \n",
       "3                          https://xeno-canto.org/298078    7.8273   -72.6175   \n",
       "4                           https://xeno-canto.org/54522       NaN        NaN   \n",
       "...                                                  ...       ...        ...   \n",
       "22846                       https://xeno-canto.org/78185  -19.1824   -48.3936   \n",
       "22847   https://static.inaturalist.org/sounds/880781.mp3  -18.8302   -40.6809   \n",
       "22848                       https://xeno-canto.org/14741   -3.2231   -59.8664   \n",
       "22849                      https://xeno-canto.org/714034  -23.7995   -46.0230   \n",
       "22850  https://static.inaturalist.org/sounds/1235273.m4a   29.9313   -90.1238   \n",
       "\n",
       "              scientific_name  ...                  author          license  \\\n",
       "0          Milvago chimachima  ...           Marco Manhães  cc-by-nc-sa 4.0   \n",
       "1           Galbula ruficauda  ...               Olaf Jahn  cc-by-nc-sa 4.0   \n",
       "2        Pitangus sulphuratus  ...          Mario Reyes Jr  cc-by-nc-sa 4.0   \n",
       "3           Galbula ruficauda  ...           Oscar Laverde  cc-by-nc-sa 4.0   \n",
       "4      Myiozetetes cayanensis  ...     Bernabe Lopez-Lanus  cc-by-nc-sa 3.0   \n",
       "...                       ...  ...                     ...              ...   \n",
       "22846      Dryocopus lineatus  ...             Bob Planque  cc-by-nc-sa 3.0   \n",
       "22847     Myiozetetes similis  ...       Vitor Corrêa Dias     cc-by-nc 4.0   \n",
       "22848        Crotophaga major  ...            Nick Athanas  cc-by-nc-sa 3.0   \n",
       "22849    Pitangus sulphuratus  ...  Fernando Igor de Godoy  cc-by-nc-sa 4.0   \n",
       "22850  Dendrocygna autumnalis  ...                 Unknown     cc-by-nc 4.0   \n",
       "\n",
       "                                                    path duration     sr  \\\n",
       "0      /data1/Mamba/Kaggle/BirdCLEF-2025/Data_Raw/tra...  1453248  22050   \n",
       "1      /data1/Mamba/Kaggle/BirdCLEF-2025/Data_Raw/tra...   563904  22050   \n",
       "2      /data1/Mamba/Kaggle/BirdCLEF-2025/Data_Raw/tra...   973440  22050   \n",
       "3      /data1/Mamba/Kaggle/BirdCLEF-2025/Data_Raw/tra...   444673  22050   \n",
       "4      /data1/Mamba/Kaggle/BirdCLEF-2025/Data_Raw/tra...   474625  22050   \n",
       "...                                                  ...      ...    ...   \n",
       "22846  /data1/Mamba/Kaggle/BirdCLEF-2025/Data_Raw/tra...   221761  22050   \n",
       "22847  /data1/Mamba/Kaggle/BirdCLEF-2025/Data_Raw/tra...   110603  22050   \n",
       "22848  /data1/Mamba/Kaggle/BirdCLEF-2025/Data_Raw/tra...   793729  22050   \n",
       "22849  /data1/Mamba/Kaggle/BirdCLEF-2025/Data_Raw/tra...  1323648  22050   \n",
       "22850  /data1/Mamba/Kaggle/BirdCLEF-2025/Data_Raw/tra...   251905  22050   \n",
       "\n",
       "       max_amplitude  duration_sec    weight  presence_type version  \n",
       "0           1.005431     65.906939  0.330124     foreground    2023  \n",
       "1           0.440904     25.573878  0.315243     foreground    2023  \n",
       "2           0.666072     44.146939  0.161863     foreground    2023  \n",
       "3           0.101076     20.166576  0.315243     foreground    2023  \n",
       "4           0.555774     21.524943  0.331520     foreground    2023  \n",
       "...              ...           ...       ...            ...     ...  \n",
       "22846       0.652465     10.057188  0.280355     foreground    2023  \n",
       "22847       0.051320      5.016009  0.218558     foreground    2023  \n",
       "22848       0.865305     35.996780  0.451922     foreground    2023  \n",
       "22849       0.191671     60.029388  0.161863     foreground    2023  \n",
       "22850       0.151951     11.424263  0.247333     foreground    2023  \n",
       "\n",
       "[22851 rows x 21 columns]"
      ]
     },
     "execution_count": 13,
     "metadata": {},
     "output_type": "execute_result"
    }
   ],
   "source": [
    "df_train"
   ]
  },
  {
   "cell_type": "code",
   "execution_count": 7,
   "metadata": {},
   "outputs": [
    {
     "data": {
      "text/plain": [
       "22851"
      ]
     },
     "execution_count": 7,
     "metadata": {},
     "output_type": "execute_result"
    }
   ],
   "source": [
    "if cfg.use_2024_additional_cleaned:\n",
    "    # append handlabeled data\n",
    "    df_additional = pd.read_pickle(cfg.train_2024_additional_cleaned)\n",
    "    df_additional[\"version\"] = \"2023\"\n",
    "    df_additional[\"presence_type\"]  = \"foreground\"\n",
    "\n",
    "    # repeating records\n",
    "    df_additional = pd.concat([df_additional] * cfg.num_cleaned_repeat).reset_index(drop=True)\n",
    "\n",
    "    # make one-hot label\n",
    "    add_primary_label = pd.Categorical(df_additional[\"primary_label\"], categories=cfg.bird_cols)\n",
    "    add_primary_label = pd.get_dummies(add_primary_label,  dtype=np.float64)\n",
    "    assert (add_primary_label.columns == df_label_train.columns).all()\n",
    "\n",
    "\n",
    "    df_train = pd.concat([df_train, df_additional]).reset_index(drop=True)\n",
    "    df_label_train = pd.concat([df_label_train, add_primary_label]).reset_index(drop=True)\n",
    "    # df_train.shape\n",
    "\n",
    "    # shuffle\n",
    "    perm_idx = df_train.index.to_series().sample(frac=1, random_state=0)\n",
    "    df_train = df_train.iloc[perm_idx].reset_index(drop=True)\n",
    "    df_label_train = df_label_train.iloc[perm_idx].reset_index(drop=True)\n",
    "\n",
    "    all_primary_labels = df_train[\"primary_label\"]\n",
    "    sample_weights = (\n",
    "        all_primary_labels.value_counts() / \n",
    "        all_primary_labels.value_counts().sum()\n",
    "    )  ** (cfg.class_exponent_weight)\n",
    "    sample_weights = sample_weights / sample_weights.mean()\n",
    "    df_train[\"weight\"] = sample_weights[df_train[\"primary_label\"].values].values\n",
    "\n",
    "len(df_train)"
   ]
  },
  {
   "cell_type": "code",
   "execution_count": 8,
   "metadata": {},
   "outputs": [],
   "source": [
    "pseudo = None\n",
    "dl_train, dl_val, ds_train, ds_val = get_train_dataloader\\\n",
    "    (\n",
    "\t\tdf_train,\n",
    "\t\tdf_valid,\n",
    "\t\tdf_label_train,\n",
    "\t\tdf_label_valid,\n",
    "\t\tcfg,\n",
    "\t\tpseudo,\n",
    "\t\ttransforms\n",
    "    )"
   ]
  },
  {
   "cell_type": "code",
   "execution_count": 9,
   "metadata": {},
   "outputs": [],
   "source": [
    "# batch = next(iter(dl_train))\n",
    "# audio, target, weight = batch\n",
    "# audio.shape, target.shape"
   ]
  },
  {
   "cell_type": "code",
   "execution_count": 10,
   "metadata": {},
   "outputs": [],
   "source": [
    "logger = WandbLogger(project='BirdClef-2025', name=f'{model_name}_{stage}')\n",
    "checkpoint_callback = ModelCheckpoint\\\n",
    "    (\n",
    "\t\tmonitor='val_loss',\n",
    "\t\tdirpath= cfg.output_path[stage],\n",
    "\t\tsave_top_k=5,\n",
    "\t\tsave_last=True,\n",
    "\t\tsave_weights_only=True,\n",
    "\t\tfilename='{epoch}_{step}_{val_roc_auc:.3f}_{val_cmap_pad:.3f}_{val_ap:.3f}',\n",
    "\t\tverbose=True,\n",
    "\t\tevery_n_epochs=1,\n",
    "\t\tmode='min'\n",
    "\t)"
   ]
  },
  {
   "cell_type": "markdown",
   "metadata": {},
   "source": [
    "## Trainer"
   ]
  },
  {
   "cell_type": "code",
   "execution_count": 11,
   "metadata": {},
   "outputs": [],
   "source": [
    "logger = WandbLogger(project='BirdClef-2025', name=f'{model_name}_{stage}')\n",
    "checkpoint_callback = ModelCheckpoint\\\n",
    "    (\n",
    "\t\tmonitor='val_loss',\n",
    "\t\tdirpath= cfg.output_path[stage],\n",
    "\t\tsave_top_k=5,\n",
    "\t\tsave_last=True,\n",
    "\t\tsave_weights_only=True,\n",
    "\t\tfilename='{epoch}_{step}_{val_roc_auc:.3f}_{val_cmap_pad:.3f}_{val_ap:.3f}',\n",
    "\t\tverbose=True,\n",
    "\t\tevery_n_epochs=1,\n",
    "\t\tmode='min'\n",
    "\t)"
   ]
  },
  {
   "cell_type": "code",
   "execution_count": 12,
   "metadata": {},
   "outputs": [
    {
     "name": "stderr",
     "output_type": "stream",
     "text": [
      "Using bfloat16 Automatic Mixed Precision (AMP)\n",
      "GPU available: True (cuda), used: True\n",
      "TPU available: False, using: 0 TPU cores\n",
      "HPU available: False, using: 0 HPUs\n",
      "`Trainer(val_check_interval=1.0)` was configured so validation will run at the end of the training epoch..\n"
     ]
    }
   ],
   "source": [
    "callbacks_to_use = [checkpoint_callback]\n",
    "model = load_model(cfg,stage)\n",
    "trainer = pl.Trainer\\\n",
    "    (\n",
    "\t\tdevices=1,\n",
    "\t\tval_check_interval=1.0,\n",
    "\t\tdeterministic=None,\n",
    "\t\tmax_epochs=cfg.epochs[stage],\n",
    "\t\tlogger=logger,\n",
    "\t\tcallbacks=callbacks_to_use,\n",
    "\t\tprecision=cfg.PRECISION, \n",
    "\t\taccelerator=\"auto\",\n",
    "\t)"
   ]
  },
  {
   "cell_type": "code",
   "execution_count": 13,
   "metadata": {},
   "outputs": [
    {
     "name": "stderr",
     "output_type": "stream",
     "text": [
      "You are using a CUDA device ('NVIDIA A800 80GB PCIe') that has Tensor Cores. To properly utilize them, you should set `torch.set_float32_matmul_precision('medium' | 'high')` which will trade-off precision for performance. For more details, read https://pytorch.org/docs/stable/generated/torch.set_float32_matmul_precision.html#torch.set_float32_matmul_precision\n",
      "\u001b[34m\u001b[1mwandb\u001b[0m: Currently logged in as: \u001b[33mliguangpeng9495\u001b[0m to \u001b[32mhttps://api.wandb.ai\u001b[0m. Use \u001b[1m`wandb login --relogin`\u001b[0m to force relogin\n"
     ]
    },
    {
     "data": {
      "text/html": [],
      "text/plain": [
       "<IPython.core.display.HTML object>"
      ]
     },
     "metadata": {},
     "output_type": "display_data"
    },
    {
     "data": {
      "text/html": [
       "Tracking run with wandb version 0.19.10"
      ],
      "text/plain": [
       "<IPython.core.display.HTML object>"
      ]
     },
     "metadata": {},
     "output_type": "display_data"
    },
    {
     "data": {
      "text/html": [
       "Run data is saved locally in <code>./wandb/run-20250513_030232-ordfimsi</code>"
      ],
      "text/plain": [
       "<IPython.core.display.HTML object>"
      ]
     },
     "metadata": {},
     "output_type": "display_data"
    },
    {
     "data": {
      "text/html": [
       "Syncing run <strong><a href='https://wandb.ai/liguangpeng9495/BirdClef-2025/runs/ordfimsi' target=\"_blank\">cnn_v1_train_bce</a></strong> to <a href='https://wandb.ai/liguangpeng9495/BirdClef-2025' target=\"_blank\">Weights & Biases</a> (<a href='https://wandb.me/developer-guide' target=\"_blank\">docs</a>)<br>"
      ],
      "text/plain": [
       "<IPython.core.display.HTML object>"
      ]
     },
     "metadata": {},
     "output_type": "display_data"
    },
    {
     "data": {
      "text/html": [
       " View project at <a href='https://wandb.ai/liguangpeng9495/BirdClef-2025' target=\"_blank\">https://wandb.ai/liguangpeng9495/BirdClef-2025</a>"
      ],
      "text/plain": [
       "<IPython.core.display.HTML object>"
      ]
     },
     "metadata": {},
     "output_type": "display_data"
    },
    {
     "data": {
      "text/html": [
       " View run at <a href='https://wandb.ai/liguangpeng9495/BirdClef-2025/runs/ordfimsi' target=\"_blank\">https://wandb.ai/liguangpeng9495/BirdClef-2025/runs/ordfimsi</a>"
      ],
      "text/plain": [
       "<IPython.core.display.HTML object>"
      ]
     },
     "metadata": {},
     "output_type": "display_data"
    },
    {
     "name": "stderr",
     "output_type": "stream",
     "text": [
      "LOCAL_RANK: 0 - CUDA_VISIBLE_DEVICES: [1,3]\n",
      "\n",
      "   | Name                | Type              | Params | Mode \n",
      "-------------------------------------------------------------------\n",
      "0  | loss_function       | BCEWithLogitsLoss | 0      | train\n",
      "1  | mixup               | Mixup             | 0      | train\n",
      "2  | mixup2              | Mixup2            | 0      | train\n",
      "3  | audio_transforms    | Compose           | 0      | train\n",
      "4  | time_mask_transform | TimeMasking       | 0      | train\n",
      "5  | freq_mask_transform | FrequencyMasking  | 0      | train\n",
      "6  | melspec_transform   | MelSpectrogram    | 0      | train\n",
      "7  | db_transform        | AmplitudeToDB     | 0      | train\n",
      "8  | backbone            | RexNet            | 7.8 M  | train\n",
      "9  | global_pool         | GeM               | 1      | train\n",
      "10 | head                | Linear            | 395 K  | train\n",
      "11 | big_dropout         | Dropout           | 0      | train\n",
      "-------------------------------------------------------------------\n",
      "8.2 M     Trainable params\n",
      "0         Non-trainable params\n",
      "8.2 M     Total params\n",
      "32.810    Total estimated model params size (MB)\n",
      "395       Modules in train mode\n",
      "0         Modules in eval mode\n"
     ]
    },
    {
     "data": {
      "application/vnd.jupyter.widget-view+json": {
       "model_id": "6a8336108cab4f0f989370c49061c60a",
       "version_major": 2,
       "version_minor": 0
      },
      "text/plain": [
       "Sanity Checking: |          | 0/? [00:00<?, ?it/s]"
      ]
     },
     "metadata": {},
     "output_type": "display_data"
    },
    {
     "name": "stdout",
     "output_type": "stream",
     "text": [
      "epoch 0 validation loss 1087.9871631524966\n",
      "epoch 0 validation ROCAUC score 0.4497594292563805\n",
      "epoch 0 validation C-MAP score pad 3 0.9539528130949679\n",
      "epoch 0 validation AP score 0.015523832495229272\n"
     ]
    },
    {
     "data": {
      "application/vnd.jupyter.widget-view+json": {
       "model_id": "02059b3e01b646b4b052349bcc1f0e96",
       "version_major": 2,
       "version_minor": 0
      },
      "text/plain": [
       "Training: |          | 0/? [00:00<?, ?it/s]"
      ]
     },
     "metadata": {},
     "output_type": "display_data"
    },
    {
     "data": {
      "application/vnd.jupyter.widget-view+json": {
       "model_id": "4253537dd3034483a724e028985be4b5",
       "version_major": 2,
       "version_minor": 0
      },
      "text/plain": [
       "Validation: |          | 0/? [00:00<?, ?it/s]"
      ]
     },
     "metadata": {},
     "output_type": "display_data"
    },
    {
     "name": "stderr",
     "output_type": "stream",
     "text": [
      "Epoch 0, global step 358: 'val_loss' reached 57.26939 (best 57.26939), saving model to '/data2/Mamba/Project/Kaggle/BirdCLEF-2025/cnn_v3/pytorch/train_bce/epoch=0_step=358_val_roc_auc=0.843_val_cmap_pad=0.433_val_ap=0.407.ckpt' as top 5\n"
     ]
    },
    {
     "name": "stdout",
     "output_type": "stream",
     "text": [
      "epoch 0 validation loss 57.269387732585635\n",
      "epoch 0 validation ROCAUC score 0.8429960002197054\n",
      "epoch 0 validation C-MAP score pad 3 0.4328887558848245\n",
      "epoch 0 validation AP score 0.4069313905004519\n"
     ]
    },
    {
     "data": {
      "application/vnd.jupyter.widget-view+json": {
       "model_id": "af25a937cf524bf1a80d0ad5889b6888",
       "version_major": 2,
       "version_minor": 0
      },
      "text/plain": [
       "Validation: |          | 0/? [00:00<?, ?it/s]"
      ]
     },
     "metadata": {},
     "output_type": "display_data"
    },
    {
     "name": "stderr",
     "output_type": "stream",
     "text": [
      "Epoch 1, global step 716: 'val_loss' reached 46.77514 (best 46.77514), saving model to '/data2/Mamba/Project/Kaggle/BirdCLEF-2025/cnn_v3/pytorch/train_bce/epoch=1_step=716_val_roc_auc=0.909_val_cmap_pad=0.563_val_ap=0.542.ckpt' as top 5\n"
     ]
    },
    {
     "name": "stdout",
     "output_type": "stream",
     "text": [
      "epoch 1 validation loss 46.775142793723695\n",
      "epoch 1 validation ROCAUC score 0.9092872907969\n",
      "epoch 1 validation C-MAP score pad 3 0.5634091883452127\n",
      "epoch 1 validation AP score 0.5424360390410726\n"
     ]
    },
    {
     "data": {
      "application/vnd.jupyter.widget-view+json": {
       "model_id": "30ee3837b7c044ea9eb29faa5e375323",
       "version_major": 2,
       "version_minor": 0
      },
      "text/plain": [
       "Validation: |          | 0/? [00:00<?, ?it/s]"
      ]
     },
     "metadata": {},
     "output_type": "display_data"
    },
    {
     "name": "stderr",
     "output_type": "stream",
     "text": [
      "Epoch 2, global step 1074: 'val_loss' reached 41.26708 (best 41.26708), saving model to '/data2/Mamba/Project/Kaggle/BirdCLEF-2025/cnn_v3/pytorch/train_bce/epoch=2_step=1074_val_roc_auc=0.931_val_cmap_pad=0.626_val_ap=0.625.ckpt' as top 5\n"
     ]
    },
    {
     "name": "stdout",
     "output_type": "stream",
     "text": [
      "epoch 2 validation loss 41.26708103065801\n",
      "epoch 2 validation ROCAUC score 0.9312136337226635\n",
      "epoch 2 validation C-MAP score pad 3 0.6256570181798901\n",
      "epoch 2 validation AP score 0.6249641310265684\n"
     ]
    },
    {
     "data": {
      "application/vnd.jupyter.widget-view+json": {
       "model_id": "e7067bf28f8a4900913aa15ed27df031",
       "version_major": 2,
       "version_minor": 0
      },
      "text/plain": [
       "Validation: |          | 0/? [00:00<?, ?it/s]"
      ]
     },
     "metadata": {},
     "output_type": "display_data"
    },
    {
     "name": "stderr",
     "output_type": "stream",
     "text": [
      "Epoch 3, global step 1432: 'val_loss' reached 34.58317 (best 34.58317), saving model to '/data2/Mamba/Project/Kaggle/BirdCLEF-2025/cnn_v3/pytorch/train_bce/epoch=3_step=1432_val_roc_auc=0.946_val_cmap_pad=0.683_val_ap=0.687.ckpt' as top 5\n"
     ]
    },
    {
     "name": "stdout",
     "output_type": "stream",
     "text": [
      "epoch 3 validation loss 34.583173580676636\n",
      "epoch 3 validation ROCAUC score 0.9456017733804907\n",
      "epoch 3 validation C-MAP score pad 3 0.6830754143912746\n",
      "epoch 3 validation AP score 0.686816864201585\n"
     ]
    },
    {
     "data": {
      "application/vnd.jupyter.widget-view+json": {
       "model_id": "675000c1ad334ba7929a3eeb1162d39a",
       "version_major": 2,
       "version_minor": 0
      },
      "text/plain": [
       "Validation: |          | 0/? [00:00<?, ?it/s]"
      ]
     },
     "metadata": {},
     "output_type": "display_data"
    },
    {
     "name": "stderr",
     "output_type": "stream",
     "text": [
      "Epoch 4, global step 1790: 'val_loss' reached 33.76410 (best 33.76410), saving model to '/data2/Mamba/Project/Kaggle/BirdCLEF-2025/cnn_v3/pytorch/train_bce/epoch=4_step=1790_val_roc_auc=0.941_val_cmap_pad=0.696_val_ap=0.687.ckpt' as top 5\n"
     ]
    },
    {
     "name": "stdout",
     "output_type": "stream",
     "text": [
      "epoch 4 validation loss 33.76409663023195\n",
      "epoch 4 validation ROCAUC score 0.9406700470800179\n",
      "epoch 4 validation C-MAP score pad 3 0.6957800701155568\n",
      "epoch 4 validation AP score 0.6870362366506576\n"
     ]
    },
    {
     "data": {
      "application/vnd.jupyter.widget-view+json": {
       "model_id": "f36c9a1c60744de9b9bea96233e54d6c",
       "version_major": 2,
       "version_minor": 0
      },
      "text/plain": [
       "Validation: |          | 0/? [00:00<?, ?it/s]"
      ]
     },
     "metadata": {},
     "output_type": "display_data"
    },
    {
     "name": "stderr",
     "output_type": "stream",
     "text": [
      "Epoch 5, global step 2148: 'val_loss' reached 29.81463 (best 29.81463), saving model to '/data2/Mamba/Project/Kaggle/BirdCLEF-2025/cnn_v3/pytorch/train_bce/epoch=5_step=2148_val_roc_auc=0.951_val_cmap_pad=0.723_val_ap=0.726.ckpt' as top 5\n"
     ]
    },
    {
     "name": "stdout",
     "output_type": "stream",
     "text": [
      "epoch 5 validation loss 29.81463063075565\n",
      "epoch 5 validation ROCAUC score 0.9505097575601772\n",
      "epoch 5 validation C-MAP score pad 3 0.7234053056236809\n",
      "epoch 5 validation AP score 0.7255093771946746\n"
     ]
    },
    {
     "data": {
      "application/vnd.jupyter.widget-view+json": {
       "model_id": "a62cbbe94b4946d284a07ac0e43972da",
       "version_major": 2,
       "version_minor": 0
      },
      "text/plain": [
       "Validation: |          | 0/? [00:00<?, ?it/s]"
      ]
     },
     "metadata": {},
     "output_type": "display_data"
    },
    {
     "name": "stderr",
     "output_type": "stream",
     "text": [
      "Epoch 6, global step 2506: 'val_loss' reached 30.65453 (best 29.81463), saving model to '/data2/Mamba/Project/Kaggle/BirdCLEF-2025/cnn_v3/pytorch/train_bce/epoch=6_step=2506_val_roc_auc=0.944_val_cmap_pad=0.721_val_ap=0.712.ckpt' as top 5\n"
     ]
    },
    {
     "name": "stdout",
     "output_type": "stream",
     "text": [
      "epoch 6 validation loss 30.65453256239822\n",
      "epoch 6 validation ROCAUC score 0.9442926949840461\n",
      "epoch 6 validation C-MAP score pad 3 0.7212552686786632\n",
      "epoch 6 validation AP score 0.7117250667293984\n"
     ]
    },
    {
     "data": {
      "application/vnd.jupyter.widget-view+json": {
       "model_id": "b2637124bd954f86b2e12980f960e9d0",
       "version_major": 2,
       "version_minor": 0
      },
      "text/plain": [
       "Validation: |          | 0/? [00:00<?, ?it/s]"
      ]
     },
     "metadata": {},
     "output_type": "display_data"
    },
    {
     "name": "stderr",
     "output_type": "stream",
     "text": [
      "Epoch 7, global step 2864: 'val_loss' reached 27.67426 (best 27.67426), saving model to '/data2/Mamba/Project/Kaggle/BirdCLEF-2025/cnn_v3/pytorch/train_bce/epoch=7_step=2864_val_roc_auc=0.950_val_cmap_pad=0.742_val_ap=0.733.ckpt' as top 5\n"
     ]
    },
    {
     "name": "stdout",
     "output_type": "stream",
     "text": [
      "epoch 7 validation loss 27.674263842415634\n",
      "epoch 7 validation ROCAUC score 0.9499087581253363\n",
      "epoch 7 validation C-MAP score pad 3 0.7415492967533025\n",
      "epoch 7 validation AP score 0.7334001916290875\n"
     ]
    },
    {
     "data": {
      "application/vnd.jupyter.widget-view+json": {
       "model_id": "8d096f4b580344a98bfc42e4276eb857",
       "version_major": 2,
       "version_minor": 0
      },
      "text/plain": [
       "Validation: |          | 0/? [00:00<?, ?it/s]"
      ]
     },
     "metadata": {},
     "output_type": "display_data"
    },
    {
     "name": "stderr",
     "output_type": "stream",
     "text": [
      "Epoch 8, global step 3222: 'val_loss' reached 27.89434 (best 27.67426), saving model to '/data2/Mamba/Project/Kaggle/BirdCLEF-2025/cnn_v3/pytorch/train_bce/epoch=8_step=3222_val_roc_auc=0.955_val_cmap_pad=0.755_val_ap=0.752.ckpt' as top 5\n"
     ]
    },
    {
     "name": "stdout",
     "output_type": "stream",
     "text": [
      "epoch 8 validation loss 27.894337467999296\n",
      "epoch 8 validation ROCAUC score 0.9553294438800197\n",
      "epoch 8 validation C-MAP score pad 3 0.7548885852495806\n",
      "epoch 8 validation AP score 0.7518083413917394\n"
     ]
    },
    {
     "data": {
      "application/vnd.jupyter.widget-view+json": {
       "model_id": "75a12ca2e1604b9fb8a76a00eeb40c04",
       "version_major": 2,
       "version_minor": 0
      },
      "text/plain": [
       "Validation: |          | 0/? [00:00<?, ?it/s]"
      ]
     },
     "metadata": {},
     "output_type": "display_data"
    },
    {
     "name": "stderr",
     "output_type": "stream",
     "text": [
      "Epoch 9, global step 3580: 'val_loss' reached 27.69816 (best 27.67426), saving model to '/data2/Mamba/Project/Kaggle/BirdCLEF-2025/cnn_v3/pytorch/train_bce/epoch=9_step=3580_val_roc_auc=0.952_val_cmap_pad=0.749_val_ap=0.748.ckpt' as top 5\n"
     ]
    },
    {
     "name": "stdout",
     "output_type": "stream",
     "text": [
      "epoch 9 validation loss 27.69816096413352\n",
      "epoch 9 validation ROCAUC score 0.9524982000935005\n",
      "epoch 9 validation C-MAP score pad 3 0.7492687929098307\n",
      "epoch 9 validation AP score 0.7484553727437001\n"
     ]
    },
    {
     "data": {
      "application/vnd.jupyter.widget-view+json": {
       "model_id": "27769d4c38374fadb9ac43c274e1a9da",
       "version_major": 2,
       "version_minor": 0
      },
      "text/plain": [
       "Validation: |          | 0/? [00:00<?, ?it/s]"
      ]
     },
     "metadata": {},
     "output_type": "display_data"
    },
    {
     "name": "stderr",
     "output_type": "stream",
     "text": [
      "Epoch 10, global step 3938: 'val_loss' reached 26.72219 (best 26.72219), saving model to '/data2/Mamba/Project/Kaggle/BirdCLEF-2025/cnn_v3/pytorch/train_bce/epoch=10_step=3938_val_roc_auc=0.946_val_cmap_pad=0.749_val_ap=0.751.ckpt' as top 5\n"
     ]
    },
    {
     "name": "stdout",
     "output_type": "stream",
     "text": [
      "epoch 10 validation loss 26.722190024833733\n",
      "epoch 10 validation ROCAUC score 0.9462618701639082\n",
      "epoch 10 validation C-MAP score pad 3 0.7493236212308051\n",
      "epoch 10 validation AP score 0.7509743021745179\n"
     ]
    },
    {
     "data": {
      "application/vnd.jupyter.widget-view+json": {
       "model_id": "067eb1cd833a4f7ba6246db68c90d7a2",
       "version_major": 2,
       "version_minor": 0
      },
      "text/plain": [
       "Validation: |          | 0/? [00:00<?, ?it/s]"
      ]
     },
     "metadata": {},
     "output_type": "display_data"
    },
    {
     "name": "stderr",
     "output_type": "stream",
     "text": [
      "Epoch 11, global step 4296: 'val_loss' reached 25.79060 (best 25.79060), saving model to '/data2/Mamba/Project/Kaggle/BirdCLEF-2025/cnn_v3/pytorch/train_bce/epoch=11_step=4296_val_roc_auc=0.950_val_cmap_pad=0.758_val_ap=0.747.ckpt' as top 5\n"
     ]
    },
    {
     "name": "stdout",
     "output_type": "stream",
     "text": [
      "epoch 11 validation loss 25.790603700184896\n",
      "epoch 11 validation ROCAUC score 0.9497026512789742\n",
      "epoch 11 validation C-MAP score pad 3 0.7579843495311114\n",
      "epoch 11 validation AP score 0.746987117848839\n"
     ]
    },
    {
     "data": {
      "application/vnd.jupyter.widget-view+json": {
       "model_id": "2abbcf0588124afca43ffc9ceeb19632",
       "version_major": 2,
       "version_minor": 0
      },
      "text/plain": [
       "Validation: |          | 0/? [00:00<?, ?it/s]"
      ]
     },
     "metadata": {},
     "output_type": "display_data"
    },
    {
     "name": "stderr",
     "output_type": "stream",
     "text": [
      "Epoch 12, global step 4654: 'val_loss' reached 25.87516 (best 25.79060), saving model to '/data2/Mamba/Project/Kaggle/BirdCLEF-2025/cnn_v3/pytorch/train_bce/epoch=12_step=4654_val_roc_auc=0.955_val_cmap_pad=0.774_val_ap=0.769.ckpt' as top 5\n"
     ]
    },
    {
     "name": "stdout",
     "output_type": "stream",
     "text": [
      "epoch 12 validation loss 25.87515691925887\n",
      "epoch 12 validation ROCAUC score 0.9551518116147912\n",
      "epoch 12 validation C-MAP score pad 3 0.7736597471818056\n",
      "epoch 12 validation AP score 0.7685722872828618\n"
     ]
    },
    {
     "data": {
      "application/vnd.jupyter.widget-view+json": {
       "model_id": "91f7101b20a94e549b196924d0e2aba7",
       "version_major": 2,
       "version_minor": 0
      },
      "text/plain": [
       "Validation: |          | 0/? [00:00<?, ?it/s]"
      ]
     },
     "metadata": {},
     "output_type": "display_data"
    },
    {
     "name": "stderr",
     "output_type": "stream",
     "text": [
      "Epoch 13, global step 5012: 'val_loss' reached 25.45675 (best 25.45675), saving model to '/data2/Mamba/Project/Kaggle/BirdCLEF-2025/cnn_v3/pytorch/train_bce/epoch=13_step=5012_val_roc_auc=0.953_val_cmap_pad=0.761_val_ap=0.759.ckpt' as top 5\n"
     ]
    },
    {
     "name": "stdout",
     "output_type": "stream",
     "text": [
      "epoch 13 validation loss 25.456754343108024\n",
      "epoch 13 validation ROCAUC score 0.9532474218652897\n",
      "epoch 13 validation C-MAP score pad 3 0.7609769610174062\n",
      "epoch 13 validation AP score 0.7589566084311429\n"
     ]
    },
    {
     "data": {
      "application/vnd.jupyter.widget-view+json": {
       "model_id": "541aff09523d4d278748ca80e3f39934",
       "version_major": 2,
       "version_minor": 0
      },
      "text/plain": [
       "Validation: |          | 0/? [00:00<?, ?it/s]"
      ]
     },
     "metadata": {},
     "output_type": "display_data"
    },
    {
     "name": "stderr",
     "output_type": "stream",
     "text": [
      "Epoch 14, global step 5370: 'val_loss' reached 24.72562 (best 24.72562), saving model to '/data2/Mamba/Project/Kaggle/BirdCLEF-2025/cnn_v3/pytorch/train_bce/epoch=14_step=5370_val_roc_auc=0.954_val_cmap_pad=0.770_val_ap=0.771.ckpt' as top 5\n"
     ]
    },
    {
     "name": "stdout",
     "output_type": "stream",
     "text": [
      "epoch 14 validation loss 24.7256171847874\n",
      "epoch 14 validation ROCAUC score 0.9542524580936872\n",
      "epoch 14 validation C-MAP score pad 3 0.7699749183279122\n",
      "epoch 14 validation AP score 0.7712569498602028\n"
     ]
    },
    {
     "data": {
      "application/vnd.jupyter.widget-view+json": {
       "model_id": "ad85666961334217a3d36d4ece7f556d",
       "version_major": 2,
       "version_minor": 0
      },
      "text/plain": [
       "Validation: |          | 0/? [00:00<?, ?it/s]"
      ]
     },
     "metadata": {},
     "output_type": "display_data"
    },
    {
     "name": "stderr",
     "output_type": "stream",
     "text": [
      "Epoch 15, global step 5728: 'val_loss' reached 24.79550 (best 24.72562), saving model to '/data2/Mamba/Project/Kaggle/BirdCLEF-2025/cnn_v3/pytorch/train_bce/epoch=15_step=5728_val_roc_auc=0.956_val_cmap_pad=0.777_val_ap=0.774.ckpt' as top 5\n"
     ]
    },
    {
     "name": "stdout",
     "output_type": "stream",
     "text": [
      "epoch 15 validation loss 24.79550222121708\n",
      "epoch 15 validation ROCAUC score 0.955878927472732\n",
      "epoch 15 validation C-MAP score pad 3 0.7772352880317778\n",
      "epoch 15 validation AP score 0.7736866194414089\n"
     ]
    },
    {
     "data": {
      "application/vnd.jupyter.widget-view+json": {
       "model_id": "421ec12110e2430eb0d4686cbb69d49b",
       "version_major": 2,
       "version_minor": 0
      },
      "text/plain": [
       "Validation: |          | 0/? [00:00<?, ?it/s]"
      ]
     },
     "metadata": {},
     "output_type": "display_data"
    },
    {
     "name": "stderr",
     "output_type": "stream",
     "text": [
      "Epoch 16, global step 6086: 'val_loss' reached 23.60189 (best 23.60189), saving model to '/data2/Mamba/Project/Kaggle/BirdCLEF-2025/cnn_v3/pytorch/train_bce/epoch=16_step=6086_val_roc_auc=0.955_val_cmap_pad=0.780_val_ap=0.779.ckpt' as top 5\n"
     ]
    },
    {
     "name": "stdout",
     "output_type": "stream",
     "text": [
      "epoch 16 validation loss 23.601885775061064\n",
      "epoch 16 validation ROCAUC score 0.9551890353896326\n",
      "epoch 16 validation C-MAP score pad 3 0.7799093882129775\n",
      "epoch 16 validation AP score 0.7790669835549059\n"
     ]
    },
    {
     "data": {
      "application/vnd.jupyter.widget-view+json": {
       "model_id": "6b5d699cb30b47b487cd9aa5a8442939",
       "version_major": 2,
       "version_minor": 0
      },
      "text/plain": [
       "Validation: |          | 0/? [00:00<?, ?it/s]"
      ]
     },
     "metadata": {},
     "output_type": "display_data"
    },
    {
     "name": "stderr",
     "output_type": "stream",
     "text": [
      "Epoch 17, global step 6444: 'val_loss' reached 25.29094 (best 23.60189), saving model to '/data2/Mamba/Project/Kaggle/BirdCLEF-2025/cnn_v3/pytorch/train_bce/epoch=17_step=6444_val_roc_auc=0.960_val_cmap_pad=0.783_val_ap=0.782.ckpt' as top 5\n"
     ]
    },
    {
     "name": "stdout",
     "output_type": "stream",
     "text": [
      "epoch 17 validation loss 25.29093569624105\n",
      "epoch 17 validation ROCAUC score 0.9604521199150541\n",
      "epoch 17 validation C-MAP score pad 3 0.7826147047380222\n",
      "epoch 17 validation AP score 0.781566399781562\n"
     ]
    },
    {
     "data": {
      "application/vnd.jupyter.widget-view+json": {
       "model_id": "a76b761c3a6049e4a4b46153dfa02eaf",
       "version_major": 2,
       "version_minor": 0
      },
      "text/plain": [
       "Validation: |          | 0/? [00:00<?, ?it/s]"
      ]
     },
     "metadata": {},
     "output_type": "display_data"
    },
    {
     "name": "stderr",
     "output_type": "stream",
     "text": [
      "Epoch 18, global step 6802: 'val_loss' reached 22.91042 (best 22.91042), saving model to '/data2/Mamba/Project/Kaggle/BirdCLEF-2025/cnn_v3/pytorch/train_bce/epoch=18_step=6802_val_roc_auc=0.951_val_cmap_pad=0.787_val_ap=0.791.ckpt' as top 5\n"
     ]
    },
    {
     "name": "stdout",
     "output_type": "stream",
     "text": [
      "epoch 18 validation loss 22.910419835740377\n",
      "epoch 18 validation ROCAUC score 0.9513192509071802\n",
      "epoch 18 validation C-MAP score pad 3 0.7867555455506737\n",
      "epoch 18 validation AP score 0.7913330242454548\n"
     ]
    },
    {
     "data": {
      "application/vnd.jupyter.widget-view+json": {
       "model_id": "97551dccddbf430e9fc681c1500d8288",
       "version_major": 2,
       "version_minor": 0
      },
      "text/plain": [
       "Validation: |          | 0/? [00:00<?, ?it/s]"
      ]
     },
     "metadata": {},
     "output_type": "display_data"
    },
    {
     "name": "stderr",
     "output_type": "stream",
     "text": [
      "Epoch 19, global step 7160: 'val_loss' reached 22.70174 (best 22.70174), saving model to '/data2/Mamba/Project/Kaggle/BirdCLEF-2025/cnn_v3/pytorch/train_bce/epoch=19_step=7160_val_roc_auc=0.949_val_cmap_pad=0.782_val_ap=0.789.ckpt' as top 5\n"
     ]
    },
    {
     "name": "stdout",
     "output_type": "stream",
     "text": [
      "epoch 19 validation loss 22.701737997809765\n",
      "epoch 19 validation ROCAUC score 0.9492456188307203\n",
      "epoch 19 validation C-MAP score pad 3 0.7821099969344569\n",
      "epoch 19 validation AP score 0.7892408130436163\n"
     ]
    },
    {
     "data": {
      "application/vnd.jupyter.widget-view+json": {
       "model_id": "675f3b7ca9fb44d49e7f657821ab951c",
       "version_major": 2,
       "version_minor": 0
      },
      "text/plain": [
       "Validation: |          | 0/? [00:00<?, ?it/s]"
      ]
     },
     "metadata": {},
     "output_type": "display_data"
    },
    {
     "name": "stderr",
     "output_type": "stream",
     "text": [
      "Epoch 20, global step 7518: 'val_loss' reached 24.56297 (best 22.70174), saving model to '/data2/Mamba/Project/Kaggle/BirdCLEF-2025/cnn_v3/pytorch/train_bce/epoch=20_step=7518_val_roc_auc=0.952_val_cmap_pad=0.790_val_ap=0.795.ckpt' as top 5\n"
     ]
    },
    {
     "name": "stdout",
     "output_type": "stream",
     "text": [
      "epoch 20 validation loss 24.56296729936305\n",
      "epoch 20 validation ROCAUC score 0.9519652025917684\n",
      "epoch 20 validation C-MAP score pad 3 0.7895102939768727\n",
      "epoch 20 validation AP score 0.7948496020836975\n"
     ]
    },
    {
     "data": {
      "application/vnd.jupyter.widget-view+json": {
       "model_id": "ed8dc1d30b2643ce8d1c803e0d10e851",
       "version_major": 2,
       "version_minor": 0
      },
      "text/plain": [
       "Validation: |          | 0/? [00:00<?, ?it/s]"
      ]
     },
     "metadata": {},
     "output_type": "display_data"
    },
    {
     "name": "stderr",
     "output_type": "stream",
     "text": [
      "Epoch 21, global step 7876: 'val_loss' reached 23.19856 (best 22.70174), saving model to '/data2/Mamba/Project/Kaggle/BirdCLEF-2025/cnn_v3/pytorch/train_bce/epoch=21_step=7876_val_roc_auc=0.952_val_cmap_pad=0.790_val_ap=0.793.ckpt' as top 5\n"
     ]
    },
    {
     "name": "stdout",
     "output_type": "stream",
     "text": [
      "epoch 21 validation loss 23.198560354168144\n",
      "epoch 21 validation ROCAUC score 0.9516432559122454\n",
      "epoch 21 validation C-MAP score pad 3 0.7900273632411903\n",
      "epoch 21 validation AP score 0.7926300790246822\n"
     ]
    },
    {
     "data": {
      "application/vnd.jupyter.widget-view+json": {
       "model_id": "ed72f114b5d64d82adeae4f9dc58a3d2",
       "version_major": 2,
       "version_minor": 0
      },
      "text/plain": [
       "Validation: |          | 0/? [00:00<?, ?it/s]"
      ]
     },
     "metadata": {},
     "output_type": "display_data"
    },
    {
     "name": "stderr",
     "output_type": "stream",
     "text": [
      "Epoch 22, global step 8234: 'val_loss' reached 23.03251 (best 22.70174), saving model to '/data2/Mamba/Project/Kaggle/BirdCLEF-2025/cnn_v3/pytorch/train_bce/epoch=22_step=8234_val_roc_auc=0.953_val_cmap_pad=0.785_val_ap=0.783.ckpt' as top 5\n"
     ]
    },
    {
     "name": "stdout",
     "output_type": "stream",
     "text": [
      "epoch 22 validation loss 23.032513210382596\n",
      "epoch 22 validation ROCAUC score 0.9528912082328928\n",
      "epoch 22 validation C-MAP score pad 3 0.7846467624678707\n",
      "epoch 22 validation AP score 0.7826084222551916\n"
     ]
    },
    {
     "data": {
      "application/vnd.jupyter.widget-view+json": {
       "model_id": "408ccd566c574c24a34e532afc2b9511",
       "version_major": 2,
       "version_minor": 0
      },
      "text/plain": [
       "Validation: |          | 0/? [00:00<?, ?it/s]"
      ]
     },
     "metadata": {},
     "output_type": "display_data"
    },
    {
     "name": "stderr",
     "output_type": "stream",
     "text": [
      "Epoch 23, global step 8592: 'val_loss' reached 21.89837 (best 21.89837), saving model to '/data2/Mamba/Project/Kaggle/BirdCLEF-2025/cnn_v3/pytorch/train_bce/epoch=23_step=8592_val_roc_auc=0.958_val_cmap_pad=0.790_val_ap=0.791.ckpt' as top 5\n"
     ]
    },
    {
     "name": "stdout",
     "output_type": "stream",
     "text": [
      "epoch 23 validation loss 21.898374075905107\n",
      "epoch 23 validation ROCAUC score 0.958192754740031\n",
      "epoch 23 validation C-MAP score pad 3 0.790149250856998\n",
      "epoch 23 validation AP score 0.7913665190180961\n"
     ]
    },
    {
     "data": {
      "application/vnd.jupyter.widget-view+json": {
       "model_id": "7fff893a9b2a463380240a862e47f2eb",
       "version_major": 2,
       "version_minor": 0
      },
      "text/plain": [
       "Validation: |          | 0/? [00:00<?, ?it/s]"
      ]
     },
     "metadata": {},
     "output_type": "display_data"
    },
    {
     "name": "stderr",
     "output_type": "stream",
     "text": [
      "Epoch 24, global step 8950: 'val_loss' reached 21.57695 (best 21.57695), saving model to '/data2/Mamba/Project/Kaggle/BirdCLEF-2025/cnn_v3/pytorch/train_bce/epoch=24_step=8950_val_roc_auc=0.953_val_cmap_pad=0.793_val_ap=0.790.ckpt' as top 5\n"
     ]
    },
    {
     "name": "stdout",
     "output_type": "stream",
     "text": [
      "epoch 24 validation loss 21.576953027434197\n",
      "epoch 24 validation ROCAUC score 0.9525044691387914\n",
      "epoch 24 validation C-MAP score pad 3 0.7927866835919201\n",
      "epoch 24 validation AP score 0.7901245411948068\n"
     ]
    },
    {
     "data": {
      "application/vnd.jupyter.widget-view+json": {
       "model_id": "3ca52f49c8434c4386cdd5761a84bba1",
       "version_major": 2,
       "version_minor": 0
      },
      "text/plain": [
       "Validation: |          | 0/? [00:00<?, ?it/s]"
      ]
     },
     "metadata": {},
     "output_type": "display_data"
    },
    {
     "name": "stderr",
     "output_type": "stream",
     "text": [
      "Epoch 25, global step 9308: 'val_loss' reached 21.47258 (best 21.47258), saving model to '/data2/Mamba/Project/Kaggle/BirdCLEF-2025/cnn_v3/pytorch/train_bce/epoch=25_step=9308_val_roc_auc=0.958_val_cmap_pad=0.803_val_ap=0.805.ckpt' as top 5\n"
     ]
    },
    {
     "name": "stdout",
     "output_type": "stream",
     "text": [
      "epoch 25 validation loss 21.472584606303798\n",
      "epoch 25 validation ROCAUC score 0.9582268861326368\n",
      "epoch 25 validation C-MAP score pad 3 0.8031759108378053\n",
      "epoch 25 validation AP score 0.8047673975832887\n"
     ]
    },
    {
     "data": {
      "application/vnd.jupyter.widget-view+json": {
       "model_id": "ace327d3bb3b4c399c8fd0ceba32a7c8",
       "version_major": 2,
       "version_minor": 0
      },
      "text/plain": [
       "Validation: |          | 0/? [00:00<?, ?it/s]"
      ]
     },
     "metadata": {},
     "output_type": "display_data"
    },
    {
     "name": "stderr",
     "output_type": "stream",
     "text": [
      "Epoch 26, global step 9666: 'val_loss' reached 21.26045 (best 21.26045), saving model to '/data2/Mamba/Project/Kaggle/BirdCLEF-2025/cnn_v3/pytorch/train_bce/epoch=26_step=9666_val_roc_auc=0.955_val_cmap_pad=0.800_val_ap=0.800.ckpt' as top 5\n"
     ]
    },
    {
     "name": "stdout",
     "output_type": "stream",
     "text": [
      "epoch 26 validation loss 21.260448210293657\n",
      "epoch 26 validation ROCAUC score 0.9549448111289266\n",
      "epoch 26 validation C-MAP score pad 3 0.7995305735835836\n",
      "epoch 26 validation AP score 0.7997015912529387\n"
     ]
    },
    {
     "data": {
      "application/vnd.jupyter.widget-view+json": {
       "model_id": "21eb1ebf68a24ef0a8293959de087e32",
       "version_major": 2,
       "version_minor": 0
      },
      "text/plain": [
       "Validation: |          | 0/? [00:00<?, ?it/s]"
      ]
     },
     "metadata": {},
     "output_type": "display_data"
    },
    {
     "name": "stderr",
     "output_type": "stream",
     "text": [
      "Epoch 27, global step 10024: 'val_loss' reached 21.41822 (best 21.26045), saving model to '/data2/Mamba/Project/Kaggle/BirdCLEF-2025/cnn_v3/pytorch/train_bce/epoch=27_step=10024_val_roc_auc=0.955_val_cmap_pad=0.799_val_ap=0.801.ckpt' as top 5\n"
     ]
    },
    {
     "name": "stdout",
     "output_type": "stream",
     "text": [
      "epoch 27 validation loss 21.418219092266085\n",
      "epoch 27 validation ROCAUC score 0.954658672660527\n",
      "epoch 27 validation C-MAP score pad 3 0.7986725328348433\n",
      "epoch 27 validation AP score 0.8008326498344415\n"
     ]
    },
    {
     "data": {
      "application/vnd.jupyter.widget-view+json": {
       "model_id": "85fd34bca06d4875ab239a6a15d7ac38",
       "version_major": 2,
       "version_minor": 0
      },
      "text/plain": [
       "Validation: |          | 0/? [00:00<?, ?it/s]"
      ]
     },
     "metadata": {},
     "output_type": "display_data"
    },
    {
     "name": "stderr",
     "output_type": "stream",
     "text": [
      "Epoch 28, global step 10382: 'val_loss' reached 20.54090 (best 20.54090), saving model to '/data2/Mamba/Project/Kaggle/BirdCLEF-2025/cnn_v3/pytorch/train_bce/epoch=28_step=10382_val_roc_auc=0.959_val_cmap_pad=0.805_val_ap=0.808.ckpt' as top 5\n"
     ]
    },
    {
     "name": "stdout",
     "output_type": "stream",
     "text": [
      "epoch 28 validation loss 20.54089790050903\n",
      "epoch 28 validation ROCAUC score 0.9587969992657563\n",
      "epoch 28 validation C-MAP score pad 3 0.8050925840417926\n",
      "epoch 28 validation AP score 0.8075171884767887\n"
     ]
    },
    {
     "data": {
      "application/vnd.jupyter.widget-view+json": {
       "model_id": "5ea9c7a756d4432ea1fd3e070fea6d8e",
       "version_major": 2,
       "version_minor": 0
      },
      "text/plain": [
       "Validation: |          | 0/? [00:00<?, ?it/s]"
      ]
     },
     "metadata": {},
     "output_type": "display_data"
    },
    {
     "name": "stderr",
     "output_type": "stream",
     "text": [
      "Epoch 29, global step 10740: 'val_loss' reached 20.76056 (best 20.54090), saving model to '/data2/Mamba/Project/Kaggle/BirdCLEF-2025/cnn_v3/pytorch/train_bce/epoch=29_step=10740_val_roc_auc=0.957_val_cmap_pad=0.804_val_ap=0.805.ckpt' as top 5\n"
     ]
    },
    {
     "name": "stdout",
     "output_type": "stream",
     "text": [
      "epoch 29 validation loss 20.760561434274223\n",
      "epoch 29 validation ROCAUC score 0.9571707396933153\n",
      "epoch 29 validation C-MAP score pad 3 0.8036501803314541\n",
      "epoch 29 validation AP score 0.8047374846758782\n"
     ]
    },
    {
     "data": {
      "application/vnd.jupyter.widget-view+json": {
       "model_id": "41fcc3c0546842efacd23cb78ccc08d5",
       "version_major": 2,
       "version_minor": 0
      },
      "text/plain": [
       "Validation: |          | 0/? [00:00<?, ?it/s]"
      ]
     },
     "metadata": {},
     "output_type": "display_data"
    },
    {
     "name": "stderr",
     "output_type": "stream",
     "text": [
      "Epoch 30, global step 11098: 'val_loss' reached 19.64156 (best 19.64156), saving model to '/data2/Mamba/Project/Kaggle/BirdCLEF-2025/cnn_v3/pytorch/train_bce/epoch=30_step=11098_val_roc_auc=0.963_val_cmap_pad=0.808_val_ap=0.814.ckpt' as top 5\n"
     ]
    },
    {
     "name": "stdout",
     "output_type": "stream",
     "text": [
      "epoch 30 validation loss 19.64155875242692\n",
      "epoch 30 validation ROCAUC score 0.9627890692653829\n",
      "epoch 30 validation C-MAP score pad 3 0.807808234479536\n",
      "epoch 30 validation AP score 0.8142057827750715\n"
     ]
    },
    {
     "data": {
      "application/vnd.jupyter.widget-view+json": {
       "model_id": "bd44ed9196234d46bc66ce04be0ffc48",
       "version_major": 2,
       "version_minor": 0
      },
      "text/plain": [
       "Validation: |          | 0/? [00:00<?, ?it/s]"
      ]
     },
     "metadata": {},
     "output_type": "display_data"
    },
    {
     "name": "stderr",
     "output_type": "stream",
     "text": [
      "Epoch 31, global step 11456: 'val_loss' reached 20.02967 (best 19.64156), saving model to '/data2/Mamba/Project/Kaggle/BirdCLEF-2025/cnn_v3/pytorch/train_bce/epoch=31_step=11456_val_roc_auc=0.957_val_cmap_pad=0.806_val_ap=0.808.ckpt' as top 5\n"
     ]
    },
    {
     "name": "stdout",
     "output_type": "stream",
     "text": [
      "epoch 31 validation loss 20.029672200250488\n",
      "epoch 31 validation ROCAUC score 0.9566649264581158\n",
      "epoch 31 validation C-MAP score pad 3 0.8063756181556727\n",
      "epoch 31 validation AP score 0.8082352828948595\n"
     ]
    },
    {
     "data": {
      "application/vnd.jupyter.widget-view+json": {
       "model_id": "714e9917ba0040a88a033d8df01e6cde",
       "version_major": 2,
       "version_minor": 0
      },
      "text/plain": [
       "Validation: |          | 0/? [00:00<?, ?it/s]"
      ]
     },
     "metadata": {},
     "output_type": "display_data"
    },
    {
     "name": "stderr",
     "output_type": "stream",
     "text": [
      "Epoch 32, global step 11814: 'val_loss' reached 20.28120 (best 19.64156), saving model to '/data2/Mamba/Project/Kaggle/BirdCLEF-2025/cnn_v3/pytorch/train_bce/epoch=32_step=11814_val_roc_auc=0.959_val_cmap_pad=0.809_val_ap=0.810.ckpt' as top 5\n"
     ]
    },
    {
     "name": "stdout",
     "output_type": "stream",
     "text": [
      "epoch 32 validation loss 20.281203713500837\n",
      "epoch 32 validation ROCAUC score 0.9592528428163668\n",
      "epoch 32 validation C-MAP score pad 3 0.8087644313224247\n",
      "epoch 32 validation AP score 0.8095612812566093\n"
     ]
    },
    {
     "data": {
      "application/vnd.jupyter.widget-view+json": {
       "model_id": "d7216b93c6cc4316b96cb2a3629661bb",
       "version_major": 2,
       "version_minor": 0
      },
      "text/plain": [
       "Validation: |          | 0/? [00:00<?, ?it/s]"
      ]
     },
     "metadata": {},
     "output_type": "display_data"
    },
    {
     "name": "stderr",
     "output_type": "stream",
     "text": [
      "Epoch 33, global step 12172: 'val_loss' reached 20.31620 (best 19.64156), saving model to '/data2/Mamba/Project/Kaggle/BirdCLEF-2025/cnn_v3/pytorch/train_bce/epoch=33_step=12172_val_roc_auc=0.961_val_cmap_pad=0.809_val_ap=0.809.ckpt' as top 5\n"
     ]
    },
    {
     "name": "stdout",
     "output_type": "stream",
     "text": [
      "epoch 33 validation loss 20.316201966882083\n",
      "epoch 33 validation ROCAUC score 0.9608659227298789\n",
      "epoch 33 validation C-MAP score pad 3 0.8088679580709556\n",
      "epoch 33 validation AP score 0.8087480632412054\n"
     ]
    },
    {
     "data": {
      "application/vnd.jupyter.widget-view+json": {
       "model_id": "29e580831c8246e2a4dd7adc0864691d",
       "version_major": 2,
       "version_minor": 0
      },
      "text/plain": [
       "Validation: |          | 0/? [00:00<?, ?it/s]"
      ]
     },
     "metadata": {},
     "output_type": "display_data"
    },
    {
     "name": "stderr",
     "output_type": "stream",
     "text": [
      "Epoch 34, global step 12530: 'val_loss' reached 19.41011 (best 19.41011), saving model to '/data2/Mamba/Project/Kaggle/BirdCLEF-2025/cnn_v3/pytorch/train_bce/epoch=34_step=12530_val_roc_auc=0.960_val_cmap_pad=0.810_val_ap=0.811.ckpt' as top 5\n"
     ]
    },
    {
     "name": "stdout",
     "output_type": "stream",
     "text": [
      "epoch 34 validation loss 19.410106632475408\n",
      "epoch 34 validation ROCAUC score 0.9597042812686821\n",
      "epoch 34 validation C-MAP score pad 3 0.8095813081188088\n",
      "epoch 34 validation AP score 0.8106104409247559\n"
     ]
    },
    {
     "data": {
      "application/vnd.jupyter.widget-view+json": {
       "model_id": "fec6037a1f58432f82671ed83c043492",
       "version_major": 2,
       "version_minor": 0
      },
      "text/plain": [
       "Validation: |          | 0/? [00:00<?, ?it/s]"
      ]
     },
     "metadata": {},
     "output_type": "display_data"
    },
    {
     "name": "stderr",
     "output_type": "stream",
     "text": [
      "Epoch 35, global step 12888: 'val_loss' reached 19.95230 (best 19.41011), saving model to '/data2/Mamba/Project/Kaggle/BirdCLEF-2025/cnn_v3/pytorch/train_bce/epoch=35_step=12888_val_roc_auc=0.957_val_cmap_pad=0.806_val_ap=0.810.ckpt' as top 5\n"
     ]
    },
    {
     "name": "stdout",
     "output_type": "stream",
     "text": [
      "epoch 35 validation loss 19.952300992306945\n",
      "epoch 35 validation ROCAUC score 0.9569259543126213\n",
      "epoch 35 validation C-MAP score pad 3 0.8063106218832773\n",
      "epoch 35 validation AP score 0.8101875981482473\n"
     ]
    },
    {
     "data": {
      "application/vnd.jupyter.widget-view+json": {
       "model_id": "81a0091d3ede4f598265ce40230ba3fb",
       "version_major": 2,
       "version_minor": 0
      },
      "text/plain": [
       "Validation: |          | 0/? [00:00<?, ?it/s]"
      ]
     },
     "metadata": {},
     "output_type": "display_data"
    },
    {
     "name": "stderr",
     "output_type": "stream",
     "text": [
      "Epoch 36, global step 13246: 'val_loss' reached 19.55256 (best 19.41011), saving model to '/data2/Mamba/Project/Kaggle/BirdCLEF-2025/cnn_v3/pytorch/train_bce/epoch=36_step=13246_val_roc_auc=0.958_val_cmap_pad=0.810_val_ap=0.812.ckpt' as top 5\n"
     ]
    },
    {
     "name": "stdout",
     "output_type": "stream",
     "text": [
      "epoch 36 validation loss 19.5525591153613\n",
      "epoch 36 validation ROCAUC score 0.9582757269289126\n",
      "epoch 36 validation C-MAP score pad 3 0.8100535768472958\n",
      "epoch 36 validation AP score 0.812114278756756\n"
     ]
    },
    {
     "data": {
      "application/vnd.jupyter.widget-view+json": {
       "model_id": "0cb580e418e54caeb2bad8a1b4da0235",
       "version_major": 2,
       "version_minor": 0
      },
      "text/plain": [
       "Validation: |          | 0/? [00:00<?, ?it/s]"
      ]
     },
     "metadata": {},
     "output_type": "display_data"
    },
    {
     "name": "stderr",
     "output_type": "stream",
     "text": [
      "Epoch 37, global step 13604: 'val_loss' reached 19.23972 (best 19.23972), saving model to '/data2/Mamba/Project/Kaggle/BirdCLEF-2025/cnn_v3/pytorch/train_bce/epoch=37_step=13604_val_roc_auc=0.957_val_cmap_pad=0.812_val_ap=0.816.ckpt' as top 5\n"
     ]
    },
    {
     "name": "stdout",
     "output_type": "stream",
     "text": [
      "epoch 37 validation loss 19.239717771086312\n",
      "epoch 37 validation ROCAUC score 0.9569387708293748\n",
      "epoch 37 validation C-MAP score pad 3 0.81239584802257\n",
      "epoch 37 validation AP score 0.8156174248036153\n"
     ]
    },
    {
     "data": {
      "application/vnd.jupyter.widget-view+json": {
       "model_id": "db017f76006a4f39aaa47c1f3c02cd7f",
       "version_major": 2,
       "version_minor": 0
      },
      "text/plain": [
       "Validation: |          | 0/? [00:00<?, ?it/s]"
      ]
     },
     "metadata": {},
     "output_type": "display_data"
    },
    {
     "name": "stderr",
     "output_type": "stream",
     "text": [
      "Epoch 38, global step 13962: 'val_loss' was not in top 5\n"
     ]
    },
    {
     "name": "stdout",
     "output_type": "stream",
     "text": [
      "epoch 38 validation loss 20.082005254710957\n",
      "epoch 38 validation ROCAUC score 0.9594485120024071\n",
      "epoch 38 validation C-MAP score pad 3 0.8161649273075127\n",
      "epoch 38 validation AP score 0.8166454389842416\n"
     ]
    },
    {
     "data": {
      "application/vnd.jupyter.widget-view+json": {
       "model_id": "ad23d3f0504f47b2898e4149794e2bea",
       "version_major": 2,
       "version_minor": 0
      },
      "text/plain": [
       "Validation: |          | 0/? [00:00<?, ?it/s]"
      ]
     },
     "metadata": {},
     "output_type": "display_data"
    },
    {
     "name": "stderr",
     "output_type": "stream",
     "text": [
      "Epoch 39, global step 14320: 'val_loss' reached 19.30628 (best 19.23972), saving model to '/data2/Mamba/Project/Kaggle/BirdCLEF-2025/cnn_v3/pytorch/train_bce/epoch=39_step=14320_val_roc_auc=0.964_val_cmap_pad=0.819_val_ap=0.821.ckpt' as top 5\n"
     ]
    },
    {
     "name": "stdout",
     "output_type": "stream",
     "text": [
      "epoch 39 validation loss 19.306277959463582\n",
      "epoch 39 validation ROCAUC score 0.9644899127475166\n",
      "epoch 39 validation C-MAP score pad 3 0.8192795429736095\n",
      "epoch 39 validation AP score 0.8214103080124168\n"
     ]
    },
    {
     "data": {
      "application/vnd.jupyter.widget-view+json": {
       "model_id": "9489e87a15f34b39b3fed0a35256609b",
       "version_major": 2,
       "version_minor": 0
      },
      "text/plain": [
       "Validation: |          | 0/? [00:00<?, ?it/s]"
      ]
     },
     "metadata": {},
     "output_type": "display_data"
    },
    {
     "name": "stderr",
     "output_type": "stream",
     "text": [
      "Epoch 40, global step 14678: 'val_loss' reached 18.85422 (best 18.85422), saving model to '/data2/Mamba/Project/Kaggle/BirdCLEF-2025/cnn_v3/pytorch/train_bce/epoch=40_step=14678_val_roc_auc=0.964_val_cmap_pad=0.816_val_ap=0.818.ckpt' as top 5\n"
     ]
    },
    {
     "name": "stdout",
     "output_type": "stream",
     "text": [
      "epoch 40 validation loss 18.85422426382731\n",
      "epoch 40 validation ROCAUC score 0.9642735401631104\n",
      "epoch 40 validation C-MAP score pad 3 0.8163292068372062\n",
      "epoch 40 validation AP score 0.8184625200631276\n"
     ]
    },
    {
     "data": {
      "application/vnd.jupyter.widget-view+json": {
       "model_id": "e15a1f0f5f394ccbac22dc04db4f7a7f",
       "version_major": 2,
       "version_minor": 0
      },
      "text/plain": [
       "Validation: |          | 0/? [00:00<?, ?it/s]"
      ]
     },
     "metadata": {},
     "output_type": "display_data"
    },
    {
     "name": "stderr",
     "output_type": "stream",
     "text": [
      "Epoch 41, global step 15036: 'val_loss' reached 19.55154 (best 18.85422), saving model to '/data2/Mamba/Project/Kaggle/BirdCLEF-2025/cnn_v3/pytorch/train_bce/epoch=41_step=15036_val_roc_auc=0.962_val_cmap_pad=0.819_val_ap=0.814.ckpt' as top 5\n"
     ]
    },
    {
     "name": "stdout",
     "output_type": "stream",
     "text": [
      "epoch 41 validation loss 19.55154407514581\n",
      "epoch 41 validation ROCAUC score 0.962238467226529\n",
      "epoch 41 validation C-MAP score pad 3 0.8194745706904024\n",
      "epoch 41 validation AP score 0.8138578290146378\n"
     ]
    },
    {
     "data": {
      "application/vnd.jupyter.widget-view+json": {
       "model_id": "252f2e4b096a4581a6e2d040ced51dc5",
       "version_major": 2,
       "version_minor": 0
      },
      "text/plain": [
       "Validation: |          | 0/? [00:00<?, ?it/s]"
      ]
     },
     "metadata": {},
     "output_type": "display_data"
    },
    {
     "name": "stderr",
     "output_type": "stream",
     "text": [
      "Epoch 42, global step 15394: 'val_loss' reached 19.23819 (best 18.85422), saving model to '/data2/Mamba/Project/Kaggle/BirdCLEF-2025/cnn_v3/pytorch/train_bce/epoch=42_step=15394_val_roc_auc=0.962_val_cmap_pad=0.822_val_ap=0.824.ckpt' as top 5\n"
     ]
    },
    {
     "name": "stdout",
     "output_type": "stream",
     "text": [
      "epoch 42 validation loss 19.238189003346115\n",
      "epoch 42 validation ROCAUC score 0.9620942859415075\n",
      "epoch 42 validation C-MAP score pad 3 0.8218262410575433\n",
      "epoch 42 validation AP score 0.8235469584758963\n"
     ]
    },
    {
     "data": {
      "application/vnd.jupyter.widget-view+json": {
       "model_id": "a5db70cce9984d188cbf32199756ca95",
       "version_major": 2,
       "version_minor": 0
      },
      "text/plain": [
       "Validation: |          | 0/? [00:00<?, ?it/s]"
      ]
     },
     "metadata": {},
     "output_type": "display_data"
    },
    {
     "name": "stderr",
     "output_type": "stream",
     "text": [
      "Epoch 43, global step 15752: 'val_loss' reached 19.00336 (best 18.85422), saving model to '/data2/Mamba/Project/Kaggle/BirdCLEF-2025/cnn_v3/pytorch/train_bce/epoch=43_step=15752_val_roc_auc=0.963_val_cmap_pad=0.824_val_ap=0.823.ckpt' as top 5\n"
     ]
    },
    {
     "name": "stdout",
     "output_type": "stream",
     "text": [
      "epoch 43 validation loss 19.003357454316525\n",
      "epoch 43 validation ROCAUC score 0.9632106705126302\n",
      "epoch 43 validation C-MAP score pad 3 0.8239368408507494\n",
      "epoch 43 validation AP score 0.8230757008003883\n"
     ]
    },
    {
     "data": {
      "application/vnd.jupyter.widget-view+json": {
       "model_id": "a5d83074a61b433bb5fc9bc09cb5e1b7",
       "version_major": 2,
       "version_minor": 0
      },
      "text/plain": [
       "Validation: |          | 0/? [00:00<?, ?it/s]"
      ]
     },
     "metadata": {},
     "output_type": "display_data"
    },
    {
     "name": "stderr",
     "output_type": "stream",
     "text": [
      "Epoch 44, global step 16110: 'val_loss' reached 18.48490 (best 18.48490), saving model to '/data2/Mamba/Project/Kaggle/BirdCLEF-2025/cnn_v3/pytorch/train_bce/epoch=44_step=16110_val_roc_auc=0.964_val_cmap_pad=0.821_val_ap=0.824.ckpt' as top 5\n"
     ]
    },
    {
     "name": "stdout",
     "output_type": "stream",
     "text": [
      "epoch 44 validation loss 18.48490284669925\n",
      "epoch 44 validation ROCAUC score 0.9638631473361379\n",
      "epoch 44 validation C-MAP score pad 3 0.8213833104745867\n",
      "epoch 44 validation AP score 0.8235937934518276\n"
     ]
    },
    {
     "data": {
      "application/vnd.jupyter.widget-view+json": {
       "model_id": "d76cef2f552e46bbac6f7d43cd07bcbe",
       "version_major": 2,
       "version_minor": 0
      },
      "text/plain": [
       "Validation: |          | 0/? [00:00<?, ?it/s]"
      ]
     },
     "metadata": {},
     "output_type": "display_data"
    },
    {
     "name": "stderr",
     "output_type": "stream",
     "text": [
      "Epoch 45, global step 16468: 'val_loss' reached 18.45229 (best 18.45229), saving model to '/data2/Mamba/Project/Kaggle/BirdCLEF-2025/cnn_v3/pytorch/train_bce/epoch=45_step=16468_val_roc_auc=0.966_val_cmap_pad=0.822_val_ap=0.823.ckpt' as top 5\n"
     ]
    },
    {
     "name": "stdout",
     "output_type": "stream",
     "text": [
      "epoch 45 validation loss 18.452288276175526\n",
      "epoch 45 validation ROCAUC score 0.9656589935586248\n",
      "epoch 45 validation C-MAP score pad 3 0.8215545261872954\n",
      "epoch 45 validation AP score 0.8234495866572216\n"
     ]
    },
    {
     "data": {
      "application/vnd.jupyter.widget-view+json": {
       "model_id": "2320fcfab4cb42528840bb15a628003a",
       "version_major": 2,
       "version_minor": 0
      },
      "text/plain": [
       "Validation: |          | 0/? [00:00<?, ?it/s]"
      ]
     },
     "metadata": {},
     "output_type": "display_data"
    },
    {
     "name": "stderr",
     "output_type": "stream",
     "text": [
      "Epoch 46, global step 16826: 'val_loss' reached 18.31906 (best 18.31906), saving model to '/data2/Mamba/Project/Kaggle/BirdCLEF-2025/cnn_v3/pytorch/train_bce/epoch=46_step=16826_val_roc_auc=0.964_val_cmap_pad=0.825_val_ap=0.826.ckpt' as top 5\n"
     ]
    },
    {
     "name": "stdout",
     "output_type": "stream",
     "text": [
      "epoch 46 validation loss 18.31906448395185\n",
      "epoch 46 validation ROCAUC score 0.963700245811798\n",
      "epoch 46 validation C-MAP score pad 3 0.825221997077972\n",
      "epoch 46 validation AP score 0.8263540207028511\n"
     ]
    },
    {
     "data": {
      "application/vnd.jupyter.widget-view+json": {
       "model_id": "d01b1ec5431b4fd6b767bc1a77cf6e18",
       "version_major": 2,
       "version_minor": 0
      },
      "text/plain": [
       "Validation: |          | 0/? [00:00<?, ?it/s]"
      ]
     },
     "metadata": {},
     "output_type": "display_data"
    },
    {
     "name": "stderr",
     "output_type": "stream",
     "text": [
      "Epoch 47, global step 17184: 'val_loss' was not in top 5\n"
     ]
    },
    {
     "name": "stdout",
     "output_type": "stream",
     "text": [
      "epoch 47 validation loss 19.131338914048744\n",
      "epoch 47 validation ROCAUC score 0.9649355409919171\n",
      "epoch 47 validation C-MAP score pad 3 0.8260746754674448\n",
      "epoch 47 validation AP score 0.8252580293453198\n"
     ]
    },
    {
     "data": {
      "application/vnd.jupyter.widget-view+json": {
       "model_id": "02cc04088ccf4eaf9ec7948b60d67be1",
       "version_major": 2,
       "version_minor": 0
      },
      "text/plain": [
       "Validation: |          | 0/? [00:00<?, ?it/s]"
      ]
     },
     "metadata": {},
     "output_type": "display_data"
    },
    {
     "name": "stderr",
     "output_type": "stream",
     "text": [
      "Epoch 48, global step 17542: 'val_loss' was not in top 5\n"
     ]
    },
    {
     "name": "stdout",
     "output_type": "stream",
     "text": [
      "epoch 48 validation loss 19.321081244254646\n",
      "epoch 48 validation ROCAUC score 0.9622754563460614\n",
      "epoch 48 validation C-MAP score pad 3 0.8235632496223739\n",
      "epoch 48 validation AP score 0.8231351371710196\n"
     ]
    },
    {
     "data": {
      "application/vnd.jupyter.widget-view+json": {
       "model_id": "d5cc6ffe55dc49e2a65effb6819e1ea5",
       "version_major": 2,
       "version_minor": 0
      },
      "text/plain": [
       "Validation: |          | 0/? [00:00<?, ?it/s]"
      ]
     },
     "metadata": {},
     "output_type": "display_data"
    },
    {
     "name": "stderr",
     "output_type": "stream",
     "text": [
      "Epoch 49, global step 17900: 'val_loss' reached 18.44484 (best 18.31906), saving model to '/data2/Mamba/Project/Kaggle/BirdCLEF-2025/cnn_v3/pytorch/train_bce/epoch=49_step=17900_val_roc_auc=0.962_val_cmap_pad=0.823_val_ap=0.823.ckpt' as top 5\n"
     ]
    },
    {
     "name": "stdout",
     "output_type": "stream",
     "text": [
      "epoch 49 validation loss 18.44483692405536\n",
      "epoch 49 validation ROCAUC score 0.9621374486224706\n",
      "epoch 49 validation C-MAP score pad 3 0.8227404492271888\n",
      "epoch 49 validation AP score 0.8230804169878463\n"
     ]
    },
    {
     "data": {
      "application/vnd.jupyter.widget-view+json": {
       "model_id": "3d3ea69e46384fffb885e7341b6c0ebf",
       "version_major": 2,
       "version_minor": 0
      },
      "text/plain": [
       "Validation: |          | 0/? [00:00<?, ?it/s]"
      ]
     },
     "metadata": {},
     "output_type": "display_data"
    },
    {
     "name": "stderr",
     "output_type": "stream",
     "text": [
      "Epoch 50, global step 18258: 'val_loss' reached 18.07687 (best 18.07687), saving model to '/data2/Mamba/Project/Kaggle/BirdCLEF-2025/cnn_v3/pytorch/train_bce/epoch=50_step=18258_val_roc_auc=0.963_val_cmap_pad=0.827_val_ap=0.825.ckpt' as top 5\n"
     ]
    },
    {
     "name": "stdout",
     "output_type": "stream",
     "text": [
      "epoch 50 validation loss 18.07687295087669\n",
      "epoch 50 validation ROCAUC score 0.9631424737929262\n",
      "epoch 50 validation C-MAP score pad 3 0.8271978153784676\n",
      "epoch 50 validation AP score 0.8248089422843438\n"
     ]
    },
    {
     "data": {
      "application/vnd.jupyter.widget-view+json": {
       "model_id": "6d50357635084b0c9258da2cc07d05b0",
       "version_major": 2,
       "version_minor": 0
      },
      "text/plain": [
       "Validation: |          | 0/? [00:00<?, ?it/s]"
      ]
     },
     "metadata": {},
     "output_type": "display_data"
    },
    {
     "name": "stderr",
     "output_type": "stream",
     "text": [
      "Epoch 51, global step 18616: 'val_loss' reached 17.73088 (best 17.73088), saving model to '/data2/Mamba/Project/Kaggle/BirdCLEF-2025/cnn_v3/pytorch/train_bce/epoch=51_step=18616_val_roc_auc=0.965_val_cmap_pad=0.829_val_ap=0.830.ckpt' as top 5\n"
     ]
    },
    {
     "name": "stdout",
     "output_type": "stream",
     "text": [
      "epoch 51 validation loss 17.73088259146248\n",
      "epoch 51 validation ROCAUC score 0.9648638454180472\n",
      "epoch 51 validation C-MAP score pad 3 0.8285365543441967\n",
      "epoch 51 validation AP score 0.829698752445292\n"
     ]
    },
    {
     "data": {
      "application/vnd.jupyter.widget-view+json": {
       "model_id": "6979c29e79bc4d6c8fe9dfbd5deb8a65",
       "version_major": 2,
       "version_minor": 0
      },
      "text/plain": [
       "Validation: |          | 0/? [00:00<?, ?it/s]"
      ]
     },
     "metadata": {},
     "output_type": "display_data"
    },
    {
     "name": "stderr",
     "output_type": "stream",
     "text": [
      "Epoch 52, global step 18974: 'val_loss' reached 17.79499 (best 17.73088), saving model to '/data2/Mamba/Project/Kaggle/BirdCLEF-2025/cnn_v3/pytorch/train_bce/epoch=52_step=18974_val_roc_auc=0.967_val_cmap_pad=0.830_val_ap=0.831.ckpt' as top 5\n"
     ]
    },
    {
     "name": "stdout",
     "output_type": "stream",
     "text": [
      "epoch 52 validation loss 17.794988934312663\n",
      "epoch 52 validation ROCAUC score 0.9668323079768736\n",
      "epoch 52 validation C-MAP score pad 3 0.829824014817158\n",
      "epoch 52 validation AP score 0.8305660864216458\n"
     ]
    },
    {
     "data": {
      "application/vnd.jupyter.widget-view+json": {
       "model_id": "95766982a7a543b4bac961d303d15119",
       "version_major": 2,
       "version_minor": 0
      },
      "text/plain": [
       "Validation: |          | 0/? [00:00<?, ?it/s]"
      ]
     },
     "metadata": {},
     "output_type": "display_data"
    },
    {
     "name": "stderr",
     "output_type": "stream",
     "text": [
      "Epoch 53, global step 19332: 'val_loss' reached 18.42631 (best 17.73088), saving model to '/data2/Mamba/Project/Kaggle/BirdCLEF-2025/cnn_v3/pytorch/train_bce/epoch=53_step=19332_val_roc_auc=0.966_val_cmap_pad=0.830_val_ap=0.829.ckpt' as top 5\n"
     ]
    },
    {
     "name": "stdout",
     "output_type": "stream",
     "text": [
      "epoch 53 validation loss 18.42631055400844\n",
      "epoch 53 validation ROCAUC score 0.9660735051762694\n",
      "epoch 53 validation C-MAP score pad 3 0.8301213097021168\n",
      "epoch 53 validation AP score 0.8285133470219861\n"
     ]
    },
    {
     "data": {
      "application/vnd.jupyter.widget-view+json": {
       "model_id": "e8eff37eb85345809f7bc575d65ffb61",
       "version_major": 2,
       "version_minor": 0
      },
      "text/plain": [
       "Validation: |          | 0/? [00:00<?, ?it/s]"
      ]
     },
     "metadata": {},
     "output_type": "display_data"
    },
    {
     "name": "stderr",
     "output_type": "stream",
     "text": [
      "Epoch 54, global step 19690: 'val_loss' reached 17.83167 (best 17.73088), saving model to '/data2/Mamba/Project/Kaggle/BirdCLEF-2025/cnn_v3/pytorch/train_bce/epoch=54_step=19690_val_roc_auc=0.963_val_cmap_pad=0.830_val_ap=0.831.ckpt' as top 5\n"
     ]
    },
    {
     "name": "stdout",
     "output_type": "stream",
     "text": [
      "epoch 54 validation loss 17.831673975480626\n",
      "epoch 54 validation ROCAUC score 0.9631429630672955\n",
      "epoch 54 validation C-MAP score pad 3 0.8302949520669165\n",
      "epoch 54 validation AP score 0.8308027970219488\n"
     ]
    },
    {
     "data": {
      "application/vnd.jupyter.widget-view+json": {
       "model_id": "7d11fc2140864e229639e21977b3ba4e",
       "version_major": 2,
       "version_minor": 0
      },
      "text/plain": [
       "Validation: |          | 0/? [00:00<?, ?it/s]"
      ]
     },
     "metadata": {},
     "output_type": "display_data"
    },
    {
     "name": "stderr",
     "output_type": "stream",
     "text": [
      "Epoch 55, global step 20048: 'val_loss' reached 18.26220 (best 17.73088), saving model to '/data2/Mamba/Project/Kaggle/BirdCLEF-2025/cnn_v3/pytorch/train_bce/epoch=55_step=20048_val_roc_auc=0.959_val_cmap_pad=0.829_val_ap=0.832.ckpt' as top 5\n"
     ]
    },
    {
     "name": "stdout",
     "output_type": "stream",
     "text": [
      "epoch 55 validation loss 18.262204842247733\n",
      "epoch 55 validation ROCAUC score 0.9593628291328861\n",
      "epoch 55 validation C-MAP score pad 3 0.8294226212475873\n",
      "epoch 55 validation AP score 0.8322440672084389\n"
     ]
    },
    {
     "data": {
      "application/vnd.jupyter.widget-view+json": {
       "model_id": "b59841dde9094010b0a5832bf28a8d39",
       "version_major": 2,
       "version_minor": 0
      },
      "text/plain": [
       "Validation: |          | 0/? [00:00<?, ?it/s]"
      ]
     },
     "metadata": {},
     "output_type": "display_data"
    },
    {
     "name": "stderr",
     "output_type": "stream",
     "text": [
      "Epoch 56, global step 20406: 'val_loss' reached 17.36457 (best 17.36457), saving model to '/data2/Mamba/Project/Kaggle/BirdCLEF-2025/cnn_v3/pytorch/train_bce/epoch=56_step=20406_val_roc_auc=0.961_val_cmap_pad=0.831_val_ap=0.832.ckpt' as top 5\n"
     ]
    },
    {
     "name": "stdout",
     "output_type": "stream",
     "text": [
      "epoch 56 validation loss 17.364573421099877\n",
      "epoch 56 validation ROCAUC score 0.9611610815223988\n",
      "epoch 56 validation C-MAP score pad 3 0.8314750624823548\n",
      "epoch 56 validation AP score 0.8324278976098384\n"
     ]
    },
    {
     "data": {
      "application/vnd.jupyter.widget-view+json": {
       "model_id": "70fbaa0d67a94a3198b6b823810b1070",
       "version_major": 2,
       "version_minor": 0
      },
      "text/plain": [
       "Validation: |          | 0/? [00:00<?, ?it/s]"
      ]
     },
     "metadata": {},
     "output_type": "display_data"
    },
    {
     "name": "stderr",
     "output_type": "stream",
     "text": [
      "Epoch 57, global step 20764: 'val_loss' reached 17.56008 (best 17.36457), saving model to '/data2/Mamba/Project/Kaggle/BirdCLEF-2025/cnn_v3/pytorch/train_bce/epoch=57_step=20764_val_roc_auc=0.964_val_cmap_pad=0.828_val_ap=0.831.ckpt' as top 5\n"
     ]
    },
    {
     "name": "stdout",
     "output_type": "stream",
     "text": [
      "epoch 57 validation loss 17.56008044785688\n",
      "epoch 57 validation ROCAUC score 0.9643409893573802\n",
      "epoch 57 validation C-MAP score pad 3 0.8284315641447766\n",
      "epoch 57 validation AP score 0.8306029808592831\n"
     ]
    },
    {
     "data": {
      "application/vnd.jupyter.widget-view+json": {
       "model_id": "76d5b7f55b9a4ffe8c5c4cee6d21a7af",
       "version_major": 2,
       "version_minor": 0
      },
      "text/plain": [
       "Validation: |          | 0/? [00:00<?, ?it/s]"
      ]
     },
     "metadata": {},
     "output_type": "display_data"
    },
    {
     "name": "stderr",
     "output_type": "stream",
     "text": [
      "Epoch 58, global step 21122: 'val_loss' reached 17.71400 (best 17.36457), saving model to '/data2/Mamba/Project/Kaggle/BirdCLEF-2025/cnn_v3/pytorch/train_bce/epoch=58_step=21122_val_roc_auc=0.964_val_cmap_pad=0.835_val_ap=0.836.ckpt' as top 5\n"
     ]
    },
    {
     "name": "stdout",
     "output_type": "stream",
     "text": [
      "epoch 58 validation loss 17.71400286843438\n",
      "epoch 58 validation ROCAUC score 0.9643875612208256\n",
      "epoch 58 validation C-MAP score pad 3 0.8348755871702618\n",
      "epoch 58 validation AP score 0.8362634176588917\n"
     ]
    },
    {
     "data": {
      "application/vnd.jupyter.widget-view+json": {
       "model_id": "34291415b6f948b788a47c05313b0b5a",
       "version_major": 2,
       "version_minor": 0
      },
      "text/plain": [
       "Validation: |          | 0/? [00:00<?, ?it/s]"
      ]
     },
     "metadata": {},
     "output_type": "display_data"
    },
    {
     "name": "stderr",
     "output_type": "stream",
     "text": [
      "Epoch 59, global step 21480: 'val_loss' reached 17.29144 (best 17.29144), saving model to '/data2/Mamba/Project/Kaggle/BirdCLEF-2025/cnn_v3/pytorch/train_bce/epoch=59_step=21480_val_roc_auc=0.965_val_cmap_pad=0.832_val_ap=0.833.ckpt' as top 5\n"
     ]
    },
    {
     "name": "stdout",
     "output_type": "stream",
     "text": [
      "epoch 59 validation loss 17.291438082700147\n",
      "epoch 59 validation ROCAUC score 0.9650953344932142\n",
      "epoch 59 validation C-MAP score pad 3 0.83247333269913\n",
      "epoch 59 validation AP score 0.8333087402605114\n"
     ]
    },
    {
     "data": {
      "application/vnd.jupyter.widget-view+json": {
       "model_id": "e8053705da6d401b92e75c59e17e478f",
       "version_major": 2,
       "version_minor": 0
      },
      "text/plain": [
       "Validation: |          | 0/? [00:00<?, ?it/s]"
      ]
     },
     "metadata": {},
     "output_type": "display_data"
    },
    {
     "name": "stderr",
     "output_type": "stream",
     "text": [
      "Epoch 60, global step 21838: 'val_loss' reached 17.39792 (best 17.29144), saving model to '/data2/Mamba/Project/Kaggle/BirdCLEF-2025/cnn_v3/pytorch/train_bce/epoch=60_step=21838_val_roc_auc=0.964_val_cmap_pad=0.831_val_ap=0.835.ckpt' as top 5\n"
     ]
    },
    {
     "name": "stdout",
     "output_type": "stream",
     "text": [
      "epoch 60 validation loss 17.397916368501807\n",
      "epoch 60 validation ROCAUC score 0.9639535302685645\n",
      "epoch 60 validation C-MAP score pad 3 0.8313601754506893\n",
      "epoch 60 validation AP score 0.8352272444234288\n"
     ]
    },
    {
     "data": {
      "application/vnd.jupyter.widget-view+json": {
       "model_id": "80f8436c1eb14581b2f4d80a92a99b23",
       "version_major": 2,
       "version_minor": 0
      },
      "text/plain": [
       "Validation: |          | 0/? [00:00<?, ?it/s]"
      ]
     },
     "metadata": {},
     "output_type": "display_data"
    },
    {
     "name": "stderr",
     "output_type": "stream",
     "text": [
      "Epoch 61, global step 22196: 'val_loss' reached 17.43174 (best 17.29144), saving model to '/data2/Mamba/Project/Kaggle/BirdCLEF-2025/cnn_v3/pytorch/train_bce/epoch=61_step=22196_val_roc_auc=0.964_val_cmap_pad=0.833_val_ap=0.835.ckpt' as top 5\n"
     ]
    },
    {
     "name": "stdout",
     "output_type": "stream",
     "text": [
      "epoch 61 validation loss 17.43174397620534\n",
      "epoch 61 validation ROCAUC score 0.9635689543397513\n",
      "epoch 61 validation C-MAP score pad 3 0.832534980354018\n",
      "epoch 61 validation AP score 0.8348877987191697\n"
     ]
    },
    {
     "data": {
      "application/vnd.jupyter.widget-view+json": {
       "model_id": "7c6b3015970b4c6ea56be68830d4f583",
       "version_major": 2,
       "version_minor": 0
      },
      "text/plain": [
       "Validation: |          | 0/? [00:00<?, ?it/s]"
      ]
     },
     "metadata": {},
     "output_type": "display_data"
    },
    {
     "name": "stderr",
     "output_type": "stream",
     "text": [
      "Epoch 62, global step 22554: 'val_loss' reached 17.32564 (best 17.29144), saving model to '/data2/Mamba/Project/Kaggle/BirdCLEF-2025/cnn_v3/pytorch/train_bce/epoch=62_step=22554_val_roc_auc=0.967_val_cmap_pad=0.837_val_ap=0.841.ckpt' as top 5\n"
     ]
    },
    {
     "name": "stdout",
     "output_type": "stream",
     "text": [
      "epoch 62 validation loss 17.32564476168563\n",
      "epoch 62 validation ROCAUC score 0.9671514460797983\n",
      "epoch 62 validation C-MAP score pad 3 0.8369015645475018\n",
      "epoch 62 validation AP score 0.8406410121215689\n"
     ]
    },
    {
     "data": {
      "application/vnd.jupyter.widget-view+json": {
       "model_id": "26f3d855e44f466092349f2b24531d4e",
       "version_major": 2,
       "version_minor": 0
      },
      "text/plain": [
       "Validation: |          | 0/? [00:00<?, ?it/s]"
      ]
     },
     "metadata": {},
     "output_type": "display_data"
    },
    {
     "name": "stderr",
     "output_type": "stream",
     "text": [
      "Epoch 63, global step 22912: 'val_loss' reached 17.03332 (best 17.03332), saving model to '/data2/Mamba/Project/Kaggle/BirdCLEF-2025/cnn_v3/pytorch/train_bce/epoch=63_step=22912_val_roc_auc=0.967_val_cmap_pad=0.836_val_ap=0.838.ckpt' as top 5\n"
     ]
    },
    {
     "name": "stdout",
     "output_type": "stream",
     "text": [
      "epoch 63 validation loss 17.033315582264713\n",
      "epoch 63 validation ROCAUC score 0.9670728689582615\n",
      "epoch 63 validation C-MAP score pad 3 0.836195719163827\n",
      "epoch 63 validation AP score 0.8380592495536867\n"
     ]
    },
    {
     "data": {
      "application/vnd.jupyter.widget-view+json": {
       "model_id": "49ffe407e42b461899e8c694549544ab",
       "version_major": 2,
       "version_minor": 0
      },
      "text/plain": [
       "Validation: |          | 0/? [00:00<?, ?it/s]"
      ]
     },
     "metadata": {},
     "output_type": "display_data"
    },
    {
     "name": "stderr",
     "output_type": "stream",
     "text": [
      "Epoch 64, global step 23270: 'val_loss' was not in top 5\n"
     ]
    },
    {
     "name": "stdout",
     "output_type": "stream",
     "text": [
      "epoch 64 validation loss 18.076287259566183\n",
      "epoch 64 validation ROCAUC score 0.9671366738400347\n",
      "epoch 64 validation C-MAP score pad 3 0.8382229965737156\n",
      "epoch 64 validation AP score 0.8385151434205572\n"
     ]
    },
    {
     "data": {
      "application/vnd.jupyter.widget-view+json": {
       "model_id": "0c479a7e45d24f2e9ee9032aba20f176",
       "version_major": 2,
       "version_minor": 0
      },
      "text/plain": [
       "Validation: |          | 0/? [00:00<?, ?it/s]"
      ]
     },
     "metadata": {},
     "output_type": "display_data"
    },
    {
     "name": "stderr",
     "output_type": "stream",
     "text": [
      "Epoch 65, global step 23628: 'val_loss' was not in top 5\n"
     ]
    },
    {
     "name": "stdout",
     "output_type": "stream",
     "text": [
      "epoch 65 validation loss 17.55157182729336\n",
      "epoch 65 validation ROCAUC score 0.9658230167967695\n",
      "epoch 65 validation C-MAP score pad 3 0.8380278720965646\n",
      "epoch 65 validation AP score 0.8392015921521601\n"
     ]
    },
    {
     "data": {
      "application/vnd.jupyter.widget-view+json": {
       "model_id": "ae4819aff61847ceba55608ed4c0949e",
       "version_major": 2,
       "version_minor": 0
      },
      "text/plain": [
       "Validation: |          | 0/? [00:00<?, ?it/s]"
      ]
     },
     "metadata": {},
     "output_type": "display_data"
    },
    {
     "name": "stderr",
     "output_type": "stream",
     "text": [
      "Epoch 66, global step 23986: 'val_loss' reached 17.00846 (best 17.00846), saving model to '/data2/Mamba/Project/Kaggle/BirdCLEF-2025/cnn_v3/pytorch/train_bce/epoch=66_step=23986_val_roc_auc=0.967_val_cmap_pad=0.837_val_ap=0.838.ckpt' as top 5\n"
     ]
    },
    {
     "name": "stdout",
     "output_type": "stream",
     "text": [
      "epoch 66 validation loss 17.008457937589547\n",
      "epoch 66 validation ROCAUC score 0.9666926545265553\n",
      "epoch 66 validation C-MAP score pad 3 0.8372387540948439\n",
      "epoch 66 validation AP score 0.8380324372095642\n"
     ]
    },
    {
     "data": {
      "application/vnd.jupyter.widget-view+json": {
       "model_id": "45f1ac2372854f74904429ab9d753bc0",
       "version_major": 2,
       "version_minor": 0
      },
      "text/plain": [
       "Validation: |          | 0/? [00:00<?, ?it/s]"
      ]
     },
     "metadata": {},
     "output_type": "display_data"
    },
    {
     "name": "stderr",
     "output_type": "stream",
     "text": [
      "Epoch 67, global step 24344: 'val_loss' was not in top 5\n"
     ]
    },
    {
     "name": "stdout",
     "output_type": "stream",
     "text": [
      "epoch 67 validation loss 17.450008736607362\n",
      "epoch 67 validation ROCAUC score 0.9687091773620429\n",
      "epoch 67 validation C-MAP score pad 3 0.8392176263034877\n",
      "epoch 67 validation AP score 0.8424476454782478\n"
     ]
    },
    {
     "data": {
      "application/vnd.jupyter.widget-view+json": {
       "model_id": "c6f34c605df044f0b53b182d23fb1002",
       "version_major": 2,
       "version_minor": 0
      },
      "text/plain": [
       "Validation: |          | 0/? [00:00<?, ?it/s]"
      ]
     },
     "metadata": {},
     "output_type": "display_data"
    },
    {
     "name": "stderr",
     "output_type": "stream",
     "text": [
      "Epoch 68, global step 24702: 'val_loss' reached 17.12603 (best 17.00846), saving model to '/data2/Mamba/Project/Kaggle/BirdCLEF-2025/cnn_v3/pytorch/train_bce/epoch=68_step=24702_val_roc_auc=0.967_val_cmap_pad=0.839_val_ap=0.841.ckpt' as top 5\n"
     ]
    },
    {
     "name": "stdout",
     "output_type": "stream",
     "text": [
      "epoch 68 validation loss 17.12602606812648\n",
      "epoch 68 validation ROCAUC score 0.9666910178647156\n",
      "epoch 68 validation C-MAP score pad 3 0.8386186842853591\n",
      "epoch 68 validation AP score 0.8407960695446206\n"
     ]
    },
    {
     "data": {
      "application/vnd.jupyter.widget-view+json": {
       "model_id": "e87993fd87994a51bd607ca7e4e67cec",
       "version_major": 2,
       "version_minor": 0
      },
      "text/plain": [
       "Validation: |          | 0/? [00:00<?, ?it/s]"
      ]
     },
     "metadata": {},
     "output_type": "display_data"
    },
    {
     "name": "stderr",
     "output_type": "stream",
     "text": [
      "Epoch 69, global step 25060: 'val_loss' reached 17.06532 (best 17.00846), saving model to '/data2/Mamba/Project/Kaggle/BirdCLEF-2025/cnn_v3/pytorch/train_bce/epoch=69_step=25060_val_roc_auc=0.966_val_cmap_pad=0.839_val_ap=0.840.ckpt' as top 5\n"
     ]
    },
    {
     "name": "stdout",
     "output_type": "stream",
     "text": [
      "epoch 69 validation loss 17.06531850859557\n",
      "epoch 69 validation ROCAUC score 0.9658697937249489\n",
      "epoch 69 validation C-MAP score pad 3 0.8385976563881947\n",
      "epoch 69 validation AP score 0.8398185364886052\n"
     ]
    },
    {
     "data": {
      "application/vnd.jupyter.widget-view+json": {
       "model_id": "e9ca2148e62e4228bdb89c82fb9cdcdf",
       "version_major": 2,
       "version_minor": 0
      },
      "text/plain": [
       "Validation: |          | 0/? [00:00<?, ?it/s]"
      ]
     },
     "metadata": {},
     "output_type": "display_data"
    },
    {
     "name": "stderr",
     "output_type": "stream",
     "text": [
      "Epoch 70, global step 25418: 'val_loss' reached 16.88375 (best 16.88375), saving model to '/data2/Mamba/Project/Kaggle/BirdCLEF-2025/cnn_v3/pytorch/train_bce/epoch=70_step=25418_val_roc_auc=0.966_val_cmap_pad=0.838_val_ap=0.839.ckpt' as top 5\n"
     ]
    },
    {
     "name": "stdout",
     "output_type": "stream",
     "text": [
      "epoch 70 validation loss 16.883754863438103\n",
      "epoch 70 validation ROCAUC score 0.9663758716389456\n",
      "epoch 70 validation C-MAP score pad 3 0.8376622920290596\n",
      "epoch 70 validation AP score 0.8394459784926724\n"
     ]
    },
    {
     "data": {
      "application/vnd.jupyter.widget-view+json": {
       "model_id": "112083d702a9439b84b000049e508dfd",
       "version_major": 2,
       "version_minor": 0
      },
      "text/plain": [
       "Validation: |          | 0/? [00:00<?, ?it/s]"
      ]
     },
     "metadata": {},
     "output_type": "display_data"
    },
    {
     "name": "stderr",
     "output_type": "stream",
     "text": [
      "Epoch 71, global step 25776: 'val_loss' reached 17.04711 (best 16.88375), saving model to '/data2/Mamba/Project/Kaggle/BirdCLEF-2025/cnn_v3/pytorch/train_bce/epoch=71_step=25776_val_roc_auc=0.966_val_cmap_pad=0.840_val_ap=0.841.ckpt' as top 5\n"
     ]
    },
    {
     "name": "stdout",
     "output_type": "stream",
     "text": [
      "epoch 71 validation loss 17.047114689816947\n",
      "epoch 71 validation ROCAUC score 0.9663125966340224\n",
      "epoch 71 validation C-MAP score pad 3 0.8402816912068478\n",
      "epoch 71 validation AP score 0.8408446060243332\n"
     ]
    },
    {
     "data": {
      "application/vnd.jupyter.widget-view+json": {
       "model_id": "c4a34973ed53413e97e737a2131eeff7",
       "version_major": 2,
       "version_minor": 0
      },
      "text/plain": [
       "Validation: |          | 0/? [00:00<?, ?it/s]"
      ]
     },
     "metadata": {},
     "output_type": "display_data"
    },
    {
     "name": "stderr",
     "output_type": "stream",
     "text": [
      "Epoch 72, global step 26134: 'val_loss' reached 16.81180 (best 16.81180), saving model to '/data2/Mamba/Project/Kaggle/BirdCLEF-2025/cnn_v3/pytorch/train_bce/epoch=72_step=26134_val_roc_auc=0.966_val_cmap_pad=0.840_val_ap=0.842.ckpt' as top 5\n"
     ]
    },
    {
     "name": "stdout",
     "output_type": "stream",
     "text": [
      "epoch 72 validation loss 16.81180479849611\n",
      "epoch 72 validation ROCAUC score 0.96648148173023\n",
      "epoch 72 validation C-MAP score pad 3 0.8395684047599882\n",
      "epoch 72 validation AP score 0.8417370979125395\n"
     ]
    },
    {
     "data": {
      "application/vnd.jupyter.widget-view+json": {
       "model_id": "8be105e0cccb448ba43562b685ca8876",
       "version_major": 2,
       "version_minor": 0
      },
      "text/plain": [
       "Validation: |          | 0/? [00:00<?, ?it/s]"
      ]
     },
     "metadata": {},
     "output_type": "display_data"
    },
    {
     "name": "stderr",
     "output_type": "stream",
     "text": [
      "Epoch 73, global step 26492: 'val_loss' reached 16.60600 (best 16.60600), saving model to '/data2/Mamba/Project/Kaggle/BirdCLEF-2025/cnn_v3/pytorch/train_bce/epoch=73_step=26492_val_roc_auc=0.967_val_cmap_pad=0.842_val_ap=0.842.ckpt' as top 5\n"
     ]
    },
    {
     "name": "stdout",
     "output_type": "stream",
     "text": [
      "epoch 73 validation loss 16.60599691366845\n",
      "epoch 73 validation ROCAUC score 0.9674368659935318\n",
      "epoch 73 validation C-MAP score pad 3 0.8424832187048457\n",
      "epoch 73 validation AP score 0.8416154636087708\n"
     ]
    },
    {
     "data": {
      "application/vnd.jupyter.widget-view+json": {
       "model_id": "95bb098272f04891aa6782076b628395",
       "version_major": 2,
       "version_minor": 0
      },
      "text/plain": [
       "Validation: |          | 0/? [00:00<?, ?it/s]"
      ]
     },
     "metadata": {},
     "output_type": "display_data"
    },
    {
     "name": "stderr",
     "output_type": "stream",
     "text": [
      "Epoch 74, global step 26850: 'val_loss' reached 16.88088 (best 16.60600), saving model to '/data2/Mamba/Project/Kaggle/BirdCLEF-2025/cnn_v3/pytorch/train_bce/epoch=74_step=26850_val_roc_auc=0.965_val_cmap_pad=0.841_val_ap=0.843.ckpt' as top 5\n"
     ]
    },
    {
     "name": "stdout",
     "output_type": "stream",
     "text": [
      "epoch 74 validation loss 16.880881652043673\n",
      "epoch 74 validation ROCAUC score 0.965115253397968\n",
      "epoch 74 validation C-MAP score pad 3 0.8406951446277151\n",
      "epoch 74 validation AP score 0.8425892055213314\n"
     ]
    },
    {
     "data": {
      "application/vnd.jupyter.widget-view+json": {
       "model_id": "68acfb72cf0b4e93a110d1e19029cfef",
       "version_major": 2,
       "version_minor": 0
      },
      "text/plain": [
       "Validation: |          | 0/? [00:00<?, ?it/s]"
      ]
     },
     "metadata": {},
     "output_type": "display_data"
    },
    {
     "name": "stderr",
     "output_type": "stream",
     "text": [
      "Epoch 75, global step 27208: 'val_loss' reached 16.63428 (best 16.60600), saving model to '/data2/Mamba/Project/Kaggle/BirdCLEF-2025/cnn_v3/pytorch/train_bce/epoch=75_step=27208_val_roc_auc=0.967_val_cmap_pad=0.842_val_ap=0.841.ckpt' as top 5\n"
     ]
    },
    {
     "name": "stdout",
     "output_type": "stream",
     "text": [
      "epoch 75 validation loss 16.63428022490366\n",
      "epoch 75 validation ROCAUC score 0.9668792608628763\n",
      "epoch 75 validation C-MAP score pad 3 0.842072151370856\n",
      "epoch 75 validation AP score 0.8413931802229768\n"
     ]
    },
    {
     "data": {
      "application/vnd.jupyter.widget-view+json": {
       "model_id": "33052c8739c241f18f7fc547ab78822d",
       "version_major": 2,
       "version_minor": 0
      },
      "text/plain": [
       "Validation: |          | 0/? [00:00<?, ?it/s]"
      ]
     },
     "metadata": {},
     "output_type": "display_data"
    },
    {
     "name": "stderr",
     "output_type": "stream",
     "text": [
      "Epoch 76, global step 27566: 'val_loss' reached 16.70329 (best 16.60600), saving model to '/data2/Mamba/Project/Kaggle/BirdCLEF-2025/cnn_v3/pytorch/train_bce/epoch=76_step=27566_val_roc_auc=0.967_val_cmap_pad=0.842_val_ap=0.844.ckpt' as top 5\n"
     ]
    },
    {
     "name": "stdout",
     "output_type": "stream",
     "text": [
      "epoch 76 validation loss 16.70328688239364\n",
      "epoch 76 validation ROCAUC score 0.9674514634486959\n",
      "epoch 76 validation C-MAP score pad 3 0.8421358474404671\n",
      "epoch 76 validation AP score 0.843950062159318\n"
     ]
    },
    {
     "data": {
      "application/vnd.jupyter.widget-view+json": {
       "model_id": "764c4fab38e44ea28c7853e6a88f22b1",
       "version_major": 2,
       "version_minor": 0
      },
      "text/plain": [
       "Validation: |          | 0/? [00:00<?, ?it/s]"
      ]
     },
     "metadata": {},
     "output_type": "display_data"
    },
    {
     "name": "stderr",
     "output_type": "stream",
     "text": [
      "Epoch 77, global step 27924: 'val_loss' reached 16.43827 (best 16.43827), saving model to '/data2/Mamba/Project/Kaggle/BirdCLEF-2025/cnn_v3/pytorch/train_bce/epoch=77_step=27924_val_roc_auc=0.967_val_cmap_pad=0.843_val_ap=0.844.ckpt' as top 5\n"
     ]
    },
    {
     "name": "stdout",
     "output_type": "stream",
     "text": [
      "epoch 77 validation loss 16.438272147660776\n",
      "epoch 77 validation ROCAUC score 0.9671801516852437\n",
      "epoch 77 validation C-MAP score pad 3 0.8426706023958156\n",
      "epoch 77 validation AP score 0.8439601147998039\n"
     ]
    },
    {
     "data": {
      "application/vnd.jupyter.widget-view+json": {
       "model_id": "d3305b22c6b04012b324aa10a684ac9b",
       "version_major": 2,
       "version_minor": 0
      },
      "text/plain": [
       "Validation: |          | 0/? [00:00<?, ?it/s]"
      ]
     },
     "metadata": {},
     "output_type": "display_data"
    },
    {
     "name": "stderr",
     "output_type": "stream",
     "text": [
      "Epoch 78, global step 28282: 'val_loss' reached 16.70561 (best 16.43827), saving model to '/data2/Mamba/Project/Kaggle/BirdCLEF-2025/cnn_v3/pytorch/train_bce/epoch=78_step=28282_val_roc_auc=0.967_val_cmap_pad=0.842_val_ap=0.845.ckpt' as top 5\n"
     ]
    },
    {
     "name": "stdout",
     "output_type": "stream",
     "text": [
      "epoch 78 validation loss 16.70561418662027\n",
      "epoch 78 validation ROCAUC score 0.9668277105930109\n",
      "epoch 78 validation C-MAP score pad 3 0.8418225513772613\n",
      "epoch 78 validation AP score 0.8446047338181641\n"
     ]
    },
    {
     "data": {
      "application/vnd.jupyter.widget-view+json": {
       "model_id": "03ac446121c947d4be1d24ef42cbe13e",
       "version_major": 2,
       "version_minor": 0
      },
      "text/plain": [
       "Validation: |          | 0/? [00:00<?, ?it/s]"
      ]
     },
     "metadata": {},
     "output_type": "display_data"
    },
    {
     "name": "stderr",
     "output_type": "stream",
     "text": [
      "Epoch 79, global step 28640: 'val_loss' reached 16.57416 (best 16.43827), saving model to '/data2/Mamba/Project/Kaggle/BirdCLEF-2025/cnn_v3/pytorch/train_bce/epoch=79_step=28640_val_roc_auc=0.968_val_cmap_pad=0.842_val_ap=0.844.ckpt' as top 5\n"
     ]
    },
    {
     "name": "stdout",
     "output_type": "stream",
     "text": [
      "epoch 79 validation loss 16.574155638989495\n",
      "epoch 79 validation ROCAUC score 0.9678066446182815\n",
      "epoch 79 validation C-MAP score pad 3 0.842283263388171\n",
      "epoch 79 validation AP score 0.8437033885599492\n"
     ]
    },
    {
     "data": {
      "application/vnd.jupyter.widget-view+json": {
       "model_id": "7415a213f33249bb878910118740fea1",
       "version_major": 2,
       "version_minor": 0
      },
      "text/plain": [
       "Validation: |          | 0/? [00:00<?, ?it/s]"
      ]
     },
     "metadata": {},
     "output_type": "display_data"
    },
    {
     "name": "stderr",
     "output_type": "stream",
     "text": [
      "Epoch 80, global step 28998: 'val_loss' reached 16.61739 (best 16.43827), saving model to '/data2/Mamba/Project/Kaggle/BirdCLEF-2025/cnn_v3/pytorch/train_bce/epoch=80_step=28998_val_roc_auc=0.967_val_cmap_pad=0.843_val_ap=0.845.ckpt' as top 5\n"
     ]
    },
    {
     "name": "stdout",
     "output_type": "stream",
     "text": [
      "epoch 80 validation loss 16.61738734317795\n",
      "epoch 80 validation ROCAUC score 0.967298765313807\n",
      "epoch 80 validation C-MAP score pad 3 0.8432777625418519\n",
      "epoch 80 validation AP score 0.8449890358066792\n"
     ]
    },
    {
     "data": {
      "application/vnd.jupyter.widget-view+json": {
       "model_id": "e4cffd0e259849a88227ca6defcc8de5",
       "version_major": 2,
       "version_minor": 0
      },
      "text/plain": [
       "Validation: |          | 0/? [00:00<?, ?it/s]"
      ]
     },
     "metadata": {},
     "output_type": "display_data"
    },
    {
     "name": "stderr",
     "output_type": "stream",
     "text": [
      "Epoch 81, global step 29356: 'val_loss' reached 16.58084 (best 16.43827), saving model to '/data2/Mamba/Project/Kaggle/BirdCLEF-2025/cnn_v3/pytorch/train_bce/epoch=81_step=29356_val_roc_auc=0.968_val_cmap_pad=0.843_val_ap=0.845.ckpt' as top 5\n"
     ]
    },
    {
     "name": "stdout",
     "output_type": "stream",
     "text": [
      "epoch 81 validation loss 16.580837014279453\n",
      "epoch 81 validation ROCAUC score 0.967590674599191\n",
      "epoch 81 validation C-MAP score pad 3 0.8430484185267848\n",
      "epoch 81 validation AP score 0.8453993022004305\n"
     ]
    },
    {
     "data": {
      "application/vnd.jupyter.widget-view+json": {
       "model_id": "4d159fff238e4b7e9bab78a62567b290",
       "version_major": 2,
       "version_minor": 0
      },
      "text/plain": [
       "Validation: |          | 0/? [00:00<?, ?it/s]"
      ]
     },
     "metadata": {},
     "output_type": "display_data"
    },
    {
     "name": "stderr",
     "output_type": "stream",
     "text": [
      "Epoch 82, global step 29714: 'val_loss' was not in top 5\n"
     ]
    },
    {
     "name": "stdout",
     "output_type": "stream",
     "text": [
      "epoch 82 validation loss 16.771300119878454\n",
      "epoch 82 validation ROCAUC score 0.9675620188468003\n",
      "epoch 82 validation C-MAP score pad 3 0.8437428642810652\n",
      "epoch 82 validation AP score 0.8448749576599549\n"
     ]
    },
    {
     "data": {
      "application/vnd.jupyter.widget-view+json": {
       "model_id": "9ffdbce4f4754af3ae51eacd85cbbeeb",
       "version_major": 2,
       "version_minor": 0
      },
      "text/plain": [
       "Validation: |          | 0/? [00:00<?, ?it/s]"
      ]
     },
     "metadata": {},
     "output_type": "display_data"
    },
    {
     "name": "stderr",
     "output_type": "stream",
     "text": [
      "Epoch 83, global step 30072: 'val_loss' reached 16.54816 (best 16.43827), saving model to '/data2/Mamba/Project/Kaggle/BirdCLEF-2025/cnn_v3/pytorch/train_bce/epoch=83_step=30072_val_roc_auc=0.967_val_cmap_pad=0.843_val_ap=0.844.ckpt' as top 5\n"
     ]
    },
    {
     "name": "stdout",
     "output_type": "stream",
     "text": [
      "epoch 83 validation loss 16.548161191688045\n",
      "epoch 83 validation ROCAUC score 0.9669256012675874\n",
      "epoch 83 validation C-MAP score pad 3 0.8432450393459237\n",
      "epoch 83 validation AP score 0.8441476424821399\n"
     ]
    },
    {
     "data": {
      "application/vnd.jupyter.widget-view+json": {
       "model_id": "f39e8fd4a24b472c89a8ea9c50c9665b",
       "version_major": 2,
       "version_minor": 0
      },
      "text/plain": [
       "Validation: |          | 0/? [00:00<?, ?it/s]"
      ]
     },
     "metadata": {},
     "output_type": "display_data"
    },
    {
     "name": "stderr",
     "output_type": "stream",
     "text": [
      "Epoch 84, global step 30430: 'val_loss' was not in top 5\n"
     ]
    },
    {
     "name": "stdout",
     "output_type": "stream",
     "text": [
      "epoch 84 validation loss 16.770401588740672\n",
      "epoch 84 validation ROCAUC score 0.9679035698543954\n",
      "epoch 84 validation C-MAP score pad 3 0.8444353818132351\n",
      "epoch 84 validation AP score 0.8463532270142605\n"
     ]
    },
    {
     "data": {
      "application/vnd.jupyter.widget-view+json": {
       "model_id": "343831794c8d4d94876a61207ed69cf0",
       "version_major": 2,
       "version_minor": 0
      },
      "text/plain": [
       "Validation: |          | 0/? [00:00<?, ?it/s]"
      ]
     },
     "metadata": {},
     "output_type": "display_data"
    },
    {
     "name": "stderr",
     "output_type": "stream",
     "text": [
      "Epoch 85, global step 30788: 'val_loss' was not in top 5\n"
     ]
    },
    {
     "name": "stdout",
     "output_type": "stream",
     "text": [
      "epoch 85 validation loss 16.736912813096627\n",
      "epoch 85 validation ROCAUC score 0.9677306059438168\n",
      "epoch 85 validation C-MAP score pad 3 0.8452075981460556\n",
      "epoch 85 validation AP score 0.8475192317602112\n"
     ]
    },
    {
     "data": {
      "application/vnd.jupyter.widget-view+json": {
       "model_id": "14bce37c37d1444db97103a2b7ec955b",
       "version_major": 2,
       "version_minor": 0
      },
      "text/plain": [
       "Validation: |          | 0/? [00:00<?, ?it/s]"
      ]
     },
     "metadata": {},
     "output_type": "display_data"
    },
    {
     "name": "stderr",
     "output_type": "stream",
     "text": [
      "Epoch 86, global step 31146: 'val_loss' was not in top 5\n"
     ]
    },
    {
     "name": "stdout",
     "output_type": "stream",
     "text": [
      "epoch 86 validation loss 16.634002881717628\n",
      "epoch 86 validation ROCAUC score 0.9671012548791914\n",
      "epoch 86 validation C-MAP score pad 3 0.8440949178218828\n",
      "epoch 86 validation AP score 0.8456256478524887\n"
     ]
    },
    {
     "data": {
      "application/vnd.jupyter.widget-view+json": {
       "model_id": "1d75f13a77844cd4a68b888d5ee0e705",
       "version_major": 2,
       "version_minor": 0
      },
      "text/plain": [
       "Validation: |          | 0/? [00:00<?, ?it/s]"
      ]
     },
     "metadata": {},
     "output_type": "display_data"
    },
    {
     "name": "stderr",
     "output_type": "stream",
     "text": [
      "Epoch 87, global step 31504: 'val_loss' was not in top 5\n"
     ]
    },
    {
     "name": "stdout",
     "output_type": "stream",
     "text": [
      "epoch 87 validation loss 16.755839525953792\n",
      "epoch 87 validation ROCAUC score 0.9676826733534356\n",
      "epoch 87 validation C-MAP score pad 3 0.8454143092000478\n",
      "epoch 87 validation AP score 0.8481460271110409\n"
     ]
    },
    {
     "data": {
      "application/vnd.jupyter.widget-view+json": {
       "model_id": "1a81490efb38459ebcc96bd8b49b30b7",
       "version_major": 2,
       "version_minor": 0
      },
      "text/plain": [
       "Validation: |          | 0/? [00:00<?, ?it/s]"
      ]
     },
     "metadata": {},
     "output_type": "display_data"
    },
    {
     "name": "stderr",
     "output_type": "stream",
     "text": [
      "Epoch 88, global step 31862: 'val_loss' reached 16.54038 (best 16.43827), saving model to '/data2/Mamba/Project/Kaggle/BirdCLEF-2025/cnn_v3/pytorch/train_bce/epoch=88_step=31862_val_roc_auc=0.967_val_cmap_pad=0.845_val_ap=0.846.ckpt' as top 5\n"
     ]
    },
    {
     "name": "stdout",
     "output_type": "stream",
     "text": [
      "epoch 88 validation loss 16.54038176217416\n",
      "epoch 88 validation ROCAUC score 0.9674948177860258\n",
      "epoch 88 validation C-MAP score pad 3 0.8449354335818358\n",
      "epoch 88 validation AP score 0.8460774302383539\n"
     ]
    },
    {
     "data": {
      "application/vnd.jupyter.widget-view+json": {
       "model_id": "343fc53531e04f8e9666f2088aabda2b",
       "version_major": 2,
       "version_minor": 0
      },
      "text/plain": [
       "Validation: |          | 0/? [00:00<?, ?it/s]"
      ]
     },
     "metadata": {},
     "output_type": "display_data"
    },
    {
     "name": "stderr",
     "output_type": "stream",
     "text": [
      "Epoch 89, global step 32220: 'val_loss' reached 16.46215 (best 16.43827), saving model to '/data2/Mamba/Project/Kaggle/BirdCLEF-2025/cnn_v3/pytorch/train_bce/epoch=89_step=32220_val_roc_auc=0.968_val_cmap_pad=0.845_val_ap=0.848.ckpt' as top 5\n"
     ]
    },
    {
     "name": "stdout",
     "output_type": "stream",
     "text": [
      "epoch 89 validation loss 16.462152376657706\n",
      "epoch 89 validation ROCAUC score 0.9676295781666931\n",
      "epoch 89 validation C-MAP score pad 3 0.8452505621900404\n",
      "epoch 89 validation AP score 0.8478703672891603\n"
     ]
    },
    {
     "data": {
      "application/vnd.jupyter.widget-view+json": {
       "model_id": "eca4a66ff41d4b6f8ebcfb8c53a58527",
       "version_major": 2,
       "version_minor": 0
      },
      "text/plain": [
       "Validation: |          | 0/? [00:00<?, ?it/s]"
      ]
     },
     "metadata": {},
     "output_type": "display_data"
    },
    {
     "name": "stderr",
     "output_type": "stream",
     "text": [
      "Epoch 90, global step 32578: 'val_loss' reached 16.38865 (best 16.38865), saving model to '/data2/Mamba/Project/Kaggle/BirdCLEF-2025/cnn_v3/pytorch/train_bce/epoch=90_step=32578_val_roc_auc=0.968_val_cmap_pad=0.843_val_ap=0.844.ckpt' as top 5\n"
     ]
    },
    {
     "name": "stdout",
     "output_type": "stream",
     "text": [
      "epoch 90 validation loss 16.38865297786659\n",
      "epoch 90 validation ROCAUC score 0.9677311273731163\n",
      "epoch 90 validation C-MAP score pad 3 0.8433991535208714\n",
      "epoch 90 validation AP score 0.8436408932056417\n"
     ]
    },
    {
     "data": {
      "application/vnd.jupyter.widget-view+json": {
       "model_id": "cc6f6674d5064563b1d75785627288ae",
       "version_major": 2,
       "version_minor": 0
      },
      "text/plain": [
       "Validation: |          | 0/? [00:00<?, ?it/s]"
      ]
     },
     "metadata": {},
     "output_type": "display_data"
    },
    {
     "name": "stderr",
     "output_type": "stream",
     "text": [
      "Epoch 91, global step 32936: 'val_loss' reached 16.32560 (best 16.32560), saving model to '/data2/Mamba/Project/Kaggle/BirdCLEF-2025/cnn_v3/pytorch/train_bce/epoch=91_step=32936_val_roc_auc=0.968_val_cmap_pad=0.845_val_ap=0.847.ckpt' as top 5\n"
     ]
    },
    {
     "name": "stdout",
     "output_type": "stream",
     "text": [
      "epoch 91 validation loss 16.32560470730087\n",
      "epoch 91 validation ROCAUC score 0.9681718288705281\n",
      "epoch 91 validation C-MAP score pad 3 0.845116904663672\n",
      "epoch 91 validation AP score 0.8473867740169755\n"
     ]
    },
    {
     "data": {
      "application/vnd.jupyter.widget-view+json": {
       "model_id": "78b1cd203150477789f6bf5cc5cb15da",
       "version_major": 2,
       "version_minor": 0
      },
      "text/plain": [
       "Validation: |          | 0/? [00:00<?, ?it/s]"
      ]
     },
     "metadata": {},
     "output_type": "display_data"
    },
    {
     "name": "stderr",
     "output_type": "stream",
     "text": [
      "Epoch 92, global step 33294: 'val_loss' was not in top 5\n"
     ]
    },
    {
     "name": "stdout",
     "output_type": "stream",
     "text": [
      "epoch 92 validation loss 16.633767463079394\n",
      "epoch 92 validation ROCAUC score 0.9673687261706494\n",
      "epoch 92 validation C-MAP score pad 3 0.8453954254686805\n",
      "epoch 92 validation AP score 0.8472812793802906\n"
     ]
    },
    {
     "data": {
      "application/vnd.jupyter.widget-view+json": {
       "model_id": "5740dbd59eda4e47be0020fb5a769e52",
       "version_major": 2,
       "version_minor": 0
      },
      "text/plain": [
       "Validation: |          | 0/? [00:00<?, ?it/s]"
      ]
     },
     "metadata": {},
     "output_type": "display_data"
    },
    {
     "name": "stderr",
     "output_type": "stream",
     "text": [
      "Epoch 93, global step 33652: 'val_loss' reached 16.35667 (best 16.32560), saving model to '/data2/Mamba/Project/Kaggle/BirdCLEF-2025/cnn_v3/pytorch/train_bce/epoch=93_step=33652_val_roc_auc=0.968_val_cmap_pad=0.846_val_ap=0.848.ckpt' as top 5\n"
     ]
    },
    {
     "name": "stdout",
     "output_type": "stream",
     "text": [
      "epoch 93 validation loss 16.356666793198222\n",
      "epoch 93 validation ROCAUC score 0.9676578111796207\n",
      "epoch 93 validation C-MAP score pad 3 0.8455468521441751\n",
      "epoch 93 validation AP score 0.8479277254921578\n"
     ]
    },
    {
     "data": {
      "application/vnd.jupyter.widget-view+json": {
       "model_id": "21b57790bff644ffab4f06b4fffabf54",
       "version_major": 2,
       "version_minor": 0
      },
      "text/plain": [
       "Validation: |          | 0/? [00:00<?, ?it/s]"
      ]
     },
     "metadata": {},
     "output_type": "display_data"
    },
    {
     "name": "stderr",
     "output_type": "stream",
     "text": [
      "Epoch 94, global step 34010: 'val_loss' reached 16.38028 (best 16.32560), saving model to '/data2/Mamba/Project/Kaggle/BirdCLEF-2025/cnn_v3/pytorch/train_bce/epoch=94_step=34010_val_roc_auc=0.968_val_cmap_pad=0.845_val_ap=0.848.ckpt' as top 5\n"
     ]
    },
    {
     "name": "stdout",
     "output_type": "stream",
     "text": [
      "epoch 94 validation loss 16.380275638117414\n",
      "epoch 94 validation ROCAUC score 0.9679929630632775\n",
      "epoch 94 validation C-MAP score pad 3 0.8447746934657359\n",
      "epoch 94 validation AP score 0.8475771962149306\n"
     ]
    },
    {
     "data": {
      "application/vnd.jupyter.widget-view+json": {
       "model_id": "ef6d3b3530674c388293a2d446f9823c",
       "version_major": 2,
       "version_minor": 0
      },
      "text/plain": [
       "Validation: |          | 0/? [00:00<?, ?it/s]"
      ]
     },
     "metadata": {},
     "output_type": "display_data"
    },
    {
     "name": "stderr",
     "output_type": "stream",
     "text": [
      "Epoch 95, global step 34368: 'val_loss' was not in top 5\n"
     ]
    },
    {
     "name": "stdout",
     "output_type": "stream",
     "text": [
      "epoch 95 validation loss 16.453337249983992\n",
      "epoch 95 validation ROCAUC score 0.9679015890061177\n",
      "epoch 95 validation C-MAP score pad 3 0.8453473104589951\n",
      "epoch 95 validation AP score 0.8488640241891512\n"
     ]
    },
    {
     "data": {
      "application/vnd.jupyter.widget-view+json": {
       "model_id": "99e039b227c848b8b48f49c9a6310e83",
       "version_major": 2,
       "version_minor": 0
      },
      "text/plain": [
       "Validation: |          | 0/? [00:00<?, ?it/s]"
      ]
     },
     "metadata": {},
     "output_type": "display_data"
    },
    {
     "name": "stderr",
     "output_type": "stream",
     "text": [
      "Epoch 96, global step 34726: 'val_loss' reached 16.29009 (best 16.29009), saving model to '/data2/Mamba/Project/Kaggle/BirdCLEF-2025/cnn_v3/pytorch/train_bce/epoch=96_step=34726_val_roc_auc=0.968_val_cmap_pad=0.845_val_ap=0.846.ckpt' as top 5\n"
     ]
    },
    {
     "name": "stdout",
     "output_type": "stream",
     "text": [
      "epoch 96 validation loss 16.290092110146986\n",
      "epoch 96 validation ROCAUC score 0.96758919483481\n",
      "epoch 96 validation C-MAP score pad 3 0.8446234268628514\n",
      "epoch 96 validation AP score 0.8464409277992073\n"
     ]
    },
    {
     "data": {
      "application/vnd.jupyter.widget-view+json": {
       "model_id": "db2ace77babf44d78fde1c837828b0c4",
       "version_major": 2,
       "version_minor": 0
      },
      "text/plain": [
       "Validation: |          | 0/? [00:00<?, ?it/s]"
      ]
     },
     "metadata": {},
     "output_type": "display_data"
    },
    {
     "name": "stderr",
     "output_type": "stream",
     "text": [
      "Epoch 97, global step 35084: 'val_loss' was not in top 5\n"
     ]
    },
    {
     "name": "stdout",
     "output_type": "stream",
     "text": [
      "epoch 97 validation loss 16.615873432877283\n",
      "epoch 97 validation ROCAUC score 0.9679321080342571\n",
      "epoch 97 validation C-MAP score pad 3 0.844890414911834\n",
      "epoch 97 validation AP score 0.8477362040897546\n"
     ]
    },
    {
     "data": {
      "application/vnd.jupyter.widget-view+json": {
       "model_id": "11149f5b72fc4ec2b57bc96e141bb203",
       "version_major": 2,
       "version_minor": 0
      },
      "text/plain": [
       "Validation: |          | 0/? [00:00<?, ?it/s]"
      ]
     },
     "metadata": {},
     "output_type": "display_data"
    },
    {
     "name": "stderr",
     "output_type": "stream",
     "text": [
      "Epoch 98, global step 35442: 'val_loss' was not in top 5\n"
     ]
    },
    {
     "name": "stdout",
     "output_type": "stream",
     "text": [
      "epoch 98 validation loss 16.575440116662428\n",
      "epoch 98 validation ROCAUC score 0.9680289613548214\n",
      "epoch 98 validation C-MAP score pad 3 0.8454693770595485\n",
      "epoch 98 validation AP score 0.8489423005125076\n"
     ]
    },
    {
     "data": {
      "application/vnd.jupyter.widget-view+json": {
       "model_id": "7288d178205a4d66b5c2c49a1cb4b3b7",
       "version_major": 2,
       "version_minor": 0
      },
      "text/plain": [
       "Validation: |          | 0/? [00:00<?, ?it/s]"
      ]
     },
     "metadata": {},
     "output_type": "display_data"
    },
    {
     "name": "stderr",
     "output_type": "stream",
     "text": [
      "Epoch 99, global step 35800: 'val_loss' reached 16.32324 (best 16.29009), saving model to '/data2/Mamba/Project/Kaggle/BirdCLEF-2025/cnn_v3/pytorch/train_bce/epoch=99_step=35800_val_roc_auc=0.968_val_cmap_pad=0.845_val_ap=0.847.ckpt' as top 5\n"
     ]
    },
    {
     "name": "stdout",
     "output_type": "stream",
     "text": [
      "epoch 99 validation loss 16.323242330703035\n",
      "epoch 99 validation ROCAUC score 0.9679425552102743\n",
      "epoch 99 validation C-MAP score pad 3 0.8454604318825567\n",
      "epoch 99 validation AP score 0.8472050944312408\n"
     ]
    },
    {
     "name": "stderr",
     "output_type": "stream",
     "text": [
      "`Trainer.fit` stopped: `max_epochs=100` reached.\n"
     ]
    },
    {
     "ename": "",
     "evalue": "",
     "output_type": "error",
     "traceback": [
      "\u001b[1;31m在当前单元格或上一个单元格中执行代码时 Kernel 崩溃。\n",
      "\u001b[1;31m请查看单元格中的代码，以确定故障的可能原因。\n",
      "\u001b[1;31m单击<a href='https://aka.ms/vscodeJupyterKernelCrash'>此处</a>了解详细信息。\n",
      "\u001b[1;31m有关更多详细信息，请查看 Jupyter <a href='command:jupyter.viewOutput'>log</a>。"
     ]
    }
   ],
   "source": [
    "trainer.fit(model, train_dataloaders=dl_train, val_dataloaders=dl_val)"
   ]
  }
 ],
 "metadata": {
  "kernelspec": {
   "display_name": "CZII",
   "language": "python",
   "name": "python3"
  },
  "language_info": {
   "codemirror_mode": {
    "name": "ipython",
    "version": 3
   },
   "file_extension": ".py",
   "mimetype": "text/x-python",
   "name": "python",
   "nbconvert_exporter": "python",
   "pygments_lexer": "ipython3",
   "version": "3.11.12"
  }
 },
 "nbformat": 4,
 "nbformat_minor": 2
}
