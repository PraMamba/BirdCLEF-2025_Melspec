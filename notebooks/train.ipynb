{
 "cells": [
  {
   "cell_type": "code",
   "execution_count": 1,
   "metadata": {},
   "outputs": [],
   "source": [
    "import os\n",
    "import sys\n",
    "sys.path.append('/home/guangp/BirdCLEF-2025_Melspec')\n",
    "\n",
    "import warnings\n",
    "warnings.filterwarnings('ignore')\n",
    "\n",
    "os.environ[\"CUDA_VISIBLE_DEVICES\"] = \"1,3\""
   ]
  },
  {
   "cell_type": "code",
   "execution_count": 2,
   "metadata": {
    "metadata": {}
   },
   "outputs": [],
   "source": [
    "import pytorch_lightning as pl\n",
    "from pytorch_lightning.loggers import WandbLogger\n",
    "from pytorch_lightning.callbacks import ModelCheckpoint, BackboneFinetuning, EarlyStopping\n",
    "\n",
    "import torch\n",
    "import torch.nn as nn\n",
    "import torch.nn.functional as F\n",
    "from torch.utils.data import Dataset\n",
    "\n",
    "import importlib\n",
    "from pathlib import Path\n",
    "import numpy as np\n",
    "import glob\n",
    "import timm\n",
    "import pandas as pd\n",
    "import torchaudio as ta\n",
    "\n",
    "from modules.preprocess import preprocess, prepare_cfg\n",
    "from modules.dataset import get_train_dataloader\n",
    "from modules.model import load_model\n",
    "import modules.inception_next_nano"
   ]
  },
  {
   "cell_type": "code",
   "execution_count": 3,
   "metadata": {},
   "outputs": [
    {
     "name": "stdout",
     "output_type": "stream",
     "text": [
      "/home/guangp/BirdCLEF-2025_Melspec\n"
     ]
    }
   ],
   "source": [
    "# move to repo root\n",
    "cur_dir = Path().resolve()\n",
    "\n",
    "if not (cur_dir / \"notebooks\").exists():\n",
    "    os.chdir(os.path.abspath(\"../\"))\n",
    "print(f\"{Path().resolve()}\")"
   ]
  },
  {
   "cell_type": "code",
   "execution_count": 4,
   "metadata": {},
   "outputs": [
    {
     "name": "stderr",
     "output_type": "stream",
     "text": [
      "Seed set to 20231911\n"
     ]
    },
    {
     "data": {
      "text/plain": [
       "20231911"
      ]
     },
     "execution_count": 4,
     "metadata": {},
     "output_type": "execute_result"
    }
   ],
   "source": [
    "model_name = \"cnn_v1\"\n",
    "stage = \"train_bce\"\n",
    "\n",
    "cfg = importlib.import_module(f'configs.{model_name}').basic_cfg\n",
    "cfg = prepare_cfg(cfg, stage)\n",
    "\n",
    "pl.seed_everything(cfg.seed[stage], workers=True)"
   ]
  },
  {
   "cell_type": "code",
   "execution_count": 5,
   "metadata": {
    "metadata": {}
   },
   "outputs": [
    {
     "data": {
      "text/plain": [
       "(22851, 5713)"
      ]
     },
     "execution_count": 5,
     "metadata": {},
     "output_type": "execute_result"
    }
   ],
   "source": [
    "df_train, df_valid, df_label_train, df_label_valid, transforms = preprocess(cfg, stage)\n",
    "df_train[\"version\"] = \"2023\"\n",
    "df_valid[\"version\"] = \"2023\"\n",
    "len(df_train), len(df_valid)"
   ]
  },
  {
   "cell_type": "code",
   "execution_count": 6,
   "metadata": {},
   "outputs": [
    {
     "data": {
      "text/html": [
       "<div>\n",
       "<style scoped>\n",
       "    .dataframe tbody tr th:only-of-type {\n",
       "        vertical-align: middle;\n",
       "    }\n",
       "\n",
       "    .dataframe tbody tr th {\n",
       "        vertical-align: top;\n",
       "    }\n",
       "\n",
       "    .dataframe thead th {\n",
       "        text-align: right;\n",
       "    }\n",
       "</style>\n",
       "<table border=\"1\" class=\"dataframe\">\n",
       "  <thead>\n",
       "    <tr style=\"text-align: right;\">\n",
       "      <th></th>\n",
       "      <th>primary_label</th>\n",
       "      <th>secondary_labels</th>\n",
       "      <th>type</th>\n",
       "      <th>filename</th>\n",
       "      <th>collection</th>\n",
       "      <th>rating</th>\n",
       "      <th>url</th>\n",
       "      <th>latitude</th>\n",
       "      <th>longitude</th>\n",
       "      <th>scientific_name</th>\n",
       "      <th>...</th>\n",
       "      <th>author</th>\n",
       "      <th>license</th>\n",
       "      <th>path</th>\n",
       "      <th>duration</th>\n",
       "      <th>sr</th>\n",
       "      <th>max_amplitude</th>\n",
       "      <th>duration_sec</th>\n",
       "      <th>weight</th>\n",
       "      <th>presence_type</th>\n",
       "      <th>version</th>\n",
       "    </tr>\n",
       "  </thead>\n",
       "  <tbody>\n",
       "    <tr>\n",
       "      <th>0</th>\n",
       "      <td>yehcar1</td>\n",
       "      <td>[]</td>\n",
       "      <td>['call']</td>\n",
       "      <td>yehcar1/XC674420.ogg</td>\n",
       "      <td>XC</td>\n",
       "      <td>5.0</td>\n",
       "      <td>https://xeno-canto.org/674420</td>\n",
       "      <td>-21.7357</td>\n",
       "      <td>-43.3693</td>\n",
       "      <td>Milvago chimachima</td>\n",
       "      <td>...</td>\n",
       "      <td>Marco Manhães</td>\n",
       "      <td>cc-by-nc-sa 4.0</td>\n",
       "      <td>/data1/Mamba/Kaggle/BirdCLEF-2025/Data_Raw/tra...</td>\n",
       "      <td>1453248</td>\n",
       "      <td>22050</td>\n",
       "      <td>1.005431</td>\n",
       "      <td>65.906939</td>\n",
       "      <td>0.330124</td>\n",
       "      <td>foreground</td>\n",
       "      <td>2023</td>\n",
       "    </tr>\n",
       "    <tr>\n",
       "      <th>1</th>\n",
       "      <td>rutjac1</td>\n",
       "      <td>[rumfly1]</td>\n",
       "      <td>['song']</td>\n",
       "      <td>rutjac1/XC261831.ogg</td>\n",
       "      <td>XC</td>\n",
       "      <td>4.5</td>\n",
       "      <td>https://xeno-canto.org/261831</td>\n",
       "      <td>0.8830</td>\n",
       "      <td>-78.8000</td>\n",
       "      <td>Galbula ruficauda</td>\n",
       "      <td>...</td>\n",
       "      <td>Olaf Jahn</td>\n",
       "      <td>cc-by-nc-sa 4.0</td>\n",
       "      <td>/data1/Mamba/Kaggle/BirdCLEF-2025/Data_Raw/tra...</td>\n",
       "      <td>563904</td>\n",
       "      <td>22050</td>\n",
       "      <td>0.440904</td>\n",
       "      <td>25.573878</td>\n",
       "      <td>0.315243</td>\n",
       "      <td>foreground</td>\n",
       "      <td>2023</td>\n",
       "    </tr>\n",
       "    <tr>\n",
       "      <th>2</th>\n",
       "      <td>grekis</td>\n",
       "      <td>[]</td>\n",
       "      <td>['song']</td>\n",
       "      <td>grekis/XC576073.ogg</td>\n",
       "      <td>XC</td>\n",
       "      <td>4.0</td>\n",
       "      <td>https://xeno-canto.org/576073</td>\n",
       "      <td>14.3572</td>\n",
       "      <td>-87.6545</td>\n",
       "      <td>Pitangus sulphuratus</td>\n",
       "      <td>...</td>\n",
       "      <td>Mario Reyes Jr</td>\n",
       "      <td>cc-by-nc-sa 4.0</td>\n",
       "      <td>/data1/Mamba/Kaggle/BirdCLEF-2025/Data_Raw/tra...</td>\n",
       "      <td>973440</td>\n",
       "      <td>22050</td>\n",
       "      <td>0.666072</td>\n",
       "      <td>44.146939</td>\n",
       "      <td>0.161863</td>\n",
       "      <td>foreground</td>\n",
       "      <td>2023</td>\n",
       "    </tr>\n",
       "    <tr>\n",
       "      <th>3</th>\n",
       "      <td>rutjac1</td>\n",
       "      <td>[]</td>\n",
       "      <td>['song']</td>\n",
       "      <td>rutjac1/XC298078.ogg</td>\n",
       "      <td>XC</td>\n",
       "      <td>4.0</td>\n",
       "      <td>https://xeno-canto.org/298078</td>\n",
       "      <td>7.8273</td>\n",
       "      <td>-72.6175</td>\n",
       "      <td>Galbula ruficauda</td>\n",
       "      <td>...</td>\n",
       "      <td>Oscar Laverde</td>\n",
       "      <td>cc-by-nc-sa 4.0</td>\n",
       "      <td>/data1/Mamba/Kaggle/BirdCLEF-2025/Data_Raw/tra...</td>\n",
       "      <td>444673</td>\n",
       "      <td>22050</td>\n",
       "      <td>0.101076</td>\n",
       "      <td>20.166576</td>\n",
       "      <td>0.315243</td>\n",
       "      <td>foreground</td>\n",
       "      <td>2023</td>\n",
       "    </tr>\n",
       "    <tr>\n",
       "      <th>4</th>\n",
       "      <td>rumfly1</td>\n",
       "      <td>[]</td>\n",
       "      <td>['duet', 'song']</td>\n",
       "      <td>rumfly1/XC54522.ogg</td>\n",
       "      <td>XC</td>\n",
       "      <td>4.0</td>\n",
       "      <td>https://xeno-canto.org/54522</td>\n",
       "      <td>NaN</td>\n",
       "      <td>NaN</td>\n",
       "      <td>Myiozetetes cayanensis</td>\n",
       "      <td>...</td>\n",
       "      <td>Bernabe Lopez-Lanus</td>\n",
       "      <td>cc-by-nc-sa 3.0</td>\n",
       "      <td>/data1/Mamba/Kaggle/BirdCLEF-2025/Data_Raw/tra...</td>\n",
       "      <td>474625</td>\n",
       "      <td>22050</td>\n",
       "      <td>0.555774</td>\n",
       "      <td>21.524943</td>\n",
       "      <td>0.331520</td>\n",
       "      <td>foreground</td>\n",
       "      <td>2023</td>\n",
       "    </tr>\n",
       "    <tr>\n",
       "      <th>...</th>\n",
       "      <td>...</td>\n",
       "      <td>...</td>\n",
       "      <td>...</td>\n",
       "      <td>...</td>\n",
       "      <td>...</td>\n",
       "      <td>...</td>\n",
       "      <td>...</td>\n",
       "      <td>...</td>\n",
       "      <td>...</td>\n",
       "      <td>...</td>\n",
       "      <td>...</td>\n",
       "      <td>...</td>\n",
       "      <td>...</td>\n",
       "      <td>...</td>\n",
       "      <td>...</td>\n",
       "      <td>...</td>\n",
       "      <td>...</td>\n",
       "      <td>...</td>\n",
       "      <td>...</td>\n",
       "      <td>...</td>\n",
       "      <td>...</td>\n",
       "    </tr>\n",
       "    <tr>\n",
       "      <th>22846</th>\n",
       "      <td>linwoo1</td>\n",
       "      <td>[]</td>\n",
       "      <td>['drumming']</td>\n",
       "      <td>linwoo1/XC78185.ogg</td>\n",
       "      <td>XC</td>\n",
       "      <td>3.0</td>\n",
       "      <td>https://xeno-canto.org/78185</td>\n",
       "      <td>-19.1824</td>\n",
       "      <td>-48.3936</td>\n",
       "      <td>Dryocopus lineatus</td>\n",
       "      <td>...</td>\n",
       "      <td>Bob Planque</td>\n",
       "      <td>cc-by-nc-sa 3.0</td>\n",
       "      <td>/data1/Mamba/Kaggle/BirdCLEF-2025/Data_Raw/tra...</td>\n",
       "      <td>221761</td>\n",
       "      <td>22050</td>\n",
       "      <td>0.652465</td>\n",
       "      <td>10.057188</td>\n",
       "      <td>0.280355</td>\n",
       "      <td>foreground</td>\n",
       "      <td>2023</td>\n",
       "    </tr>\n",
       "    <tr>\n",
       "      <th>22847</th>\n",
       "      <td>socfly1</td>\n",
       "      <td>[]</td>\n",
       "      <td>['']</td>\n",
       "      <td>socfly1/iNat880781.ogg</td>\n",
       "      <td>iNat</td>\n",
       "      <td>0.0</td>\n",
       "      <td>https://static.inaturalist.org/sounds/880781.mp3</td>\n",
       "      <td>-18.8302</td>\n",
       "      <td>-40.6809</td>\n",
       "      <td>Myiozetetes similis</td>\n",
       "      <td>...</td>\n",
       "      <td>Vitor Corrêa Dias</td>\n",
       "      <td>cc-by-nc 4.0</td>\n",
       "      <td>/data1/Mamba/Kaggle/BirdCLEF-2025/Data_Raw/tra...</td>\n",
       "      <td>110603</td>\n",
       "      <td>22050</td>\n",
       "      <td>0.051320</td>\n",
       "      <td>5.016009</td>\n",
       "      <td>0.218558</td>\n",
       "      <td>foreground</td>\n",
       "      <td>2023</td>\n",
       "    </tr>\n",
       "    <tr>\n",
       "      <th>22848</th>\n",
       "      <td>greani1</td>\n",
       "      <td>[]</td>\n",
       "      <td>['call']</td>\n",
       "      <td>greani1/XC14741.ogg</td>\n",
       "      <td>XC</td>\n",
       "      <td>3.0</td>\n",
       "      <td>https://xeno-canto.org/14741</td>\n",
       "      <td>-3.2231</td>\n",
       "      <td>-59.8664</td>\n",
       "      <td>Crotophaga major</td>\n",
       "      <td>...</td>\n",
       "      <td>Nick Athanas</td>\n",
       "      <td>cc-by-nc-sa 3.0</td>\n",
       "      <td>/data1/Mamba/Kaggle/BirdCLEF-2025/Data_Raw/tra...</td>\n",
       "      <td>793729</td>\n",
       "      <td>22050</td>\n",
       "      <td>0.865305</td>\n",
       "      <td>35.996780</td>\n",
       "      <td>0.451922</td>\n",
       "      <td>foreground</td>\n",
       "      <td>2023</td>\n",
       "    </tr>\n",
       "    <tr>\n",
       "      <th>22849</th>\n",
       "      <td>grekis</td>\n",
       "      <td>[]</td>\n",
       "      <td>['song']</td>\n",
       "      <td>grekis/XC714034.ogg</td>\n",
       "      <td>XC</td>\n",
       "      <td>4.0</td>\n",
       "      <td>https://xeno-canto.org/714034</td>\n",
       "      <td>-23.7995</td>\n",
       "      <td>-46.0230</td>\n",
       "      <td>Pitangus sulphuratus</td>\n",
       "      <td>...</td>\n",
       "      <td>Fernando Igor de Godoy</td>\n",
       "      <td>cc-by-nc-sa 4.0</td>\n",
       "      <td>/data1/Mamba/Kaggle/BirdCLEF-2025/Data_Raw/tra...</td>\n",
       "      <td>1323648</td>\n",
       "      <td>22050</td>\n",
       "      <td>0.191671</td>\n",
       "      <td>60.029388</td>\n",
       "      <td>0.161863</td>\n",
       "      <td>foreground</td>\n",
       "      <td>2023</td>\n",
       "    </tr>\n",
       "    <tr>\n",
       "      <th>22850</th>\n",
       "      <td>bbwduc</td>\n",
       "      <td>[]</td>\n",
       "      <td>['']</td>\n",
       "      <td>bbwduc/iNat1235273.ogg</td>\n",
       "      <td>iNat</td>\n",
       "      <td>0.0</td>\n",
       "      <td>https://static.inaturalist.org/sounds/1235273.m4a</td>\n",
       "      <td>29.9313</td>\n",
       "      <td>-90.1238</td>\n",
       "      <td>Dendrocygna autumnalis</td>\n",
       "      <td>...</td>\n",
       "      <td>Unknown</td>\n",
       "      <td>cc-by-nc 4.0</td>\n",
       "      <td>/data1/Mamba/Kaggle/BirdCLEF-2025/Data_Raw/tra...</td>\n",
       "      <td>251905</td>\n",
       "      <td>22050</td>\n",
       "      <td>0.151951</td>\n",
       "      <td>11.424263</td>\n",
       "      <td>0.247333</td>\n",
       "      <td>foreground</td>\n",
       "      <td>2023</td>\n",
       "    </tr>\n",
       "  </tbody>\n",
       "</table>\n",
       "<p>22851 rows × 21 columns</p>\n",
       "</div>"
      ],
      "text/plain": [
       "      primary_label secondary_labels              type  \\\n",
       "0           yehcar1               []          ['call']   \n",
       "1           rutjac1        [rumfly1]          ['song']   \n",
       "2            grekis               []          ['song']   \n",
       "3           rutjac1               []          ['song']   \n",
       "4           rumfly1               []  ['duet', 'song']   \n",
       "...             ...              ...               ...   \n",
       "22846       linwoo1               []      ['drumming']   \n",
       "22847       socfly1               []              ['']   \n",
       "22848       greani1               []          ['call']   \n",
       "22849        grekis               []          ['song']   \n",
       "22850        bbwduc               []              ['']   \n",
       "\n",
       "                     filename collection  rating  \\\n",
       "0        yehcar1/XC674420.ogg         XC     5.0   \n",
       "1        rutjac1/XC261831.ogg         XC     4.5   \n",
       "2         grekis/XC576073.ogg         XC     4.0   \n",
       "3        rutjac1/XC298078.ogg         XC     4.0   \n",
       "4         rumfly1/XC54522.ogg         XC     4.0   \n",
       "...                       ...        ...     ...   \n",
       "22846     linwoo1/XC78185.ogg         XC     3.0   \n",
       "22847  socfly1/iNat880781.ogg       iNat     0.0   \n",
       "22848     greani1/XC14741.ogg         XC     3.0   \n",
       "22849     grekis/XC714034.ogg         XC     4.0   \n",
       "22850  bbwduc/iNat1235273.ogg       iNat     0.0   \n",
       "\n",
       "                                                     url  latitude  longitude  \\\n",
       "0                          https://xeno-canto.org/674420  -21.7357   -43.3693   \n",
       "1                          https://xeno-canto.org/261831    0.8830   -78.8000   \n",
       "2                          https://xeno-canto.org/576073   14.3572   -87.6545   \n",
       "3                          https://xeno-canto.org/298078    7.8273   -72.6175   \n",
       "4                           https://xeno-canto.org/54522       NaN        NaN   \n",
       "...                                                  ...       ...        ...   \n",
       "22846                       https://xeno-canto.org/78185  -19.1824   -48.3936   \n",
       "22847   https://static.inaturalist.org/sounds/880781.mp3  -18.8302   -40.6809   \n",
       "22848                       https://xeno-canto.org/14741   -3.2231   -59.8664   \n",
       "22849                      https://xeno-canto.org/714034  -23.7995   -46.0230   \n",
       "22850  https://static.inaturalist.org/sounds/1235273.m4a   29.9313   -90.1238   \n",
       "\n",
       "              scientific_name  ...                  author          license  \\\n",
       "0          Milvago chimachima  ...           Marco Manhães  cc-by-nc-sa 4.0   \n",
       "1           Galbula ruficauda  ...               Olaf Jahn  cc-by-nc-sa 4.0   \n",
       "2        Pitangus sulphuratus  ...          Mario Reyes Jr  cc-by-nc-sa 4.0   \n",
       "3           Galbula ruficauda  ...           Oscar Laverde  cc-by-nc-sa 4.0   \n",
       "4      Myiozetetes cayanensis  ...     Bernabe Lopez-Lanus  cc-by-nc-sa 3.0   \n",
       "...                       ...  ...                     ...              ...   \n",
       "22846      Dryocopus lineatus  ...             Bob Planque  cc-by-nc-sa 3.0   \n",
       "22847     Myiozetetes similis  ...       Vitor Corrêa Dias     cc-by-nc 4.0   \n",
       "22848        Crotophaga major  ...            Nick Athanas  cc-by-nc-sa 3.0   \n",
       "22849    Pitangus sulphuratus  ...  Fernando Igor de Godoy  cc-by-nc-sa 4.0   \n",
       "22850  Dendrocygna autumnalis  ...                 Unknown     cc-by-nc 4.0   \n",
       "\n",
       "                                                    path duration     sr  \\\n",
       "0      /data1/Mamba/Kaggle/BirdCLEF-2025/Data_Raw/tra...  1453248  22050   \n",
       "1      /data1/Mamba/Kaggle/BirdCLEF-2025/Data_Raw/tra...   563904  22050   \n",
       "2      /data1/Mamba/Kaggle/BirdCLEF-2025/Data_Raw/tra...   973440  22050   \n",
       "3      /data1/Mamba/Kaggle/BirdCLEF-2025/Data_Raw/tra...   444673  22050   \n",
       "4      /data1/Mamba/Kaggle/BirdCLEF-2025/Data_Raw/tra...   474625  22050   \n",
       "...                                                  ...      ...    ...   \n",
       "22846  /data1/Mamba/Kaggle/BirdCLEF-2025/Data_Raw/tra...   221761  22050   \n",
       "22847  /data1/Mamba/Kaggle/BirdCLEF-2025/Data_Raw/tra...   110603  22050   \n",
       "22848  /data1/Mamba/Kaggle/BirdCLEF-2025/Data_Raw/tra...   793729  22050   \n",
       "22849  /data1/Mamba/Kaggle/BirdCLEF-2025/Data_Raw/tra...  1323648  22050   \n",
       "22850  /data1/Mamba/Kaggle/BirdCLEF-2025/Data_Raw/tra...   251905  22050   \n",
       "\n",
       "       max_amplitude  duration_sec    weight  presence_type version  \n",
       "0           1.005431     65.906939  0.330124     foreground    2023  \n",
       "1           0.440904     25.573878  0.315243     foreground    2023  \n",
       "2           0.666072     44.146939  0.161863     foreground    2023  \n",
       "3           0.101076     20.166576  0.315243     foreground    2023  \n",
       "4           0.555774     21.524943  0.331520     foreground    2023  \n",
       "...              ...           ...       ...            ...     ...  \n",
       "22846       0.652465     10.057188  0.280355     foreground    2023  \n",
       "22847       0.051320      5.016009  0.218558     foreground    2023  \n",
       "22848       0.865305     35.996780  0.451922     foreground    2023  \n",
       "22849       0.191671     60.029388  0.161863     foreground    2023  \n",
       "22850       0.151951     11.424263  0.247333     foreground    2023  \n",
       "\n",
       "[22851 rows x 21 columns]"
      ]
     },
     "execution_count": 6,
     "metadata": {},
     "output_type": "execute_result"
    }
   ],
   "source": [
    "df_train"
   ]
  },
  {
   "cell_type": "code",
   "execution_count": 7,
   "metadata": {},
   "outputs": [
    {
     "data": {
      "text/plain": [
       "22851"
      ]
     },
     "execution_count": 7,
     "metadata": {},
     "output_type": "execute_result"
    }
   ],
   "source": [
    "if cfg.use_2024_additional_cleaned:\n",
    "    # append handlabeled data\n",
    "    df_additional = pd.read_pickle(cfg.train_2024_additional_cleaned)\n",
    "    df_additional[\"version\"] = \"2023\"\n",
    "    df_additional[\"presence_type\"]  = \"foreground\"\n",
    "\n",
    "    # repeating records\n",
    "    df_additional = pd.concat([df_additional] * cfg.num_cleaned_repeat).reset_index(drop=True)\n",
    "\n",
    "    # make one-hot label\n",
    "    add_primary_label = pd.Categorical(df_additional[\"primary_label\"], categories=cfg.bird_cols)\n",
    "    add_primary_label = pd.get_dummies(add_primary_label,  dtype=np.float64)\n",
    "    assert (add_primary_label.columns == df_label_train.columns).all()\n",
    "\n",
    "\n",
    "    df_train = pd.concat([df_train, df_additional]).reset_index(drop=True)\n",
    "    df_label_train = pd.concat([df_label_train, add_primary_label]).reset_index(drop=True)\n",
    "    # df_train.shape\n",
    "\n",
    "    # shuffle\n",
    "    perm_idx = df_train.index.to_series().sample(frac=1, random_state=0)\n",
    "    df_train = df_train.iloc[perm_idx].reset_index(drop=True)\n",
    "    df_label_train = df_label_train.iloc[perm_idx].reset_index(drop=True)\n",
    "\n",
    "    all_primary_labels = df_train[\"primary_label\"]\n",
    "    sample_weights = (\n",
    "        all_primary_labels.value_counts() / \n",
    "        all_primary_labels.value_counts().sum()\n",
    "    )  ** (cfg.class_exponent_weight)\n",
    "    sample_weights = sample_weights / sample_weights.mean()\n",
    "    df_train[\"weight\"] = sample_weights[df_train[\"primary_label\"].values].values\n",
    "\n",
    "len(df_train)"
   ]
  },
  {
   "cell_type": "code",
   "execution_count": 8,
   "metadata": {},
   "outputs": [],
   "source": [
    "pseudo = None\n",
    "dl_train, dl_val, ds_train, ds_val = get_train_dataloader\\\n",
    "    (\n",
    "\t\tdf_train,\n",
    "\t\tdf_valid,\n",
    "\t\tdf_label_train,\n",
    "\t\tdf_label_valid,\n",
    "\t\tcfg,\n",
    "\t\tpseudo,\n",
    "\t\ttransforms\n",
    "    )"
   ]
  },
  {
   "cell_type": "code",
   "execution_count": 9,
   "metadata": {},
   "outputs": [],
   "source": [
    "# batch = next(iter(dl_train))\n",
    "# audio, target, weight = batch\n",
    "# audio.shape, target.shape"
   ]
  },
  {
   "cell_type": "code",
   "execution_count": 10,
   "metadata": {},
   "outputs": [],
   "source": [
    "logger = WandbLogger(project='BirdClef-2025', name=f'{model_name}_{stage}')\n",
    "checkpoint_callback = ModelCheckpoint\\\n",
    "    (\n",
    "\t\tmonitor='val_loss',\n",
    "\t\tdirpath= cfg.output_path[stage],\n",
    "\t\tsave_top_k=5,\n",
    "\t\tsave_last=True,\n",
    "\t\tsave_weights_only=True,\n",
    "\t\tfilename='{epoch}_{step}_{val_roc_auc:.3f}_{val_cmap_pad:.3f}_{val_ap:.3f}',\n",
    "\t\tverbose=True,\n",
    "\t\tevery_n_epochs=1,\n",
    "\t\tmode='min'\n",
    "\t)"
   ]
  },
  {
   "cell_type": "markdown",
   "metadata": {},
   "source": [
    "## Trainer"
   ]
  },
  {
   "cell_type": "code",
   "execution_count": 11,
   "metadata": {},
   "outputs": [],
   "source": [
    "logger = WandbLogger(project='BirdClef-2025', name=f'{model_name}_{stage}')\n",
    "checkpoint_callback = ModelCheckpoint\\\n",
    "    (\n",
    "\t\tmonitor='val_loss',\n",
    "\t\tdirpath= cfg.output_path[stage],\n",
    "\t\tsave_top_k=5,\n",
    "\t\tsave_last=True,\n",
    "\t\tsave_weights_only=True,\n",
    "\t\tfilename='{epoch}_{step}_{val_roc_auc:.3f}_{val_cmap_pad:.3f}_{val_ap:.3f}',\n",
    "\t\tverbose=True,\n",
    "\t\tevery_n_epochs=1,\n",
    "\t\tmode='min'\n",
    "\t)"
   ]
  },
  {
   "cell_type": "code",
   "execution_count": 12,
   "metadata": {},
   "outputs": [
    {
     "name": "stderr",
     "output_type": "stream",
     "text": [
      "Using bfloat16 Automatic Mixed Precision (AMP)\n",
      "GPU available: True (cuda), used: True\n",
      "TPU available: False, using: 0 TPU cores\n",
      "HPU available: False, using: 0 HPUs\n",
      "`Trainer(val_check_interval=1.0)` was configured so validation will run at the end of the training epoch..\n"
     ]
    }
   ],
   "source": [
    "callbacks_to_use = [checkpoint_callback]\n",
    "model = load_model(cfg,stage)\n",
    "trainer = pl.Trainer\\\n",
    "    (\n",
    "\t\tdevices=1,\n",
    "\t\tval_check_interval=1.0,\n",
    "\t\tdeterministic=None,\n",
    "\t\tmax_epochs=cfg.epochs[stage],\n",
    "\t\tlogger=logger,\n",
    "\t\tcallbacks=callbacks_to_use,\n",
    "\t\tprecision=cfg.PRECISION, \n",
    "\t\taccelerator=\"auto\",\n",
    "\t)"
   ]
  },
  {
   "cell_type": "code",
   "execution_count": 13,
   "metadata": {},
   "outputs": [
    {
     "name": "stderr",
     "output_type": "stream",
     "text": [
      "You are using a CUDA device ('NVIDIA A800 80GB PCIe') that has Tensor Cores. To properly utilize them, you should set `torch.set_float32_matmul_precision('medium' | 'high')` which will trade-off precision for performance. For more details, read https://pytorch.org/docs/stable/generated/torch.set_float32_matmul_precision.html#torch.set_float32_matmul_precision\n",
      "\u001b[34m\u001b[1mwandb\u001b[0m: Currently logged in as: \u001b[33mliguangpeng9495\u001b[0m to \u001b[32mhttps://api.wandb.ai\u001b[0m. Use \u001b[1m`wandb login --relogin`\u001b[0m to force relogin\n"
     ]
    },
    {
     "data": {
      "text/html": [
       "Tracking run with wandb version 0.19.10"
      ],
      "text/plain": [
       "<IPython.core.display.HTML object>"
      ]
     },
     "metadata": {},
     "output_type": "display_data"
    },
    {
     "data": {
      "text/html": [
       "Run data is saved locally in <code>./wandb/run-20250518_060826-j62q1np5</code>"
      ],
      "text/plain": [
       "<IPython.core.display.HTML object>"
      ]
     },
     "metadata": {},
     "output_type": "display_data"
    },
    {
     "data": {
      "text/html": [
       "Syncing run <strong><a href='https://wandb.ai/liguangpeng9495/BirdClef-2025/runs/j62q1np5' target=\"_blank\">cnn_v1_train_bce</a></strong> to <a href='https://wandb.ai/liguangpeng9495/BirdClef-2025' target=\"_blank\">Weights & Biases</a> (<a href='https://wandb.me/developer-guide' target=\"_blank\">docs</a>)<br>"
      ],
      "text/plain": [
       "<IPython.core.display.HTML object>"
      ]
     },
     "metadata": {},
     "output_type": "display_data"
    },
    {
     "data": {
      "text/html": [
       " View project at <a href='https://wandb.ai/liguangpeng9495/BirdClef-2025' target=\"_blank\">https://wandb.ai/liguangpeng9495/BirdClef-2025</a>"
      ],
      "text/plain": [
       "<IPython.core.display.HTML object>"
      ]
     },
     "metadata": {},
     "output_type": "display_data"
    },
    {
     "data": {
      "text/html": [
       " View run at <a href='https://wandb.ai/liguangpeng9495/BirdClef-2025/runs/j62q1np5' target=\"_blank\">https://wandb.ai/liguangpeng9495/BirdClef-2025/runs/j62q1np5</a>"
      ],
      "text/plain": [
       "<IPython.core.display.HTML object>"
      ]
     },
     "metadata": {},
     "output_type": "display_data"
    },
    {
     "name": "stderr",
     "output_type": "stream",
     "text": [
      "LOCAL_RANK: 0 - CUDA_VISIBLE_DEVICES: [1,3]\n",
      "\n",
      "   | Name                | Type             | Params | Mode \n",
      "------------------------------------------------------------------\n",
      "0  | loss_function       | FocalLoss        | 1      | train\n",
      "1  | mixup               | Mixup            | 0      | train\n",
      "2  | mixup2              | Mixup2           | 0      | train\n",
      "3  | audio_transforms    | Compose          | 0      | train\n",
      "4  | time_mask_transform | TimeMasking      | 0      | train\n",
      "5  | freq_mask_transform | FrequencyMasking | 0      | train\n",
      "6  | melspec_transform   | MelSpectrogram   | 0      | train\n",
      "7  | db_transform        | AmplitudeToDB    | 0      | train\n",
      "8  | backbone            | EfficientNet     | 4.0 M  | train\n",
      "9  | global_pool         | GeM              | 1      | train\n",
      "10 | head                | Linear           | 263 K  | train\n",
      "11 | big_dropout         | Dropout          | 0      | train\n",
      "------------------------------------------------------------------\n",
      "4.3 M     Trainable params\n",
      "1         Non-trainable params\n",
      "4.3 M     Total params\n",
      "17.083    Total estimated model params size (MB)\n",
      "353       Modules in train mode\n",
      "0         Modules in eval mode\n"
     ]
    },
    {
     "data": {
      "application/vnd.jupyter.widget-view+json": {
       "model_id": "6bb9acc7c8c7424d8977487a5b56a571",
       "version_major": 2,
       "version_minor": 0
      },
      "text/plain": [
       "Sanity Checking: |          | 0/? [00:00<?, ?it/s]"
      ]
     },
     "metadata": {},
     "output_type": "display_data"
    },
    {
     "name": "stdout",
     "output_type": "stream",
     "text": [
      "epoch 0 validation loss 276.17369122938214\n",
      "epoch 0 validation ROCAUC score 0.559674666458203\n",
      "epoch 0 validation C-MAP score pad 3 0.9581979433955014\n",
      "epoch 0 validation AP score 0.021056122635967883\n"
     ]
    },
    {
     "data": {
      "application/vnd.jupyter.widget-view+json": {
       "model_id": "96613036234244508312c16871536eab",
       "version_major": 2,
       "version_minor": 0
      },
      "text/plain": [
       "Training: |          | 0/? [00:00<?, ?it/s]"
      ]
     },
     "metadata": {},
     "output_type": "display_data"
    },
    {
     "data": {
      "application/vnd.jupyter.widget-view+json": {
       "model_id": "07d65a7689a54630b7ad7e9b755a507a",
       "version_major": 2,
       "version_minor": 0
      },
      "text/plain": [
       "Validation: |          | 0/? [00:00<?, ?it/s]"
      ]
     },
     "metadata": {},
     "output_type": "display_data"
    },
    {
     "name": "stderr",
     "output_type": "stream",
     "text": [
      "Epoch 0, global step 358: 'val_loss' reached 16.73487 (best 16.73487), saving model to '/data2/Mamba/Project/Kaggle/BirdCLEF-2025/cnn_v8/pytorch/train_focal/epoch=0_step=358_val_roc_auc=0.756_val_cmap_pad=0.351_val_ap=0.260.ckpt' as top 5\n"
     ]
    },
    {
     "name": "stdout",
     "output_type": "stream",
     "text": [
      "epoch 0 validation loss 16.73486664219354\n",
      "epoch 0 validation ROCAUC score 0.7561091674557399\n",
      "epoch 0 validation C-MAP score pad 3 0.3506246749638879\n",
      "epoch 0 validation AP score 0.25991537465918335\n"
     ]
    },
    {
     "data": {
      "application/vnd.jupyter.widget-view+json": {
       "model_id": "7c6d8ebe8bbe4487a1dfccfd6d1d5144",
       "version_major": 2,
       "version_minor": 0
      },
      "text/plain": [
       "Validation: |          | 0/? [00:00<?, ?it/s]"
      ]
     },
     "metadata": {},
     "output_type": "display_data"
    },
    {
     "name": "stderr",
     "output_type": "stream",
     "text": [
      "Epoch 1, global step 716: 'val_loss' reached 14.72983 (best 14.72983), saving model to '/data2/Mamba/Project/Kaggle/BirdCLEF-2025/cnn_v8/pytorch/train_focal/epoch=1_step=716_val_roc_auc=0.870_val_cmap_pad=0.460_val_ap=0.403.ckpt' as top 5\n"
     ]
    },
    {
     "name": "stdout",
     "output_type": "stream",
     "text": [
      "epoch 1 validation loss 14.72983039007418\n",
      "epoch 1 validation ROCAUC score 0.8701193604530713\n",
      "epoch 1 validation C-MAP score pad 3 0.46047559892951845\n",
      "epoch 1 validation AP score 0.40315200540893775\n"
     ]
    },
    {
     "data": {
      "application/vnd.jupyter.widget-view+json": {
       "model_id": "775352575b8c472cbdfd0df11fe18550",
       "version_major": 2,
       "version_minor": 0
      },
      "text/plain": [
       "Validation: |          | 0/? [00:00<?, ?it/s]"
      ]
     },
     "metadata": {},
     "output_type": "display_data"
    },
    {
     "name": "stderr",
     "output_type": "stream",
     "text": [
      "Epoch 2, global step 1074: 'val_loss' reached 13.43615 (best 13.43615), saving model to '/data2/Mamba/Project/Kaggle/BirdCLEF-2025/cnn_v8/pytorch/train_focal/epoch=2_step=1074_val_roc_auc=0.909_val_cmap_pad=0.539_val_ap=0.537.ckpt' as top 5\n"
     ]
    },
    {
     "name": "stdout",
     "output_type": "stream",
     "text": [
      "epoch 2 validation loss 13.436146223421915\n",
      "epoch 2 validation ROCAUC score 0.9088201706394559\n",
      "epoch 2 validation C-MAP score pad 3 0.5393057049895837\n",
      "epoch 2 validation AP score 0.5373074326764026\n"
     ]
    },
    {
     "data": {
      "application/vnd.jupyter.widget-view+json": {
       "model_id": "ce05280271614313a6d00f5d3ebbde3e",
       "version_major": 2,
       "version_minor": 0
      },
      "text/plain": [
       "Validation: |          | 0/? [00:00<?, ?it/s]"
      ]
     },
     "metadata": {},
     "output_type": "display_data"
    },
    {
     "name": "stderr",
     "output_type": "stream",
     "text": [
      "Epoch 3, global step 1432: 'val_loss' reached 12.83536 (best 12.83536), saving model to '/data2/Mamba/Project/Kaggle/BirdCLEF-2025/cnn_v8/pytorch/train_focal/epoch=3_step=1432_val_roc_auc=0.909_val_cmap_pad=0.571_val_ap=0.560.ckpt' as top 5\n"
     ]
    },
    {
     "name": "stdout",
     "output_type": "stream",
     "text": [
      "epoch 3 validation loss 12.835364131020915\n",
      "epoch 3 validation ROCAUC score 0.9094694248973819\n",
      "epoch 3 validation C-MAP score pad 3 0.5713809396562016\n",
      "epoch 3 validation AP score 0.5601147055293373\n"
     ]
    },
    {
     "data": {
      "application/vnd.jupyter.widget-view+json": {
       "model_id": "f98bab6664c54234b23b6978ea7b7ab6",
       "version_major": 2,
       "version_minor": 0
      },
      "text/plain": [
       "Validation: |          | 0/? [00:00<?, ?it/s]"
      ]
     },
     "metadata": {},
     "output_type": "display_data"
    },
    {
     "name": "stderr",
     "output_type": "stream",
     "text": [
      "Epoch 4, global step 1790: 'val_loss' reached 11.67504 (best 11.67504), saving model to '/data2/Mamba/Project/Kaggle/BirdCLEF-2025/cnn_v8/pytorch/train_focal/epoch=4_step=1790_val_roc_auc=0.912_val_cmap_pad=0.600_val_ap=0.607.ckpt' as top 5\n"
     ]
    },
    {
     "name": "stdout",
     "output_type": "stream",
     "text": [
      "epoch 4 validation loss 11.675038206023043\n",
      "epoch 4 validation ROCAUC score 0.9124943642468345\n",
      "epoch 4 validation C-MAP score pad 3 0.6004824992514627\n",
      "epoch 4 validation AP score 0.607090204910237\n"
     ]
    },
    {
     "data": {
      "application/vnd.jupyter.widget-view+json": {
       "model_id": "88e33a0fb8bc4da28e7aee56c29e0093",
       "version_major": 2,
       "version_minor": 0
      },
      "text/plain": [
       "Validation: |          | 0/? [00:00<?, ?it/s]"
      ]
     },
     "metadata": {},
     "output_type": "display_data"
    },
    {
     "name": "stderr",
     "output_type": "stream",
     "text": [
      "Epoch 5, global step 2148: 'val_loss' reached 11.24035 (best 11.24035), saving model to '/data2/Mamba/Project/Kaggle/BirdCLEF-2025/cnn_v8/pytorch/train_focal/epoch=5_step=2148_val_roc_auc=0.922_val_cmap_pad=0.629_val_ap=0.637.ckpt' as top 5\n"
     ]
    },
    {
     "name": "stdout",
     "output_type": "stream",
     "text": [
      "epoch 5 validation loss 11.240346424652843\n",
      "epoch 5 validation ROCAUC score 0.9215800621265061\n",
      "epoch 5 validation C-MAP score pad 3 0.6294750920841995\n",
      "epoch 5 validation AP score 0.637464727711275\n"
     ]
    },
    {
     "data": {
      "application/vnd.jupyter.widget-view+json": {
       "model_id": "c4adee174c9f4b68bd8bd392882c44e5",
       "version_major": 2,
       "version_minor": 0
      },
      "text/plain": [
       "Validation: |          | 0/? [00:00<?, ?it/s]"
      ]
     },
     "metadata": {},
     "output_type": "display_data"
    },
    {
     "name": "stderr",
     "output_type": "stream",
     "text": [
      "Epoch 6, global step 2506: 'val_loss' reached 11.05036 (best 11.05036), saving model to '/data2/Mamba/Project/Kaggle/BirdCLEF-2025/cnn_v8/pytorch/train_focal/epoch=6_step=2506_val_roc_auc=0.921_val_cmap_pad=0.644_val_ap=0.644.ckpt' as top 5\n"
     ]
    },
    {
     "name": "stdout",
     "output_type": "stream",
     "text": [
      "epoch 6 validation loss 11.050358246818067\n",
      "epoch 6 validation ROCAUC score 0.9213669282376867\n",
      "epoch 6 validation C-MAP score pad 3 0.6438035339602898\n",
      "epoch 6 validation AP score 0.6444858578771969\n"
     ]
    },
    {
     "data": {
      "application/vnd.jupyter.widget-view+json": {
       "model_id": "ab6d3360e1644fbca8c7bc3b73d05495",
       "version_major": 2,
       "version_minor": 0
      },
      "text/plain": [
       "Validation: |          | 0/? [00:00<?, ?it/s]"
      ]
     },
     "metadata": {},
     "output_type": "display_data"
    },
    {
     "name": "stderr",
     "output_type": "stream",
     "text": [
      "Epoch 7, global step 2864: 'val_loss' reached 10.56989 (best 10.56989), saving model to '/data2/Mamba/Project/Kaggle/BirdCLEF-2025/cnn_v8/pytorch/train_focal/epoch=7_step=2864_val_roc_auc=0.930_val_cmap_pad=0.662_val_ap=0.663.ckpt' as top 5\n"
     ]
    },
    {
     "name": "stdout",
     "output_type": "stream",
     "text": [
      "epoch 7 validation loss 10.569888599336672\n",
      "epoch 7 validation ROCAUC score 0.9295312626385825\n",
      "epoch 7 validation C-MAP score pad 3 0.6621530336888439\n",
      "epoch 7 validation AP score 0.6627713112387017\n"
     ]
    },
    {
     "data": {
      "application/vnd.jupyter.widget-view+json": {
       "model_id": "e0e1649c0ad349f4b8a6d7a40e4f76e3",
       "version_major": 2,
       "version_minor": 0
      },
      "text/plain": [
       "Validation: |          | 0/? [00:00<?, ?it/s]"
      ]
     },
     "metadata": {},
     "output_type": "display_data"
    },
    {
     "name": "stderr",
     "output_type": "stream",
     "text": [
      "Epoch 8, global step 3222: 'val_loss' reached 9.72935 (best 9.72935), saving model to '/data2/Mamba/Project/Kaggle/BirdCLEF-2025/cnn_v8/pytorch/train_focal/epoch=8_step=3222_val_roc_auc=0.930_val_cmap_pad=0.671_val_ap=0.670.ckpt' as top 5\n"
     ]
    },
    {
     "name": "stdout",
     "output_type": "stream",
     "text": [
      "epoch 8 validation loss 9.729351396820528\n",
      "epoch 8 validation ROCAUC score 0.9302080917379525\n",
      "epoch 8 validation C-MAP score pad 3 0.6713648503680277\n",
      "epoch 8 validation AP score 0.6699711511433303\n"
     ]
    },
    {
     "data": {
      "application/vnd.jupyter.widget-view+json": {
       "model_id": "5855a14ac6ec4876a10f7d08507cfaac",
       "version_major": 2,
       "version_minor": 0
      },
      "text/plain": [
       "Validation: |          | 0/? [00:00<?, ?it/s]"
      ]
     },
     "metadata": {},
     "output_type": "display_data"
    },
    {
     "name": "stderr",
     "output_type": "stream",
     "text": [
      "Epoch 9, global step 3580: 'val_loss' reached 9.36746 (best 9.36746), saving model to '/data2/Mamba/Project/Kaggle/BirdCLEF-2025/cnn_v8/pytorch/train_focal/epoch=9_step=3580_val_roc_auc=0.930_val_cmap_pad=0.688_val_ap=0.690.ckpt' as top 5\n"
     ]
    },
    {
     "name": "stdout",
     "output_type": "stream",
     "text": [
      "epoch 9 validation loss 9.367458294655334\n",
      "epoch 9 validation ROCAUC score 0.9300511479989616\n",
      "epoch 9 validation C-MAP score pad 3 0.6881200771467946\n",
      "epoch 9 validation AP score 0.6895653194661308\n"
     ]
    },
    {
     "data": {
      "application/vnd.jupyter.widget-view+json": {
       "model_id": "e5e2fc874c254ab7bb21d1b8a3629da1",
       "version_major": 2,
       "version_minor": 0
      },
      "text/plain": [
       "Validation: |          | 0/? [00:00<?, ?it/s]"
      ]
     },
     "metadata": {},
     "output_type": "display_data"
    },
    {
     "name": "stderr",
     "output_type": "stream",
     "text": [
      "Epoch 10, global step 3938: 'val_loss' reached 9.83116 (best 9.36746), saving model to '/data2/Mamba/Project/Kaggle/BirdCLEF-2025/cnn_v8/pytorch/train_focal/epoch=10_step=3938_val_roc_auc=0.935_val_cmap_pad=0.699_val_ap=0.700.ckpt' as top 5\n"
     ]
    },
    {
     "name": "stdout",
     "output_type": "stream",
     "text": [
      "epoch 10 validation loss 9.831163398672679\n",
      "epoch 10 validation ROCAUC score 0.9348090565171497\n",
      "epoch 10 validation C-MAP score pad 3 0.698942860956194\n",
      "epoch 10 validation AP score 0.6999447110854576\n"
     ]
    },
    {
     "data": {
      "application/vnd.jupyter.widget-view+json": {
       "model_id": "ad2297dcf89747c8b78702fe383f8a86",
       "version_major": 2,
       "version_minor": 0
      },
      "text/plain": [
       "Validation: |          | 0/? [00:00<?, ?it/s]"
      ]
     },
     "metadata": {},
     "output_type": "display_data"
    },
    {
     "name": "stderr",
     "output_type": "stream",
     "text": [
      "Epoch 11, global step 4296: 'val_loss' reached 9.22845 (best 9.22845), saving model to '/data2/Mamba/Project/Kaggle/BirdCLEF-2025/cnn_v8/pytorch/train_focal/epoch=11_step=4296_val_roc_auc=0.945_val_cmap_pad=0.696_val_ap=0.703.ckpt' as top 5\n"
     ]
    },
    {
     "name": "stdout",
     "output_type": "stream",
     "text": [
      "epoch 11 validation loss 9.228453070111868\n",
      "epoch 11 validation ROCAUC score 0.9445080578832984\n",
      "epoch 11 validation C-MAP score pad 3 0.6957011323116505\n",
      "epoch 11 validation AP score 0.7030778655043974\n"
     ]
    },
    {
     "data": {
      "application/vnd.jupyter.widget-view+json": {
       "model_id": "0a22f465219640769f293868ddce7c47",
       "version_major": 2,
       "version_minor": 0
      },
      "text/plain": [
       "Validation: |          | 0/? [00:00<?, ?it/s]"
      ]
     },
     "metadata": {},
     "output_type": "display_data"
    },
    {
     "name": "stderr",
     "output_type": "stream",
     "text": [
      "Epoch 12, global step 4654: 'val_loss' reached 8.83428 (best 8.83428), saving model to '/data2/Mamba/Project/Kaggle/BirdCLEF-2025/cnn_v8/pytorch/train_focal/epoch=12_step=4654_val_roc_auc=0.947_val_cmap_pad=0.713_val_ap=0.702.ckpt' as top 5\n"
     ]
    },
    {
     "name": "stdout",
     "output_type": "stream",
     "text": [
      "epoch 12 validation loss 8.834275781396066\n",
      "epoch 12 validation ROCAUC score 0.9465241385414209\n",
      "epoch 12 validation C-MAP score pad 3 0.7125425347709109\n",
      "epoch 12 validation AP score 0.7024181053679317\n"
     ]
    },
    {
     "data": {
      "application/vnd.jupyter.widget-view+json": {
       "model_id": "c2638c5ca4cd420593f92a6f4cf28ace",
       "version_major": 2,
       "version_minor": 0
      },
      "text/plain": [
       "Validation: |          | 0/? [00:00<?, ?it/s]"
      ]
     },
     "metadata": {},
     "output_type": "display_data"
    },
    {
     "name": "stderr",
     "output_type": "stream",
     "text": [
      "Epoch 13, global step 5012: 'val_loss' reached 9.18649 (best 8.83428), saving model to '/data2/Mamba/Project/Kaggle/BirdCLEF-2025/cnn_v8/pytorch/train_focal/epoch=13_step=5012_val_roc_auc=0.950_val_cmap_pad=0.730_val_ap=0.733.ckpt' as top 5\n"
     ]
    },
    {
     "name": "stdout",
     "output_type": "stream",
     "text": [
      "epoch 13 validation loss 9.186491857285752\n",
      "epoch 13 validation ROCAUC score 0.950185632592242\n",
      "epoch 13 validation C-MAP score pad 3 0.7298075425657619\n",
      "epoch 13 validation AP score 0.7331510507127618\n"
     ]
    },
    {
     "data": {
      "application/vnd.jupyter.widget-view+json": {
       "model_id": "91f7542ae95b4f9993b9dce0f29bddcf",
       "version_major": 2,
       "version_minor": 0
      },
      "text/plain": [
       "Validation: |          | 0/? [00:00<?, ?it/s]"
      ]
     },
     "metadata": {},
     "output_type": "display_data"
    },
    {
     "name": "stderr",
     "output_type": "stream",
     "text": [
      "Epoch 14, global step 5370: 'val_loss' reached 8.49257 (best 8.49257), saving model to '/data2/Mamba/Project/Kaggle/BirdCLEF-2025/cnn_v8/pytorch/train_focal/epoch=14_step=5370_val_roc_auc=0.950_val_cmap_pad=0.735_val_ap=0.725.ckpt' as top 5\n"
     ]
    },
    {
     "name": "stdout",
     "output_type": "stream",
     "text": [
      "epoch 14 validation loss 8.492571366886086\n",
      "epoch 14 validation ROCAUC score 0.9504618341358647\n",
      "epoch 14 validation C-MAP score pad 3 0.7349612147271031\n",
      "epoch 14 validation AP score 0.7252403766954556\n"
     ]
    },
    {
     "data": {
      "application/vnd.jupyter.widget-view+json": {
       "model_id": "c730af2a7a0b4e8798efdc1678fb6b03",
       "version_major": 2,
       "version_minor": 0
      },
      "text/plain": [
       "Validation: |          | 0/? [00:00<?, ?it/s]"
      ]
     },
     "metadata": {},
     "output_type": "display_data"
    },
    {
     "name": "stderr",
     "output_type": "stream",
     "text": [
      "Epoch 15, global step 5728: 'val_loss' reached 8.37114 (best 8.37114), saving model to '/data2/Mamba/Project/Kaggle/BirdCLEF-2025/cnn_v8/pytorch/train_focal/epoch=15_step=5728_val_roc_auc=0.946_val_cmap_pad=0.733_val_ap=0.736.ckpt' as top 5\n"
     ]
    },
    {
     "name": "stdout",
     "output_type": "stream",
     "text": [
      "epoch 15 validation loss 8.371141839633932\n",
      "epoch 15 validation ROCAUC score 0.9463050910999631\n",
      "epoch 15 validation C-MAP score pad 3 0.7334466122473162\n",
      "epoch 15 validation AP score 0.735873973429481\n"
     ]
    },
    {
     "data": {
      "application/vnd.jupyter.widget-view+json": {
       "model_id": "20486c529f554527b6e299780b0df282",
       "version_major": 2,
       "version_minor": 0
      },
      "text/plain": [
       "Validation: |          | 0/? [00:00<?, ?it/s]"
      ]
     },
     "metadata": {},
     "output_type": "display_data"
    },
    {
     "name": "stderr",
     "output_type": "stream",
     "text": [
      "Epoch 16, global step 6086: 'val_loss' reached 8.05384 (best 8.05384), saving model to '/data2/Mamba/Project/Kaggle/BirdCLEF-2025/cnn_v8/pytorch/train_focal/epoch=16_step=6086_val_roc_auc=0.953_val_cmap_pad=0.746_val_ap=0.750.ckpt' as top 5\n"
     ]
    },
    {
     "name": "stdout",
     "output_type": "stream",
     "text": [
      "epoch 16 validation loss 8.053835146017555\n",
      "epoch 16 validation ROCAUC score 0.9525326321531613\n",
      "epoch 16 validation C-MAP score pad 3 0.7461205692718933\n",
      "epoch 16 validation AP score 0.7502881646587033\n"
     ]
    },
    {
     "data": {
      "application/vnd.jupyter.widget-view+json": {
       "model_id": "6188b8dcdea345339c0b9b5a09c64124",
       "version_major": 2,
       "version_minor": 0
      },
      "text/plain": [
       "Validation: |          | 0/? [00:00<?, ?it/s]"
      ]
     },
     "metadata": {},
     "output_type": "display_data"
    },
    {
     "name": "stderr",
     "output_type": "stream",
     "text": [
      "Epoch 17, global step 6444: 'val_loss' reached 7.59945 (best 7.59945), saving model to '/data2/Mamba/Project/Kaggle/BirdCLEF-2025/cnn_v8/pytorch/train_focal/epoch=17_step=6444_val_roc_auc=0.954_val_cmap_pad=0.751_val_ap=0.756.ckpt' as top 5\n"
     ]
    },
    {
     "name": "stdout",
     "output_type": "stream",
     "text": [
      "epoch 17 validation loss 7.599449794676513\n",
      "epoch 17 validation ROCAUC score 0.9541696919648458\n",
      "epoch 17 validation C-MAP score pad 3 0.7508187624721516\n",
      "epoch 17 validation AP score 0.7559982422168825\n"
     ]
    },
    {
     "data": {
      "application/vnd.jupyter.widget-view+json": {
       "model_id": "c5ebc6361bd443f58bb09bac34ba89fa",
       "version_major": 2,
       "version_minor": 0
      },
      "text/plain": [
       "Validation: |          | 0/? [00:00<?, ?it/s]"
      ]
     },
     "metadata": {},
     "output_type": "display_data"
    },
    {
     "name": "stderr",
     "output_type": "stream",
     "text": [
      "Epoch 18, global step 6802: 'val_loss' reached 7.51356 (best 7.51356), saving model to '/data2/Mamba/Project/Kaggle/BirdCLEF-2025/cnn_v8/pytorch/train_focal/epoch=18_step=6802_val_roc_auc=0.951_val_cmap_pad=0.754_val_ap=0.757.ckpt' as top 5\n"
     ]
    },
    {
     "name": "stdout",
     "output_type": "stream",
     "text": [
      "epoch 18 validation loss 7.513561757292786\n",
      "epoch 18 validation ROCAUC score 0.9506884434095542\n",
      "epoch 18 validation C-MAP score pad 3 0.753949934747376\n",
      "epoch 18 validation AP score 0.7571790137363704\n"
     ]
    },
    {
     "data": {
      "application/vnd.jupyter.widget-view+json": {
       "model_id": "39b91e6f3b0b41cbb4c9069b39780a4f",
       "version_major": 2,
       "version_minor": 0
      },
      "text/plain": [
       "Validation: |          | 0/? [00:00<?, ?it/s]"
      ]
     },
     "metadata": {},
     "output_type": "display_data"
    },
    {
     "name": "stderr",
     "output_type": "stream",
     "text": [
      "Epoch 19, global step 7160: 'val_loss' reached 7.38210 (best 7.38210), saving model to '/data2/Mamba/Project/Kaggle/BirdCLEF-2025/cnn_v8/pytorch/train_focal/epoch=19_step=7160_val_roc_auc=0.954_val_cmap_pad=0.764_val_ap=0.767.ckpt' as top 5\n"
     ]
    },
    {
     "name": "stdout",
     "output_type": "stream",
     "text": [
      "epoch 19 validation loss 7.382095739840293\n",
      "epoch 19 validation ROCAUC score 0.9543146471189213\n",
      "epoch 19 validation C-MAP score pad 3 0.7640787103529777\n",
      "epoch 19 validation AP score 0.7668663570477379\n"
     ]
    },
    {
     "data": {
      "application/vnd.jupyter.widget-view+json": {
       "model_id": "554d15ceab4b49a6ae1041ac5abdb0e8",
       "version_major": 2,
       "version_minor": 0
      },
      "text/plain": [
       "Validation: |          | 0/? [00:00<?, ?it/s]"
      ]
     },
     "metadata": {},
     "output_type": "display_data"
    },
    {
     "name": "stderr",
     "output_type": "stream",
     "text": [
      "Epoch 20, global step 7518: 'val_loss' reached 7.42049 (best 7.38210), saving model to '/data2/Mamba/Project/Kaggle/BirdCLEF-2025/cnn_v8/pytorch/train_focal/epoch=20_step=7518_val_roc_auc=0.954_val_cmap_pad=0.768_val_ap=0.772.ckpt' as top 5\n"
     ]
    },
    {
     "name": "stdout",
     "output_type": "stream",
     "text": [
      "epoch 20 validation loss 7.420489902820629\n",
      "epoch 20 validation ROCAUC score 0.9543818562009793\n",
      "epoch 20 validation C-MAP score pad 3 0.7684233859441515\n",
      "epoch 20 validation AP score 0.7718738334374698\n"
     ]
    },
    {
     "data": {
      "application/vnd.jupyter.widget-view+json": {
       "model_id": "61afb19907d24ba39e9514fd8c1b2478",
       "version_major": 2,
       "version_minor": 0
      },
      "text/plain": [
       "Validation: |          | 0/? [00:00<?, ?it/s]"
      ]
     },
     "metadata": {},
     "output_type": "display_data"
    },
    {
     "name": "stderr",
     "output_type": "stream",
     "text": [
      "Epoch 21, global step 7876: 'val_loss' reached 7.12291 (best 7.12291), saving model to '/data2/Mamba/Project/Kaggle/BirdCLEF-2025/cnn_v8/pytorch/train_focal/epoch=21_step=7876_val_roc_auc=0.957_val_cmap_pad=0.772_val_ap=0.772.ckpt' as top 5\n"
     ]
    },
    {
     "name": "stdout",
     "output_type": "stream",
     "text": [
      "epoch 21 validation loss 7.122912269531532\n",
      "epoch 21 validation ROCAUC score 0.9572819291098935\n",
      "epoch 21 validation C-MAP score pad 3 0.7724854394213816\n",
      "epoch 21 validation AP score 0.771632626533092\n"
     ]
    },
    {
     "data": {
      "application/vnd.jupyter.widget-view+json": {
       "model_id": "3d410442546c4f6683558303c47a92ba",
       "version_major": 2,
       "version_minor": 0
      },
      "text/plain": [
       "Validation: |          | 0/? [00:00<?, ?it/s]"
      ]
     },
     "metadata": {},
     "output_type": "display_data"
    },
    {
     "name": "stderr",
     "output_type": "stream",
     "text": [
      "Epoch 22, global step 8234: 'val_loss' reached 6.95315 (best 6.95315), saving model to '/data2/Mamba/Project/Kaggle/BirdCLEF-2025/cnn_v8/pytorch/train_focal/epoch=22_step=8234_val_roc_auc=0.955_val_cmap_pad=0.775_val_ap=0.777.ckpt' as top 5\n"
     ]
    },
    {
     "name": "stdout",
     "output_type": "stream",
     "text": [
      "epoch 22 validation loss 6.953150093468072\n",
      "epoch 22 validation ROCAUC score 0.9551885656752508\n",
      "epoch 22 validation C-MAP score pad 3 0.7745592539472208\n",
      "epoch 22 validation AP score 0.7772382743408388\n"
     ]
    },
    {
     "data": {
      "application/vnd.jupyter.widget-view+json": {
       "model_id": "8255a5a662f84718881181d6571e4bdf",
       "version_major": 2,
       "version_minor": 0
      },
      "text/plain": [
       "Validation: |          | 0/? [00:00<?, ?it/s]"
      ]
     },
     "metadata": {},
     "output_type": "display_data"
    },
    {
     "name": "stderr",
     "output_type": "stream",
     "text": [
      "Epoch 23, global step 8592: 'val_loss' reached 6.56858 (best 6.56858), saving model to '/data2/Mamba/Project/Kaggle/BirdCLEF-2025/cnn_v8/pytorch/train_focal/epoch=23_step=8592_val_roc_auc=0.955_val_cmap_pad=0.776_val_ap=0.779.ckpt' as top 5\n"
     ]
    },
    {
     "name": "stdout",
     "output_type": "stream",
     "text": [
      "epoch 23 validation loss 6.56858160881481\n",
      "epoch 23 validation ROCAUC score 0.955090059781428\n",
      "epoch 23 validation C-MAP score pad 3 0.7759376584447336\n",
      "epoch 23 validation AP score 0.778999432498215\n"
     ]
    },
    {
     "data": {
      "application/vnd.jupyter.widget-view+json": {
       "model_id": "c8f2399ba0f04340bf82137af3435b9b",
       "version_major": 2,
       "version_minor": 0
      },
      "text/plain": [
       "Validation: |          | 0/? [00:00<?, ?it/s]"
      ]
     },
     "metadata": {},
     "output_type": "display_data"
    },
    {
     "name": "stderr",
     "output_type": "stream",
     "text": [
      "Epoch 24, global step 8950: 'val_loss' reached 6.52375 (best 6.52375), saving model to '/data2/Mamba/Project/Kaggle/BirdCLEF-2025/cnn_v8/pytorch/train_focal/epoch=24_step=8950_val_roc_auc=0.958_val_cmap_pad=0.781_val_ap=0.784.ckpt' as top 5\n"
     ]
    },
    {
     "name": "stdout",
     "output_type": "stream",
     "text": [
      "epoch 24 validation loss 6.523748575755067\n",
      "epoch 24 validation ROCAUC score 0.9576154880587765\n",
      "epoch 24 validation C-MAP score pad 3 0.7809368855911909\n",
      "epoch 24 validation AP score 0.7835101286904752\n"
     ]
    },
    {
     "data": {
      "application/vnd.jupyter.widget-view+json": {
       "model_id": "92fcd43e3ddf43b68cfde6a71a34ede2",
       "version_major": 2,
       "version_minor": 0
      },
      "text/plain": [
       "Validation: |          | 0/? [00:00<?, ?it/s]"
      ]
     },
     "metadata": {},
     "output_type": "display_data"
    },
    {
     "name": "stderr",
     "output_type": "stream",
     "text": [
      "Epoch 25, global step 9308: 'val_loss' reached 6.31019 (best 6.31019), saving model to '/data2/Mamba/Project/Kaggle/BirdCLEF-2025/cnn_v8/pytorch/train_focal/epoch=25_step=9308_val_roc_auc=0.958_val_cmap_pad=0.786_val_ap=0.791.ckpt' as top 5\n"
     ]
    },
    {
     "name": "stdout",
     "output_type": "stream",
     "text": [
      "epoch 25 validation loss 6.310192569870668\n",
      "epoch 25 validation ROCAUC score 0.9578221703163203\n",
      "epoch 25 validation C-MAP score pad 3 0.7858903782873784\n",
      "epoch 25 validation AP score 0.7907055185012927\n"
     ]
    },
    {
     "data": {
      "application/vnd.jupyter.widget-view+json": {
       "model_id": "ac47a6ba77cb4b0094f7fd8357bbd91f",
       "version_major": 2,
       "version_minor": 0
      },
      "text/plain": [
       "Validation: |          | 0/? [00:00<?, ?it/s]"
      ]
     },
     "metadata": {},
     "output_type": "display_data"
    },
    {
     "name": "stderr",
     "output_type": "stream",
     "text": [
      "Epoch 26, global step 9666: 'val_loss' reached 6.52783 (best 6.31019), saving model to '/data2/Mamba/Project/Kaggle/BirdCLEF-2025/cnn_v8/pytorch/train_focal/epoch=26_step=9666_val_roc_auc=0.957_val_cmap_pad=0.788_val_ap=0.793.ckpt' as top 5\n"
     ]
    },
    {
     "name": "stdout",
     "output_type": "stream",
     "text": [
      "epoch 26 validation loss 6.527832938274387\n",
      "epoch 26 validation ROCAUC score 0.9572142133068389\n",
      "epoch 26 validation C-MAP score pad 3 0.7882789509477153\n",
      "epoch 26 validation AP score 0.7934852198607244\n"
     ]
    },
    {
     "data": {
      "application/vnd.jupyter.widget-view+json": {
       "model_id": "ae78b4b778f4479fa3ca57cc5b939dff",
       "version_major": 2,
       "version_minor": 0
      },
      "text/plain": [
       "Validation: |          | 0/? [00:00<?, ?it/s]"
      ]
     },
     "metadata": {},
     "output_type": "display_data"
    },
    {
     "name": "stderr",
     "output_type": "stream",
     "text": [
      "Epoch 27, global step 10024: 'val_loss' reached 6.23335 (best 6.23335), saving model to '/data2/Mamba/Project/Kaggle/BirdCLEF-2025/cnn_v8/pytorch/train_focal/epoch=27_step=10024_val_roc_auc=0.958_val_cmap_pad=0.789_val_ap=0.794.ckpt' as top 5\n"
     ]
    },
    {
     "name": "stdout",
     "output_type": "stream",
     "text": [
      "epoch 27 validation loss 6.233351509273331\n",
      "epoch 27 validation ROCAUC score 0.9578149223541289\n",
      "epoch 27 validation C-MAP score pad 3 0.7890835071742669\n",
      "epoch 27 validation AP score 0.7944506525401486\n"
     ]
    },
    {
     "data": {
      "application/vnd.jupyter.widget-view+json": {
       "model_id": "41f35c2b80224dc18f6e2f5018bb696e",
       "version_major": 2,
       "version_minor": 0
      },
      "text/plain": [
       "Validation: |          | 0/? [00:00<?, ?it/s]"
      ]
     },
     "metadata": {},
     "output_type": "display_data"
    },
    {
     "name": "stderr",
     "output_type": "stream",
     "text": [
      "Epoch 28, global step 10382: 'val_loss' reached 6.12096 (best 6.12096), saving model to '/data2/Mamba/Project/Kaggle/BirdCLEF-2025/cnn_v8/pytorch/train_focal/epoch=28_step=10382_val_roc_auc=0.958_val_cmap_pad=0.791_val_ap=0.796.ckpt' as top 5\n"
     ]
    },
    {
     "name": "stdout",
     "output_type": "stream",
     "text": [
      "epoch 28 validation loss 6.1209644197043405\n",
      "epoch 28 validation ROCAUC score 0.9581448259255523\n",
      "epoch 28 validation C-MAP score pad 3 0.7905871561585246\n",
      "epoch 28 validation AP score 0.7964866183961933\n"
     ]
    },
    {
     "data": {
      "application/vnd.jupyter.widget-view+json": {
       "model_id": "e36d33d60fd54f548b25217c3e5c736b",
       "version_major": 2,
       "version_minor": 0
      },
      "text/plain": [
       "Validation: |          | 0/? [00:00<?, ?it/s]"
      ]
     },
     "metadata": {},
     "output_type": "display_data"
    },
    {
     "name": "stderr",
     "output_type": "stream",
     "text": [
      "Epoch 29, global step 10740: 'val_loss' reached 6.21454 (best 6.12096), saving model to '/data2/Mamba/Project/Kaggle/BirdCLEF-2025/cnn_v8/pytorch/train_focal/epoch=29_step=10740_val_roc_auc=0.957_val_cmap_pad=0.790_val_ap=0.794.ckpt' as top 5\n"
     ]
    },
    {
     "name": "stdout",
     "output_type": "stream",
     "text": [
      "epoch 29 validation loss 6.214538966873139\n",
      "epoch 29 validation ROCAUC score 0.9573866543701991\n",
      "epoch 29 validation C-MAP score pad 3 0.7898405056901671\n",
      "epoch 29 validation AP score 0.7944524564332948\n"
     ]
    },
    {
     "data": {
      "application/vnd.jupyter.widget-view+json": {
       "model_id": "c54e29f4118f4d9187536dc7d9366f80",
       "version_major": 2,
       "version_minor": 0
      },
      "text/plain": [
       "Validation: |          | 0/? [00:00<?, ?it/s]"
      ]
     },
     "metadata": {},
     "output_type": "display_data"
    },
    {
     "name": "stderr",
     "output_type": "stream",
     "text": [
      "Epoch 30, global step 11098: 'val_loss' reached 6.09886 (best 6.09886), saving model to '/data2/Mamba/Project/Kaggle/BirdCLEF-2025/cnn_v8/pytorch/train_focal/epoch=30_step=11098_val_roc_auc=0.958_val_cmap_pad=0.791_val_ap=0.796.ckpt' as top 5\n"
     ]
    },
    {
     "name": "stdout",
     "output_type": "stream",
     "text": [
      "epoch 30 validation loss 6.098856708958775\n",
      "epoch 30 validation ROCAUC score 0.957904563335387\n",
      "epoch 30 validation C-MAP score pad 3 0.7905248235619047\n",
      "epoch 30 validation AP score 0.795945927668919\n"
     ]
    },
    {
     "data": {
      "application/vnd.jupyter.widget-view+json": {
       "model_id": "9d9181e089d546628432d103dece72f5",
       "version_major": 2,
       "version_minor": 0
      },
      "text/plain": [
       "Validation: |          | 0/? [00:00<?, ?it/s]"
      ]
     },
     "metadata": {},
     "output_type": "display_data"
    },
    {
     "name": "stderr",
     "output_type": "stream",
     "text": [
      "Epoch 31, global step 11456: 'val_loss' reached 6.11997 (best 6.09886), saving model to '/data2/Mamba/Project/Kaggle/BirdCLEF-2025/cnn_v8/pytorch/train_focal/epoch=31_step=11456_val_roc_auc=0.958_val_cmap_pad=0.791_val_ap=0.798.ckpt' as top 5\n"
     ]
    },
    {
     "name": "stdout",
     "output_type": "stream",
     "text": [
      "epoch 31 validation loss 6.119973590584713\n",
      "epoch 31 validation ROCAUC score 0.9582120365762189\n",
      "epoch 31 validation C-MAP score pad 3 0.7910593164132274\n",
      "epoch 31 validation AP score 0.7975097579557773\n"
     ]
    },
    {
     "name": "stderr",
     "output_type": "stream",
     "text": [
      "`Trainer.fit` stopped: `max_epochs=32` reached.\n"
     ]
    }
   ],
   "source": [
    "trainer.fit(model, train_dataloaders=dl_train, val_dataloaders=dl_val)"
   ]
  }
 ],
 "metadata": {
  "kernelspec": {
   "display_name": "CZII",
   "language": "python",
   "name": "python3"
  },
  "language_info": {
   "codemirror_mode": {
    "name": "ipython",
    "version": 3
   },
   "file_extension": ".py",
   "mimetype": "text/x-python",
   "name": "python",
   "nbconvert_exporter": "python",
   "pygments_lexer": "ipython3",
   "version": "3.11.12"
  }
 },
 "nbformat": 4,
 "nbformat_minor": 2
}
