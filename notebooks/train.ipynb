{
 "cells": [
  {
   "cell_type": "code",
   "execution_count": 1,
   "metadata": {},
   "outputs": [],
   "source": [
    "import os\n",
    "import sys\n",
    "sys.path.append('/home/guangp/BirdCLEF-2025_Melspec')\n",
    "\n",
    "import warnings\n",
    "warnings.filterwarnings('ignore')\n",
    "\n",
    "os.environ[\"CUDA_VISIBLE_DEVICES\"] = \"1,3\""
   ]
  },
  {
   "cell_type": "code",
   "execution_count": 2,
   "metadata": {
    "metadata": {}
   },
   "outputs": [],
   "source": [
    "import pytorch_lightning as pl\n",
    "from pytorch_lightning.loggers import WandbLogger\n",
    "from pytorch_lightning.callbacks import ModelCheckpoint, BackboneFinetuning, EarlyStopping\n",
    "\n",
    "import torch\n",
    "import torch.nn as nn\n",
    "import torch.nn.functional as F\n",
    "from torch.utils.data import Dataset\n",
    "\n",
    "import importlib\n",
    "from pathlib import Path\n",
    "import numpy as np\n",
    "import glob\n",
    "import timm\n",
    "import pandas as pd\n",
    "import torchaudio as ta\n",
    "\n",
    "from modules.preprocess import preprocess, prepare_cfg\n",
    "from modules.dataset import get_train_dataloader\n",
    "from modules.model import load_model\n",
    "import modules.inception_next_nano"
   ]
  },
  {
   "cell_type": "code",
   "execution_count": 3,
   "metadata": {},
   "outputs": [
    {
     "name": "stdout",
     "output_type": "stream",
     "text": [
      "/home/guangp/BirdCLEF-2025_Melspec\n"
     ]
    }
   ],
   "source": [
    "# move to repo root\n",
    "cur_dir = Path().resolve()\n",
    "\n",
    "if not (cur_dir / \"notebooks\").exists():\n",
    "    os.chdir(os.path.abspath(\"../\"))\n",
    "print(f\"{Path().resolve()}\")"
   ]
  },
  {
   "cell_type": "code",
   "execution_count": 4,
   "metadata": {},
   "outputs": [
    {
     "name": "stderr",
     "output_type": "stream",
     "text": [
      "Seed set to 20231911\n"
     ]
    },
    {
     "data": {
      "text/plain": [
       "20231911"
      ]
     },
     "execution_count": 4,
     "metadata": {},
     "output_type": "execute_result"
    }
   ],
   "source": [
    "model_name = \"cnn_v1\"\n",
    "stage = \"train_bce\"\n",
    "\n",
    "cfg = importlib.import_module(f'configs.{model_name}').basic_cfg\n",
    "cfg = prepare_cfg(cfg, stage)\n",
    "\n",
    "pl.seed_everything(cfg.seed[stage], workers=True)"
   ]
  },
  {
   "cell_type": "code",
   "execution_count": 5,
   "metadata": {
    "metadata": {}
   },
   "outputs": [
    {
     "data": {
      "text/plain": [
       "(22851, 5713)"
      ]
     },
     "execution_count": 5,
     "metadata": {},
     "output_type": "execute_result"
    }
   ],
   "source": [
    "df_train, df_valid, df_label_train, df_label_valid, transforms = preprocess(cfg, stage)\n",
    "df_train[\"version\"] = \"2023\"\n",
    "df_valid[\"version\"] = \"2023\"\n",
    "len(df_train), len(df_valid)"
   ]
  },
  {
   "cell_type": "code",
   "execution_count": 6,
   "metadata": {},
   "outputs": [
    {
     "data": {
      "text/html": [
       "<div>\n",
       "<style scoped>\n",
       "    .dataframe tbody tr th:only-of-type {\n",
       "        vertical-align: middle;\n",
       "    }\n",
       "\n",
       "    .dataframe tbody tr th {\n",
       "        vertical-align: top;\n",
       "    }\n",
       "\n",
       "    .dataframe thead th {\n",
       "        text-align: right;\n",
       "    }\n",
       "</style>\n",
       "<table border=\"1\" class=\"dataframe\">\n",
       "  <thead>\n",
       "    <tr style=\"text-align: right;\">\n",
       "      <th></th>\n",
       "      <th>primary_label</th>\n",
       "      <th>secondary_labels</th>\n",
       "      <th>type</th>\n",
       "      <th>filename</th>\n",
       "      <th>collection</th>\n",
       "      <th>rating</th>\n",
       "      <th>url</th>\n",
       "      <th>latitude</th>\n",
       "      <th>longitude</th>\n",
       "      <th>scientific_name</th>\n",
       "      <th>...</th>\n",
       "      <th>author</th>\n",
       "      <th>license</th>\n",
       "      <th>path</th>\n",
       "      <th>duration</th>\n",
       "      <th>sr</th>\n",
       "      <th>max_amplitude</th>\n",
       "      <th>duration_sec</th>\n",
       "      <th>weight</th>\n",
       "      <th>presence_type</th>\n",
       "      <th>version</th>\n",
       "    </tr>\n",
       "  </thead>\n",
       "  <tbody>\n",
       "    <tr>\n",
       "      <th>0</th>\n",
       "      <td>yehcar1</td>\n",
       "      <td>[]</td>\n",
       "      <td>['call']</td>\n",
       "      <td>yehcar1/XC674420.ogg</td>\n",
       "      <td>XC</td>\n",
       "      <td>5.0</td>\n",
       "      <td>https://xeno-canto.org/674420</td>\n",
       "      <td>-21.7357</td>\n",
       "      <td>-43.3693</td>\n",
       "      <td>Milvago chimachima</td>\n",
       "      <td>...</td>\n",
       "      <td>Marco Manhães</td>\n",
       "      <td>cc-by-nc-sa 4.0</td>\n",
       "      <td>/data1/Mamba/Kaggle/BirdCLEF-2025/Data_Raw/tra...</td>\n",
       "      <td>1453248</td>\n",
       "      <td>22050</td>\n",
       "      <td>1.005431</td>\n",
       "      <td>65.906939</td>\n",
       "      <td>0.330124</td>\n",
       "      <td>foreground</td>\n",
       "      <td>2023</td>\n",
       "    </tr>\n",
       "    <tr>\n",
       "      <th>1</th>\n",
       "      <td>rutjac1</td>\n",
       "      <td>[rumfly1]</td>\n",
       "      <td>['song']</td>\n",
       "      <td>rutjac1/XC261831.ogg</td>\n",
       "      <td>XC</td>\n",
       "      <td>4.5</td>\n",
       "      <td>https://xeno-canto.org/261831</td>\n",
       "      <td>0.8830</td>\n",
       "      <td>-78.8000</td>\n",
       "      <td>Galbula ruficauda</td>\n",
       "      <td>...</td>\n",
       "      <td>Olaf Jahn</td>\n",
       "      <td>cc-by-nc-sa 4.0</td>\n",
       "      <td>/data1/Mamba/Kaggle/BirdCLEF-2025/Data_Raw/tra...</td>\n",
       "      <td>563904</td>\n",
       "      <td>22050</td>\n",
       "      <td>0.440904</td>\n",
       "      <td>25.573878</td>\n",
       "      <td>0.315243</td>\n",
       "      <td>foreground</td>\n",
       "      <td>2023</td>\n",
       "    </tr>\n",
       "    <tr>\n",
       "      <th>2</th>\n",
       "      <td>grekis</td>\n",
       "      <td>[]</td>\n",
       "      <td>['song']</td>\n",
       "      <td>grekis/XC576073.ogg</td>\n",
       "      <td>XC</td>\n",
       "      <td>4.0</td>\n",
       "      <td>https://xeno-canto.org/576073</td>\n",
       "      <td>14.3572</td>\n",
       "      <td>-87.6545</td>\n",
       "      <td>Pitangus sulphuratus</td>\n",
       "      <td>...</td>\n",
       "      <td>Mario Reyes Jr</td>\n",
       "      <td>cc-by-nc-sa 4.0</td>\n",
       "      <td>/data1/Mamba/Kaggle/BirdCLEF-2025/Data_Raw/tra...</td>\n",
       "      <td>973440</td>\n",
       "      <td>22050</td>\n",
       "      <td>0.666072</td>\n",
       "      <td>44.146939</td>\n",
       "      <td>0.161863</td>\n",
       "      <td>foreground</td>\n",
       "      <td>2023</td>\n",
       "    </tr>\n",
       "    <tr>\n",
       "      <th>3</th>\n",
       "      <td>rutjac1</td>\n",
       "      <td>[]</td>\n",
       "      <td>['song']</td>\n",
       "      <td>rutjac1/XC298078.ogg</td>\n",
       "      <td>XC</td>\n",
       "      <td>4.0</td>\n",
       "      <td>https://xeno-canto.org/298078</td>\n",
       "      <td>7.8273</td>\n",
       "      <td>-72.6175</td>\n",
       "      <td>Galbula ruficauda</td>\n",
       "      <td>...</td>\n",
       "      <td>Oscar Laverde</td>\n",
       "      <td>cc-by-nc-sa 4.0</td>\n",
       "      <td>/data1/Mamba/Kaggle/BirdCLEF-2025/Data_Raw/tra...</td>\n",
       "      <td>444673</td>\n",
       "      <td>22050</td>\n",
       "      <td>0.101076</td>\n",
       "      <td>20.166576</td>\n",
       "      <td>0.315243</td>\n",
       "      <td>foreground</td>\n",
       "      <td>2023</td>\n",
       "    </tr>\n",
       "    <tr>\n",
       "      <th>4</th>\n",
       "      <td>rumfly1</td>\n",
       "      <td>[]</td>\n",
       "      <td>['duet', 'song']</td>\n",
       "      <td>rumfly1/XC54522.ogg</td>\n",
       "      <td>XC</td>\n",
       "      <td>4.0</td>\n",
       "      <td>https://xeno-canto.org/54522</td>\n",
       "      <td>NaN</td>\n",
       "      <td>NaN</td>\n",
       "      <td>Myiozetetes cayanensis</td>\n",
       "      <td>...</td>\n",
       "      <td>Bernabe Lopez-Lanus</td>\n",
       "      <td>cc-by-nc-sa 3.0</td>\n",
       "      <td>/data1/Mamba/Kaggle/BirdCLEF-2025/Data_Raw/tra...</td>\n",
       "      <td>474625</td>\n",
       "      <td>22050</td>\n",
       "      <td>0.555774</td>\n",
       "      <td>21.524943</td>\n",
       "      <td>0.331520</td>\n",
       "      <td>foreground</td>\n",
       "      <td>2023</td>\n",
       "    </tr>\n",
       "    <tr>\n",
       "      <th>...</th>\n",
       "      <td>...</td>\n",
       "      <td>...</td>\n",
       "      <td>...</td>\n",
       "      <td>...</td>\n",
       "      <td>...</td>\n",
       "      <td>...</td>\n",
       "      <td>...</td>\n",
       "      <td>...</td>\n",
       "      <td>...</td>\n",
       "      <td>...</td>\n",
       "      <td>...</td>\n",
       "      <td>...</td>\n",
       "      <td>...</td>\n",
       "      <td>...</td>\n",
       "      <td>...</td>\n",
       "      <td>...</td>\n",
       "      <td>...</td>\n",
       "      <td>...</td>\n",
       "      <td>...</td>\n",
       "      <td>...</td>\n",
       "      <td>...</td>\n",
       "    </tr>\n",
       "    <tr>\n",
       "      <th>22846</th>\n",
       "      <td>linwoo1</td>\n",
       "      <td>[]</td>\n",
       "      <td>['drumming']</td>\n",
       "      <td>linwoo1/XC78185.ogg</td>\n",
       "      <td>XC</td>\n",
       "      <td>3.0</td>\n",
       "      <td>https://xeno-canto.org/78185</td>\n",
       "      <td>-19.1824</td>\n",
       "      <td>-48.3936</td>\n",
       "      <td>Dryocopus lineatus</td>\n",
       "      <td>...</td>\n",
       "      <td>Bob Planque</td>\n",
       "      <td>cc-by-nc-sa 3.0</td>\n",
       "      <td>/data1/Mamba/Kaggle/BirdCLEF-2025/Data_Raw/tra...</td>\n",
       "      <td>221761</td>\n",
       "      <td>22050</td>\n",
       "      <td>0.652465</td>\n",
       "      <td>10.057188</td>\n",
       "      <td>0.280355</td>\n",
       "      <td>foreground</td>\n",
       "      <td>2023</td>\n",
       "    </tr>\n",
       "    <tr>\n",
       "      <th>22847</th>\n",
       "      <td>socfly1</td>\n",
       "      <td>[]</td>\n",
       "      <td>['']</td>\n",
       "      <td>socfly1/iNat880781.ogg</td>\n",
       "      <td>iNat</td>\n",
       "      <td>0.0</td>\n",
       "      <td>https://static.inaturalist.org/sounds/880781.mp3</td>\n",
       "      <td>-18.8302</td>\n",
       "      <td>-40.6809</td>\n",
       "      <td>Myiozetetes similis</td>\n",
       "      <td>...</td>\n",
       "      <td>Vitor Corrêa Dias</td>\n",
       "      <td>cc-by-nc 4.0</td>\n",
       "      <td>/data1/Mamba/Kaggle/BirdCLEF-2025/Data_Raw/tra...</td>\n",
       "      <td>110603</td>\n",
       "      <td>22050</td>\n",
       "      <td>0.051320</td>\n",
       "      <td>5.016009</td>\n",
       "      <td>0.218558</td>\n",
       "      <td>foreground</td>\n",
       "      <td>2023</td>\n",
       "    </tr>\n",
       "    <tr>\n",
       "      <th>22848</th>\n",
       "      <td>greani1</td>\n",
       "      <td>[]</td>\n",
       "      <td>['call']</td>\n",
       "      <td>greani1/XC14741.ogg</td>\n",
       "      <td>XC</td>\n",
       "      <td>3.0</td>\n",
       "      <td>https://xeno-canto.org/14741</td>\n",
       "      <td>-3.2231</td>\n",
       "      <td>-59.8664</td>\n",
       "      <td>Crotophaga major</td>\n",
       "      <td>...</td>\n",
       "      <td>Nick Athanas</td>\n",
       "      <td>cc-by-nc-sa 3.0</td>\n",
       "      <td>/data1/Mamba/Kaggle/BirdCLEF-2025/Data_Raw/tra...</td>\n",
       "      <td>793729</td>\n",
       "      <td>22050</td>\n",
       "      <td>0.865305</td>\n",
       "      <td>35.996780</td>\n",
       "      <td>0.451922</td>\n",
       "      <td>foreground</td>\n",
       "      <td>2023</td>\n",
       "    </tr>\n",
       "    <tr>\n",
       "      <th>22849</th>\n",
       "      <td>grekis</td>\n",
       "      <td>[]</td>\n",
       "      <td>['song']</td>\n",
       "      <td>grekis/XC714034.ogg</td>\n",
       "      <td>XC</td>\n",
       "      <td>4.0</td>\n",
       "      <td>https://xeno-canto.org/714034</td>\n",
       "      <td>-23.7995</td>\n",
       "      <td>-46.0230</td>\n",
       "      <td>Pitangus sulphuratus</td>\n",
       "      <td>...</td>\n",
       "      <td>Fernando Igor de Godoy</td>\n",
       "      <td>cc-by-nc-sa 4.0</td>\n",
       "      <td>/data1/Mamba/Kaggle/BirdCLEF-2025/Data_Raw/tra...</td>\n",
       "      <td>1323648</td>\n",
       "      <td>22050</td>\n",
       "      <td>0.191671</td>\n",
       "      <td>60.029388</td>\n",
       "      <td>0.161863</td>\n",
       "      <td>foreground</td>\n",
       "      <td>2023</td>\n",
       "    </tr>\n",
       "    <tr>\n",
       "      <th>22850</th>\n",
       "      <td>bbwduc</td>\n",
       "      <td>[]</td>\n",
       "      <td>['']</td>\n",
       "      <td>bbwduc/iNat1235273.ogg</td>\n",
       "      <td>iNat</td>\n",
       "      <td>0.0</td>\n",
       "      <td>https://static.inaturalist.org/sounds/1235273.m4a</td>\n",
       "      <td>29.9313</td>\n",
       "      <td>-90.1238</td>\n",
       "      <td>Dendrocygna autumnalis</td>\n",
       "      <td>...</td>\n",
       "      <td>Unknown</td>\n",
       "      <td>cc-by-nc 4.0</td>\n",
       "      <td>/data1/Mamba/Kaggle/BirdCLEF-2025/Data_Raw/tra...</td>\n",
       "      <td>251905</td>\n",
       "      <td>22050</td>\n",
       "      <td>0.151951</td>\n",
       "      <td>11.424263</td>\n",
       "      <td>0.247333</td>\n",
       "      <td>foreground</td>\n",
       "      <td>2023</td>\n",
       "    </tr>\n",
       "  </tbody>\n",
       "</table>\n",
       "<p>22851 rows × 21 columns</p>\n",
       "</div>"
      ],
      "text/plain": [
       "      primary_label secondary_labels              type  \\\n",
       "0           yehcar1               []          ['call']   \n",
       "1           rutjac1        [rumfly1]          ['song']   \n",
       "2            grekis               []          ['song']   \n",
       "3           rutjac1               []          ['song']   \n",
       "4           rumfly1               []  ['duet', 'song']   \n",
       "...             ...              ...               ...   \n",
       "22846       linwoo1               []      ['drumming']   \n",
       "22847       socfly1               []              ['']   \n",
       "22848       greani1               []          ['call']   \n",
       "22849        grekis               []          ['song']   \n",
       "22850        bbwduc               []              ['']   \n",
       "\n",
       "                     filename collection  rating  \\\n",
       "0        yehcar1/XC674420.ogg         XC     5.0   \n",
       "1        rutjac1/XC261831.ogg         XC     4.5   \n",
       "2         grekis/XC576073.ogg         XC     4.0   \n",
       "3        rutjac1/XC298078.ogg         XC     4.0   \n",
       "4         rumfly1/XC54522.ogg         XC     4.0   \n",
       "...                       ...        ...     ...   \n",
       "22846     linwoo1/XC78185.ogg         XC     3.0   \n",
       "22847  socfly1/iNat880781.ogg       iNat     0.0   \n",
       "22848     greani1/XC14741.ogg         XC     3.0   \n",
       "22849     grekis/XC714034.ogg         XC     4.0   \n",
       "22850  bbwduc/iNat1235273.ogg       iNat     0.0   \n",
       "\n",
       "                                                     url  latitude  longitude  \\\n",
       "0                          https://xeno-canto.org/674420  -21.7357   -43.3693   \n",
       "1                          https://xeno-canto.org/261831    0.8830   -78.8000   \n",
       "2                          https://xeno-canto.org/576073   14.3572   -87.6545   \n",
       "3                          https://xeno-canto.org/298078    7.8273   -72.6175   \n",
       "4                           https://xeno-canto.org/54522       NaN        NaN   \n",
       "...                                                  ...       ...        ...   \n",
       "22846                       https://xeno-canto.org/78185  -19.1824   -48.3936   \n",
       "22847   https://static.inaturalist.org/sounds/880781.mp3  -18.8302   -40.6809   \n",
       "22848                       https://xeno-canto.org/14741   -3.2231   -59.8664   \n",
       "22849                      https://xeno-canto.org/714034  -23.7995   -46.0230   \n",
       "22850  https://static.inaturalist.org/sounds/1235273.m4a   29.9313   -90.1238   \n",
       "\n",
       "              scientific_name  ...                  author          license  \\\n",
       "0          Milvago chimachima  ...           Marco Manhães  cc-by-nc-sa 4.0   \n",
       "1           Galbula ruficauda  ...               Olaf Jahn  cc-by-nc-sa 4.0   \n",
       "2        Pitangus sulphuratus  ...          Mario Reyes Jr  cc-by-nc-sa 4.0   \n",
       "3           Galbula ruficauda  ...           Oscar Laverde  cc-by-nc-sa 4.0   \n",
       "4      Myiozetetes cayanensis  ...     Bernabe Lopez-Lanus  cc-by-nc-sa 3.0   \n",
       "...                       ...  ...                     ...              ...   \n",
       "22846      Dryocopus lineatus  ...             Bob Planque  cc-by-nc-sa 3.0   \n",
       "22847     Myiozetetes similis  ...       Vitor Corrêa Dias     cc-by-nc 4.0   \n",
       "22848        Crotophaga major  ...            Nick Athanas  cc-by-nc-sa 3.0   \n",
       "22849    Pitangus sulphuratus  ...  Fernando Igor de Godoy  cc-by-nc-sa 4.0   \n",
       "22850  Dendrocygna autumnalis  ...                 Unknown     cc-by-nc 4.0   \n",
       "\n",
       "                                                    path duration     sr  \\\n",
       "0      /data1/Mamba/Kaggle/BirdCLEF-2025/Data_Raw/tra...  1453248  22050   \n",
       "1      /data1/Mamba/Kaggle/BirdCLEF-2025/Data_Raw/tra...   563904  22050   \n",
       "2      /data1/Mamba/Kaggle/BirdCLEF-2025/Data_Raw/tra...   973440  22050   \n",
       "3      /data1/Mamba/Kaggle/BirdCLEF-2025/Data_Raw/tra...   444673  22050   \n",
       "4      /data1/Mamba/Kaggle/BirdCLEF-2025/Data_Raw/tra...   474625  22050   \n",
       "...                                                  ...      ...    ...   \n",
       "22846  /data1/Mamba/Kaggle/BirdCLEF-2025/Data_Raw/tra...   221761  22050   \n",
       "22847  /data1/Mamba/Kaggle/BirdCLEF-2025/Data_Raw/tra...   110603  22050   \n",
       "22848  /data1/Mamba/Kaggle/BirdCLEF-2025/Data_Raw/tra...   793729  22050   \n",
       "22849  /data1/Mamba/Kaggle/BirdCLEF-2025/Data_Raw/tra...  1323648  22050   \n",
       "22850  /data1/Mamba/Kaggle/BirdCLEF-2025/Data_Raw/tra...   251905  22050   \n",
       "\n",
       "       max_amplitude  duration_sec    weight  presence_type version  \n",
       "0           1.005431     65.906939  0.330124     foreground    2023  \n",
       "1           0.440904     25.573878  0.315243     foreground    2023  \n",
       "2           0.666072     44.146939  0.161863     foreground    2023  \n",
       "3           0.101076     20.166576  0.315243     foreground    2023  \n",
       "4           0.555774     21.524943  0.331520     foreground    2023  \n",
       "...              ...           ...       ...            ...     ...  \n",
       "22846       0.652465     10.057188  0.280355     foreground    2023  \n",
       "22847       0.051320      5.016009  0.218558     foreground    2023  \n",
       "22848       0.865305     35.996780  0.451922     foreground    2023  \n",
       "22849       0.191671     60.029388  0.161863     foreground    2023  \n",
       "22850       0.151951     11.424263  0.247333     foreground    2023  \n",
       "\n",
       "[22851 rows x 21 columns]"
      ]
     },
     "execution_count": 6,
     "metadata": {},
     "output_type": "execute_result"
    }
   ],
   "source": [
    "df_train"
   ]
  },
  {
   "cell_type": "code",
   "execution_count": 7,
   "metadata": {},
   "outputs": [
    {
     "data": {
      "text/plain": [
       "22851"
      ]
     },
     "execution_count": 7,
     "metadata": {},
     "output_type": "execute_result"
    }
   ],
   "source": [
    "if cfg.use_2024_additional_cleaned:\n",
    "    # append handlabeled data\n",
    "    df_additional = pd.read_pickle(cfg.train_2024_additional_cleaned)\n",
    "    df_additional[\"version\"] = \"2023\"\n",
    "    df_additional[\"presence_type\"]  = \"foreground\"\n",
    "\n",
    "    # repeating records\n",
    "    df_additional = pd.concat([df_additional] * cfg.num_cleaned_repeat).reset_index(drop=True)\n",
    "\n",
    "    # make one-hot label\n",
    "    add_primary_label = pd.Categorical(df_additional[\"primary_label\"], categories=cfg.bird_cols)\n",
    "    add_primary_label = pd.get_dummies(add_primary_label,  dtype=np.float64)\n",
    "    assert (add_primary_label.columns == df_label_train.columns).all()\n",
    "\n",
    "\n",
    "    df_train = pd.concat([df_train, df_additional]).reset_index(drop=True)\n",
    "    df_label_train = pd.concat([df_label_train, add_primary_label]).reset_index(drop=True)\n",
    "    # df_train.shape\n",
    "\n",
    "    # shuffle\n",
    "    perm_idx = df_train.index.to_series().sample(frac=1, random_state=0)\n",
    "    df_train = df_train.iloc[perm_idx].reset_index(drop=True)\n",
    "    df_label_train = df_label_train.iloc[perm_idx].reset_index(drop=True)\n",
    "\n",
    "    all_primary_labels = df_train[\"primary_label\"]\n",
    "    sample_weights = (\n",
    "        all_primary_labels.value_counts() / \n",
    "        all_primary_labels.value_counts().sum()\n",
    "    )  ** (cfg.class_exponent_weight)\n",
    "    sample_weights = sample_weights / sample_weights.mean()\n",
    "    df_train[\"weight\"] = sample_weights[df_train[\"primary_label\"].values].values\n",
    "\n",
    "len(df_train)"
   ]
  },
  {
   "cell_type": "code",
   "execution_count": 8,
   "metadata": {},
   "outputs": [],
   "source": [
    "pseudo = None\n",
    "dl_train, dl_val, ds_train, ds_val = get_train_dataloader\\\n",
    "    (\n",
    "\t\tdf_train,\n",
    "\t\tdf_valid,\n",
    "\t\tdf_label_train,\n",
    "\t\tdf_label_valid,\n",
    "\t\tcfg,\n",
    "\t\tpseudo,\n",
    "\t\ttransforms\n",
    "    )"
   ]
  },
  {
   "cell_type": "code",
   "execution_count": 9,
   "metadata": {},
   "outputs": [],
   "source": [
    "# batch = next(iter(dl_train))\n",
    "# audio, target, weight = batch\n",
    "# audio.shape, target.shape"
   ]
  },
  {
   "cell_type": "code",
   "execution_count": 10,
   "metadata": {},
   "outputs": [],
   "source": [
    "logger = WandbLogger(project='BirdClef-2025', name=f'{model_name}_{stage}')\n",
    "checkpoint_callback = ModelCheckpoint\\\n",
    "    (\n",
    "\t\tmonitor='val_loss',\n",
    "\t\tdirpath= cfg.output_path[stage],\n",
    "\t\tsave_top_k=5,\n",
    "\t\tsave_last=True,\n",
    "\t\tsave_weights_only=True,\n",
    "\t\tfilename='{epoch}_{step}_{val_roc_auc:.3f}_{val_cmap_pad:.3f}_{val_ap:.3f}',\n",
    "\t\tverbose=True,\n",
    "\t\tevery_n_epochs=1,\n",
    "\t\tmode='min'\n",
    "\t)"
   ]
  },
  {
   "cell_type": "markdown",
   "metadata": {},
   "source": [
    "## Trainer"
   ]
  },
  {
   "cell_type": "code",
   "execution_count": 11,
   "metadata": {},
   "outputs": [],
   "source": [
    "logger = WandbLogger(project='BirdClef-2025', name=f'{model_name}_{stage}')\n",
    "checkpoint_callback = ModelCheckpoint\\\n",
    "    (\n",
    "\t\tmonitor='val_loss',\n",
    "\t\tdirpath= cfg.output_path[stage],\n",
    "\t\tsave_top_k=5,\n",
    "\t\tsave_last=True,\n",
    "\t\tsave_weights_only=True,\n",
    "\t\tfilename='{epoch}_{step}_{val_roc_auc:.3f}_{val_cmap_pad:.3f}_{val_ap:.3f}',\n",
    "\t\tverbose=True,\n",
    "\t\tevery_n_epochs=1,\n",
    "\t\tmode='min'\n",
    "\t)"
   ]
  },
  {
   "cell_type": "code",
   "execution_count": 12,
   "metadata": {},
   "outputs": [
    {
     "name": "stderr",
     "output_type": "stream",
     "text": [
      "Using bfloat16 Automatic Mixed Precision (AMP)\n",
      "GPU available: True (cuda), used: True\n",
      "TPU available: False, using: 0 TPU cores\n",
      "HPU available: False, using: 0 HPUs\n",
      "`Trainer(val_check_interval=1.0)` was configured so validation will run at the end of the training epoch..\n"
     ]
    }
   ],
   "source": [
    "callbacks_to_use = [checkpoint_callback]\n",
    "model = load_model(cfg,stage)\n",
    "trainer = pl.Trainer\\\n",
    "    (\n",
    "\t\tdevices=1,\n",
    "\t\tval_check_interval=1.0,\n",
    "\t\tdeterministic=None,\n",
    "\t\tmax_epochs=cfg.epochs[stage],\n",
    "\t\tlogger=logger,\n",
    "\t\tcallbacks=callbacks_to_use,\n",
    "\t\tprecision=cfg.PRECISION, \n",
    "\t\taccelerator=\"auto\",\n",
    "\t)"
   ]
  },
  {
   "cell_type": "code",
   "execution_count": 13,
   "metadata": {},
   "outputs": [
    {
     "name": "stderr",
     "output_type": "stream",
     "text": [
      "You are using a CUDA device ('NVIDIA A800 80GB PCIe') that has Tensor Cores. To properly utilize them, you should set `torch.set_float32_matmul_precision('medium' | 'high')` which will trade-off precision for performance. For more details, read https://pytorch.org/docs/stable/generated/torch.set_float32_matmul_precision.html#torch.set_float32_matmul_precision\n",
      "\u001b[34m\u001b[1mwandb\u001b[0m: Currently logged in as: \u001b[33mliguangpeng9495\u001b[0m to \u001b[32mhttps://api.wandb.ai\u001b[0m. Use \u001b[1m`wandb login --relogin`\u001b[0m to force relogin\n"
     ]
    },
    {
     "data": {
      "text/html": [
       "Tracking run with wandb version 0.19.10"
      ],
      "text/plain": [
       "<IPython.core.display.HTML object>"
      ]
     },
     "metadata": {},
     "output_type": "display_data"
    },
    {
     "data": {
      "text/html": [
       "Run data is saved locally in <code>./wandb/run-20250517_192340-seid5zce</code>"
      ],
      "text/plain": [
       "<IPython.core.display.HTML object>"
      ]
     },
     "metadata": {},
     "output_type": "display_data"
    },
    {
     "data": {
      "text/html": [
       "Syncing run <strong><a href='https://wandb.ai/liguangpeng9495/BirdClef-2025/runs/seid5zce' target=\"_blank\">cnn_v1_train_bce</a></strong> to <a href='https://wandb.ai/liguangpeng9495/BirdClef-2025' target=\"_blank\">Weights & Biases</a> (<a href='https://wandb.me/developer-guide' target=\"_blank\">docs</a>)<br>"
      ],
      "text/plain": [
       "<IPython.core.display.HTML object>"
      ]
     },
     "metadata": {},
     "output_type": "display_data"
    },
    {
     "data": {
      "text/html": [
       " View project at <a href='https://wandb.ai/liguangpeng9495/BirdClef-2025' target=\"_blank\">https://wandb.ai/liguangpeng9495/BirdClef-2025</a>"
      ],
      "text/plain": [
       "<IPython.core.display.HTML object>"
      ]
     },
     "metadata": {},
     "output_type": "display_data"
    },
    {
     "data": {
      "text/html": [
       " View run at <a href='https://wandb.ai/liguangpeng9495/BirdClef-2025/runs/seid5zce' target=\"_blank\">https://wandb.ai/liguangpeng9495/BirdClef-2025/runs/seid5zce</a>"
      ],
      "text/plain": [
       "<IPython.core.display.HTML object>"
      ]
     },
     "metadata": {},
     "output_type": "display_data"
    },
    {
     "name": "stderr",
     "output_type": "stream",
     "text": [
      "LOCAL_RANK: 0 - CUDA_VISIBLE_DEVICES: [1,3]\n",
      "\n",
      "   | Name                | Type              | Params | Mode \n",
      "-------------------------------------------------------------------\n",
      "0  | loss_function       | BCEWithLogitsLoss | 0      | train\n",
      "1  | mixup               | Mixup             | 0      | train\n",
      "2  | mixup2              | Mixup2            | 0      | train\n",
      "3  | audio_transforms    | Compose           | 0      | train\n",
      "4  | time_mask_transform | TimeMasking       | 0      | train\n",
      "5  | freq_mask_transform | FrequencyMasking  | 0      | train\n",
      "6  | melspec_transform   | MelSpectrogram    | 0      | train\n",
      "7  | db_transform        | AmplitudeToDB     | 0      | train\n",
      "8  | backbone            | EfficientNet      | 4.0 M  | train\n",
      "9  | global_pool         | GeM               | 1      | train\n",
      "10 | head                | Linear            | 263 K  | train\n",
      "11 | big_dropout         | Dropout           | 0      | train\n",
      "-------------------------------------------------------------------\n",
      "4.3 M     Trainable params\n",
      "0         Non-trainable params\n",
      "4.3 M     Total params\n",
      "17.083    Total estimated model params size (MB)\n",
      "353       Modules in train mode\n",
      "0         Modules in eval mode\n"
     ]
    },
    {
     "data": {
      "application/vnd.jupyter.widget-view+json": {
       "model_id": "7f37c9e485394c839d6df095eee29dc6",
       "version_major": 2,
       "version_minor": 0
      },
      "text/plain": [
       "Sanity Checking: |          | 0/? [00:00<?, ?it/s]"
      ]
     },
     "metadata": {},
     "output_type": "display_data"
    },
    {
     "name": "stdout",
     "output_type": "stream",
     "text": [
      "epoch 0 validation loss 280.14688085576097\n",
      "epoch 0 validation ROCAUC score 0.7182539682539683\n",
      "epoch 0 validation C-MAP score pad 3 0.9946064318637134\n",
      "epoch 0 validation AP score 0.019779520422521502\n"
     ]
    },
    {
     "data": {
      "application/vnd.jupyter.widget-view+json": {
       "model_id": "811b78004bc942f0b082457549f8d690",
       "version_major": 2,
       "version_minor": 0
      },
      "text/plain": [
       "Training: |          | 0/? [00:00<?, ?it/s]"
      ]
     },
     "metadata": {},
     "output_type": "display_data"
    },
    {
     "data": {
      "application/vnd.jupyter.widget-view+json": {
       "model_id": "f82ff5727cc141a58f5ca1f45972ad99",
       "version_major": 2,
       "version_minor": 0
      },
      "text/plain": [
       "Validation: |          | 0/? [00:00<?, ?it/s]"
      ]
     },
     "metadata": {},
     "output_type": "display_data"
    },
    {
     "name": "stderr",
     "output_type": "stream",
     "text": [
      "Epoch 0, global step 358: 'val_loss' reached 12.92134 (best 12.92134), saving model to '/data2/Mamba/Project/Kaggle/BirdCLEF-2025/cnn_v5/pytorch/train_bce/epoch=0_step=358_val_roc_auc=0.798_val_cmap_pad=0.383_val_ap=0.313.ckpt' as top 5\n"
     ]
    },
    {
     "name": "stdout",
     "output_type": "stream",
     "text": [
      "epoch 0 validation loss 12.921336593180019\n",
      "epoch 0 validation ROCAUC score 0.7981581470883738\n",
      "epoch 0 validation C-MAP score pad 3 0.38253352119189743\n",
      "epoch 0 validation AP score 0.31298682895768437\n"
     ]
    },
    {
     "data": {
      "application/vnd.jupyter.widget-view+json": {
       "model_id": "56bdac89ac00426cbb60a1a89d043108",
       "version_major": 2,
       "version_minor": 0
      },
      "text/plain": [
       "Validation: |          | 0/? [00:00<?, ?it/s]"
      ]
     },
     "metadata": {},
     "output_type": "display_data"
    },
    {
     "name": "stderr",
     "output_type": "stream",
     "text": [
      "Epoch 1, global step 716: 'val_loss' reached 10.98560 (best 10.98560), saving model to '/data2/Mamba/Project/Kaggle/BirdCLEF-2025/cnn_v5/pytorch/train_bce/epoch=1_step=716_val_roc_auc=0.888_val_cmap_pad=0.503_val_ap=0.486.ckpt' as top 5\n"
     ]
    },
    {
     "name": "stdout",
     "output_type": "stream",
     "text": [
      "epoch 1 validation loss 10.985603749414246\n",
      "epoch 1 validation ROCAUC score 0.8882860523757791\n",
      "epoch 1 validation C-MAP score pad 3 0.5032067730350902\n",
      "epoch 1 validation AP score 0.4864925021692395\n"
     ]
    },
    {
     "data": {
      "application/vnd.jupyter.widget-view+json": {
       "model_id": "da9db250fc9e4c129eb2c75920e69d4e",
       "version_major": 2,
       "version_minor": 0
      },
      "text/plain": [
       "Validation: |          | 0/? [00:00<?, ?it/s]"
      ]
     },
     "metadata": {},
     "output_type": "display_data"
    },
    {
     "name": "stderr",
     "output_type": "stream",
     "text": [
      "Epoch 2, global step 1074: 'val_loss' reached 10.61497 (best 10.61497), saving model to '/data2/Mamba/Project/Kaggle/BirdCLEF-2025/cnn_v5/pytorch/train_bce/epoch=2_step=1074_val_roc_auc=0.922_val_cmap_pad=0.586_val_ap=0.589.ckpt' as top 5\n"
     ]
    },
    {
     "name": "stdout",
     "output_type": "stream",
     "text": [
      "epoch 2 validation loss 10.614968109990691\n",
      "epoch 2 validation ROCAUC score 0.922216115797352\n",
      "epoch 2 validation C-MAP score pad 3 0.5863545923089336\n",
      "epoch 2 validation AP score 0.5888030304215449\n"
     ]
    },
    {
     "data": {
      "application/vnd.jupyter.widget-view+json": {
       "model_id": "e78c3f0361ef40f48674ce06032d82ba",
       "version_major": 2,
       "version_minor": 0
      },
      "text/plain": [
       "Validation: |          | 0/? [00:00<?, ?it/s]"
      ]
     },
     "metadata": {},
     "output_type": "display_data"
    },
    {
     "name": "stderr",
     "output_type": "stream",
     "text": [
      "Epoch 3, global step 1432: 'val_loss' reached 9.36970 (best 9.36970), saving model to '/data2/Mamba/Project/Kaggle/BirdCLEF-2025/cnn_v5/pytorch/train_bce/epoch=3_step=1432_val_roc_auc=0.928_val_cmap_pad=0.611_val_ap=0.608.ckpt' as top 5\n"
     ]
    },
    {
     "name": "stdout",
     "output_type": "stream",
     "text": [
      "epoch 3 validation loss 9.369702989009317\n",
      "epoch 3 validation ROCAUC score 0.928019882422116\n",
      "epoch 3 validation C-MAP score pad 3 0.6108919659949869\n",
      "epoch 3 validation AP score 0.6078317859401985\n"
     ]
    },
    {
     "data": {
      "application/vnd.jupyter.widget-view+json": {
       "model_id": "2f2e8f006b9247e6bbc321f162ec3851",
       "version_major": 2,
       "version_minor": 0
      },
      "text/plain": [
       "Validation: |          | 0/? [00:00<?, ?it/s]"
      ]
     },
     "metadata": {},
     "output_type": "display_data"
    },
    {
     "name": "stderr",
     "output_type": "stream",
     "text": [
      "Epoch 4, global step 1790: 'val_loss' reached 8.79967 (best 8.79967), saving model to '/data2/Mamba/Project/Kaggle/BirdCLEF-2025/cnn_v5/pytorch/train_bce/epoch=4_step=1790_val_roc_auc=0.932_val_cmap_pad=0.646_val_ap=0.651.ckpt' as top 5\n"
     ]
    },
    {
     "name": "stdout",
     "output_type": "stream",
     "text": [
      "epoch 4 validation loss 8.79966567934403\n",
      "epoch 4 validation ROCAUC score 0.9321426414019066\n",
      "epoch 4 validation C-MAP score pad 3 0.6456945377881618\n",
      "epoch 4 validation AP score 0.6507762945287205\n"
     ]
    },
    {
     "data": {
      "application/vnd.jupyter.widget-view+json": {
       "model_id": "061c0d14f965442cba4c004aca37d590",
       "version_major": 2,
       "version_minor": 0
      },
      "text/plain": [
       "Validation: |          | 0/? [00:00<?, ?it/s]"
      ]
     },
     "metadata": {},
     "output_type": "display_data"
    },
    {
     "name": "stderr",
     "output_type": "stream",
     "text": [
      "Epoch 5, global step 2148: 'val_loss' reached 8.41621 (best 8.41621), saving model to '/data2/Mamba/Project/Kaggle/BirdCLEF-2025/cnn_v5/pytorch/train_bce/epoch=5_step=2148_val_roc_auc=0.938_val_cmap_pad=0.666_val_ap=0.671.ckpt' as top 5\n"
     ]
    },
    {
     "name": "stdout",
     "output_type": "stream",
     "text": [
      "epoch 5 validation loss 8.416212606448608\n",
      "epoch 5 validation ROCAUC score 0.9379963909007579\n",
      "epoch 5 validation C-MAP score pad 3 0.6662139016515274\n",
      "epoch 5 validation AP score 0.6710576161673139\n"
     ]
    },
    {
     "data": {
      "application/vnd.jupyter.widget-view+json": {
       "model_id": "b31373ef27184901b1487f7f56470975",
       "version_major": 2,
       "version_minor": 0
      },
      "text/plain": [
       "Validation: |          | 0/? [00:00<?, ?it/s]"
      ]
     },
     "metadata": {},
     "output_type": "display_data"
    },
    {
     "name": "stderr",
     "output_type": "stream",
     "text": [
      "Epoch 6, global step 2506: 'val_loss' reached 8.22295 (best 8.22295), saving model to '/data2/Mamba/Project/Kaggle/BirdCLEF-2025/cnn_v5/pytorch/train_bce/epoch=6_step=2506_val_roc_auc=0.942_val_cmap_pad=0.682_val_ap=0.683.ckpt' as top 5\n"
     ]
    },
    {
     "name": "stdout",
     "output_type": "stream",
     "text": [
      "epoch 6 validation loss 8.222951436973998\n",
      "epoch 6 validation ROCAUC score 0.9424366989687354\n",
      "epoch 6 validation C-MAP score pad 3 0.6820738525665477\n",
      "epoch 6 validation AP score 0.683443605919842\n"
     ]
    },
    {
     "data": {
      "application/vnd.jupyter.widget-view+json": {
       "model_id": "1adac17d85d5433faa03024410d80c23",
       "version_major": 2,
       "version_minor": 0
      },
      "text/plain": [
       "Validation: |          | 0/? [00:00<?, ?it/s]"
      ]
     },
     "metadata": {},
     "output_type": "display_data"
    },
    {
     "name": "stderr",
     "output_type": "stream",
     "text": [
      "Epoch 7, global step 2864: 'val_loss' reached 7.99870 (best 7.99870), saving model to '/data2/Mamba/Project/Kaggle/BirdCLEF-2025/cnn_v5/pytorch/train_bce/epoch=7_step=2864_val_roc_auc=0.943_val_cmap_pad=0.703_val_ap=0.697.ckpt' as top 5\n"
     ]
    },
    {
     "name": "stdout",
     "output_type": "stream",
     "text": [
      "epoch 7 validation loss 7.99870170463278\n",
      "epoch 7 validation ROCAUC score 0.9432907286672502\n",
      "epoch 7 validation C-MAP score pad 3 0.7028325431950231\n",
      "epoch 7 validation AP score 0.697470680915191\n"
     ]
    },
    {
     "data": {
      "application/vnd.jupyter.widget-view+json": {
       "model_id": "b444a0bab5874b99902bd5c4e8ca13ac",
       "version_major": 2,
       "version_minor": 0
      },
      "text/plain": [
       "Validation: |          | 0/? [00:00<?, ?it/s]"
      ]
     },
     "metadata": {},
     "output_type": "display_data"
    },
    {
     "name": "stderr",
     "output_type": "stream",
     "text": [
      "Epoch 8, global step 3222: 'val_loss' reached 7.73177 (best 7.73177), saving model to '/data2/Mamba/Project/Kaggle/BirdCLEF-2025/cnn_v5/pytorch/train_bce/epoch=8_step=3222_val_roc_auc=0.945_val_cmap_pad=0.706_val_ap=0.703.ckpt' as top 5\n"
     ]
    },
    {
     "name": "stdout",
     "output_type": "stream",
     "text": [
      "epoch 8 validation loss 7.731765615676964\n",
      "epoch 8 validation ROCAUC score 0.9447997627520569\n",
      "epoch 8 validation C-MAP score pad 3 0.7064090276659757\n",
      "epoch 8 validation AP score 0.702607936833781\n"
     ]
    },
    {
     "data": {
      "application/vnd.jupyter.widget-view+json": {
       "model_id": "cdd09dc97d814e81a5efd0e7461dd174",
       "version_major": 2,
       "version_minor": 0
      },
      "text/plain": [
       "Validation: |          | 0/? [00:00<?, ?it/s]"
      ]
     },
     "metadata": {},
     "output_type": "display_data"
    },
    {
     "name": "stderr",
     "output_type": "stream",
     "text": [
      "Epoch 9, global step 3580: 'val_loss' reached 7.27882 (best 7.27882), saving model to '/data2/Mamba/Project/Kaggle/BirdCLEF-2025/cnn_v5/pytorch/train_bce/epoch=9_step=3580_val_roc_auc=0.946_val_cmap_pad=0.718_val_ap=0.720.ckpt' as top 5\n"
     ]
    },
    {
     "name": "stdout",
     "output_type": "stream",
     "text": [
      "epoch 9 validation loss 7.278821179889307\n",
      "epoch 9 validation ROCAUC score 0.9460976802902941\n",
      "epoch 9 validation C-MAP score pad 3 0.7178299910580872\n",
      "epoch 9 validation AP score 0.7198961742428447\n"
     ]
    },
    {
     "data": {
      "application/vnd.jupyter.widget-view+json": {
       "model_id": "adaf6dbce4ab4e3cb07117097936f56c",
       "version_major": 2,
       "version_minor": 0
      },
      "text/plain": [
       "Validation: |          | 0/? [00:00<?, ?it/s]"
      ]
     },
     "metadata": {},
     "output_type": "display_data"
    },
    {
     "name": "stderr",
     "output_type": "stream",
     "text": [
      "Epoch 10, global step 3938: 'val_loss' reached 6.94335 (best 6.94335), saving model to '/data2/Mamba/Project/Kaggle/BirdCLEF-2025/cnn_v5/pytorch/train_bce/epoch=10_step=3938_val_roc_auc=0.947_val_cmap_pad=0.742_val_ap=0.740.ckpt' as top 5\n"
     ]
    },
    {
     "name": "stdout",
     "output_type": "stream",
     "text": [
      "epoch 10 validation loss 6.943350931701766\n",
      "epoch 10 validation ROCAUC score 0.9473579961302012\n",
      "epoch 10 validation C-MAP score pad 3 0.74169347151289\n",
      "epoch 10 validation AP score 0.7397101955604061\n"
     ]
    },
    {
     "data": {
      "application/vnd.jupyter.widget-view+json": {
       "model_id": "1e79c1cc31e143edb5ee6e76573a413c",
       "version_major": 2,
       "version_minor": 0
      },
      "text/plain": [
       "Validation: |          | 0/? [00:00<?, ?it/s]"
      ]
     },
     "metadata": {},
     "output_type": "display_data"
    },
    {
     "name": "stderr",
     "output_type": "stream",
     "text": [
      "Epoch 11, global step 4296: 'val_loss' reached 6.83403 (best 6.83403), saving model to '/data2/Mamba/Project/Kaggle/BirdCLEF-2025/cnn_v5/pytorch/train_bce/epoch=11_step=4296_val_roc_auc=0.952_val_cmap_pad=0.743_val_ap=0.741.ckpt' as top 5\n"
     ]
    },
    {
     "name": "stdout",
     "output_type": "stream",
     "text": [
      "epoch 11 validation loss 6.83402928219452\n",
      "epoch 11 validation ROCAUC score 0.9515687704012481\n",
      "epoch 11 validation C-MAP score pad 3 0.7433521821756693\n",
      "epoch 11 validation AP score 0.7407214557795647\n"
     ]
    },
    {
     "data": {
      "application/vnd.jupyter.widget-view+json": {
       "model_id": "528da182c4364fb2b3783a4e99c89c8a",
       "version_major": 2,
       "version_minor": 0
      },
      "text/plain": [
       "Validation: |          | 0/? [00:00<?, ?it/s]"
      ]
     },
     "metadata": {},
     "output_type": "display_data"
    },
    {
     "name": "stderr",
     "output_type": "stream",
     "text": [
      "Epoch 12, global step 4654: 'val_loss' reached 6.82937 (best 6.82937), saving model to '/data2/Mamba/Project/Kaggle/BirdCLEF-2025/cnn_v5/pytorch/train_bce/epoch=12_step=4654_val_roc_auc=0.954_val_cmap_pad=0.745_val_ap=0.747.ckpt' as top 5\n"
     ]
    },
    {
     "name": "stdout",
     "output_type": "stream",
     "text": [
      "epoch 12 validation loss 6.829367232703405\n",
      "epoch 12 validation ROCAUC score 0.9536220436316611\n",
      "epoch 12 validation C-MAP score pad 3 0.744521729347314\n",
      "epoch 12 validation AP score 0.7467247959306033\n"
     ]
    },
    {
     "data": {
      "application/vnd.jupyter.widget-view+json": {
       "model_id": "dc5692ec84cd4183a924dfe39cee1ca9",
       "version_major": 2,
       "version_minor": 0
      },
      "text/plain": [
       "Validation: |          | 0/? [00:00<?, ?it/s]"
      ]
     },
     "metadata": {},
     "output_type": "display_data"
    },
    {
     "name": "stderr",
     "output_type": "stream",
     "text": [
      "Epoch 13, global step 5012: 'val_loss' reached 6.25952 (best 6.25952), saving model to '/data2/Mamba/Project/Kaggle/BirdCLEF-2025/cnn_v5/pytorch/train_bce/epoch=13_step=5012_val_roc_auc=0.953_val_cmap_pad=0.751_val_ap=0.753.ckpt' as top 5\n"
     ]
    },
    {
     "name": "stdout",
     "output_type": "stream",
     "text": [
      "epoch 13 validation loss 6.259516314399484\n",
      "epoch 13 validation ROCAUC score 0.9534110268206207\n",
      "epoch 13 validation C-MAP score pad 3 0.7511480836562406\n",
      "epoch 13 validation AP score 0.7525015841350797\n"
     ]
    },
    {
     "data": {
      "application/vnd.jupyter.widget-view+json": {
       "model_id": "61cc057c304441248171a2e0732e0238",
       "version_major": 2,
       "version_minor": 0
      },
      "text/plain": [
       "Validation: |          | 0/? [00:00<?, ?it/s]"
      ]
     },
     "metadata": {},
     "output_type": "display_data"
    },
    {
     "name": "stderr",
     "output_type": "stream",
     "text": [
      "Epoch 14, global step 5370: 'val_loss' reached 6.33868 (best 6.25952), saving model to '/data2/Mamba/Project/Kaggle/BirdCLEF-2025/cnn_v5/pytorch/train_bce/epoch=14_step=5370_val_roc_auc=0.951_val_cmap_pad=0.761_val_ap=0.760.ckpt' as top 5\n"
     ]
    },
    {
     "name": "stdout",
     "output_type": "stream",
     "text": [
      "epoch 14 validation loss 6.338677114473243\n",
      "epoch 14 validation ROCAUC score 0.9512935473966606\n",
      "epoch 14 validation C-MAP score pad 3 0.7606618044412246\n",
      "epoch 14 validation AP score 0.7598755030804201\n"
     ]
    },
    {
     "data": {
      "application/vnd.jupyter.widget-view+json": {
       "model_id": "d4b9dbac75c9415aa145875f1ca01c9d",
       "version_major": 2,
       "version_minor": 0
      },
      "text/plain": [
       "Validation: |          | 0/? [00:00<?, ?it/s]"
      ]
     },
     "metadata": {},
     "output_type": "display_data"
    },
    {
     "name": "stderr",
     "output_type": "stream",
     "text": [
      "Epoch 15, global step 5728: 'val_loss' reached 5.95401 (best 5.95401), saving model to '/data2/Mamba/Project/Kaggle/BirdCLEF-2025/cnn_v5/pytorch/train_bce/epoch=15_step=5728_val_roc_auc=0.954_val_cmap_pad=0.764_val_ap=0.762.ckpt' as top 5\n"
     ]
    },
    {
     "name": "stdout",
     "output_type": "stream",
     "text": [
      "epoch 15 validation loss 5.954012674079615\n",
      "epoch 15 validation ROCAUC score 0.9538475877089211\n",
      "epoch 15 validation C-MAP score pad 3 0.7635212053192532\n",
      "epoch 15 validation AP score 0.7619830152824085\n"
     ]
    },
    {
     "data": {
      "application/vnd.jupyter.widget-view+json": {
       "model_id": "efbb91dd5d5140198a526a85d56998b7",
       "version_major": 2,
       "version_minor": 0
      },
      "text/plain": [
       "Validation: |          | 0/? [00:00<?, ?it/s]"
      ]
     },
     "metadata": {},
     "output_type": "display_data"
    },
    {
     "name": "stderr",
     "output_type": "stream",
     "text": [
      "Epoch 16, global step 6086: 'val_loss' reached 5.84421 (best 5.84421), saving model to '/data2/Mamba/Project/Kaggle/BirdCLEF-2025/cnn_v5/pytorch/train_bce/epoch=16_step=6086_val_roc_auc=0.952_val_cmap_pad=0.774_val_ap=0.773.ckpt' as top 5\n"
     ]
    },
    {
     "name": "stdout",
     "output_type": "stream",
     "text": [
      "epoch 16 validation loss 5.844213393735517\n",
      "epoch 16 validation ROCAUC score 0.9523636384477293\n",
      "epoch 16 validation C-MAP score pad 3 0.7744674377271938\n",
      "epoch 16 validation AP score 0.7726583654195059\n"
     ]
    },
    {
     "data": {
      "application/vnd.jupyter.widget-view+json": {
       "model_id": "7ce447666bb54c4381d55f47e90ed20a",
       "version_major": 2,
       "version_minor": 0
      },
      "text/plain": [
       "Validation: |          | 0/? [00:00<?, ?it/s]"
      ]
     },
     "metadata": {},
     "output_type": "display_data"
    },
    {
     "name": "stderr",
     "output_type": "stream",
     "text": [
      "Epoch 17, global step 6444: 'val_loss' reached 5.75622 (best 5.75622), saving model to '/data2/Mamba/Project/Kaggle/BirdCLEF-2025/cnn_v5/pytorch/train_bce/epoch=17_step=6444_val_roc_auc=0.954_val_cmap_pad=0.772_val_ap=0.775.ckpt' as top 5\n"
     ]
    },
    {
     "name": "stdout",
     "output_type": "stream",
     "text": [
      "epoch 17 validation loss 5.756216602254531\n",
      "epoch 17 validation ROCAUC score 0.9539584423056802\n",
      "epoch 17 validation C-MAP score pad 3 0.7720505934560449\n",
      "epoch 17 validation AP score 0.7751640689613318\n"
     ]
    },
    {
     "data": {
      "application/vnd.jupyter.widget-view+json": {
       "model_id": "e397b888780b438c91ef22b8ea34dad5",
       "version_major": 2,
       "version_minor": 0
      },
      "text/plain": [
       "Validation: |          | 0/? [00:00<?, ?it/s]"
      ]
     },
     "metadata": {},
     "output_type": "display_data"
    },
    {
     "name": "stderr",
     "output_type": "stream",
     "text": [
      "Epoch 18, global step 6802: 'val_loss' reached 5.62772 (best 5.62772), saving model to '/data2/Mamba/Project/Kaggle/BirdCLEF-2025/cnn_v5/pytorch/train_bce/epoch=18_step=6802_val_roc_auc=0.955_val_cmap_pad=0.778_val_ap=0.777.ckpt' as top 5\n"
     ]
    },
    {
     "name": "stdout",
     "output_type": "stream",
     "text": [
      "epoch 18 validation loss 5.627717730223319\n",
      "epoch 18 validation ROCAUC score 0.9549349109289906\n",
      "epoch 18 validation C-MAP score pad 3 0.7778301427071738\n",
      "epoch 18 validation AP score 0.7771038037454578\n"
     ]
    },
    {
     "data": {
      "application/vnd.jupyter.widget-view+json": {
       "model_id": "453b600815b243ddbc3332e07f911cc3",
       "version_major": 2,
       "version_minor": 0
      },
      "text/plain": [
       "Validation: |          | 0/? [00:00<?, ?it/s]"
      ]
     },
     "metadata": {},
     "output_type": "display_data"
    },
    {
     "name": "stderr",
     "output_type": "stream",
     "text": [
      "Epoch 19, global step 7160: 'val_loss' reached 5.51138 (best 5.51138), saving model to '/data2/Mamba/Project/Kaggle/BirdCLEF-2025/cnn_v5/pytorch/train_bce/epoch=19_step=7160_val_roc_auc=0.956_val_cmap_pad=0.784_val_ap=0.782.ckpt' as top 5\n"
     ]
    },
    {
     "name": "stdout",
     "output_type": "stream",
     "text": [
      "epoch 19 validation loss 5.511376163940986\n",
      "epoch 19 validation ROCAUC score 0.9560209964068054\n",
      "epoch 19 validation C-MAP score pad 3 0.7839970743193829\n",
      "epoch 19 validation AP score 0.7816956224943414\n"
     ]
    },
    {
     "data": {
      "application/vnd.jupyter.widget-view+json": {
       "model_id": "b0f7b5d66d6e4fa0a7f987bcd6c9e173",
       "version_major": 2,
       "version_minor": 0
      },
      "text/plain": [
       "Validation: |          | 0/? [00:00<?, ?it/s]"
      ]
     },
     "metadata": {},
     "output_type": "display_data"
    },
    {
     "name": "stderr",
     "output_type": "stream",
     "text": [
      "Epoch 20, global step 7518: 'val_loss' reached 5.33590 (best 5.33590), saving model to '/data2/Mamba/Project/Kaggle/BirdCLEF-2025/cnn_v5/pytorch/train_bce/epoch=20_step=7518_val_roc_auc=0.958_val_cmap_pad=0.789_val_ap=0.790.ckpt' as top 5\n"
     ]
    },
    {
     "name": "stdout",
     "output_type": "stream",
     "text": [
      "epoch 20 validation loss 5.335898646791438\n",
      "epoch 20 validation ROCAUC score 0.9581260505827008\n",
      "epoch 20 validation C-MAP score pad 3 0.7890784105291441\n",
      "epoch 20 validation AP score 0.7903224041600887\n"
     ]
    },
    {
     "data": {
      "application/vnd.jupyter.widget-view+json": {
       "model_id": "5ec571584b42419fa16843e2c74168ac",
       "version_major": 2,
       "version_minor": 0
      },
      "text/plain": [
       "Validation: |          | 0/? [00:00<?, ?it/s]"
      ]
     },
     "metadata": {},
     "output_type": "display_data"
    },
    {
     "name": "stderr",
     "output_type": "stream",
     "text": [
      "Epoch 21, global step 7876: 'val_loss' reached 5.36434 (best 5.33590), saving model to '/data2/Mamba/Project/Kaggle/BirdCLEF-2025/cnn_v5/pytorch/train_bce/epoch=21_step=7876_val_roc_auc=0.959_val_cmap_pad=0.790_val_ap=0.793.ckpt' as top 5\n"
     ]
    },
    {
     "name": "stdout",
     "output_type": "stream",
     "text": [
      "epoch 21 validation loss 5.364340269194098\n",
      "epoch 21 validation ROCAUC score 0.9585705064377293\n",
      "epoch 21 validation C-MAP score pad 3 0.7895656624314406\n",
      "epoch 21 validation AP score 0.7926540558463623\n"
     ]
    },
    {
     "data": {
      "application/vnd.jupyter.widget-view+json": {
       "model_id": "7c8206f26c9c47a296900bf55700424a",
       "version_major": 2,
       "version_minor": 0
      },
      "text/plain": [
       "Validation: |          | 0/? [00:00<?, ?it/s]"
      ]
     },
     "metadata": {},
     "output_type": "display_data"
    },
    {
     "name": "stderr",
     "output_type": "stream",
     "text": [
      "Epoch 22, global step 8234: 'val_loss' reached 5.24549 (best 5.24549), saving model to '/data2/Mamba/Project/Kaggle/BirdCLEF-2025/cnn_v5/pytorch/train_bce/epoch=22_step=8234_val_roc_auc=0.960_val_cmap_pad=0.794_val_ap=0.792.ckpt' as top 5\n"
     ]
    },
    {
     "name": "stdout",
     "output_type": "stream",
     "text": [
      "epoch 22 validation loss 5.245494537042876\n",
      "epoch 22 validation ROCAUC score 0.9595530550800788\n",
      "epoch 22 validation C-MAP score pad 3 0.7937617034853738\n",
      "epoch 22 validation AP score 0.7919440115842585\n"
     ]
    },
    {
     "data": {
      "application/vnd.jupyter.widget-view+json": {
       "model_id": "fdfac44d3e92496ea2b100941d9bd371",
       "version_major": 2,
       "version_minor": 0
      },
      "text/plain": [
       "Validation: |          | 0/? [00:00<?, ?it/s]"
      ]
     },
     "metadata": {},
     "output_type": "display_data"
    },
    {
     "name": "stderr",
     "output_type": "stream",
     "text": [
      "Epoch 23, global step 8592: 'val_loss' reached 5.26968 (best 5.24549), saving model to '/data2/Mamba/Project/Kaggle/BirdCLEF-2025/cnn_v5/pytorch/train_bce/epoch=23_step=8592_val_roc_auc=0.960_val_cmap_pad=0.797_val_ap=0.798.ckpt' as top 5\n"
     ]
    },
    {
     "name": "stdout",
     "output_type": "stream",
     "text": [
      "epoch 23 validation loss 5.269676113824524\n",
      "epoch 23 validation ROCAUC score 0.9596496375036457\n",
      "epoch 23 validation C-MAP score pad 3 0.7973884051224404\n",
      "epoch 23 validation AP score 0.7978161712393081\n"
     ]
    },
    {
     "data": {
      "application/vnd.jupyter.widget-view+json": {
       "model_id": "d4ff6912282d4c31886d9a51e31fc00e",
       "version_major": 2,
       "version_minor": 0
      },
      "text/plain": [
       "Validation: |          | 0/? [00:00<?, ?it/s]"
      ]
     },
     "metadata": {},
     "output_type": "display_data"
    },
    {
     "name": "stderr",
     "output_type": "stream",
     "text": [
      "Epoch 24, global step 8950: 'val_loss' reached 5.21239 (best 5.21239), saving model to '/data2/Mamba/Project/Kaggle/BirdCLEF-2025/cnn_v5/pytorch/train_bce/epoch=24_step=8950_val_roc_auc=0.960_val_cmap_pad=0.800_val_ap=0.801.ckpt' as top 5\n"
     ]
    },
    {
     "name": "stdout",
     "output_type": "stream",
     "text": [
      "epoch 24 validation loss 5.212385336284242\n",
      "epoch 24 validation ROCAUC score 0.9604962061698962\n",
      "epoch 24 validation C-MAP score pad 3 0.800239438575134\n",
      "epoch 24 validation AP score 0.8014101220695956\n"
     ]
    },
    {
     "data": {
      "application/vnd.jupyter.widget-view+json": {
       "model_id": "24caa63d889e4f40affc11b5b4a87eb9",
       "version_major": 2,
       "version_minor": 0
      },
      "text/plain": [
       "Validation: |          | 0/? [00:00<?, ?it/s]"
      ]
     },
     "metadata": {},
     "output_type": "display_data"
    },
    {
     "name": "stderr",
     "output_type": "stream",
     "text": [
      "Epoch 25, global step 9308: 'val_loss' reached 5.30176 (best 5.21239), saving model to '/data2/Mamba/Project/Kaggle/BirdCLEF-2025/cnn_v5/pytorch/train_bce/epoch=25_step=9308_val_roc_auc=0.960_val_cmap_pad=0.802_val_ap=0.802.ckpt' as top 5\n"
     ]
    },
    {
     "name": "stdout",
     "output_type": "stream",
     "text": [
      "epoch 25 validation loss 5.301759553026637\n",
      "epoch 25 validation ROCAUC score 0.9598655304203833\n",
      "epoch 25 validation C-MAP score pad 3 0.8020083159306761\n",
      "epoch 25 validation AP score 0.8021152420243102\n"
     ]
    },
    {
     "data": {
      "application/vnd.jupyter.widget-view+json": {
       "model_id": "85b60b2e26f749d0b19ca229a7426ea3",
       "version_major": 2,
       "version_minor": 0
      },
      "text/plain": [
       "Validation: |          | 0/? [00:00<?, ?it/s]"
      ]
     },
     "metadata": {},
     "output_type": "display_data"
    },
    {
     "name": "stderr",
     "output_type": "stream",
     "text": [
      "Epoch 26, global step 9666: 'val_loss' reached 5.17829 (best 5.17829), saving model to '/data2/Mamba/Project/Kaggle/BirdCLEF-2025/cnn_v5/pytorch/train_bce/epoch=26_step=9666_val_roc_auc=0.960_val_cmap_pad=0.803_val_ap=0.804.ckpt' as top 5\n"
     ]
    },
    {
     "name": "stdout",
     "output_type": "stream",
     "text": [
      "epoch 26 validation loss 5.178289401620634\n",
      "epoch 26 validation ROCAUC score 0.9598145206030855\n",
      "epoch 26 validation C-MAP score pad 3 0.8028721945262276\n",
      "epoch 26 validation AP score 0.8041273274259769\n"
     ]
    },
    {
     "data": {
      "application/vnd.jupyter.widget-view+json": {
       "model_id": "0a6a5d22788f4ea598485cac103f9ea9",
       "version_major": 2,
       "version_minor": 0
      },
      "text/plain": [
       "Validation: |          | 0/? [00:00<?, ?it/s]"
      ]
     },
     "metadata": {},
     "output_type": "display_data"
    },
    {
     "name": "stderr",
     "output_type": "stream",
     "text": [
      "Epoch 27, global step 10024: 'val_loss' reached 5.05568 (best 5.05568), saving model to '/data2/Mamba/Project/Kaggle/BirdCLEF-2025/cnn_v5/pytorch/train_bce/epoch=27_step=10024_val_roc_auc=0.961_val_cmap_pad=0.803_val_ap=0.804.ckpt' as top 5\n"
     ]
    },
    {
     "name": "stdout",
     "output_type": "stream",
     "text": [
      "epoch 27 validation loss 5.055675204320663\n",
      "epoch 27 validation ROCAUC score 0.9609215194709696\n",
      "epoch 27 validation C-MAP score pad 3 0.8027162494814168\n",
      "epoch 27 validation AP score 0.8044645075797634\n"
     ]
    },
    {
     "data": {
      "application/vnd.jupyter.widget-view+json": {
       "model_id": "c7402570250b4ba7a0a161f5d36a7dd6",
       "version_major": 2,
       "version_minor": 0
      },
      "text/plain": [
       "Validation: |          | 0/? [00:00<?, ?it/s]"
      ]
     },
     "metadata": {},
     "output_type": "display_data"
    },
    {
     "name": "stderr",
     "output_type": "stream",
     "text": [
      "Epoch 28, global step 10382: 'val_loss' reached 5.06245 (best 5.05568), saving model to '/data2/Mamba/Project/Kaggle/BirdCLEF-2025/cnn_v5/pytorch/train_bce/epoch=28_step=10382_val_roc_auc=0.961_val_cmap_pad=0.803_val_ap=0.803.ckpt' as top 5\n"
     ]
    },
    {
     "name": "stdout",
     "output_type": "stream",
     "text": [
      "epoch 28 validation loss 5.062448475454989\n",
      "epoch 28 validation ROCAUC score 0.960920633646917\n",
      "epoch 28 validation C-MAP score pad 3 0.8026803117969077\n",
      "epoch 28 validation AP score 0.8031966034488527\n"
     ]
    },
    {
     "data": {
      "application/vnd.jupyter.widget-view+json": {
       "model_id": "f37254717cc94e828872759bae7bde86",
       "version_major": 2,
       "version_minor": 0
      },
      "text/plain": [
       "Validation: |          | 0/? [00:00<?, ?it/s]"
      ]
     },
     "metadata": {},
     "output_type": "display_data"
    },
    {
     "name": "stderr",
     "output_type": "stream",
     "text": [
      "Epoch 29, global step 10740: 'val_loss' reached 5.01775 (best 5.01775), saving model to '/data2/Mamba/Project/Kaggle/BirdCLEF-2025/cnn_v5/pytorch/train_bce/epoch=29_step=10740_val_roc_auc=0.961_val_cmap_pad=0.803_val_ap=0.806.ckpt' as top 5\n"
     ]
    },
    {
     "name": "stdout",
     "output_type": "stream",
     "text": [
      "epoch 29 validation loss 5.017745899826802\n",
      "epoch 29 validation ROCAUC score 0.9613769435537346\n",
      "epoch 29 validation C-MAP score pad 3 0.8031398324431681\n",
      "epoch 29 validation AP score 0.8055710301410582\n"
     ]
    },
    {
     "name": "stderr",
     "output_type": "stream",
     "text": [
      "`Trainer.fit` stopped: `max_epochs=30` reached.\n"
     ]
    }
   ],
   "source": [
    "trainer.fit(model, train_dataloaders=dl_train, val_dataloaders=dl_val)"
   ]
  }
 ],
 "metadata": {
  "kernelspec": {
   "display_name": "CZII",
   "language": "python",
   "name": "python3"
  },
  "language_info": {
   "codemirror_mode": {
    "name": "ipython",
    "version": 3
   },
   "file_extension": ".py",
   "mimetype": "text/x-python",
   "name": "python",
   "nbconvert_exporter": "python",
   "pygments_lexer": "ipython3",
   "version": "3.11.12"
  }
 },
 "nbformat": 4,
 "nbformat_minor": 2
}
