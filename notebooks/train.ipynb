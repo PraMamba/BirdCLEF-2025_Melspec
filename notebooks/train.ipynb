{
 "cells": [
  {
   "cell_type": "code",
   "execution_count": 1,
   "metadata": {},
   "outputs": [],
   "source": [
    "import os\n",
    "import sys\n",
    "sys.path.append('/home/guangp/BirdCLEF-2025_Melspec')\n",
    "\n",
    "import warnings\n",
    "warnings.filterwarnings('ignore')\n",
    "\n",
    "os.environ[\"CUDA_VISIBLE_DEVICES\"] = \"1,3\""
   ]
  },
  {
   "cell_type": "code",
   "execution_count": 2,
   "metadata": {
    "metadata": {}
   },
   "outputs": [],
   "source": [
    "import pytorch_lightning as pl\n",
    "from pytorch_lightning.loggers import WandbLogger\n",
    "from pytorch_lightning.callbacks import ModelCheckpoint, BackboneFinetuning, EarlyStopping\n",
    "\n",
    "import torch\n",
    "import torch.nn as nn\n",
    "import torch.nn.functional as F\n",
    "from torch.utils.data import Dataset\n",
    "\n",
    "import importlib\n",
    "from pathlib import Path\n",
    "import numpy as np\n",
    "import glob\n",
    "import timm\n",
    "import pandas as pd\n",
    "import torchaudio as ta\n",
    "\n",
    "from modules.preprocess import preprocess, prepare_cfg\n",
    "from modules.dataset import get_train_dataloader\n",
    "from modules.model import load_model\n",
    "import modules.inception_next_nano"
   ]
  },
  {
   "cell_type": "code",
   "execution_count": 3,
   "metadata": {},
   "outputs": [
    {
     "name": "stdout",
     "output_type": "stream",
     "text": [
      "/home/guangp/BirdCLEF-2025_Melspec\n"
     ]
    }
   ],
   "source": [
    "# move to repo root\n",
    "cur_dir = Path().resolve()\n",
    "\n",
    "if not (cur_dir / \"notebooks\").exists():\n",
    "    os.chdir(os.path.abspath(\"../\"))\n",
    "print(f\"{Path().resolve()}\")"
   ]
  },
  {
   "cell_type": "code",
   "execution_count": 4,
   "metadata": {},
   "outputs": [
    {
     "name": "stderr",
     "output_type": "stream",
     "text": [
      "Seed set to 20231911\n"
     ]
    },
    {
     "data": {
      "text/plain": [
       "20231911"
      ]
     },
     "execution_count": 4,
     "metadata": {},
     "output_type": "execute_result"
    }
   ],
   "source": [
    "model_name = \"cnn_v1\"\n",
    "stage = \"train_bce\"\n",
    "\n",
    "cfg = importlib.import_module(f'configs.{model_name}').basic_cfg\n",
    "cfg = prepare_cfg(cfg, stage)\n",
    "\n",
    "pl.seed_everything(cfg.seed[stage], workers=True)"
   ]
  },
  {
   "cell_type": "code",
   "execution_count": 5,
   "metadata": {
    "metadata": {}
   },
   "outputs": [
    {
     "data": {
      "text/plain": [
       "(22851, 5713)"
      ]
     },
     "execution_count": 5,
     "metadata": {},
     "output_type": "execute_result"
    }
   ],
   "source": [
    "df_train, df_valid, df_label_train, df_label_valid, transforms = preprocess(cfg, stage)\n",
    "df_train[\"version\"] = \"2023\"\n",
    "df_valid[\"version\"] = \"2023\"\n",
    "len(df_train), len(df_valid)"
   ]
  },
  {
   "cell_type": "code",
   "execution_count": 6,
   "metadata": {},
   "outputs": [
    {
     "data": {
      "text/html": [
       "<div>\n",
       "<style scoped>\n",
       "    .dataframe tbody tr th:only-of-type {\n",
       "        vertical-align: middle;\n",
       "    }\n",
       "\n",
       "    .dataframe tbody tr th {\n",
       "        vertical-align: top;\n",
       "    }\n",
       "\n",
       "    .dataframe thead th {\n",
       "        text-align: right;\n",
       "    }\n",
       "</style>\n",
       "<table border=\"1\" class=\"dataframe\">\n",
       "  <thead>\n",
       "    <tr style=\"text-align: right;\">\n",
       "      <th></th>\n",
       "      <th>primary_label</th>\n",
       "      <th>secondary_labels</th>\n",
       "      <th>type</th>\n",
       "      <th>filename</th>\n",
       "      <th>collection</th>\n",
       "      <th>rating</th>\n",
       "      <th>url</th>\n",
       "      <th>latitude</th>\n",
       "      <th>longitude</th>\n",
       "      <th>scientific_name</th>\n",
       "      <th>...</th>\n",
       "      <th>author</th>\n",
       "      <th>license</th>\n",
       "      <th>path</th>\n",
       "      <th>duration</th>\n",
       "      <th>sr</th>\n",
       "      <th>max_amplitude</th>\n",
       "      <th>duration_sec</th>\n",
       "      <th>weight</th>\n",
       "      <th>presence_type</th>\n",
       "      <th>version</th>\n",
       "    </tr>\n",
       "  </thead>\n",
       "  <tbody>\n",
       "    <tr>\n",
       "      <th>0</th>\n",
       "      <td>yehcar1</td>\n",
       "      <td>[]</td>\n",
       "      <td>['call']</td>\n",
       "      <td>yehcar1/XC674420.ogg</td>\n",
       "      <td>XC</td>\n",
       "      <td>5.0</td>\n",
       "      <td>https://xeno-canto.org/674420</td>\n",
       "      <td>-21.7357</td>\n",
       "      <td>-43.3693</td>\n",
       "      <td>Milvago chimachima</td>\n",
       "      <td>...</td>\n",
       "      <td>Marco Manhães</td>\n",
       "      <td>cc-by-nc-sa 4.0</td>\n",
       "      <td>/data1/Mamba/Kaggle/BirdCLEF-2025/Data_Raw/tra...</td>\n",
       "      <td>1453248</td>\n",
       "      <td>22050</td>\n",
       "      <td>1.005431</td>\n",
       "      <td>65.906939</td>\n",
       "      <td>0.330124</td>\n",
       "      <td>foreground</td>\n",
       "      <td>2023</td>\n",
       "    </tr>\n",
       "    <tr>\n",
       "      <th>1</th>\n",
       "      <td>rutjac1</td>\n",
       "      <td>[rumfly1]</td>\n",
       "      <td>['song']</td>\n",
       "      <td>rutjac1/XC261831.ogg</td>\n",
       "      <td>XC</td>\n",
       "      <td>4.5</td>\n",
       "      <td>https://xeno-canto.org/261831</td>\n",
       "      <td>0.8830</td>\n",
       "      <td>-78.8000</td>\n",
       "      <td>Galbula ruficauda</td>\n",
       "      <td>...</td>\n",
       "      <td>Olaf Jahn</td>\n",
       "      <td>cc-by-nc-sa 4.0</td>\n",
       "      <td>/data1/Mamba/Kaggle/BirdCLEF-2025/Data_Raw/tra...</td>\n",
       "      <td>563904</td>\n",
       "      <td>22050</td>\n",
       "      <td>0.440904</td>\n",
       "      <td>25.573878</td>\n",
       "      <td>0.315243</td>\n",
       "      <td>foreground</td>\n",
       "      <td>2023</td>\n",
       "    </tr>\n",
       "    <tr>\n",
       "      <th>2</th>\n",
       "      <td>grekis</td>\n",
       "      <td>[]</td>\n",
       "      <td>['song']</td>\n",
       "      <td>grekis/XC576073.ogg</td>\n",
       "      <td>XC</td>\n",
       "      <td>4.0</td>\n",
       "      <td>https://xeno-canto.org/576073</td>\n",
       "      <td>14.3572</td>\n",
       "      <td>-87.6545</td>\n",
       "      <td>Pitangus sulphuratus</td>\n",
       "      <td>...</td>\n",
       "      <td>Mario Reyes Jr</td>\n",
       "      <td>cc-by-nc-sa 4.0</td>\n",
       "      <td>/data1/Mamba/Kaggle/BirdCLEF-2025/Data_Raw/tra...</td>\n",
       "      <td>973440</td>\n",
       "      <td>22050</td>\n",
       "      <td>0.666072</td>\n",
       "      <td>44.146939</td>\n",
       "      <td>0.161863</td>\n",
       "      <td>foreground</td>\n",
       "      <td>2023</td>\n",
       "    </tr>\n",
       "    <tr>\n",
       "      <th>3</th>\n",
       "      <td>rutjac1</td>\n",
       "      <td>[]</td>\n",
       "      <td>['song']</td>\n",
       "      <td>rutjac1/XC298078.ogg</td>\n",
       "      <td>XC</td>\n",
       "      <td>4.0</td>\n",
       "      <td>https://xeno-canto.org/298078</td>\n",
       "      <td>7.8273</td>\n",
       "      <td>-72.6175</td>\n",
       "      <td>Galbula ruficauda</td>\n",
       "      <td>...</td>\n",
       "      <td>Oscar Laverde</td>\n",
       "      <td>cc-by-nc-sa 4.0</td>\n",
       "      <td>/data1/Mamba/Kaggle/BirdCLEF-2025/Data_Raw/tra...</td>\n",
       "      <td>444673</td>\n",
       "      <td>22050</td>\n",
       "      <td>0.101076</td>\n",
       "      <td>20.166576</td>\n",
       "      <td>0.315243</td>\n",
       "      <td>foreground</td>\n",
       "      <td>2023</td>\n",
       "    </tr>\n",
       "    <tr>\n",
       "      <th>4</th>\n",
       "      <td>rumfly1</td>\n",
       "      <td>[]</td>\n",
       "      <td>['duet', 'song']</td>\n",
       "      <td>rumfly1/XC54522.ogg</td>\n",
       "      <td>XC</td>\n",
       "      <td>4.0</td>\n",
       "      <td>https://xeno-canto.org/54522</td>\n",
       "      <td>NaN</td>\n",
       "      <td>NaN</td>\n",
       "      <td>Myiozetetes cayanensis</td>\n",
       "      <td>...</td>\n",
       "      <td>Bernabe Lopez-Lanus</td>\n",
       "      <td>cc-by-nc-sa 3.0</td>\n",
       "      <td>/data1/Mamba/Kaggle/BirdCLEF-2025/Data_Raw/tra...</td>\n",
       "      <td>474625</td>\n",
       "      <td>22050</td>\n",
       "      <td>0.555774</td>\n",
       "      <td>21.524943</td>\n",
       "      <td>0.331520</td>\n",
       "      <td>foreground</td>\n",
       "      <td>2023</td>\n",
       "    </tr>\n",
       "    <tr>\n",
       "      <th>...</th>\n",
       "      <td>...</td>\n",
       "      <td>...</td>\n",
       "      <td>...</td>\n",
       "      <td>...</td>\n",
       "      <td>...</td>\n",
       "      <td>...</td>\n",
       "      <td>...</td>\n",
       "      <td>...</td>\n",
       "      <td>...</td>\n",
       "      <td>...</td>\n",
       "      <td>...</td>\n",
       "      <td>...</td>\n",
       "      <td>...</td>\n",
       "      <td>...</td>\n",
       "      <td>...</td>\n",
       "      <td>...</td>\n",
       "      <td>...</td>\n",
       "      <td>...</td>\n",
       "      <td>...</td>\n",
       "      <td>...</td>\n",
       "      <td>...</td>\n",
       "    </tr>\n",
       "    <tr>\n",
       "      <th>22846</th>\n",
       "      <td>linwoo1</td>\n",
       "      <td>[]</td>\n",
       "      <td>['drumming']</td>\n",
       "      <td>linwoo1/XC78185.ogg</td>\n",
       "      <td>XC</td>\n",
       "      <td>3.0</td>\n",
       "      <td>https://xeno-canto.org/78185</td>\n",
       "      <td>-19.1824</td>\n",
       "      <td>-48.3936</td>\n",
       "      <td>Dryocopus lineatus</td>\n",
       "      <td>...</td>\n",
       "      <td>Bob Planque</td>\n",
       "      <td>cc-by-nc-sa 3.0</td>\n",
       "      <td>/data1/Mamba/Kaggle/BirdCLEF-2025/Data_Raw/tra...</td>\n",
       "      <td>221761</td>\n",
       "      <td>22050</td>\n",
       "      <td>0.652465</td>\n",
       "      <td>10.057188</td>\n",
       "      <td>0.280355</td>\n",
       "      <td>foreground</td>\n",
       "      <td>2023</td>\n",
       "    </tr>\n",
       "    <tr>\n",
       "      <th>22847</th>\n",
       "      <td>socfly1</td>\n",
       "      <td>[]</td>\n",
       "      <td>['']</td>\n",
       "      <td>socfly1/iNat880781.ogg</td>\n",
       "      <td>iNat</td>\n",
       "      <td>0.0</td>\n",
       "      <td>https://static.inaturalist.org/sounds/880781.mp3</td>\n",
       "      <td>-18.8302</td>\n",
       "      <td>-40.6809</td>\n",
       "      <td>Myiozetetes similis</td>\n",
       "      <td>...</td>\n",
       "      <td>Vitor Corrêa Dias</td>\n",
       "      <td>cc-by-nc 4.0</td>\n",
       "      <td>/data1/Mamba/Kaggle/BirdCLEF-2025/Data_Raw/tra...</td>\n",
       "      <td>110603</td>\n",
       "      <td>22050</td>\n",
       "      <td>0.051320</td>\n",
       "      <td>5.016009</td>\n",
       "      <td>0.218558</td>\n",
       "      <td>foreground</td>\n",
       "      <td>2023</td>\n",
       "    </tr>\n",
       "    <tr>\n",
       "      <th>22848</th>\n",
       "      <td>greani1</td>\n",
       "      <td>[]</td>\n",
       "      <td>['call']</td>\n",
       "      <td>greani1/XC14741.ogg</td>\n",
       "      <td>XC</td>\n",
       "      <td>3.0</td>\n",
       "      <td>https://xeno-canto.org/14741</td>\n",
       "      <td>-3.2231</td>\n",
       "      <td>-59.8664</td>\n",
       "      <td>Crotophaga major</td>\n",
       "      <td>...</td>\n",
       "      <td>Nick Athanas</td>\n",
       "      <td>cc-by-nc-sa 3.0</td>\n",
       "      <td>/data1/Mamba/Kaggle/BirdCLEF-2025/Data_Raw/tra...</td>\n",
       "      <td>793729</td>\n",
       "      <td>22050</td>\n",
       "      <td>0.865305</td>\n",
       "      <td>35.996780</td>\n",
       "      <td>0.451922</td>\n",
       "      <td>foreground</td>\n",
       "      <td>2023</td>\n",
       "    </tr>\n",
       "    <tr>\n",
       "      <th>22849</th>\n",
       "      <td>grekis</td>\n",
       "      <td>[]</td>\n",
       "      <td>['song']</td>\n",
       "      <td>grekis/XC714034.ogg</td>\n",
       "      <td>XC</td>\n",
       "      <td>4.0</td>\n",
       "      <td>https://xeno-canto.org/714034</td>\n",
       "      <td>-23.7995</td>\n",
       "      <td>-46.0230</td>\n",
       "      <td>Pitangus sulphuratus</td>\n",
       "      <td>...</td>\n",
       "      <td>Fernando Igor de Godoy</td>\n",
       "      <td>cc-by-nc-sa 4.0</td>\n",
       "      <td>/data1/Mamba/Kaggle/BirdCLEF-2025/Data_Raw/tra...</td>\n",
       "      <td>1323648</td>\n",
       "      <td>22050</td>\n",
       "      <td>0.191671</td>\n",
       "      <td>60.029388</td>\n",
       "      <td>0.161863</td>\n",
       "      <td>foreground</td>\n",
       "      <td>2023</td>\n",
       "    </tr>\n",
       "    <tr>\n",
       "      <th>22850</th>\n",
       "      <td>bbwduc</td>\n",
       "      <td>[]</td>\n",
       "      <td>['']</td>\n",
       "      <td>bbwduc/iNat1235273.ogg</td>\n",
       "      <td>iNat</td>\n",
       "      <td>0.0</td>\n",
       "      <td>https://static.inaturalist.org/sounds/1235273.m4a</td>\n",
       "      <td>29.9313</td>\n",
       "      <td>-90.1238</td>\n",
       "      <td>Dendrocygna autumnalis</td>\n",
       "      <td>...</td>\n",
       "      <td>Unknown</td>\n",
       "      <td>cc-by-nc 4.0</td>\n",
       "      <td>/data1/Mamba/Kaggle/BirdCLEF-2025/Data_Raw/tra...</td>\n",
       "      <td>251905</td>\n",
       "      <td>22050</td>\n",
       "      <td>0.151951</td>\n",
       "      <td>11.424263</td>\n",
       "      <td>0.247333</td>\n",
       "      <td>foreground</td>\n",
       "      <td>2023</td>\n",
       "    </tr>\n",
       "  </tbody>\n",
       "</table>\n",
       "<p>22851 rows × 21 columns</p>\n",
       "</div>"
      ],
      "text/plain": [
       "      primary_label secondary_labels              type  \\\n",
       "0           yehcar1               []          ['call']   \n",
       "1           rutjac1        [rumfly1]          ['song']   \n",
       "2            grekis               []          ['song']   \n",
       "3           rutjac1               []          ['song']   \n",
       "4           rumfly1               []  ['duet', 'song']   \n",
       "...             ...              ...               ...   \n",
       "22846       linwoo1               []      ['drumming']   \n",
       "22847       socfly1               []              ['']   \n",
       "22848       greani1               []          ['call']   \n",
       "22849        grekis               []          ['song']   \n",
       "22850        bbwduc               []              ['']   \n",
       "\n",
       "                     filename collection  rating  \\\n",
       "0        yehcar1/XC674420.ogg         XC     5.0   \n",
       "1        rutjac1/XC261831.ogg         XC     4.5   \n",
       "2         grekis/XC576073.ogg         XC     4.0   \n",
       "3        rutjac1/XC298078.ogg         XC     4.0   \n",
       "4         rumfly1/XC54522.ogg         XC     4.0   \n",
       "...                       ...        ...     ...   \n",
       "22846     linwoo1/XC78185.ogg         XC     3.0   \n",
       "22847  socfly1/iNat880781.ogg       iNat     0.0   \n",
       "22848     greani1/XC14741.ogg         XC     3.0   \n",
       "22849     grekis/XC714034.ogg         XC     4.0   \n",
       "22850  bbwduc/iNat1235273.ogg       iNat     0.0   \n",
       "\n",
       "                                                     url  latitude  longitude  \\\n",
       "0                          https://xeno-canto.org/674420  -21.7357   -43.3693   \n",
       "1                          https://xeno-canto.org/261831    0.8830   -78.8000   \n",
       "2                          https://xeno-canto.org/576073   14.3572   -87.6545   \n",
       "3                          https://xeno-canto.org/298078    7.8273   -72.6175   \n",
       "4                           https://xeno-canto.org/54522       NaN        NaN   \n",
       "...                                                  ...       ...        ...   \n",
       "22846                       https://xeno-canto.org/78185  -19.1824   -48.3936   \n",
       "22847   https://static.inaturalist.org/sounds/880781.mp3  -18.8302   -40.6809   \n",
       "22848                       https://xeno-canto.org/14741   -3.2231   -59.8664   \n",
       "22849                      https://xeno-canto.org/714034  -23.7995   -46.0230   \n",
       "22850  https://static.inaturalist.org/sounds/1235273.m4a   29.9313   -90.1238   \n",
       "\n",
       "              scientific_name  ...                  author          license  \\\n",
       "0          Milvago chimachima  ...           Marco Manhães  cc-by-nc-sa 4.0   \n",
       "1           Galbula ruficauda  ...               Olaf Jahn  cc-by-nc-sa 4.0   \n",
       "2        Pitangus sulphuratus  ...          Mario Reyes Jr  cc-by-nc-sa 4.0   \n",
       "3           Galbula ruficauda  ...           Oscar Laverde  cc-by-nc-sa 4.0   \n",
       "4      Myiozetetes cayanensis  ...     Bernabe Lopez-Lanus  cc-by-nc-sa 3.0   \n",
       "...                       ...  ...                     ...              ...   \n",
       "22846      Dryocopus lineatus  ...             Bob Planque  cc-by-nc-sa 3.0   \n",
       "22847     Myiozetetes similis  ...       Vitor Corrêa Dias     cc-by-nc 4.0   \n",
       "22848        Crotophaga major  ...            Nick Athanas  cc-by-nc-sa 3.0   \n",
       "22849    Pitangus sulphuratus  ...  Fernando Igor de Godoy  cc-by-nc-sa 4.0   \n",
       "22850  Dendrocygna autumnalis  ...                 Unknown     cc-by-nc 4.0   \n",
       "\n",
       "                                                    path duration     sr  \\\n",
       "0      /data1/Mamba/Kaggle/BirdCLEF-2025/Data_Raw/tra...  1453248  22050   \n",
       "1      /data1/Mamba/Kaggle/BirdCLEF-2025/Data_Raw/tra...   563904  22050   \n",
       "2      /data1/Mamba/Kaggle/BirdCLEF-2025/Data_Raw/tra...   973440  22050   \n",
       "3      /data1/Mamba/Kaggle/BirdCLEF-2025/Data_Raw/tra...   444673  22050   \n",
       "4      /data1/Mamba/Kaggle/BirdCLEF-2025/Data_Raw/tra...   474625  22050   \n",
       "...                                                  ...      ...    ...   \n",
       "22846  /data1/Mamba/Kaggle/BirdCLEF-2025/Data_Raw/tra...   221761  22050   \n",
       "22847  /data1/Mamba/Kaggle/BirdCLEF-2025/Data_Raw/tra...   110603  22050   \n",
       "22848  /data1/Mamba/Kaggle/BirdCLEF-2025/Data_Raw/tra...   793729  22050   \n",
       "22849  /data1/Mamba/Kaggle/BirdCLEF-2025/Data_Raw/tra...  1323648  22050   \n",
       "22850  /data1/Mamba/Kaggle/BirdCLEF-2025/Data_Raw/tra...   251905  22050   \n",
       "\n",
       "       max_amplitude  duration_sec    weight  presence_type version  \n",
       "0           1.005431     65.906939  0.330124     foreground    2023  \n",
       "1           0.440904     25.573878  0.315243     foreground    2023  \n",
       "2           0.666072     44.146939  0.161863     foreground    2023  \n",
       "3           0.101076     20.166576  0.315243     foreground    2023  \n",
       "4           0.555774     21.524943  0.331520     foreground    2023  \n",
       "...              ...           ...       ...            ...     ...  \n",
       "22846       0.652465     10.057188  0.280355     foreground    2023  \n",
       "22847       0.051320      5.016009  0.218558     foreground    2023  \n",
       "22848       0.865305     35.996780  0.451922     foreground    2023  \n",
       "22849       0.191671     60.029388  0.161863     foreground    2023  \n",
       "22850       0.151951     11.424263  0.247333     foreground    2023  \n",
       "\n",
       "[22851 rows x 21 columns]"
      ]
     },
     "execution_count": 6,
     "metadata": {},
     "output_type": "execute_result"
    }
   ],
   "source": [
    "df_train"
   ]
  },
  {
   "cell_type": "code",
   "execution_count": 7,
   "metadata": {},
   "outputs": [
    {
     "data": {
      "text/plain": [
       "22851"
      ]
     },
     "execution_count": 7,
     "metadata": {},
     "output_type": "execute_result"
    }
   ],
   "source": [
    "if cfg.use_2024_additional_cleaned:\n",
    "    # append handlabeled data\n",
    "    df_additional = pd.read_pickle(cfg.train_2024_additional_cleaned)\n",
    "    df_additional[\"version\"] = \"2023\"\n",
    "    df_additional[\"presence_type\"]  = \"foreground\"\n",
    "\n",
    "    # repeating records\n",
    "    df_additional = pd.concat([df_additional] * cfg.num_cleaned_repeat).reset_index(drop=True)\n",
    "\n",
    "    # make one-hot label\n",
    "    add_primary_label = pd.Categorical(df_additional[\"primary_label\"], categories=cfg.bird_cols)\n",
    "    add_primary_label = pd.get_dummies(add_primary_label,  dtype=np.float64)\n",
    "    assert (add_primary_label.columns == df_label_train.columns).all()\n",
    "\n",
    "\n",
    "    df_train = pd.concat([df_train, df_additional]).reset_index(drop=True)\n",
    "    df_label_train = pd.concat([df_label_train, add_primary_label]).reset_index(drop=True)\n",
    "    # df_train.shape\n",
    "\n",
    "    # shuffle\n",
    "    perm_idx = df_train.index.to_series().sample(frac=1, random_state=0)\n",
    "    df_train = df_train.iloc[perm_idx].reset_index(drop=True)\n",
    "    df_label_train = df_label_train.iloc[perm_idx].reset_index(drop=True)\n",
    "\n",
    "    all_primary_labels = df_train[\"primary_label\"]\n",
    "    sample_weights = (\n",
    "        all_primary_labels.value_counts() / \n",
    "        all_primary_labels.value_counts().sum()\n",
    "    )  ** (cfg.class_exponent_weight)\n",
    "    sample_weights = sample_weights / sample_weights.mean()\n",
    "    df_train[\"weight\"] = sample_weights[df_train[\"primary_label\"].values].values\n",
    "\n",
    "len(df_train)"
   ]
  },
  {
   "cell_type": "code",
   "execution_count": 8,
   "metadata": {},
   "outputs": [],
   "source": [
    "pseudo = None\n",
    "dl_train, dl_val, ds_train, ds_val = get_train_dataloader\\\n",
    "    (\n",
    "\t\tdf_train,\n",
    "\t\tdf_valid,\n",
    "\t\tdf_label_train,\n",
    "\t\tdf_label_valid,\n",
    "\t\tcfg,\n",
    "\t\tpseudo,\n",
    "\t\ttransforms\n",
    "    )"
   ]
  },
  {
   "cell_type": "code",
   "execution_count": 9,
   "metadata": {},
   "outputs": [],
   "source": [
    "# batch = next(iter(dl_train))\n",
    "# audio, target, weight = batch\n",
    "# audio.shape, target.shape"
   ]
  },
  {
   "cell_type": "code",
   "execution_count": 10,
   "metadata": {},
   "outputs": [],
   "source": [
    "logger = WandbLogger(project='BirdClef-2025', name=f'{model_name}_{stage}')\n",
    "checkpoint_callback = ModelCheckpoint\\\n",
    "    (\n",
    "\t\tmonitor='val_loss',\n",
    "\t\tdirpath= cfg.output_path[stage],\n",
    "\t\tsave_top_k=5,\n",
    "\t\tsave_last=True,\n",
    "\t\tsave_weights_only=True,\n",
    "\t\tfilename='{epoch}_{step}_{val_roc_auc:.3f}_{val_cmap_pad:.3f}_{val_ap:.3f}',\n",
    "\t\tverbose=True,\n",
    "\t\tevery_n_epochs=1,\n",
    "\t\tmode='min'\n",
    "\t)"
   ]
  },
  {
   "cell_type": "markdown",
   "metadata": {},
   "source": [
    "## Trainer"
   ]
  },
  {
   "cell_type": "code",
   "execution_count": 11,
   "metadata": {},
   "outputs": [],
   "source": [
    "logger = WandbLogger(project='BirdClef-2025', name=f'{model_name}_{stage}')\n",
    "checkpoint_callback = ModelCheckpoint\\\n",
    "    (\n",
    "\t\tmonitor='val_loss',\n",
    "\t\tdirpath= cfg.output_path[stage],\n",
    "\t\tsave_top_k=5,\n",
    "\t\tsave_last=True,\n",
    "\t\tsave_weights_only=True,\n",
    "\t\tfilename='{epoch}_{step}_{val_roc_auc:.3f}_{val_cmap_pad:.3f}_{val_ap:.3f}',\n",
    "\t\tverbose=True,\n",
    "\t\tevery_n_epochs=1,\n",
    "\t\tmode='min'\n",
    "\t)"
   ]
  },
  {
   "cell_type": "code",
   "execution_count": 12,
   "metadata": {},
   "outputs": [
    {
     "name": "stderr",
     "output_type": "stream",
     "text": [
      "Using bfloat16 Automatic Mixed Precision (AMP)\n",
      "GPU available: True (cuda), used: True\n",
      "TPU available: False, using: 0 TPU cores\n",
      "HPU available: False, using: 0 HPUs\n",
      "`Trainer(val_check_interval=1.0)` was configured so validation will run at the end of the training epoch..\n"
     ]
    }
   ],
   "source": [
    "callbacks_to_use = [checkpoint_callback]\n",
    "model = load_model(cfg,stage)\n",
    "trainer = pl.Trainer\\\n",
    "    (\n",
    "\t\tdevices=1,\n",
    "\t\tval_check_interval=1.0,\n",
    "\t\tdeterministic=None,\n",
    "\t\tmax_epochs=cfg.epochs[stage],\n",
    "\t\tlogger=logger,\n",
    "\t\tcallbacks=callbacks_to_use,\n",
    "\t\tprecision=cfg.PRECISION, \n",
    "\t\taccelerator=\"auto\",\n",
    "\t)"
   ]
  },
  {
   "cell_type": "code",
   "execution_count": 13,
   "metadata": {},
   "outputs": [
    {
     "name": "stderr",
     "output_type": "stream",
     "text": [
      "You are using a CUDA device ('NVIDIA A800 80GB PCIe') that has Tensor Cores. To properly utilize them, you should set `torch.set_float32_matmul_precision('medium' | 'high')` which will trade-off precision for performance. For more details, read https://pytorch.org/docs/stable/generated/torch.set_float32_matmul_precision.html#torch.set_float32_matmul_precision\n",
      "\u001b[34m\u001b[1mwandb\u001b[0m: Currently logged in as: \u001b[33mliguangpeng9495\u001b[0m to \u001b[32mhttps://api.wandb.ai\u001b[0m. Use \u001b[1m`wandb login --relogin`\u001b[0m to force relogin\n"
     ]
    },
    {
     "data": {
      "text/html": [],
      "text/plain": [
       "<IPython.core.display.HTML object>"
      ]
     },
     "metadata": {},
     "output_type": "display_data"
    },
    {
     "data": {
      "text/html": [
       "Tracking run with wandb version 0.19.10"
      ],
      "text/plain": [
       "<IPython.core.display.HTML object>"
      ]
     },
     "metadata": {},
     "output_type": "display_data"
    },
    {
     "data": {
      "text/html": [
       "Run data is saved locally in <code>./wandb/run-20250517_203403-moed3uhd</code>"
      ],
      "text/plain": [
       "<IPython.core.display.HTML object>"
      ]
     },
     "metadata": {},
     "output_type": "display_data"
    },
    {
     "data": {
      "text/html": [
       "Syncing run <strong><a href='https://wandb.ai/liguangpeng9495/BirdClef-2025/runs/moed3uhd' target=\"_blank\">cnn_v1_train_bce</a></strong> to <a href='https://wandb.ai/liguangpeng9495/BirdClef-2025' target=\"_blank\">Weights & Biases</a> (<a href='https://wandb.me/developer-guide' target=\"_blank\">docs</a>)<br>"
      ],
      "text/plain": [
       "<IPython.core.display.HTML object>"
      ]
     },
     "metadata": {},
     "output_type": "display_data"
    },
    {
     "data": {
      "text/html": [
       " View project at <a href='https://wandb.ai/liguangpeng9495/BirdClef-2025' target=\"_blank\">https://wandb.ai/liguangpeng9495/BirdClef-2025</a>"
      ],
      "text/plain": [
       "<IPython.core.display.HTML object>"
      ]
     },
     "metadata": {},
     "output_type": "display_data"
    },
    {
     "data": {
      "text/html": [
       " View run at <a href='https://wandb.ai/liguangpeng9495/BirdClef-2025/runs/moed3uhd' target=\"_blank\">https://wandb.ai/liguangpeng9495/BirdClef-2025/runs/moed3uhd</a>"
      ],
      "text/plain": [
       "<IPython.core.display.HTML object>"
      ]
     },
     "metadata": {},
     "output_type": "display_data"
    },
    {
     "name": "stderr",
     "output_type": "stream",
     "text": [
      "LOCAL_RANK: 0 - CUDA_VISIBLE_DEVICES: [1,3]\n",
      "\n",
      "   | Name                | Type              | Params | Mode \n",
      "-------------------------------------------------------------------\n",
      "0  | loss_function       | BCEWithLogitsLoss | 0      | train\n",
      "1  | mixup               | Mixup             | 0      | train\n",
      "2  | mixup2              | Mixup2            | 0      | train\n",
      "3  | audio_transforms    | Compose           | 0      | train\n",
      "4  | time_mask_transform | TimeMasking       | 0      | train\n",
      "5  | freq_mask_transform | FrequencyMasking  | 0      | train\n",
      "6  | melspec_transform   | MelSpectrogram    | 0      | train\n",
      "7  | db_transform        | AmplitudeToDB     | 0      | train\n",
      "8  | backbone            | EfficientNet      | 4.0 M  | train\n",
      "9  | global_pool         | GeM               | 1      | train\n",
      "10 | head                | Linear            | 263 K  | train\n",
      "11 | big_dropout         | Dropout           | 0      | train\n",
      "-------------------------------------------------------------------\n",
      "4.3 M     Trainable params\n",
      "0         Non-trainable params\n",
      "4.3 M     Total params\n",
      "17.083    Total estimated model params size (MB)\n",
      "353       Modules in train mode\n",
      "0         Modules in eval mode\n"
     ]
    },
    {
     "data": {
      "application/vnd.jupyter.widget-view+json": {
       "model_id": "e60eb20e276541ada4b3f28ea8bd4f04",
       "version_major": 2,
       "version_minor": 0
      },
      "text/plain": [
       "Sanity Checking: |          | 0/? [00:00<?, ?it/s]"
      ]
     },
     "metadata": {},
     "output_type": "display_data"
    },
    {
     "name": "stdout",
     "output_type": "stream",
     "text": [
      "epoch 0 validation loss 1055.895304789305\n",
      "epoch 0 validation ROCAUC score 0.559674666458203\n",
      "epoch 0 validation C-MAP score pad 3 0.9581979433955014\n",
      "epoch 0 validation AP score 0.021056122635967883\n"
     ]
    },
    {
     "data": {
      "application/vnd.jupyter.widget-view+json": {
       "model_id": "7023130e2cc54d719a80faec7cb73d8d",
       "version_major": 2,
       "version_minor": 0
      },
      "text/plain": [
       "Training: |          | 0/? [00:00<?, ?it/s]"
      ]
     },
     "metadata": {},
     "output_type": "display_data"
    },
    {
     "data": {
      "application/vnd.jupyter.widget-view+json": {
       "model_id": "f8fe81f527f24b51a2ad66fd4857b316",
       "version_major": 2,
       "version_minor": 0
      },
      "text/plain": [
       "Validation: |          | 0/? [00:00<?, ?it/s]"
      ]
     },
     "metadata": {},
     "output_type": "display_data"
    },
    {
     "name": "stderr",
     "output_type": "stream",
     "text": [
      "Epoch 0, global step 358: 'val_loss' reached 53.87452 (best 53.87452), saving model to '/data2/Mamba/Project/Kaggle/BirdCLEF-2025/cnn_v6/pytorch/train_bce/epoch=0_step=358_val_roc_auc=0.795_val_cmap_pad=0.395_val_ap=0.324.ckpt' as top 5\n"
     ]
    },
    {
     "name": "stdout",
     "output_type": "stream",
     "text": [
      "epoch 0 validation loss 53.87452038074941\n",
      "epoch 0 validation ROCAUC score 0.7954521860019627\n",
      "epoch 0 validation C-MAP score pad 3 0.39521876102524095\n",
      "epoch 0 validation AP score 0.3241324855473104\n"
     ]
    },
    {
     "data": {
      "application/vnd.jupyter.widget-view+json": {
       "model_id": "44fe71bec93b471db036e6869ca12dd1",
       "version_major": 2,
       "version_minor": 0
      },
      "text/plain": [
       "Validation: |          | 0/? [00:00<?, ?it/s]"
      ]
     },
     "metadata": {},
     "output_type": "display_data"
    },
    {
     "name": "stderr",
     "output_type": "stream",
     "text": [
      "Epoch 1, global step 716: 'val_loss' reached 47.79002 (best 47.79002), saving model to '/data2/Mamba/Project/Kaggle/BirdCLEF-2025/cnn_v6/pytorch/train_bce/epoch=1_step=716_val_roc_auc=0.887_val_cmap_pad=0.517_val_ap=0.493.ckpt' as top 5\n"
     ]
    },
    {
     "name": "stdout",
     "output_type": "stream",
     "text": [
      "epoch 1 validation loss 47.79001763026038\n",
      "epoch 1 validation ROCAUC score 0.8868561774924772\n",
      "epoch 1 validation C-MAP score pad 3 0.516571585493845\n",
      "epoch 1 validation AP score 0.49297835284714187\n"
     ]
    },
    {
     "data": {
      "application/vnd.jupyter.widget-view+json": {
       "model_id": "12b0243154784a97b941824e462a5797",
       "version_major": 2,
       "version_minor": 0
      },
      "text/plain": [
       "Validation: |          | 0/? [00:00<?, ?it/s]"
      ]
     },
     "metadata": {},
     "output_type": "display_data"
    },
    {
     "name": "stderr",
     "output_type": "stream",
     "text": [
      "Epoch 2, global step 1074: 'val_loss' reached 43.30780 (best 43.30780), saving model to '/data2/Mamba/Project/Kaggle/BirdCLEF-2025/cnn_v6/pytorch/train_bce/epoch=2_step=1074_val_roc_auc=0.921_val_cmap_pad=0.581_val_ap=0.585.ckpt' as top 5\n"
     ]
    },
    {
     "name": "stdout",
     "output_type": "stream",
     "text": [
      "epoch 2 validation loss 43.30780136908577\n",
      "epoch 2 validation ROCAUC score 0.921116250021979\n",
      "epoch 2 validation C-MAP score pad 3 0.5808398084624999\n",
      "epoch 2 validation AP score 0.584535462809746\n"
     ]
    },
    {
     "data": {
      "application/vnd.jupyter.widget-view+json": {
       "model_id": "adda1ff26d624794b7aec3ff16ccdcbc",
       "version_major": 2,
       "version_minor": 0
      },
      "text/plain": [
       "Validation: |          | 0/? [00:00<?, ?it/s]"
      ]
     },
     "metadata": {},
     "output_type": "display_data"
    },
    {
     "name": "stderr",
     "output_type": "stream",
     "text": [
      "Epoch 3, global step 1432: 'val_loss' reached 40.20688 (best 40.20688), saving model to '/data2/Mamba/Project/Kaggle/BirdCLEF-2025/cnn_v6/pytorch/train_bce/epoch=3_step=1432_val_roc_auc=0.915_val_cmap_pad=0.618_val_ap=0.617.ckpt' as top 5\n"
     ]
    },
    {
     "name": "stdout",
     "output_type": "stream",
     "text": [
      "epoch 3 validation loss 40.20688320590293\n",
      "epoch 3 validation ROCAUC score 0.915240549498217\n",
      "epoch 3 validation C-MAP score pad 3 0.6180737823214417\n",
      "epoch 3 validation AP score 0.6172241185749064\n"
     ]
    },
    {
     "data": {
      "application/vnd.jupyter.widget-view+json": {
       "model_id": "78b500774a3f47649e388829906025f8",
       "version_major": 2,
       "version_minor": 0
      },
      "text/plain": [
       "Validation: |          | 0/? [00:00<?, ?it/s]"
      ]
     },
     "metadata": {},
     "output_type": "display_data"
    },
    {
     "name": "stderr",
     "output_type": "stream",
     "text": [
      "Epoch 4, global step 1790: 'val_loss' reached 36.49147 (best 36.49147), saving model to '/data2/Mamba/Project/Kaggle/BirdCLEF-2025/cnn_v6/pytorch/train_bce/epoch=4_step=1790_val_roc_auc=0.929_val_cmap_pad=0.658_val_ap=0.654.ckpt' as top 5\n"
     ]
    },
    {
     "name": "stdout",
     "output_type": "stream",
     "text": [
      "epoch 4 validation loss 36.49146804439728\n",
      "epoch 4 validation ROCAUC score 0.929349325977535\n",
      "epoch 4 validation C-MAP score pad 3 0.658036908144652\n",
      "epoch 4 validation AP score 0.6540422894491125\n"
     ]
    },
    {
     "data": {
      "application/vnd.jupyter.widget-view+json": {
       "model_id": "5e0b9f35dc994672bac6b220371fd8bb",
       "version_major": 2,
       "version_minor": 0
      },
      "text/plain": [
       "Validation: |          | 0/? [00:00<?, ?it/s]"
      ]
     },
     "metadata": {},
     "output_type": "display_data"
    },
    {
     "name": "stderr",
     "output_type": "stream",
     "text": [
      "Epoch 5, global step 2148: 'val_loss' reached 36.63262 (best 36.49147), saving model to '/data2/Mamba/Project/Kaggle/BirdCLEF-2025/cnn_v6/pytorch/train_bce/epoch=5_step=2148_val_roc_auc=0.932_val_cmap_pad=0.676_val_ap=0.677.ckpt' as top 5\n"
     ]
    },
    {
     "name": "stdout",
     "output_type": "stream",
     "text": [
      "epoch 5 validation loss 36.63262123422327\n",
      "epoch 5 validation ROCAUC score 0.9319211807466127\n",
      "epoch 5 validation C-MAP score pad 3 0.6757603602446545\n",
      "epoch 5 validation AP score 0.6774813217595111\n"
     ]
    },
    {
     "data": {
      "application/vnd.jupyter.widget-view+json": {
       "model_id": "13ae04ffc9cf4774a2def10f61550aa1",
       "version_major": 2,
       "version_minor": 0
      },
      "text/plain": [
       "Validation: |          | 0/? [00:00<?, ?it/s]"
      ]
     },
     "metadata": {},
     "output_type": "display_data"
    },
    {
     "name": "stderr",
     "output_type": "stream",
     "text": [
      "Epoch 6, global step 2506: 'val_loss' reached 36.73379 (best 36.49147), saving model to '/data2/Mamba/Project/Kaggle/BirdCLEF-2025/cnn_v6/pytorch/train_bce/epoch=6_step=2506_val_roc_auc=0.929_val_cmap_pad=0.687_val_ap=0.687.ckpt' as top 5\n"
     ]
    },
    {
     "name": "stdout",
     "output_type": "stream",
     "text": [
      "epoch 6 validation loss 36.733792283769844\n",
      "epoch 6 validation ROCAUC score 0.9291707830759325\n",
      "epoch 6 validation C-MAP score pad 3 0.6871659802447736\n",
      "epoch 6 validation AP score 0.6872542334251293\n"
     ]
    },
    {
     "data": {
      "application/vnd.jupyter.widget-view+json": {
       "model_id": "4472a93477a1418f91677d39439c6e73",
       "version_major": 2,
       "version_minor": 0
      },
      "text/plain": [
       "Validation: |          | 0/? [00:00<?, ?it/s]"
      ]
     },
     "metadata": {},
     "output_type": "display_data"
    },
    {
     "name": "stderr",
     "output_type": "stream",
     "text": [
      "Epoch 7, global step 2864: 'val_loss' reached 34.38376 (best 34.38376), saving model to '/data2/Mamba/Project/Kaggle/BirdCLEF-2025/cnn_v6/pytorch/train_bce/epoch=7_step=2864_val_roc_auc=0.933_val_cmap_pad=0.699_val_ap=0.694.ckpt' as top 5\n"
     ]
    },
    {
     "name": "stdout",
     "output_type": "stream",
     "text": [
      "epoch 7 validation loss 34.38376082271863\n",
      "epoch 7 validation ROCAUC score 0.9326817980605945\n",
      "epoch 7 validation C-MAP score pad 3 0.6987806829835896\n",
      "epoch 7 validation AP score 0.6942335480670009\n"
     ]
    },
    {
     "data": {
      "application/vnd.jupyter.widget-view+json": {
       "model_id": "f1274e083fa84ac19d19862b7afef20c",
       "version_major": 2,
       "version_minor": 0
      },
      "text/plain": [
       "Validation: |          | 0/? [00:00<?, ?it/s]"
      ]
     },
     "metadata": {},
     "output_type": "display_data"
    },
    {
     "name": "stderr",
     "output_type": "stream",
     "text": [
      "Epoch 8, global step 3222: 'val_loss' reached 32.07709 (best 32.07709), saving model to '/data2/Mamba/Project/Kaggle/BirdCLEF-2025/cnn_v6/pytorch/train_bce/epoch=8_step=3222_val_roc_auc=0.938_val_cmap_pad=0.709_val_ap=0.709.ckpt' as top 5\n"
     ]
    },
    {
     "name": "stdout",
     "output_type": "stream",
     "text": [
      "epoch 8 validation loss 32.077093441269156\n",
      "epoch 8 validation ROCAUC score 0.9375673477776685\n",
      "epoch 8 validation C-MAP score pad 3 0.708656456792405\n",
      "epoch 8 validation AP score 0.7090806308355339\n"
     ]
    },
    {
     "data": {
      "application/vnd.jupyter.widget-view+json": {
       "model_id": "d8e5a721eb4b45fdb8263bcfc518e208",
       "version_major": 2,
       "version_minor": 0
      },
      "text/plain": [
       "Validation: |          | 0/? [00:00<?, ?it/s]"
      ]
     },
     "metadata": {},
     "output_type": "display_data"
    },
    {
     "name": "stderr",
     "output_type": "stream",
     "text": [
      "Epoch 9, global step 3580: 'val_loss' reached 31.10075 (best 31.10075), saving model to '/data2/Mamba/Project/Kaggle/BirdCLEF-2025/cnn_v6/pytorch/train_bce/epoch=9_step=3580_val_roc_auc=0.933_val_cmap_pad=0.713_val_ap=0.712.ckpt' as top 5\n"
     ]
    },
    {
     "name": "stdout",
     "output_type": "stream",
     "text": [
      "epoch 9 validation loss 31.10074754329057\n",
      "epoch 9 validation ROCAUC score 0.9327399045978435\n",
      "epoch 9 validation C-MAP score pad 3 0.7130726803146458\n",
      "epoch 9 validation AP score 0.7115051022434341\n"
     ]
    },
    {
     "data": {
      "application/vnd.jupyter.widget-view+json": {
       "model_id": "b21becaf548b4eff99c2925311171b08",
       "version_major": 2,
       "version_minor": 0
      },
      "text/plain": [
       "Validation: |          | 0/? [00:00<?, ?it/s]"
      ]
     },
     "metadata": {},
     "output_type": "display_data"
    },
    {
     "name": "stderr",
     "output_type": "stream",
     "text": [
      "Epoch 10, global step 3938: 'val_loss' reached 32.38390 (best 31.10075), saving model to '/data2/Mamba/Project/Kaggle/BirdCLEF-2025/cnn_v6/pytorch/train_bce/epoch=10_step=3938_val_roc_auc=0.939_val_cmap_pad=0.733_val_ap=0.728.ckpt' as top 5\n"
     ]
    },
    {
     "name": "stdout",
     "output_type": "stream",
     "text": [
      "epoch 10 validation loss 32.38389802062764\n",
      "epoch 10 validation ROCAUC score 0.9390220399571747\n",
      "epoch 10 validation C-MAP score pad 3 0.7332989201196949\n",
      "epoch 10 validation AP score 0.7282903883771459\n"
     ]
    },
    {
     "data": {
      "application/vnd.jupyter.widget-view+json": {
       "model_id": "f376bbbd7a064b10b9448094a96e8b1c",
       "version_major": 2,
       "version_minor": 0
      },
      "text/plain": [
       "Validation: |          | 0/? [00:00<?, ?it/s]"
      ]
     },
     "metadata": {},
     "output_type": "display_data"
    },
    {
     "name": "stderr",
     "output_type": "stream",
     "text": [
      "Epoch 11, global step 4296: 'val_loss' reached 30.29534 (best 30.29534), saving model to '/data2/Mamba/Project/Kaggle/BirdCLEF-2025/cnn_v6/pytorch/train_bce/epoch=11_step=4296_val_roc_auc=0.947_val_cmap_pad=0.731_val_ap=0.724.ckpt' as top 5\n"
     ]
    },
    {
     "name": "stdout",
     "output_type": "stream",
     "text": [
      "epoch 11 validation loss 30.295335579751093\n",
      "epoch 11 validation ROCAUC score 0.9473158797525929\n",
      "epoch 11 validation C-MAP score pad 3 0.7313033603155579\n",
      "epoch 11 validation AP score 0.7236972766957163\n"
     ]
    },
    {
     "data": {
      "application/vnd.jupyter.widget-view+json": {
       "model_id": "394af20d8e02469b80151cc85e535b64",
       "version_major": 2,
       "version_minor": 0
      },
      "text/plain": [
       "Validation: |          | 0/? [00:00<?, ?it/s]"
      ]
     },
     "metadata": {},
     "output_type": "display_data"
    },
    {
     "name": "stderr",
     "output_type": "stream",
     "text": [
      "Epoch 12, global step 4654: 'val_loss' reached 28.25898 (best 28.25898), saving model to '/data2/Mamba/Project/Kaggle/BirdCLEF-2025/cnn_v6/pytorch/train_bce/epoch=12_step=4654_val_roc_auc=0.949_val_cmap_pad=0.747_val_ap=0.738.ckpt' as top 5\n"
     ]
    },
    {
     "name": "stdout",
     "output_type": "stream",
     "text": [
      "epoch 12 validation loss 28.25898175611756\n",
      "epoch 12 validation ROCAUC score 0.9486738660692291\n",
      "epoch 12 validation C-MAP score pad 3 0.7466722701660398\n",
      "epoch 12 validation AP score 0.7375784331826918\n"
     ]
    },
    {
     "data": {
      "application/vnd.jupyter.widget-view+json": {
       "model_id": "32b8e9bfa37a4576856ca6415b336f49",
       "version_major": 2,
       "version_minor": 0
      },
      "text/plain": [
       "Validation: |          | 0/? [00:00<?, ?it/s]"
      ]
     },
     "metadata": {},
     "output_type": "display_data"
    },
    {
     "name": "stderr",
     "output_type": "stream",
     "text": [
      "Epoch 13, global step 5012: 'val_loss' reached 26.99794 (best 26.99794), saving model to '/data2/Mamba/Project/Kaggle/BirdCLEF-2025/cnn_v6/pytorch/train_bce/epoch=13_step=5012_val_roc_auc=0.951_val_cmap_pad=0.760_val_ap=0.762.ckpt' as top 5\n"
     ]
    },
    {
     "name": "stdout",
     "output_type": "stream",
     "text": [
      "epoch 13 validation loss 26.997943655717577\n",
      "epoch 13 validation ROCAUC score 0.951005013706519\n",
      "epoch 13 validation C-MAP score pad 3 0.75975168822366\n",
      "epoch 13 validation AP score 0.7616503643726287\n"
     ]
    },
    {
     "data": {
      "application/vnd.jupyter.widget-view+json": {
       "model_id": "af9f4b41424448fb808b8d305bd603fc",
       "version_major": 2,
       "version_minor": 0
      },
      "text/plain": [
       "Validation: |          | 0/? [00:00<?, ?it/s]"
      ]
     },
     "metadata": {},
     "output_type": "display_data"
    },
    {
     "name": "stderr",
     "output_type": "stream",
     "text": [
      "Epoch 14, global step 5370: 'val_loss' reached 26.20538 (best 26.20538), saving model to '/data2/Mamba/Project/Kaggle/BirdCLEF-2025/cnn_v6/pytorch/train_bce/epoch=14_step=5370_val_roc_auc=0.951_val_cmap_pad=0.759_val_ap=0.754.ckpt' as top 5\n"
     ]
    },
    {
     "name": "stdout",
     "output_type": "stream",
     "text": [
      "epoch 14 validation loss 26.205377326111343\n",
      "epoch 14 validation ROCAUC score 0.951287920577866\n",
      "epoch 14 validation C-MAP score pad 3 0.7588773230374684\n",
      "epoch 14 validation AP score 0.7540416825402733\n"
     ]
    },
    {
     "data": {
      "application/vnd.jupyter.widget-view+json": {
       "model_id": "683437c3425749929dcc72014ebffe0c",
       "version_major": 2,
       "version_minor": 0
      },
      "text/plain": [
       "Validation: |          | 0/? [00:00<?, ?it/s]"
      ]
     },
     "metadata": {},
     "output_type": "display_data"
    },
    {
     "name": "stderr",
     "output_type": "stream",
     "text": [
      "Epoch 15, global step 5728: 'val_loss' reached 27.14216 (best 26.20538), saving model to '/data2/Mamba/Project/Kaggle/BirdCLEF-2025/cnn_v6/pytorch/train_bce/epoch=15_step=5728_val_roc_auc=0.950_val_cmap_pad=0.759_val_ap=0.764.ckpt' as top 5\n"
     ]
    },
    {
     "name": "stdout",
     "output_type": "stream",
     "text": [
      "epoch 15 validation loss 27.142158023207287\n",
      "epoch 15 validation ROCAUC score 0.9495959425126321\n",
      "epoch 15 validation C-MAP score pad 3 0.7592156434964311\n",
      "epoch 15 validation AP score 0.7636174232280659\n"
     ]
    },
    {
     "data": {
      "application/vnd.jupyter.widget-view+json": {
       "model_id": "35477855e5424402b5e0fc140d105e77",
       "version_major": 2,
       "version_minor": 0
      },
      "text/plain": [
       "Validation: |          | 0/? [00:00<?, ?it/s]"
      ]
     },
     "metadata": {},
     "output_type": "display_data"
    },
    {
     "name": "stderr",
     "output_type": "stream",
     "text": [
      "Epoch 16, global step 6086: 'val_loss' reached 24.43106 (best 24.43106), saving model to '/data2/Mamba/Project/Kaggle/BirdCLEF-2025/cnn_v6/pytorch/train_bce/epoch=16_step=6086_val_roc_auc=0.953_val_cmap_pad=0.768_val_ap=0.773.ckpt' as top 5\n"
     ]
    },
    {
     "name": "stdout",
     "output_type": "stream",
     "text": [
      "epoch 16 validation loss 24.431064071570617\n",
      "epoch 16 validation ROCAUC score 0.9531470555325936\n",
      "epoch 16 validation C-MAP score pad 3 0.7676112207830477\n",
      "epoch 16 validation AP score 0.7731141790889813\n"
     ]
    },
    {
     "data": {
      "application/vnd.jupyter.widget-view+json": {
       "model_id": "6bb566193d774c59b5f018c784d3018e",
       "version_major": 2,
       "version_minor": 0
      },
      "text/plain": [
       "Validation: |          | 0/? [00:00<?, ?it/s]"
      ]
     },
     "metadata": {},
     "output_type": "display_data"
    },
    {
     "name": "stderr",
     "output_type": "stream",
     "text": [
      "Epoch 17, global step 6444: 'val_loss' reached 25.75334 (best 24.43106), saving model to '/data2/Mamba/Project/Kaggle/BirdCLEF-2025/cnn_v6/pytorch/train_bce/epoch=17_step=6444_val_roc_auc=0.954_val_cmap_pad=0.770_val_ap=0.779.ckpt' as top 5\n"
     ]
    },
    {
     "name": "stdout",
     "output_type": "stream",
     "text": [
      "epoch 17 validation loss 25.753344257037778\n",
      "epoch 17 validation ROCAUC score 0.9544274812730088\n",
      "epoch 17 validation C-MAP score pad 3 0.7704533411909874\n",
      "epoch 17 validation AP score 0.7788361382867756\n"
     ]
    },
    {
     "data": {
      "application/vnd.jupyter.widget-view+json": {
       "model_id": "b603dddac2ea42d08983ea451fd813a4",
       "version_major": 2,
       "version_minor": 0
      },
      "text/plain": [
       "Validation: |          | 0/? [00:00<?, ?it/s]"
      ]
     },
     "metadata": {},
     "output_type": "display_data"
    },
    {
     "name": "stderr",
     "output_type": "stream",
     "text": [
      "Epoch 18, global step 6802: 'val_loss' reached 24.57076 (best 24.43106), saving model to '/data2/Mamba/Project/Kaggle/BirdCLEF-2025/cnn_v6/pytorch/train_bce/epoch=18_step=6802_val_roc_auc=0.955_val_cmap_pad=0.775_val_ap=0.779.ckpt' as top 5\n"
     ]
    },
    {
     "name": "stdout",
     "output_type": "stream",
     "text": [
      "epoch 18 validation loss 24.570759671277365\n",
      "epoch 18 validation ROCAUC score 0.9549777550751418\n",
      "epoch 18 validation C-MAP score pad 3 0.7749506387026778\n",
      "epoch 18 validation AP score 0.7790217766433968\n"
     ]
    },
    {
     "data": {
      "application/vnd.jupyter.widget-view+json": {
       "model_id": "2fb8241d50574298b93bdd367a3f4d8b",
       "version_major": 2,
       "version_minor": 0
      },
      "text/plain": [
       "Validation: |          | 0/? [00:00<?, ?it/s]"
      ]
     },
     "metadata": {},
     "output_type": "display_data"
    },
    {
     "name": "stderr",
     "output_type": "stream",
     "text": [
      "Epoch 19, global step 7160: 'val_loss' reached 24.05708 (best 24.05708), saving model to '/data2/Mamba/Project/Kaggle/BirdCLEF-2025/cnn_v6/pytorch/train_bce/epoch=19_step=7160_val_roc_auc=0.958_val_cmap_pad=0.780_val_ap=0.785.ckpt' as top 5\n"
     ]
    },
    {
     "name": "stdout",
     "output_type": "stream",
     "text": [
      "epoch 19 validation loss 24.057080091686128\n",
      "epoch 19 validation ROCAUC score 0.9577567391180981\n",
      "epoch 19 validation C-MAP score pad 3 0.7800657770503854\n",
      "epoch 19 validation AP score 0.7854523205272466\n"
     ]
    },
    {
     "data": {
      "application/vnd.jupyter.widget-view+json": {
       "model_id": "c7432f9b95044ceea9867d267b1e8278",
       "version_major": 2,
       "version_minor": 0
      },
      "text/plain": [
       "Validation: |          | 0/? [00:00<?, ?it/s]"
      ]
     },
     "metadata": {},
     "output_type": "display_data"
    },
    {
     "name": "stderr",
     "output_type": "stream",
     "text": [
      "Epoch 20, global step 7518: 'val_loss' reached 25.05165 (best 24.05708), saving model to '/data2/Mamba/Project/Kaggle/BirdCLEF-2025/cnn_v6/pytorch/train_bce/epoch=20_step=7518_val_roc_auc=0.951_val_cmap_pad=0.784_val_ap=0.789.ckpt' as top 5\n"
     ]
    },
    {
     "name": "stdout",
     "output_type": "stream",
     "text": [
      "epoch 20 validation loss 25.051648475612016\n",
      "epoch 20 validation ROCAUC score 0.9509723356126693\n",
      "epoch 20 validation C-MAP score pad 3 0.7841527014985102\n",
      "epoch 20 validation AP score 0.788725198025522\n"
     ]
    },
    {
     "data": {
      "application/vnd.jupyter.widget-view+json": {
       "model_id": "9270f30a75f84d8185cd6f224efbf695",
       "version_major": 2,
       "version_minor": 0
      },
      "text/plain": [
       "Validation: |          | 0/? [00:00<?, ?it/s]"
      ]
     },
     "metadata": {},
     "output_type": "display_data"
    },
    {
     "name": "stderr",
     "output_type": "stream",
     "text": [
      "Epoch 21, global step 7876: 'val_loss' reached 23.29352 (best 23.29352), saving model to '/data2/Mamba/Project/Kaggle/BirdCLEF-2025/cnn_v6/pytorch/train_bce/epoch=21_step=7876_val_roc_auc=0.958_val_cmap_pad=0.790_val_ap=0.792.ckpt' as top 5\n"
     ]
    },
    {
     "name": "stdout",
     "output_type": "stream",
     "text": [
      "epoch 21 validation loss 23.293520310283053\n",
      "epoch 21 validation ROCAUC score 0.9582968225808596\n",
      "epoch 21 validation C-MAP score pad 3 0.7898534213071013\n",
      "epoch 21 validation AP score 0.7915103267402332\n"
     ]
    },
    {
     "data": {
      "application/vnd.jupyter.widget-view+json": {
       "model_id": "1baf955fd09d42d685b1e3316bdfef98",
       "version_major": 2,
       "version_minor": 0
      },
      "text/plain": [
       "Validation: |          | 0/? [00:00<?, ?it/s]"
      ]
     },
     "metadata": {},
     "output_type": "display_data"
    },
    {
     "name": "stderr",
     "output_type": "stream",
     "text": [
      "Epoch 22, global step 8234: 'val_loss' reached 23.39393 (best 23.29352), saving model to '/data2/Mamba/Project/Kaggle/BirdCLEF-2025/cnn_v6/pytorch/train_bce/epoch=22_step=8234_val_roc_auc=0.959_val_cmap_pad=0.793_val_ap=0.796.ckpt' as top 5\n"
     ]
    },
    {
     "name": "stdout",
     "output_type": "stream",
     "text": [
      "epoch 22 validation loss 23.393925299002415\n",
      "epoch 22 validation ROCAUC score 0.9593161322236988\n",
      "epoch 22 validation C-MAP score pad 3 0.7928176321077803\n",
      "epoch 22 validation AP score 0.7958171361420754\n"
     ]
    },
    {
     "data": {
      "application/vnd.jupyter.widget-view+json": {
       "model_id": "63083d4c894f4b2092f54d62a7d6a048",
       "version_major": 2,
       "version_minor": 0
      },
      "text/plain": [
       "Validation: |          | 0/? [00:00<?, ?it/s]"
      ]
     },
     "metadata": {},
     "output_type": "display_data"
    },
    {
     "name": "stderr",
     "output_type": "stream",
     "text": [
      "Epoch 23, global step 8592: 'val_loss' reached 22.08975 (best 22.08975), saving model to '/data2/Mamba/Project/Kaggle/BirdCLEF-2025/cnn_v6/pytorch/train_bce/epoch=23_step=8592_val_roc_auc=0.957_val_cmap_pad=0.793_val_ap=0.795.ckpt' as top 5\n"
     ]
    },
    {
     "name": "stdout",
     "output_type": "stream",
     "text": [
      "epoch 23 validation loss 22.08974624465855\n",
      "epoch 23 validation ROCAUC score 0.9572240457140366\n",
      "epoch 23 validation C-MAP score pad 3 0.7932141956521243\n",
      "epoch 23 validation AP score 0.7949862440905835\n"
     ]
    },
    {
     "data": {
      "application/vnd.jupyter.widget-view+json": {
       "model_id": "36b1f162c48e45f69a6acb932ba50883",
       "version_major": 2,
       "version_minor": 0
      },
      "text/plain": [
       "Validation: |          | 0/? [00:00<?, ?it/s]"
      ]
     },
     "metadata": {},
     "output_type": "display_data"
    },
    {
     "name": "stderr",
     "output_type": "stream",
     "text": [
      "Epoch 24, global step 8950: 'val_loss' reached 21.85301 (best 21.85301), saving model to '/data2/Mamba/Project/Kaggle/BirdCLEF-2025/cnn_v6/pytorch/train_bce/epoch=24_step=8950_val_roc_auc=0.957_val_cmap_pad=0.797_val_ap=0.802.ckpt' as top 5\n"
     ]
    },
    {
     "name": "stdout",
     "output_type": "stream",
     "text": [
      "epoch 24 validation loss 21.853014744481538\n",
      "epoch 24 validation ROCAUC score 0.9573444311366902\n",
      "epoch 24 validation C-MAP score pad 3 0.7965480956695206\n",
      "epoch 24 validation AP score 0.8020261079020845\n"
     ]
    },
    {
     "data": {
      "application/vnd.jupyter.widget-view+json": {
       "model_id": "bd89c732e6184de88e3d5d1c020a02ef",
       "version_major": 2,
       "version_minor": 0
      },
      "text/plain": [
       "Validation: |          | 0/? [00:00<?, ?it/s]"
      ]
     },
     "metadata": {},
     "output_type": "display_data"
    },
    {
     "name": "stderr",
     "output_type": "stream",
     "text": [
      "Epoch 25, global step 9308: 'val_loss' reached 22.00074 (best 21.85301), saving model to '/data2/Mamba/Project/Kaggle/BirdCLEF-2025/cnn_v6/pytorch/train_bce/epoch=25_step=9308_val_roc_auc=0.958_val_cmap_pad=0.799_val_ap=0.803.ckpt' as top 5\n"
     ]
    },
    {
     "name": "stdout",
     "output_type": "stream",
     "text": [
      "epoch 25 validation loss 22.000743930907976\n",
      "epoch 25 validation ROCAUC score 0.9578418841878475\n",
      "epoch 25 validation C-MAP score pad 3 0.7989658454167038\n",
      "epoch 25 validation AP score 0.8025694458235991\n"
     ]
    },
    {
     "data": {
      "application/vnd.jupyter.widget-view+json": {
       "model_id": "374f22a120004fc5b1f9e5e2f700aa1f",
       "version_major": 2,
       "version_minor": 0
      },
      "text/plain": [
       "Validation: |          | 0/? [00:00<?, ?it/s]"
      ]
     },
     "metadata": {},
     "output_type": "display_data"
    },
    {
     "name": "stderr",
     "output_type": "stream",
     "text": [
      "Epoch 26, global step 9666: 'val_loss' reached 22.72729 (best 21.85301), saving model to '/data2/Mamba/Project/Kaggle/BirdCLEF-2025/cnn_v6/pytorch/train_bce/epoch=26_step=9666_val_roc_auc=0.958_val_cmap_pad=0.800_val_ap=0.804.ckpt' as top 5\n"
     ]
    },
    {
     "name": "stdout",
     "output_type": "stream",
     "text": [
      "epoch 26 validation loss 22.727292992182267\n",
      "epoch 26 validation ROCAUC score 0.9575458448907957\n",
      "epoch 26 validation C-MAP score pad 3 0.8003680545448363\n",
      "epoch 26 validation AP score 0.8044949001638892\n"
     ]
    },
    {
     "data": {
      "application/vnd.jupyter.widget-view+json": {
       "model_id": "d44b2675acdf4cd490f988ae4ff77556",
       "version_major": 2,
       "version_minor": 0
      },
      "text/plain": [
       "Validation: |          | 0/? [00:00<?, ?it/s]"
      ]
     },
     "metadata": {},
     "output_type": "display_data"
    },
    {
     "name": "stderr",
     "output_type": "stream",
     "text": [
      "Epoch 27, global step 10024: 'val_loss' reached 21.39089 (best 21.39089), saving model to '/data2/Mamba/Project/Kaggle/BirdCLEF-2025/cnn_v6/pytorch/train_bce/epoch=27_step=10024_val_roc_auc=0.959_val_cmap_pad=0.801_val_ap=0.805.ckpt' as top 5\n"
     ]
    },
    {
     "name": "stdout",
     "output_type": "stream",
     "text": [
      "epoch 27 validation loss 21.390891210725776\n",
      "epoch 27 validation ROCAUC score 0.9588443088899101\n",
      "epoch 27 validation C-MAP score pad 3 0.8013054562556002\n",
      "epoch 27 validation AP score 0.8053185807807753\n"
     ]
    },
    {
     "data": {
      "application/vnd.jupyter.widget-view+json": {
       "model_id": "1d1be730f18e42e193cb077f525383c0",
       "version_major": 2,
       "version_minor": 0
      },
      "text/plain": [
       "Validation: |          | 0/? [00:00<?, ?it/s]"
      ]
     },
     "metadata": {},
     "output_type": "display_data"
    },
    {
     "name": "stderr",
     "output_type": "stream",
     "text": [
      "Epoch 28, global step 10382: 'val_loss' reached 21.16292 (best 21.16292), saving model to '/data2/Mamba/Project/Kaggle/BirdCLEF-2025/cnn_v6/pytorch/train_bce/epoch=28_step=10382_val_roc_auc=0.959_val_cmap_pad=0.804_val_ap=0.807.ckpt' as top 5\n"
     ]
    },
    {
     "name": "stdout",
     "output_type": "stream",
     "text": [
      "epoch 28 validation loss 21.162915311915047\n",
      "epoch 28 validation ROCAUC score 0.959293821096168\n",
      "epoch 28 validation C-MAP score pad 3 0.803935411203867\n",
      "epoch 28 validation AP score 0.8067975832802573\n"
     ]
    },
    {
     "data": {
      "application/vnd.jupyter.widget-view+json": {
       "model_id": "43a2c6b8707e40bcbbf89e3538737138",
       "version_major": 2,
       "version_minor": 0
      },
      "text/plain": [
       "Validation: |          | 0/? [00:00<?, ?it/s]"
      ]
     },
     "metadata": {},
     "output_type": "display_data"
    },
    {
     "name": "stderr",
     "output_type": "stream",
     "text": [
      "Epoch 29, global step 10740: 'val_loss' reached 21.22359 (best 21.16292), saving model to '/data2/Mamba/Project/Kaggle/BirdCLEF-2025/cnn_v6/pytorch/train_bce/epoch=29_step=10740_val_roc_auc=0.958_val_cmap_pad=0.802_val_ap=0.806.ckpt' as top 5\n"
     ]
    },
    {
     "name": "stdout",
     "output_type": "stream",
     "text": [
      "epoch 29 validation loss 21.22359243287637\n",
      "epoch 29 validation ROCAUC score 0.9581852655687045\n",
      "epoch 29 validation C-MAP score pad 3 0.8023888531966902\n",
      "epoch 29 validation AP score 0.806320460786102\n"
     ]
    },
    {
     "data": {
      "application/vnd.jupyter.widget-view+json": {
       "model_id": "6c487e35b8e54c23aa692b7e61a130c4",
       "version_major": 2,
       "version_minor": 0
      },
      "text/plain": [
       "Validation: |          | 0/? [00:00<?, ?it/s]"
      ]
     },
     "metadata": {},
     "output_type": "display_data"
    },
    {
     "name": "stderr",
     "output_type": "stream",
     "text": [
      "Epoch 30, global step 11098: 'val_loss' reached 20.85257 (best 20.85257), saving model to '/data2/Mamba/Project/Kaggle/BirdCLEF-2025/cnn_v6/pytorch/train_bce/epoch=30_step=11098_val_roc_auc=0.959_val_cmap_pad=0.803_val_ap=0.806.ckpt' as top 5\n"
     ]
    },
    {
     "name": "stdout",
     "output_type": "stream",
     "text": [
      "epoch 30 validation loss 20.852568571611442\n",
      "epoch 30 validation ROCAUC score 0.9591608017251005\n",
      "epoch 30 validation C-MAP score pad 3 0.8033470577774879\n",
      "epoch 30 validation AP score 0.8064827087464005\n"
     ]
    },
    {
     "data": {
      "application/vnd.jupyter.widget-view+json": {
       "model_id": "757fd21048a64e198ebc90eaf99c82e6",
       "version_major": 2,
       "version_minor": 0
      },
      "text/plain": [
       "Validation: |          | 0/? [00:00<?, ?it/s]"
      ]
     },
     "metadata": {},
     "output_type": "display_data"
    },
    {
     "name": "stderr",
     "output_type": "stream",
     "text": [
      "Epoch 31, global step 11456: 'val_loss' reached 20.77740 (best 20.77740), saving model to '/data2/Mamba/Project/Kaggle/BirdCLEF-2025/cnn_v6/pytorch/train_bce/epoch=31_step=11456_val_roc_auc=0.959_val_cmap_pad=0.804_val_ap=0.809.ckpt' as top 5\n"
     ]
    },
    {
     "name": "stdout",
     "output_type": "stream",
     "text": [
      "epoch 31 validation loss 20.777401386037674\n",
      "epoch 31 validation ROCAUC score 0.9594999779717273\n",
      "epoch 31 validation C-MAP score pad 3 0.8037063334650287\n",
      "epoch 31 validation AP score 0.8086146015913439\n"
     ]
    },
    {
     "name": "stderr",
     "output_type": "stream",
     "text": [
      "`Trainer.fit` stopped: `max_epochs=32` reached.\n"
     ]
    }
   ],
   "source": [
    "trainer.fit(model, train_dataloaders=dl_train, val_dataloaders=dl_val)"
   ]
  }
 ],
 "metadata": {
  "kernelspec": {
   "display_name": "CZII",
   "language": "python",
   "name": "python3"
  },
  "language_info": {
   "codemirror_mode": {
    "name": "ipython",
    "version": 3
   },
   "file_extension": ".py",
   "mimetype": "text/x-python",
   "name": "python",
   "nbconvert_exporter": "python",
   "pygments_lexer": "ipython3",
   "version": "3.11.12"
  }
 },
 "nbformat": 4,
 "nbformat_minor": 2
}
